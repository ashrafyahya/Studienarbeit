{
 "cells": [
  {
   "cell_type": "code",
   "execution_count": 6,
   "id": "88663242-c175-4fa0-bf2a-d02ca5c8b95a",
   "metadata": {},
   "outputs": [
    {
     "name": "stdout",
     "output_type": "stream",
     "text": [
      "/home/ashraf/venv/bin/python\n"
     ]
    }
   ],
   "source": [
    "import sys\n",
    "print(sys.executable)"
   ]
  },
  {
   "cell_type": "code",
   "execution_count": 7,
   "id": "ac78cb72-ed49-44eb-9806-e02618cbdfe0",
   "metadata": {},
   "outputs": [
    {
     "name": "stdout",
     "output_type": "stream",
     "text": [
      "Looking in indexes: https://pypi.org/simple, https://www.piwheels.org/simple\n",
      "Collecting gpiozero\n",
      "  Downloading https://www.piwheels.org/simple/gpiozero/gpiozero-2.0.1-py3-none-any.whl (150 kB)\n",
      "\u001b[2K     \u001b[38;2;114;156;31m━━━━━━━━━━━━━━━━━━━━━━━━━━━━━━━━━━━━━━━\u001b[0m \u001b[32m150.8/150.8 kB\u001b[0m \u001b[31m1.6 MB/s\u001b[0m eta \u001b[36m0:00:00\u001b[0m MB/s\u001b[0m eta \u001b[36m0:00:01\u001b[0m\n",
      "\u001b[?25hCollecting colorzero\n",
      "  Downloading https://www.piwheels.org/simple/colorzero/colorzero-2.0-py2.py3-none-any.whl (26 kB)\n",
      "Requirement already satisfied: setuptools in ./venv/lib/python3.11/site-packages (from colorzero->gpiozero) (66.1.1)\n",
      "Installing collected packages: colorzero, gpiozero\n",
      "Successfully installed colorzero-2.0 gpiozero-2.0.1\n"
     ]
    }
   ],
   "source": [
    "!pip3 install gpiozero"
   ]
  },
  {
   "cell_type": "code",
   "execution_count": 3,
   "id": "9ee411cf-a8aa-4a26-97db-de65d72b0874",
   "metadata": {},
   "outputs": [],
   "source": [
    "from gpiozero import LED"
   ]
  },
  {
   "cell_type": "code",
   "execution_count": 4,
   "id": "1cafeb18-0b8c-470d-bc9d-8f6dc7c094c3",
   "metadata": {},
   "outputs": [],
   "source": [
    "from time import sleep"
   ]
  },
  {
   "cell_type": "code",
   "execution_count": null,
   "id": "ce1b70e4-b34e-4c18-916a-93334a47fb7c",
   "metadata": {},
   "outputs": [],
   "source": [
    "roteled= LED(17)\n",
    "while True:\n",
    "    roteled.on()\n",
    "    sleep(1)\n",
    "    roteled.off()\n",
    "    sleep(1)"
   ]
  },
  {
   "cell_type": "code",
   "execution_count": null,
   "id": "0502a5c2-1143-4c1a-b3ed-16f1d2e3032a",
   "metadata": {},
   "outputs": [],
   "source": []
  }
 ],
 "metadata": {
  "kernelspec": {
   "display_name": "Python 3 (ipykernel)",
   "language": "python",
   "name": "python3"
  },
  "language_info": {
   "codemirror_mode": {
    "name": "ipython",
    "version": 3
   },
   "file_extension": ".py",
   "mimetype": "text/x-python",
   "name": "python",
   "nbconvert_exporter": "python",
   "pygments_lexer": "ipython3",
   "version": "3.11.2"
  }
 },
 "nbformat": 4,
 "nbformat_minor": 5
}
