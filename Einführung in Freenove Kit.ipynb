{
 "cells": [
  {
   "cell_type": "markdown",
   "id": "e2d96d93-a796-4caf-b2f2-9cc587f0e22a",
   "metadata": {},
   "source": [
    "# Einführung in Freenove Kit for Raspberry Pi Projects"
   ]
  },
  {
   "cell_type": "markdown",
   "id": "1d6bf606-8aa3-4b47-907c-2335bd3737e0",
   "metadata": {},
   "source": [
    "### Wichtige Links zu dieser Einführung:\n",
    "- [GitHub-Repository](https://github.com/freenove)\n",
    "- [Offizielle Webseite](https://freenove.com/tutorial)\n",
    "- [PDF-Tutorial](https://github.com/Freenove/Freenove_Projects_Kit_for_Raspberry_Pi/blob/main/Tutorial.pdf)\n",
    "- [Video-Tutorial](https://www.youtube.com/playlist?list=PLOkhax8xuWu0Yj-jJAzSNiDJfHfXVaY9_)"
   ]
  },
  {
   "cell_type": "markdown",
   "id": "363edcaa-ccda-4534-937a-3e248fbc50cb",
   "metadata": {},
   "source": [
    "### 1. Einführung"
   ]
  },
  {
   "cell_type": "markdown",
   "id": "8e046dc8-a78d-404d-a44b-8adf3eee206d",
   "metadata": {},
   "source": [
    "### Freenove\n",
    "Freenove bietet weltweit Open-Source-Elektronikprodukte und -dienstleistungen an.\n",
    "Freenove engagiert sich dafür, Kunden bei der Ausbildung in den Bereichen Robotik, Programmierung und elektronische Schaltungen zu unterstützen, damit sie ihre kreativen Ideen in Prototypen und neue, innovative Produkte umsetzen können."
   ]
  },
  {
   "cell_type": "markdown",
   "id": "51b9e59a-a166-46af-ba27-9d2a32e5eb92",
   "metadata": {},
   "source": [
    "### Zweck von Freenove\n",
    "- Bildungs- und unterhaltsame Projektkits für Roboter, Smart Cars und Drohnen.\n",
    "- Bildungskits zum Erlernen von Robotersoftware-Systemen für Arduino und Raspberry Pi.\n",
    "- Elektronik-Bauteilsortimente, elektronische Module und spezialisierte Werkzeuge.\n",
    "- Produktentwicklungs- und Anpassungsdienstleistungen."
   ]
  },
  {
   "cell_type": "markdown",
   "id": "39cc0963-cab4-4434-afa7-959c894ee7f4",
   "metadata": {},
   "source": [
    "### Freenove Kit for Raspberry Pi Projects\n",
    "Das Freenove Projects Kit for Raspberry Pi ist ein umfassendes Elektronik-Bausatz, das entwickelt wurde, um Anwendern den Einstieg in die Programmierung und Elektronik mit dem Raspberry Pi zu erleichtern. Das Kit enthält eine Vielzahl von Komponenten, die es ermöglichen, verschiedene Projekte zu realisieren und gleichzeitig die Grundlagen der Elektronik und Programmierung zu erlernen."
   ]
  },
  {
   "cell_type": "markdown",
   "id": "8942945b-7e96-4190-9db6-98e1c17e24fa",
   "metadata": {},
   "source": [
    "### Wichtige Eigenschaften des Freenove Projects Kit\n",
    "***Breites Spektrum an Komponenten:*** Das Kit enthält LEDs, Widerstände, Sensoren, Motoren, Relais, ein Breadboard, Jumper-Kabel und viele weitere Bauteile. Es ist ideal für Projekte, die von einfachen Schaltungen bis hin zu komplexeren Anwendungen wie Sensormessungen und Motorsteuerungen reichen.\n",
    "\n",
    "***Vielfältige Projekte:*** Das Kit wird mit detaillierten Anleitungen geliefert, die Schritt-für-Schritt-Erklärungen zu verschiedenen Projekten enthalten. Zu den typischen Projekten gehören:\n",
    "\n",
    "- Blinkende LEDs und Lauflichter\n",
    "- Temperatur- und Feuchtigkeitsmessungen\n",
    "- Steuerung von Servomotoren und DC-Motoren\n",
    "- Messung von Entfernungen mit einem Ultraschallsensor\n",
    "- Anzeige von Text und Daten auf einem LCD-Display\n",
    "\n",
    "***Programmiersprachen:*** Die Projekte können in Python und C programmiert werden, was das Kit sowohl für Anfänger als auch für fortgeschrittene Nutzer attraktiv macht.\n",
    "\n",
    "***Kompatibilität:*** Das Kit ist mit verschiedenen Raspberry Pi Modellen kompatibel, einschließlich Raspberry Pi 4, 3B+, 3 und Zero."
   ]
  },
  {
   "cell_type": "markdown",
   "id": "937a2a40-b5ab-4e87-b3e3-bd91595f095f",
   "metadata": {},
   "source": [
    "### Lernmaterialien und Support\n",
    "Das Freenove Projects Kit enthält nicht nur die Hardware, sondern auch umfassende Lernressourcen wie Tutorials, Schaltpläne und Beispielcodes, die online zugänglich sind. Diese Anleitungen helfen beim Einstieg und bieten praktische Übungen, die den Lernprozess unterstützen.\n",
    "\n",
    "- [GitHub-Repository](https://github.com/freenove)\n",
    "- [Offizielle Webseite](https://freenove.com/tutorial)\n",
    "- [PDF-Tutorial](https://github.com/Freenove/Freenove_Projects_Kit_for_Raspberry_Pi/blob/main/Tutorial.pdf)\n",
    "- [Video-Tutorial](https://www.youtube.com/playlist?list=PLOkhax8xuWu0Yj-jJAzSNiDJfHfXVaY9_)"
   ]
  },
  {
   "cell_type": "markdown",
   "id": "40c62bd1-607f-4a41-b24e-b341d57b7797",
   "metadata": {},
   "source": [
    "### Projects Board for Raspberry Pi \n",
    "das Freenove Projects Board für Raspberry ist das speziell für die Durchführung von Elektronik- und Programmierprojekten entwickelt. Dieses Board ist eine zentrale Komponente des Freenove Project Kits und bietet viele integrierte Bauteile und Module, die den Aufbau von Projekten erleichtern."
   ]
  },
  {
   "cell_type": "markdown",
   "id": "3edcaaef-ff32-48bc-b27a-0e6f3fe25411",
   "metadata": {},
   "source": [
    "### Wichtige Komponenten und deren Funktionen:\n",
    "Dieses Board enthält verschiedene Komponenten wie GPIO-Pins zur Steuerung von Sensoren, LEDs und Displays zur Anzeige von Daten, sowie Module wie Relais, Buzzer und Bewegungssensoren zur Interaktion mit der Umgebung. Es gibt Eingabemöglichkeiten wie Joysticks, Schalter und Berührungssensoren sowie Ausgabegeräte wie eine LED-Matrix, ein 7-Segment-Display und ein LED-Bar-Graph. Zusätzlich sind Module wie RFID-Leser, ADCs und Potentiometer für erweiterte Steuerungen und Messungen vorhanden."
   ]
  },
  {
   "cell_type": "markdown",
   "id": "b3108138-bd73-420a-83d0-c1e188c5c2c6",
   "metadata": {},
   "source": [
    "### Board mit allen Komponenten\n",
    "![Board](C:\\Users\\paghm\\OneDrive\\Desktop\\DiesesSemester\\Studienarbeit\\Bilder\\Einführung/Board.png)\n",
    "\n",
    "[Board](https://github.com/Freenove/Freenove_Projects_Kit_for_Raspberry_Pi/blob/main/Picture/icon.png)"
   ]
  },
  {
   "cell_type": "markdown",
   "id": "17b2d6ed-6fc7-4263-bece-3dbeeed002cf",
   "metadata": {},
   "source": [
    "### 2. Aufbau\n",
    "der Aufbau soll in vier Schritten implementiert werden.\n",
    "\n",
    "- Brass Standoffs installieren.\n",
    "- Den Raspberry Pi montieren.\n",
    "- Das Acrylteil anbringen.\n",
    "- Fertiges Produkt."
   ]
  },
  {
   "cell_type": "markdown",
   "id": "504bfe1b-ddd1-44d9-a571-33f9158a5884",
   "metadata": {},
   "source": [
    "### Brass Standoffs installieren\n",
    "![Brass](C:\\Users\\paghm\\OneDrive\\Desktop\\DiesesSemester\\Studienarbeit\\Bilder\\Einführung/Brass.png)\n",
    "\n",
    "Nachdem Installation soll das Board wie folgt aussehen:\n",
    "\n",
    "![BFinish](C:\\Users\\paghm\\OneDrive\\Desktop\\DiesesSemester\\Studienarbeit\\Bilder\\Einführung/BFinish.png)\n"
   ]
  },
  {
   "cell_type": "markdown",
   "id": "865294f8-8964-4ed5-aca8-631fb312fdf7",
   "metadata": {},
   "source": [
    "### Den Raspberry Pi montieren\n",
    "![RPI](C:\\Users\\paghm\\OneDrive\\Desktop\\DiesesSemester\\Studienarbeit\\Bilder\\Einführung/RPI.png)"
   ]
  },
  {
   "attachments": {},
   "cell_type": "markdown",
   "id": "c1d101fc-1290-4162-8162-fb41b409863c",
   "metadata": {},
   "source": [
    "### Das Acrylteil anbringen\n",
    "![Acrylic](C:\\Users\\paghm\\OneDrive\\Desktop\\DiesesSemester\\Studienarbeit\\Bilder\\Einführung/Acrylic.png)"
   ]
  },
  {
   "cell_type": "markdown",
   "id": "b0f797bb-1399-4459-9c3d-2367d65db388",
   "metadata": {},
   "source": [
    "### Fertiges Produkt\n",
    "![FProdukt](C:\\Users\\paghm\\OneDrive\\Desktop\\DiesesSemester\\Studienarbeit\\Bilder\\Einführung/FProdukt.png)"
   ]
  },
  {
   "cell_type": "markdown",
   "id": "7c0ca2fd-dc30-4adb-8f57-38dd4532c764",
   "metadata": {},
   "source": [
    "### 3. Anleitung zum Herunterladen des Projektcodes\n",
    "Bevor Sie diese Anleitung verfolgen, sollen Sie [Raspberry Pi OS](https://www.heise.de/tipps-tricks/Raspberry-Pi-einrichten-so-klappt-s-4169757.html) installieren und durch [VNC-Viewer](https://www.tutonaut.de/anleitung-raspberry-pi-via-vnc-fernsteuern/) mit Raspberry Pi verbunden sein. Nach dem Sie es gemacht haben sollen Sie python3 mit diesem Befehl ```sudo apt install python3```  auf den Raspberry Pi installieren."
   ]
  },
  {
   "cell_type": "markdown",
   "id": "263f38c7-baac-4562-97d1-b9db5bc9d5c5",
   "metadata": {},
   "source": [
    "### Offizielle Quellen\n",
    "Sie können den Code von der [offiziellen Freenove-Webseite](https://www.freenove.com/) oder von ihrem [GitHub-Repository](https://github.com/freenove) herunterladen. Der Code ist sowohl in C als auch in Python verfügbar, sodass Sie die Programmiersprache wählen können, die Ihnen besser liegt."
   ]
  },
  {
   "cell_type": "markdown",
   "id": "b4fbaef7-2a25-4fd3-bfb9-6b9dfe0a270b",
   "metadata": {},
   "source": [
    "### Schritte zum Herunterladen des Codes\n",
    "- Öffnen Sie das Terminal auf ihrem Raspberry Pi.\n",
    "- Geben Sie den folgenden Befehl ``` cd ~ ``` ein, um in das Home-Verzeichnis zu wechseln.\n",
    "- Geben Sie anschließend diesen Befehl ```git clone https://github.com/Freenove/Freenove_Projects_Kit_for_Raspberry_Pi.git```  ein, um das Repository von GitHub herunterzulade.\n",
    "- da der Name sehr lang ist, können Sie mit diesem Befehl ```mv Freenove_Projects_Kit_for_Raspberry_Pi/ Freenove_Kit/``` auf *Freenove_Kit* ändern.:"
   ]
  },
  {
   "cell_type": "markdown",
   "id": "16f18340-33b6-464d-9ce8-1b985e901b86",
   "metadata": {},
   "source": [
    "### Ausführung der Projekte\n",
    "Nachdem Sie das Code heruntergelden haben, können Sie wie folgt unterschiedliche Projekte (hier zum Beispiel LED-Projekt) ausführen:\n",
    "\n",
    "- Schalten Sie den Netzschalter. Der Netzschalter sollte bei allen Projekten eingeschaltet sein.\n",
    "-  Schalten Sie den Schalter Nr. 5 (Toggle-Schalter) ein.\n",
    "- Gehen Sie  mit dem Befehl```cd ~/Freenove_Kit/Code/Python_GPIOZero_Code/1_Blink``` in den entsprechenden Ordner.\n",
    "- Führen das Python-Skript mit dem Befehl ```python3 Blink.py``` aus.\n",
    "- Um Raspberry Pi mit dem Jupyter Notebook steuern zu können, soll das Code entsprechend geändert werden."
   ]
  },
  {
   "cell_type": "markdown",
   "id": "527b7e3d-4eed-46a2-aa68-05c491ce7b06",
   "metadata": {},
   "source": [
    "### 4. Fazit\n",
    "Das Freenove Projects Kit for Raspberry Pi ist eine ausgezeichnete Wahl für alle, die in die Welt der Elektronik und Programmierung eintauchen möchten. Es bietet eine strukturierte und praxisorientierte Möglichkeit, mit dem Raspberry Pi zu experimentieren und dabei wertvolle Fähigkeiten zu erlernen."
   ]
  }
 ],
 "metadata": {
  "kernelspec": {
   "display_name": "Python 3 (ipykernel)",
   "language": "python",
   "name": "python3"
  },
  "language_info": {
   "codemirror_mode": {
    "name": "ipython",
    "version": 3
   },
   "file_extension": ".py",
   "mimetype": "text/x-python",
   "name": "python",
   "nbconvert_exporter": "python",
   "pygments_lexer": "ipython3",
   "version": "3.12.4"
  }
 },
 "nbformat": 4,
 "nbformat_minor": 5
}
