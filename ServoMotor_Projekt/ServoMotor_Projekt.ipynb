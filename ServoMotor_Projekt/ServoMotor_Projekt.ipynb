{
 "cells": [
  {
   "cell_type": "markdown",
   "id": "d8ff6655",
   "metadata": {},
   "source": [
    "\n",
    "# Servo-Motor Steuerung mit Raspberry Pi und Jupyter Notebook  \n",
    "<a id='servoMoto'></a>"
   ]
  },
  {
   "cell_type": "markdown",
   "id": "4599e96f",
   "metadata": {},
   "source": [
    "## 1. Einführung"
   ]
  },
  {
   "cell_type": "markdown",
   "id": "e49c3cb4",
   "metadata": {},
   "source": [
    "Dieses Jupyter [Notebook](../RaspberryPi_Jupyter_Grundlagen.ipynb) führt in die praktische Anwendung der Steuerung von [Servomotoren](https://wiki.seeedstudio.com/Grove-Servo/) mit einem [Raspberry Pi](../RaspberryPi_Jupyter_Grundlagen.ipynb) ein. \n",
    "Es kombiniert Elektronik und [Python-Programmierung](https://www.python.org/about/gettingstarted/), um grundlegende Steuerungen für Servomotoren zu erstellen und zu testen. \n",
    "Das Projekt zeigt, wie man einen analogen Servomotor mit verschiedenen Bibliotheken steuert, die Grundlagen des [PWM-Signale](https://randomnerdtutorials.com/raspberry-pi-pwm-python/) erklärt \n",
    "und den Aufbau der Schaltung beschreibt. Mit einer schrittweisen Anleitung und praxisnahen Experimenten bietet dieses Notebook eine \n",
    "solide Grundlage für Einsteiger in die Welt der Elektronik und die Nutzung des Raspberry Pi für Hardware-Projekte.\n"
   ]
  },
  {
   "cell_type": "markdown",
   "id": "e75967fe",
   "metadata": {},
   "source": [
    "### Projektziel\n",
    "Das Ziel dieses Projekts ist es, einen Servomotor mit einem Raspberry Pi zu steuern und dabei die Prinzipien der Pulsweitenmodulation ([PWM](https://randomnerdtutorials.com/raspberry-pi-pwm-python/)) anzuwenden."
   ]
  },
  {
   "cell_type": "markdown",
   "id": "19115edd",
   "metadata": {},
   "source": [
    "### Relevanz\n",
    "Dieses Projekt ist relevant, da es die Grundlagen der Elektronik und Programmierung kombiniert und ein grundlegendes Verständnis \n",
    "für die Steuerung von Motoren, insbesondere Servomotoren, entwickelt."
   ]
  },
  {
   "cell_type": "markdown",
   "id": "862fb0d2",
   "metadata": {},
   "source": [
    "<iframe width=\"560\" height=\"315\" \n",
    "        src=\"https://www.youtube.com/embed/4RGCWnhy888?start=4\" \n",
    "        frameborder=\"0\" \n",
    "        allow=\"accelerometer; autoplay; clipboard-write; encrypted-media; gyroscope; picture-in-picture\" \n",
    "        allowfullscreen>\n",
    "</iframe> "
   ]
  },
  {
   "cell_type": "markdown",
   "id": "bb069f6b",
   "metadata": {},
   "source": [
    "<iframe width=\"560\" height=\"315\" \n",
    "        src=\"https://www.youtube.com/embed/xHDT4CwjUQE?start=10\" \n",
    "        frameborder=\"0\" \n",
    "        allow=\"accelerometer; autoplay; clipboard-write; encrypted-media; gyroscope; picture-in-picture\" \n",
    "        allowfullscreen>\n",
    "</iframe>\n"
   ]
  },
  {
   "cell_type": "markdown",
   "id": "aa6b62ca",
   "metadata": {},
   "source": [
    "\n",
    "## 2. Grundlagen und Theorie"
   ]
  },
  {
   "cell_type": "markdown",
   "id": "038d2912",
   "metadata": {},
   "source": [
    "### Servomotoren\n",
    "- **Funktionsweise:** Servomotoren sind Aktoren, die eine präzise Steuerung der Winkelposition ermöglichen. \n",
    "  Sie bestehen aus einem Motor, einem Potentiometer und einer Steuerungselektronik.\n",
    "- **Steuerung:** Servomotoren werden typischerweise mit einem PWM-Signal gesteuert, wobei die Pulsbreite die Position des Servos bestimmt.\n",
    "\n",
    "**Weiteres zu [Servomotoren](https://wiki.seeedstudio.com/Grove-Servo/)**"
   ]
  },
  {
   "cell_type": "markdown",
   "id": "f8f7c850",
   "metadata": {},
   "source": [
    "### PWM-Signale\n",
    "- **Definition:** PWM steht für Pulsweitenmodulation, eine Technik zur Steuerung der Leistung in elektronischen Schaltungen, \n",
    "  indem das Ein/Aus-Verhältnis eines Signals variiert wird.\n",
    "- **Anwendung bei Servos:** Die Position des Servos wird durch die Breite des PWM-Signals gesteuert, wobei typische Servos Pulse zwischen \n",
    "  1 ms (Min-Position) und 2 ms (Max-Position) erwarten.  "
   ]
  },
  {
   "cell_type": "markdown",
   "id": "9d815828",
   "metadata": {},
   "source": [
    "#### Arten von PWM  "
   ]
  },
  {
   "cell_type": "markdown",
   "id": "0abdbd40",
   "metadata": {},
   "source": [
    "**Hardware-PWM (HW-PWM)**  \n",
    "- Definition: HW-PWM wird durch spezielle Hardware-Register des Mikrocontrollers (z. B. Raspberry Pi) gesteuert.  \n",
    "- Vorteile: Bietet eine präzise und stabile PWM-Signalausgabe. Unabhängig von anderen Prozessen, die auf dem Gerät laufen.  \n",
    "- Verwendung: Ideal für zeitkritische Anwendungen wie Motorsteuerung, bei denen genaue Pulsweiten erforderlich sind. "
   ]
  },
  {
   "cell_type": "markdown",
   "id": "a7bfdda8",
   "metadata": {},
   "source": [
    "**PINs**\n",
    "- PWM0: GPIO 12 (Pin 32), GPIO 18 (Pin 12)\n",
    "- PWM1: GPIO 13 (Pin 33), GPIO 19 (Pin 35)"
   ]
  },
  {
   "cell_type": "markdown",
   "id": "c04d0a9e",
   "metadata": {},
   "source": [
    "**Software-PWM (SW-PWM)**  \n",
    "- Definition: SW-PWM wird in der Software implementiert, indem Pins durch Programmierung mit sleep() ein- und ausgeschaltet werden.  \n",
    "- Nachteile: Geringere Präzision und Stabilität; kann durch andere laufende Prozesse beeinflusst werden.  \n",
    "- Verwendung: Nützlich für einfache Anwendungen oder wenn Hardware-PWM nicht verfügbar ist.  "
   ]
  },
  {
   "cell_type": "markdown",
   "id": "7958533d",
   "metadata": {},
   "source": [
    "**PINs**\n",
    "- GPIO 18: Häufig genutzt, da viele Tutorials und Beispiele auf diesen Pin verweisen.\n",
    "- GPIO 23: Ebenfalls ein beliebter Pin für SW-PWM.\n",
    "- GPIO 24: Gut geeignet für Projekte, die mehr PWM-Kanäle benötigen."
   ]
  },
  {
   "cell_type": "markdown",
   "id": "364b38c1",
   "metadata": {},
   "source": [
    "**Weiteres zu [PWM-Signals](https://randomnerdtutorials.com/raspberry-pi-pwm-python/)** "
   ]
  },
  {
   "cell_type": "markdown",
   "id": "372d0d32",
   "metadata": {},
   "source": [
    "\n",
    "## 3. Materialien und Werkzeuge"
   ]
  },
  {
   "cell_type": "markdown",
   "id": "b81265be",
   "metadata": {},
   "source": [
    "### Software\n",
    "- [Raspbian OS](../Rasp_Pi_Einrichtung.ipynb#rasbioanOS)\n",
    "- [Python 3](https://www.python.org/about/gettingstarted/)\n",
    "- [Jupyter Notebook](../RaspberryPi_Jupyter_Grundlagen.ipynb)"
   ]
  },
  {
   "cell_type": "markdown",
   "id": "71c9f533",
   "metadata": {},
   "source": [
    "### Hardware\n",
    "- Raspberry Pi 5 Model B Rev 1.0\n",
    "- Breadboard\n",
    "- Jumper-Kabel\n",
    "- GRV Servo Motor\n",
    "- 5V Stromversorgung für den Servo\n"
   ]
  },
  {
   "cell_type": "markdown",
   "id": "374e5ba2",
   "metadata": {},
   "source": [
    "### Datenblätter\n",
    "**Servo-Datenblatt:**  \n",
    "- Drehmoment: 21.0/25.2oz.in\n",
    "- Geschwindigkeit: 0.12/10.1 s/60°\n",
    "- Spannung: 4.8-6V\n",
    "\n",
    "**Links zum Datenblatt Sowie Servo Motor:**  \n",
    "- [Servo Datenblatt](https://cdn-reichelt.de/documents/datenblatt/A300/316010005_01.pdf)\n",
    "- [Gravo Servo](https://wiki.seeedstudio.com/Grove-Servo/)\n"
   ]
  },
  {
   "cell_type": "markdown",
   "id": "5d712c03",
   "metadata": {},
   "source": [
    "### Verdrahtung\n",
    "- Der Steuerungs-Pin des Servos wird mit GPIO 18 (PWM) des Raspberry Pi verbunden.\n",
    "- Die Stromversorgung (Vcc) erfolgt über eine externe 5V-Quelle.\n",
    "- Die Masse (GND) wird mit dem GND des Raspberry Pi verbunden.\n",
    "\n",
    "#### PWM: GPIO 18\n",
    "Pulse Width Modulation(PWM) Pins  \n",
    "PWM1 – GPIO12 – Pin No 36  \n",
    "PWM2 – GPIO16 – Pin No 33  \n",
    "PWM1 – GPIO18 – Pin No 12  \n",
    "PWM2 – GPIO19 – Pin No 35  \n",
    "\n",
    "[Gucken Sie die komplette Erklärung von Pins hier](https://www.etechnog.com/2021/11/raspberry-pi-4-pinout-diagram-and.html)"
   ]
  },
  {
   "cell_type": "markdown",
   "id": "d86f79db",
   "metadata": {},
   "source": [
    "#### Übung\n",
    "In diesen Beispielen wurde der GPIO18 genutzt. Bauen Sie die Schaltung um, um PWM1 (GPIO13) zu nutzen. Zeigen Sie dem Dozent Ihre neue Schaltung und testen Sie es.  \n",
    "Tipp: Gucken Sie sich das [Pinout-Bild](Bilder/Raspberry_Pi_5_GPIO-Pinout.png)."
   ]
  },
  {
   "cell_type": "markdown",
   "id": "dbe24bd1",
   "metadata": {},
   "source": [
    "\n",
    "## 4. Schaltungsdesign"
   ]
  },
  {
   "cell_type": "markdown",
   "id": "0f83c487",
   "metadata": {},
   "source": [
    "### Raspberry P i5 GPIO-Pinout\n",
    "<img src=\"Bilder/Raspberry_Pi_5_GPIO-Pinout.png\" alt=\"Rasp Pi Pinout\" style=\"width:400px;\">  \n",
    "\n",
    "[Quelle](https://community.particle.io/t/following-getting-started-guide-for-raspberry-pi-how-do-i-use-analog-pins/27771/2)  \n"
   ]
  },
  {
   "cell_type": "markdown",
   "id": "4c9cedfa",
   "metadata": {},
   "source": [
    "### Zu Servo Motor \n",
    "<img src=\"Bilder/GRV_Motor.png\" alt=\"Servo Schaltung\" style=\"width:400px;\">  \n",
    "\n",
    "[Quelle](https://cdn-reichelt.de/documents/datenblatt/A300/316010005_01.pdf)\n"
   ]
  },
  {
   "cell_type": "markdown",
   "id": "30cd0699",
   "metadata": {},
   "source": [
    "### Schaltplan   \n",
    "<img src=\"Bilder/Servo_Schaltung.png\" alt=\"Servo Schaltung\" style=\"width:400px;\">  \n",
    "\n",
    "[Erstellt durch circuito.io](https://www.circuito.io/app?components=9443,10189,200000)\n",
    "\n",
    "**Alternativ**  \n",
    "\n",
    "<img src=\"Bilder/ServoMotor_RaspPi_Schaltung.png\" alt=\"Servo Schaltung\" style=\"width:400px;\">   \n",
    "\n",
    "[Erstellt durch easyeda](https://easyeda.com/editor)\n"
   ]
  },
  {
   "cell_type": "markdown",
   "id": "bc4fb273",
   "metadata": {},
   "source": [
    "### Geschwindigkeit messen\n",
    "Servo Motor kann mit einem Zeiger als Geschwindigkeit-Messer genutzt werden.  \n",
    "Im folgenden Bild ist die Anzeige der Geschwindigkeit genauso groß wie der Bewegungsgrad des Servo Motors, nämlich 180.  \n",
    "\n",
    "<img src=\"Bilder/Geschwindigkeit_messen_Servo.jpeg\" alt=\"Geschwindigkeit messen\" style=\"width:400px;\">  \n"
   ]
  },
  {
   "cell_type": "markdown",
   "id": "a0b2d80a",
   "metadata": {},
   "source": [
    "### Komponentenauswahl\n",
    "- **Servomotor:** GRV Servo 21.0/25.2oz.in 0.12/10.1 s/60°\n",
    "- **Jumper-Kabel:** Für die Verbindung der GPIO-Pins mit dem Servo\n",
    "- **Breadboard:** Für die Schaltungsaufbauten"
   ]
  },
  {
   "cell_type": "markdown",
   "id": "9a58b582",
   "metadata": {},
   "source": [
    "#### [Für Weiteres über die Verwendung von Servo mit Rasp Pi klicken Sie hier.](https://voltaat-learn.webflow.io/tutorials/how-to-controll-a-servo-motor-with-raspberry-pi-5#Wiring-it-Up)"
   ]
  },
  {
   "cell_type": "markdown",
   "id": "d2eb723a",
   "metadata": {},
   "source": [
    "\n",
    "## 5. Implementierung"
   ]
  },
  {
   "cell_type": "markdown",
   "id": "9ceea99e",
   "metadata": {},
   "source": [
    "### Hardware-Aufbau\n",
    "1. Komponenten auf dem Breadboard wie oben beschrieben platzieren und verkabeln.\n",
    "2. Raspberry Pi aufstellen und durch USB-Kabel an Rechner mit Strom versorgen."
   ]
  },
  {
   "cell_type": "markdown",
   "id": "03705150",
   "metadata": {},
   "source": [
    "### Software-Setup\n",
    "1. Raspbian OS [installieren](../Rasp_Pi_Einrichtung.ipynb#rasbioanOS).\n",
    "2. Python und Jupyter Notebook [installieren](../Installationen.ipynb#installationen)."
   ]
  },
  {
   "cell_type": "markdown",
   "id": "7ee8c7ba",
   "metadata": {},
   "source": [
    "### Installiere die RPi.GPIO und gpiozero Bibliotheken:\n",
    "Für die Installationsanweisungen dieser Bibliotheken [Klicken Sie hier](../Installationen.ipynb#installationen)"
   ]
  },
  {
   "cell_type": "code",
   "execution_count": null,
   "id": "8065814d",
   "metadata": {},
   "outputs": [],
   "source": [
    "from gpiozero import Servo\n",
    "from time import sleep\n",
    "\n",
    "servo = Servo(18) #GPIO 18\n",
    "\n",
    "try:\n",
    "    while True:\n",
    "        servo.mid()   # Mittelposition\n",
    "        sleep(2)\n",
    "        servo.min()   # Minimum Position\n",
    "        sleep(2)\n",
    "        servo.max()   # Maximum Position\n",
    "        sleep(2)\n",
    "except KeyboardInterrupt:\n",
    "    pass"
   ]
  },
  {
   "cell_type": "markdown",
   "id": "ddb555c9",
   "metadata": {},
   "source": [
    "- servo.mid(): Diese Funktion stellt den Servomotor in die mittlere Position, also auf den mittleren Punkt seines Bewegungsbereichs.\n",
    "\n",
    "- servo.min(): Diese Funktion bewegt den Servomotor in die minimale Position, also den unteren Extrempunkt seines Bewegungsbereichs.\n",
    "\n",
    "- servo.max(): Diese Funktion bewegt den Servomotor in die maximale Position, also den oberen Extrempunkt seines Bewegungsbereichs.\n",
    "\n",
    "Für weiteres über Servo-Bibliotheken und Funktionen klicken Sie [hier](https://gpiozero.readthedocs.io/en/stable/api_output.html#servo)."
   ]
  },
  {
   "cell_type": "markdown",
   "id": "bcb86769",
   "metadata": {},
   "source": [
    "Diese Impelimentierung lässt der Zeiger dies Servos auf drei Positionen bewegen, nämlich Mittelposition, Minimum Position und Maximum Position. Auch hier wurde der GPIO 18 benutzt."
   ]
  },
  {
   "cell_type": "markdown",
   "id": "0135c325",
   "metadata": {},
   "source": [
    "#### Übung \n",
    "- Mid, Min und Max wurden oben behandelt. Welche weitere Funktionen bietet uns Servo?\n",
    "- Schreiben Sie diesen Beispiel nochmal, aber dieses Mal mit der Nutzung von [RPi.GPIO](https://www.elektronik-kompendium.de/sites/raspberry-pi/2611151.htm) Bibliothek.\n",
    "- Anschließend testen Sie Ihren Code mit Rasp Pi. Funktioniert es noch wie vorhin? Zeigen Sie dem Dozent Ihre Änderungen.\n",
    "- Welcher Wert (in [ms]) für die mittlere Position steht?"
   ]
  },
  {
   "cell_type": "markdown",
   "id": "62cbe0c6",
   "metadata": {},
   "source": [
    "\n",
    "### Darstellung in Matplotlib\n",
    "[Matplotlib](https://matplotlib.org/stable/tutorials/pyplot.html) kann verwendet werden, um die PWM-Signale oder die Bewegungsposition des Servos über die Zeit darzustellen.  \n",
    "Falls ie diese Bibliothek noch nicht installiert haben, [Gucken Sie sich die Installation hier](../Installationen.ipynb#installationen).\n"
   ]
  },
  {
   "cell_type": "code",
   "execution_count": 8,
   "id": "e625f251",
   "metadata": {},
   "outputs": [
    {
     "data": {
      "image/png": "[encoded data removed]",
      "text/plain": [
       "<Figure size 640x480 with 1 Axes>"
      ]
     },
     "metadata": {},
     "output_type": "display_data"
    }
   ],
   "source": [
    "import matplotlib.pyplot as plt\n",
    "\n",
    "times = [0, 1, 2, 3, 4, 5]\n",
    "positions = [7.5, 2.5, 12.5, 7.5, 2.5, 12.5]\n",
    "\n",
    "plt.step(times, positions, where='mid')  # 'mid', 'pre', or 'post' kann verwendet werden\n",
    "plt.plot(times, positions)\n",
    "plt.xlabel('Time (s)')\n",
    "plt.ylabel('Servo Position (Duty Cycle)')\n",
    "plt.title('Servo Position over Time')\n",
    "plt.grid(True)\n",
    "plt.show()"
   ]
  },
  {
   "cell_type": "markdown",
   "id": "04899a6b",
   "metadata": {},
   "source": [
    "Die `step`-Funktion in Matplotlib ermöglicht es, die Linien zwischen den Datenpunkten entweder vertikal oder horizontal verlaufen zu lassen, anstatt diagonal. Sie können den Stil der Treppenlinien mit dem Parameter where steuern, wobei `mid`, `pre`, und `post` verschiedene Varianten darstellen."
   ]
  },
  {
   "cell_type": "markdown",
   "id": "62e644c0",
   "metadata": {},
   "source": [
    "- `pre`: Der Schritt in einem Diagramm beginnt direkt vor dem x-Wert.\n",
    "- `post`: Der Schritt beginnt direkt nach dem x-Wert.\n",
    "- `mid`: Der Schritt erfolgt in der Mitte zwischen zwei x-Werten.\n",
    "\n",
    "Weiteres zu `step`- und Matplotlib-Funktionen klicken Sie [hier](https://matplotlib.org/stable/api/_as_gen/matplotlib.pyplot.step.html)."
   ]
  },
  {
   "cell_type": "markdown",
   "id": "919ff959",
   "metadata": {},
   "source": [
    "\n",
    "### Übung:\n",
    "- Finden Sie heraus, welche andere Funktionen die Matplotlib anbietet?\n",
    "- Im obigen Beispiel wurde der Servo zwischen drei Positionen bewegt.  \n",
    "Erweitern Sie das Beispiel, um eine langsamere Bewegung zwischen den Positionen zu simulieren.\n"
   ]
  },
  {
   "cell_type": "markdown",
   "id": "2d8fde83",
   "metadata": {},
   "source": [
    "\n",
    "## 6. Experimente und Ergebnisse\n",
    "\n",
    "### Versuchsaufbau\n",
    "- Der oben beschriebene Hardware-Aufbau wurde verwendet.\n",
    "- Der Code wurde in einem Jupyter Notebook ausgeführt.\n",
    "- Der Servo bewegte sich entsprechend den vorgegebenen Positionen.\n"
   ]
  },
  {
   "cell_type": "markdown",
   "id": "8ebab9b6",
   "metadata": {},
   "source": [
    "\n",
    "### Beispiel 1: Schrittweise-Bewegung nach Angabe von Winkel\n"
   ]
  },
  {
   "cell_type": "markdown",
   "id": "6ec882c2",
   "metadata": {},
   "source": [
    "In diesem Beispiel wurde die Bibliotheken [RPi.GPIO](https://www.elektronik-kompendium.de/sites/raspberry-pi/2611151.htm) und time, die es schon mit Python installiert.  \n",
    "\n",
    "Sehen Sie sich auch [The Top 5 Libraries for Every Developer](https://raspberrytips.com/top-python-libraries-rasbperry-pi/)"
   ]
  },
  {
   "cell_type": "code",
   "execution_count": null,
   "id": "a0ab4c7f",
   "metadata": {},
   "outputs": [],
   "source": [
    "#Falls noch nicht installiert führen Sie diesen Befehl aus.\n",
    "!pip3 install RPi.GPIO"
   ]
  },
  {
   "cell_type": "code",
   "execution_count": null,
   "id": "2d20ff0f",
   "metadata": {},
   "outputs": [],
   "source": [
    "#Bibliotheken importieren\n",
    "import RPi.GPIO as GPIO\n",
    "from time import sleep"
   ]
  },
  {
   "cell_type": "code",
   "execution_count": null,
   "id": "48bf65fa",
   "metadata": {},
   "outputs": [],
   "source": [
    "# Konfiguration der GPIO-Pins\n",
    "GPIO.setmode(GPIO.BCM)\n",
    "GPIO.setup(18, GPIO.OUT)  # Pin 18"
   ]
  },
  {
   "cell_type": "code",
   "execution_count": null,
   "id": "4579cfdf",
   "metadata": {},
   "outputs": [],
   "source": [
    "# Servo initialisieren\n",
    "pwm = GPIO.PWM(18, 50)  # 50 Hz\n",
    "pwm.start(0)"
   ]
  },
  {
   "cell_type": "markdown",
   "id": "700716a2",
   "metadata": {},
   "source": [
    "Da wir die GPIO.PWM-Klasse verwenden, nutzen wir Hardware-PWM (HW-PWM). Diese Methode ist stabiler und ermöglicht präzisere Steuerungen im Vergleich zur Software-PWM."
   ]
  },
  {
   "cell_type": "code",
   "execution_count": null,
   "id": "56c23bf9",
   "metadata": {},
   "outputs": [],
   "source": [
    "#Motor-Bewegung durch Eingabe von Winkel\n",
    "def set_angle(angle):\n",
    "    duty = angle / 18 + 2\n",
    "    GPIO.output(18, True)\n",
    "    pwm.ChangeDutyCycle(duty)\n",
    "    sleep(1)  # Warte, bis der Servo sich bewegt hat\n",
    "    GPIO.output(18, False)\n",
    "    pwm.ChangeDutyCycle(0)"
   ]
  },
  {
   "cell_type": "markdown",
   "id": "da5a2d70",
   "metadata": {},
   "source": [
    "ChangeDutyCycle ist eine Methode, die in der Bibliothek RPi.GPIO verwendet wird, um die Duty-Cycle-Eigenschaft eines PWM-Signals zu ändern. Die Duty-Cycle beschreibt das Verhältnis von Ein- zu Ausschaltzeiten eines PWM-Signals (Pulsweitenmodulation). Für weiteres zu ```RPi.GPIO``` klicken Sie  [hier](https://www.elektronik-kompendium.de/sites/raspberry-pi/2611151.htm) "
   ]
  },
  {
   "cell_type": "code",
   "execution_count": null,
   "id": "8c6cc7f7",
   "metadata": {},
   "outputs": [],
   "source": [
    "try:\n",
    "    while True:\n",
    "        try:\n",
    "            # Benutzereingabe für den gewünschten Winkel\n",
    "            angle = float(input(\"Geben Sie den gewünschten Winkel (0-180) ein (oder 'exit' zum Beenden): \"))\n",
    "            \n",
    "            # Eingabewert überprüfen\n",
    "            if angle < 0 or angle > 180:\n",
    "                print(\"Ungültiger Winkel. Bitte geben Sie einen Wert zwischen 0 und 180 ein.\")\n",
    "                continue\n",
    "            \n",
    "            # Servo auf den angegebenen Winkel bewegen\n",
    "            set_angle(angle)\n",
    "        \n",
    "        except ValueError:\n",
    "            user_input = input(\"Ungültige Eingabe. Geben Sie 'exit' zum Beenden ein: \")\n",
    "            if user_input.lower()== 'exit':\n",
    "                break\n",
    "            else:\n",
    "                print(\"Ungültige Eingabe. Bitte geben Sie einen Wert zwischen 0 und 180 ein.\")\n",
    "        \n",
    "except KeyboardInterrupt:\n",
    "    print(\"Programm wurde unterbrochen.\")\n",
    "\n",
    "finally:\n",
    "    pwm.stop()\n",
    "    GPIO.cleanup()"
   ]
  },
  {
   "cell_type": "markdown",
   "id": "1fb807de",
   "metadata": {},
   "source": [
    "In diesem Beispiel wird man bei jedem Schritt danach gefordert, durch die Tastatur einen Winkel einzugeben. Der Servo bewegt sich dann aus der aktuellen Posiotion auf die neue durch den Winkel angegebene Posiotion. Falls der Nutzer einen Wert größer 180, was der größtmögliche Winkel des Motors ist, oder kleiner 0, was das Minimum des Servo ist, kriegt man eine Ausgabe auf Jupyter, dass eine ungültige Eingabe erfolgt wurde. Motor macht dann nichts und wartet auf eine neue Eingabe."
   ]
  },
  {
   "cell_type": "markdown",
   "id": "928fb94d",
   "metadata": {},
   "source": [
    "Übung\n",
    "- Welcher Wert (in [ms]) steht für einen Winkel von 80 Grad?"
   ]
  },
  {
   "cell_type": "markdown",
   "id": "03a4727f",
   "metadata": {},
   "source": [
    "### Beispiel 2: dauerhafte Bewegung"
   ]
  },
  {
   "cell_type": "markdown",
   "id": "1e37ec5b",
   "metadata": {},
   "source": [
    "Wir nutzen die gleiche Bibliotheken und PIN-Einstellungen wie oben. Merken Sie sich hierbei den Unterschied zwischen dem obigen und dem folgenden Code."
   ]
  },
  {
   "cell_type": "code",
   "execution_count": null,
   "id": "ebbe8041",
   "metadata": {},
   "outputs": [],
   "source": [
    "if __name__ == '__main__':\n",
    "    degree = 180 #Maximum von Servo\n",
    "    direction = 0 #Richtung\n",
    "    try:\n",
    "        while True: #Das heißt: dauerhafte Bewegung\n",
    "            set_angle(degree) #Aufrufen der obigen Funktion im Beispiel 1\n",
    "            print(degree) #Ausgabe, für Klarheit\n",
    "            # Einstellung von Bewegungsrichtung anhand des Winkels.\n",
    "            if degree == 180:\n",
    "                direction = 1\n",
    "            elif degree == 0:\n",
    "                direction = 0\n",
    "                \n",
    "            if direction == 0:\n",
    "                degree += 10\n",
    "            else:\n",
    "                degree -= 10\n",
    "    except KeyboardInterrupt:\n",
    "        pwm.stop()\n",
    "        GPIO.cleanup()\n"
   ]
  },
  {
   "cell_type": "markdown",
   "id": "bba769fc",
   "metadata": {},
   "source": [
    "In diesem Beispiel bewegt sich der Zeiger bzw. dreht sich der Motor ständig ohne anzuhalten. Der Servo kann nur zwischen Winkel 0 und 180. In diesem Fall bewegt sich er von 0 auf 180. Wenn der Servo 180 erreicht, bewegt sich zurück auf 0 usw. . Im Beispiel kann man bemerken, dass die Variable degree sich immer um 10 erhöht oder verkleinert. Dies ist die Größe eines Schritts des Servos. 10 wurde mit Absicht eingegeben, damit sich der Servo während Experimenten nicht sehr langsam bewegt."
   ]
  },
  {
   "cell_type": "markdown",
   "id": "f44bc131",
   "metadata": {},
   "source": [
    "### Übung:\n",
    "- Suchen Sie sich einen anderen Pin, wo Sie den Servo mit einem anderen PWM-Pin verbinden und passen Sie den Code an. Funktionert der Servo immer noch? \n",
    "   <!-- - <div> <button onclick=\"var x = document.getElementById('hidden'); if (x.style.display === 'none') { x.style.display = 'block'; } else { x.style.display = 'none'; }\">Tipp anzeigen</button>\n",
    "    <div id=\"hidden\" style=\"display:none;\">\n",
    "       Gucken Sie sich das [Pinout-Bild](Bilder/Raspberry_Pi_5_GPIO-Pinout.png).\n",
    "    </div>\n",
    "  </div> -->\n",
    "\n",
    "    - Tipp: Gucken Sie sich das [Pinout-Bild](Bilder/Raspberry_Pi_5_GPIO-Pinout.png).\n",
    "- Ändern Sie den Code so, dass der Servo nur 4 Schritte zwischen 0 und 180 machen kann. Wie machen Sie das?"
   ]
  },
  {
   "cell_type": "markdown",
   "id": "7439ae37",
   "metadata": {},
   "source": [
    "### Zusätzliche Ressourcen \n",
    "Für besseres Verstand und für die Klarheit gucken Sie sich die folgenden Notebooks:  \n",
    "- [Grundlagen-Notebook](../RaspberryPi_Jupyter_Grundlagen.ipynb)\n",
    "- [Bib-Installationen](../Installationen.ipynb#installationen)\n",
    "- [Raspbian OS](../Rasp_Pi_Einrichtung.ipynb#rasbioanOS)"
   ]
  }
 ],
 "metadata": {
  "kernelspec": {
   "display_name": "Python 3 (ipykernel)",
   "language": "python",
   "name": "python3"
  },
  "language_info": {
   "codemirror_mode": {
    "name": "ipython",
    "version": 3
   },
   "file_extension": ".py",
   "mimetype": "text/x-python",
   "name": "python",
   "nbconvert_exporter": "python",
   "pygments_lexer": "ipython3",
   "version": "3.12.1"
  }
 },
 "nbformat": 4,
 "nbformat_minor": 5
}
