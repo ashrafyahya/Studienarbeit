{
 "cells": [
  {
   "cell_type": "markdown",
   "id": "4b18bfde",
   "metadata": {},
   "source": [
    "# Bewegungserkennung mit Infrarot Motion Sensor"
   ]
  },
  {
   "cell_type": "markdown",
   "id": "27784681",
   "metadata": {},
   "source": [
    "## 1. Einführung"
   ]
  },
  {
   "cell_type": "markdown",
   "id": "d7c77b58-c04f-4c47-8e09-0faacf017220",
   "metadata": {},
   "source": [
    "<img src=\"Bilder/pir.webp\" style=\"width:600px;\">\n",
    "\n",
    "[PIR](https://content.instructables.com/FJG/HUCY/J3AF8R7D/FJGHUCYJ3AF8R7D.png?auto=webp&frame=1)\n",
    "\n",
    "<img src=\"Bilder/PIR und LED.webp\" style=\"width:778px;\">\n",
    "\n",
    "[PIR und LED](https://microcontrollerslab.com/wp-content/uploads/2022/03/Control-LED-with-PIR-Motion-Sensor-Raspberry-Pi-Pico-MicroPython.jpg)"
   ]
  },
  {
   "cell_type": "markdown",
   "id": "a7d3f8ae",
   "metadata": {},
   "source": [
    "### Projektziel\n",
    "Das Ziel dieses Projekts ist es, mit dem [PIR-Sensor HC-SR501](https://wolles-elektronikkiste.de/hc-sr501-pir-bewegungsmelder)  einen [Bewegungssensor](https://www.rayzeek.com/de/blog/pir-motion-sensor) zu erstellen. Dieser Bewegungssensor aktiviert eine [LED](https://www.conrad.at/de/ratgeber/industrie-40/led-leuchtdiode.html), wenn eine Bewegung in der Nähe erkannt wird. Das Projekt integriert sowohl Hardware (den PIR-Sensor und die LED) und [Raspberry Pi](https://blog.berrybase.de/starter-guide-raspberry-pi-4/) als auch Software ([Python-Programmierung](https://www.elab2go.de/demo-py1/) über [Jupyter Notebook](https://www.dataquest.io/blog/jupyter-notebook-tutorial/)) und bietet eine Einführung in die Programmierung und Steuerung von Sensoren mit dem Raspberry Pi."
   ]
  },
  {
   "cell_type": "markdown",
   "id": "c09b0c10-c795-4616-b4fd-6b9c45c32da6",
   "metadata": {},
   "source": [
    "### Hintergrund\n",
    "Der PIR-Sensor HC-SR501 (Passiver Infrarot-Sensor)  wird häufig zur Bewegungserkennung verwendet. Er erkennt die von Menschen ausgestrahlte Infrarotstrahlung, die als Wärmesignatur detektiert wird. Wenn der Sensor eine plötzliche Änderung der Wärmestrahlung bemerkt, sendet er ein elektrisches Signal, um die Bewegung anzuzeigen."
   ]
  },
  {
   "cell_type": "markdown",
   "id": "9886a86d",
   "metadata": {},
   "source": [
    "### Relevanz\n",
    "Solche PIR-Sensoren werden in Anwendungen wie [Sicherheitssystemen](https://de.wikipedia.org/wiki/Sicherheitssystem), automatischen Beleuchtungen und energiesparenden Einrichtungen eingesetzt. Dieses Projekt zeigt die grundlegende Funktionsweise eines Bewegungssensors und seine Integration in ein computergesteuertes System, was für viele Heimautomatisierungssysteme von Bedeutung ist."
   ]
  },
  {
   "cell_type": "markdown",
   "id": "c306ec5f-7c35-4d93-8332-7588bd0bc04e",
   "metadata": {},
   "source": [
    "## 2. Grundlagen und Theorie"
   ]
  },
  {
   "cell_type": "markdown",
   "id": "b81618fd-4d29-4cca-a653-c37245d7c92e",
   "metadata": {},
   "source": [
    "### PIR-Sensor HC-SR501: \n",
    "Ein [passiver Infrarotsensor](https://www.electricity-magnetism.org/de/infrarot-ir-sensoren/), der Bewegungen durch Erkennung von Änderungen in der Infrarotstrahlung wahrnimmt. Der [HC-SR501](https://wolles-elektronikkiste.de/hc-sr501-pir-bewegungsmelder) verfügt über ein breites Erfassungsfeld (120 Grad) und kann Bewegungen in einem Bereich von 3 bis 7 Metern erkennen. Er gibt ein digitales Signal an den [Raspberry Pi](https://blog.berrybase.de/starter-guide-raspberry-pi-4/) aus, wenn eine Bewegung erkannt wird."
   ]
  },
  {
   "cell_type": "markdown",
   "id": "42b6c1a6-34c7-4b76-8f12-53a23b243562",
   "metadata": {},
   "source": [
    "### Wie benutzt man diesen Sensor?\n",
    "Der HC-SR501 PIR-Sensor kann entweder im nicht wiederholbaren Modus (L) betrieben werden, bei dem nach einer Bewegungserkennung ein High-Signal ausgegeben wird und keine weiteren Bewegungen erkannt werden, bis das Signal auf Low wechselt, oder im wiederholbaren Modus (H), bei dem Bewegungen kontinuierlich erfasst werden, solange das Objekt im Erfassungsbereich bleibt. Mit den Widerständen R1 und R2 lassen sich die Haltezeit des High-Signals (1,2 bis 320 Sekunden) und die Erfassungsreichweite (3 bis 5 Meter) anpassen.\n",
    "- [Freenove-Tutorial](https://github.com/Freenove/Freenove_Projects_Kit_for_Raspberry_Pi/blob/main/Tutorial.pdf)"
   ]
  },
  {
   "cell_type": "markdown",
   "id": "242d7a3d-0350-465a-8cac-e19b8d48a9b8",
   "metadata": {},
   "source": [
    "### LED: \n",
    "Eine Leuchtdiode [(LED)](https://www.conrad.at/de/ratgeber/industrie-40/led-leuchtdiode.html) wird als visuelles Signal verwendet. Wenn der Sensor eine Bewegung registriert, leuchtet die LED als Indikator auf. Ein Widerstand wird verwendet, um den Stromfluss durch die LED zu begrenzen, um Schäden zu vermeiden."
   ]
  },
  {
   "cell_type": "markdown",
   "id": "bab2484f-8590-42a0-af12-5f42afb2f7c3",
   "metadata": {},
   "source": [
    "### Vorwiderstand: \n",
    "Der [Vorwiderstand](https://learnattack.de/schuelerlexikon/physik/vorwiderstand) für die LED begrenzt den Strom, um zu verhindern, dass die LED zu stark leuchtet oder beschädigt wird. Dieser wird auf Basis der [LED-Daten](https://components101.com/diodes/5mm-round-led) berechnet."
   ]
  },
  {
   "cell_type": "markdown",
   "id": "3690b343",
   "metadata": {},
   "source": [
    "\n",
    "## 3. Materialien und Werkzeuge"
   ]
  },
  {
   "cell_type": "markdown",
   "id": "5159cbd5",
   "metadata": {},
   "source": [
    "### Software\n",
    "- [Raspbian OS](https://en.wikipedia.org/wiki/Raspberry_Pi_OS)\n",
    "- [Python 3](https://www.elab2go.de/demo-py1/)\n",
    "- [Jupyter Notebook](https://www.dataquest.io/blog/jupyter-notebook-tutorial/)"
   ]
  },
  {
   "cell_type": "markdown",
   "id": "a6f11288",
   "metadata": {},
   "source": [
    "### Hardware\n",
    "- Raspberry Pi\n",
    "- PIR-Sensor HC-SR501\n",
    "- LED\n",
    "- Widerstand (330Ω)\n",
    "- [Breadboard](https://exp-tech.de/blogs/blog/tutorial-breadboard-steckplatine) und [Jumperkabel](https://www.hwlibre.com/de/%C3%9Cberbr%C3%BCckungskabel/)\n",
    "- [GPIO Ribbonkabel](https://www.cl.cam.ac.uk/projects/raspberrypi/tutorials/robot/components/ribbon_cable/)"
   ]
  },
  {
   "cell_type": "markdown",
   "id": "22d6677f-5433-441f-8618-1c88746a5665",
   "metadata": {},
   "source": [
    "### Sensor/(Aktor)en, inkl. Datenblätter\n",
    "der HC-SR501 PIR Sensor wird als Sensor benutzt und die Daten im [Datenblatt des Sensors](https://datasheet4u.com/datasheet-pdf/ETC/HC-SR501/pdf.php?id=775434) lautet:\n",
    "\n",
    "| Spezifikation              | HCR501 Sensor |\n",
    "|----------------------------|---------------|\n",
    "| Betriebsspannung           | 5V bis 20V    |\n",
    "| Strom                      | 65 mA         |\n",
    "| Reichweite                 | 3 bis 7 Meter | \n",
    "|Erfassungswinkel            | ca. 120°      |"
   ]
  },
  {
   "cell_type": "markdown",
   "id": "ce7c9262-c786-4691-bc44-c8143c26753f",
   "metadata": {},
   "source": [
    "### Berechnung des Vorwiderstands"
   ]
  },
  {
   "cell_type": "markdown",
   "id": "835acc42-3a88-41cf-93c1-956517bd2c60",
   "metadata": {},
   "source": [
    "der [Vorwiderstand der LED](https://www.elektrikerwissen.de/vorwiderstand-berechnen/) kann wie folgt berechnet werden:"
   ]
  },
  {
   "cell_type": "code",
   "execution_count": 18,
   "id": "0157c98a-613c-474b-8be7-9d94125167e2",
   "metadata": {},
   "outputs": [
    {
     "name": "stdout",
     "output_type": "stream",
     "text": [
      "Erforderlicher Vorwiderstand: 64.99999999999999 Ohm\n"
     ]
    }
   ],
   "source": [
    "# Beispielcode zur Berechnung des Vorwiderstands:\n",
    "# Werte: Versorgungsspannung 3.3V, LED-Spannung 2V, Strom 20mA\n",
    "V_supply = 3.3  # Versorgungsspannung in Volt\n",
    "V_f = 2.0  # Vorwärtsspannung der LED in Volt\n",
    "I_f = 0.02  # Vorwärtsstrom der LED in Ampere\n",
    "\n",
    "R = (V_supply - V_f) / I_f\n",
    "print(\"Erforderlicher Vorwiderstand: {} Ohm\".format(R))"
   ]
  },
  {
   "cell_type": "markdown",
   "id": "fc1335eb-1e99-4fe3-8ec9-a99e76852f31",
   "metadata": {},
   "source": [
    "### Pin Beschaltung\n",
    "Die Pin-Beschaltung kann für Beispeil wie flogt aussehen:\n",
    "\n",
    "| PIR Bewegungssensor        | GPIO Pin des Raspberry Pi |\n",
    "|----------------------------|-----------------|\n",
    "| VCC                        | Pin2 (5V)       |\n",
    "| GND                        | Pin6 (GND)      |\n",
    "| OUT                        | GPIO23, 17 oder 24  |\n",
    "\n",
    "[tutorials-raspberrypi.de](https://tutorials-raspberrypi.de/raspberry-pi-bewegungsmelder-sensor-pir/)\n",
    "\n",
    "Die Beschaltung für Beispiel2 soll zusätzlich zu obiger Beschaltung soll wie folgt aussehen:\n",
    "\n",
    "| LED                        | GPIO Pin des Raspberry Pi |\n",
    "|----------------------------|-----------------|\n",
    "| Anode                      | Pin11 GPIO 17   |\n",
    "| Kathode                    | Pin6 (GND)      |\n",
    "\n",
    "Die Beschaltung für Beispiel3 soll zusätzlich zu obiger Beschaltungen soll wie folgt aussehen:\n",
    "\n",
    "| Buzzer                     | GPIO Pin des Raspberry Pi |\n",
    "|----------------------------|-----------------|\n",
    "| Positiver Pin              | Pin13 GPIO 27   |\n",
    "| Negativer Pin              |  GND      |\n"
   ]
  },
  {
   "cell_type": "markdown",
   "id": "1f32c258",
   "metadata": {},
   "source": [
    "## 4. Schaltungsdesign"
   ]
  },
  {
   "cell_type": "markdown",
   "id": "2c10ccce-6262-4c66-bae7-fd560136e9fa",
   "metadata": {},
   "source": [
    "### Schmatischer Entwurf\n",
    "<img src=\"Bilder/SchematischerEntwurf.png\" style=\"width:703px;\">"
   ]
  },
  {
   "cell_type": "markdown",
   "id": "2e059620-6421-498d-8b46-9d714303f037",
   "metadata": {},
   "source": [
    "- [Freenove-Tutorial](https://github.com/Freenove/Freenove_Projects_Kit_for_Raspberry_Pi/blob/main/Tutorial.pdf)"
   ]
  },
  {
   "cell_type": "markdown",
   "id": "8829db6c-39a6-4bfc-bad4-149b5407e5b7",
   "metadata": {},
   "source": [
    "### Hardware-Verbindung\n",
    "<img src=\"Bilder/pir.png\" style=\"width:993px;\">"
   ]
  },
  {
   "cell_type": "markdown",
   "id": "ae079da6-adc6-4d65-a7c0-8b825fbc076a",
   "metadata": {},
   "source": [
    "[tutorials-raspberrypi.de](https://tutorials-raspberrypi.de/raspberry-pi-bewegungsmelder-sensor-pir/)"
   ]
  },
  {
   "cell_type": "markdown",
   "id": "607bae02-ccd4-4240-8456-73b72cc91ef3",
   "metadata": {},
   "source": [
    "### Hardware-Verbindung für Beispiel 2\n",
    "In diesem Bild ist der Anode von LED mit Pin 3 des Raspberry Pi verbunden.\n",
    "\n",
    "<img src=\"Bilder/Beispiel2.jpg\" style=\"width:600px;\">\n",
    "\n",
    "[Quelle](https://projects-raspberry.com/raspberry-pi-gpio-with-pir-motion-sensor-best-tutorial/)"
   ]
  },
  {
   "cell_type": "markdown",
   "id": "2ad71d94-9f2d-4765-a901-96739bc9e9d5",
   "metadata": {},
   "source": [
    "### Hardware-Verbindung Beispiel 3\n",
    "die HWVerbindung für Beispeil 3 kann sowas in Realität aussehen:\n",
    "\n",
    "<img src=\"Bilder/B3.png\" style=\"width:993px;\">"
   ]
  },
  {
   "cell_type": "markdown",
   "id": "7b2d4a86",
   "metadata": {},
   "source": [
    "## 5. Implementierung"
   ]
  },
  {
   "cell_type": "markdown",
   "id": "7f670a56",
   "metadata": {},
   "source": [
    "### Hardware-Aufbau\n",
    "Der Hardware soll wie obbiges Bild aufgabeut werden. \n",
    "- HC SR501 Sensor mit dem Raspberry Pi verbinden.\n",
    "- Raspberry Pi einschalten."
   ]
  },
  {
   "cell_type": "markdown",
   "id": "4978c9df-0ac1-4c86-a568-dbb23be74d04",
   "metadata": {},
   "source": [
    "### Software-Setup\n",
    "1. [Raspbian OS](https://blog.berrybase.de/starter-guide-raspberry-pi-4/) installieren.\n",
    "\n",
    "\n",
    "2. [Python](https://www.elab2go.de/demo-py1/) und [Jupyter Notebook](https://www.dataquest.io/blog/jupyter-notebook-tutorial/) installieren:\n",
    "    ```sh\n",
    "    sudo apt-get update\n",
    "    sudo apt-get install python3 jupyter \n",
    "\n",
    "    \n",
    "3. Installation der Bibliotheken wie gpiozero und RPi.GPIO.\n"
   ]
  },
  {
   "cell_type": "markdown",
   "id": "a972fd89",
   "metadata": {},
   "source": [
    "## 6. Experimente und Ergebnisse"
   ]
  },
  {
   "cell_type": "markdown",
   "id": "c05b1b2f-2995-4ed1-bbf6-3634432058e4",
   "metadata": {},
   "source": [
    "### Installation der Bibliotheken"
   ]
  },
  {
   "cell_type": "markdown",
   "id": "e897d693-cb44-4686-978c-5189bceefc60",
   "metadata": {},
   "source": [
    "```!pip install ipython```\n",
    "\n",
    "[ipython](https://datascientest.com/de/ipython-die-python-shell-im-herzen-von-jupyter-notebook-entdecken)"
   ]
  },
  {
   "cell_type": "markdown",
   "id": "3e2e20c5-6084-484d-9de2-069aead9422c",
   "metadata": {},
   "source": [
    "```pip install RPi.GPIO```\n",
    "\n",
    "[RPi.GPIO](https://www.elektronik-kompendium.de/sites/raspberry-pi/2611151.htm#:~:text=%E2%80%9ERPi.GPIO%E2%80%9C%20ist%20der%20Klassiker%20unter%20den%20Python-GPIO-Bibliotheken.%20Die,mit%20GPIOs%20auf%20dem%20Raspberry%20Pi%20stark%20vereinfachen.)"
   ]
  },
  {
   "cell_type": "markdown",
   "id": "49238fcd-8406-4bc2-93a2-e143c87bdeae",
   "metadata": {},
   "source": [
    "```pip install gpiozero```\n",
    "\n",
    "[gpiozero](https://www.elektronik-kompendium.de/sites/raspberry-pi/1912181.htm#:~:text=GPIO%20Zero%20ist%20eine%20Python-Bibliothek.%20Sie%20stellt%20eine,GPIOs%20in%20Python%20zu%20programmieren%20und%20zu%20steuern.)"
   ]
  },
  {
   "cell_type": "markdown",
   "id": "604898a2-1531-4150-859a-9a86d6c47cf3",
   "metadata": {},
   "source": [
    "##  Beispiel 1\n",
    "Dieser Code gibt eine Meldung aus, wenn der PIR-Sensor eine Bewegung erkennt."
   ]
  },
  {
   "cell_type": "code",
   "execution_count": null,
   "id": "f33750ff-e51c-4e5f-88fc-0afe4f68ae58",
   "metadata": {},
   "outputs": [],
   "source": [
    "# Importieren Sie die Bibliotheken\n",
    "from gpiozero import MotionSensor\n",
    "from signal import pause"
   ]
  },
  {
   "cell_type": "code",
   "execution_count": null,
   "id": "c9feae69-2405-4184-97cd-72ce198822e7",
   "metadata": {},
   "outputs": [],
   "source": [
    "# Initialisiere den PIR-Sensor an GPIO 23 (BCM-Modus)\n",
    "pir = MotionSensor(23)"
   ]
  },
  {
   "cell_type": "code",
   "execution_count": null,
   "id": "2ae2442f-a7fe-4eb1-b2d7-151f4d820172",
   "metadata": {},
   "outputs": [],
   "source": [
    "# Funktionen, die auf Bewegung und keine Bewegung reagieren\n",
    "def bewegung_erkannt():\n",
    "    print(\"Bewegung erkannt!\")\n",
    "\n",
    "def keine_bewegung():\n",
    "    print(\"Keine Bewegung mehr...\")"
   ]
  },
  {
   "cell_type": "code",
   "execution_count": null,
   "id": "84c068bd-933a-40ed-8489-870130cecaf6",
   "metadata": {},
   "outputs": [],
   "source": [
    "# Binde die Funktionen an die Ereignisse\n",
    "pir.when_motion = bewegung_erkannt\n",
    "pir.when_no_motion = keine_bewegung\n",
    "\n",
    "# Ausgabe im Jupyter-Notebook\n",
    "print(\"Warte auf Bewegung...\")\n",
    "\n",
    "# Halt das Programm, damit es weiter auf Bewegung warten kann\n",
    "pause()"
   ]
  },
  {
   "cell_type": "markdown",
   "id": "c8f82b68-767b-48b5-9cb0-94f08ca92a71",
   "metadata": {},
   "source": [
    "### Darstellung in Matplotlib"
   ]
  },
  {
   "cell_type": "markdown",
   "id": "c7baf577-d656-476e-bf3d-a3252f0d3bd3",
   "metadata": {},
   "source": [
    "### Aufgabe 1\n",
    "Was bedeutet BCM-Modus ?"
   ]
  },
  {
   "cell_type": "markdown",
   "id": "8ccb7eb3-a3c9-473a-81e7-57b42e1a2808",
   "metadata": {},
   "source": [
    "<details>\n",
    "  <summary>Lösung</summary>\n",
    "  <p> GPIO.BCM verwendet die logischen GPIO-Nummern im System-on-Chip. </p>\n",
    "</details>"
   ]
  },
  {
   "cell_type": "markdown",
   "id": "1501a13b-6f81-4be9-a74e-c87e1874bc12",
   "metadata": {},
   "source": [
    "### Aufgabe 2\n",
    "Wie unterscheidet sich die Pin-Deklaration bei BCM und Board-Modus ?"
   ]
  },
  {
   "cell_type": "markdown",
   "id": "18f99b8f-186e-4726-a217-8936cf510565",
   "metadata": {},
   "source": [
    "##  Beispiel 2\n",
    "Dieser Code schaltet die LED ein, wenn der PIR-Sensor eine Bewegung erkennt, und gibt eine Meldung aus."
   ]
  },
  {
   "cell_type": "markdown",
   "id": "b7c670db-75d2-4f32-8180-e17a7add1503",
   "metadata": {},
   "source": [
    "### Installation der Bibliotheken"
   ]
  },
  {
   "cell_type": "code",
   "execution_count": null,
   "id": "7ecfaa92-7fe3-4adb-af92-435f9aa70dd3",
   "metadata": {},
   "outputs": [],
   "source": [
    "# Importieren Sie die Bibliotheken\n",
    "from gpiozero import MotionSensor, LED\n",
    "from signal import pause"
   ]
  },
  {
   "cell_type": "code",
   "execution_count": null,
   "id": "727c3369-0a8c-4075-879b-b4d0e45d8682",
   "metadata": {},
   "outputs": [],
   "source": [
    "# Initialisiere den PIR-Sensor an GPIO 23 (BCM-Modus)\n",
    "pir = MotionSensor(23)"
   ]
  },
  {
   "cell_type": "code",
   "execution_count": null,
   "id": "b99a6e9d-5459-4906-a3f6-e834e23f08c5",
   "metadata": {},
   "outputs": [],
   "source": [
    "# Initialisiere die LED an GPIO 17 (BCM-Modus)\n",
    "led = LED(17)"
   ]
  },
  {
   "cell_type": "code",
   "execution_count": null,
   "id": "1a272998-0ac5-4bc0-a6fa-d8eb11607b3f",
   "metadata": {},
   "outputs": [],
   "source": [
    "# Funktionen, die auf Bewegung und keine Bewegung reagieren\n",
    "def bewegung_erkannt():\n",
    "    print(\"Bewegung erkannt!\")\n",
    "    led.on()  # LED einschalten, wenn Bewegung erkannt wird\n",
    "\n",
    "def keine_bewegung():\n",
    "    print(\"Keine Bewegung mehr...\")\n",
    "    led.off()  # LED ausschalten, wenn keine Bewegung erkannt wird"
   ]
  },
  {
   "cell_type": "code",
   "execution_count": null,
   "id": "7b412765-38ad-4e51-a420-382cf3fbf45f",
   "metadata": {},
   "outputs": [],
   "source": [
    "# Binde die Funktionen an die Ereignisse\n",
    "pir.when_motion = bewegung_erkannt\n",
    "pir.when_no_motion = keine_bewegung\n",
    "\n",
    "# Ausgabe im Jupyter-Notebook\n",
    "print(\"Warte auf Bewegung...\")\n",
    "\n",
    "# Halt das Programm, damit es weiter auf Bewegung warten kann\n",
    "pause()"
   ]
  },
  {
   "cell_type": "markdown",
   "id": "5bb932dc-d150-4744-9f76-b736d6c5eb79",
   "metadata": {},
   "source": [
    "<details>\n",
    "  <summary>Aufgabe 3</summary>\n",
    "  <p> Mit Welcher PIN des Raspberry Pi ist in diesem Beispiel die LED verbuden ? </p>\n",
    "</details>"
   ]
  },
  {
   "cell_type": "markdown",
   "id": "ce205ac7-8c71-422e-aa3d-909665d3682b",
   "metadata": {},
   "source": [
    "### Beispiel 3\n",
    "In diesem Beispiel wird neben der LED auch einen Buzzer verwendet. Der Buzzer wird aktiviert, wenn Bewegung erkannt wird, und deaktiviert, wenn keine Bewegung mehr erkannt wird."
   ]
  },
  {
   "cell_type": "code",
   "execution_count": null,
   "id": "3033b6d1-6167-4f90-bd37-9c8b4c096e9e",
   "metadata": {},
   "outputs": [],
   "source": [
    "# Importieren Sie die Bibliotheken\n",
    "from gpiozero import MotionSensor, LED, Buzzer\n",
    "from signal import pause"
   ]
  },
  {
   "cell_type": "code",
   "execution_count": null,
   "id": "2dc7f167-61e7-489d-8d7a-27c6a281a468",
   "metadata": {},
   "outputs": [],
   "source": [
    "# Initialisiere den PIR-Sensor an GPIO 23 (BCM-Modus)\n",
    "pir = MotionSensor(23)\n",
    "\n",
    "# Initialisiere die LED an GPIO 17 (BCM-Modus)\n",
    "led = LED(17)\n",
    "\n",
    "# Initialisiere den Buzzer mit PWM an GPIO 27 (BCM-Modus)\n",
    "buzzer = PWMOutputDevice(27)"
   ]
  },
  {
   "cell_type": "code",
   "execution_count": null,
   "id": "1567e7b4-831f-4b11-a567-39ab7554186a",
   "metadata": {},
   "outputs": [],
   "source": [
    "# Funktionen, die auf Bewegung und keine Bewegung reagieren\n",
    "def bewegung_erkannt():\n",
    "    print(\"Bewegung erkannt!\")\n",
    "    led.on()  # LED einschalten\n",
    "    buzzer.frequency = 2000  # Frequenz des Buzzers (2 kHz für lauteren Ton)\n",
    "    buzzer.value = 0.8  # Lautstärke erhöhen (0.8 entspricht 80% der maximalen Leistung)\n",
    "\n",
    "def keine_bewegung():\n",
    "    print(\"Keine Bewegung mehr...\")\n",
    "    led.off()  # LED ausschalten\n",
    "    buzzer.value = 0  # Buzzer ausschalten\n",
    "\n",
    "# Binde die Funktionen an die Ereignisse\n",
    "pir.when_motion = bewegung_erkannt\n",
    "pir.when_no_motion = keine_bewegung\n",
    "\n",
    "# Ausgabe im Jupyter-Notebook\n",
    "print(\"Warte auf Bewegung...\")\n",
    "\n",
    "# Halt das Programm, damit es weiter auf Bewegung warten kann\n",
    "pause()"
   ]
  },
  {
   "cell_type": "markdown",
   "id": "5f41848c",
   "metadata": {},
   "source": [
    "## 7. Diskussion und Fazit"
   ]
  },
  {
   "cell_type": "markdown",
   "id": "a59692e8",
   "metadata": {},
   "source": [
    "### Diskussion\n",
    "Der HC-SR501 PIR-Sensor hat eine zuverlässige Erkennungsreichweite und ist für viele Heimautomatisierungsanwendungen geeignet. Ein Punkt, der diskutiert werden könnte, ist die Möglichkeit, die Empfindlichkeit des Sensors zu ändern, um bestimmte Bewegungen besser oder schlechter zu erkennen."
   ]
  },
  {
   "cell_type": "markdown",
   "id": "bc8a10a3-494e-45f9-963d-15b8d46f2db1",
   "metadata": {},
   "source": [
    "### Verbesserungsmöglichkeiten\n",
    "- Integration eines Alarms oder einer Kamera für eine umfassendere Überwachung.\n",
    "- Nutzung zusätzlicher PIR-Sensoren für eine breitere Bewegungserkennung."
   ]
  },
  {
   "cell_type": "markdown",
   "id": "29bf717c",
   "metadata": {},
   "source": [
    "### Fazit\n",
    "Das Projekt zeigt, wie PIR-Sensoren erfolgreich in einem einfachen Bewegungserkennungssystem integriert werden können. Der Raspberry Pi ermöglicht eine flexible Steuerung und Auswertung der Daten in einer komfortablen Entwicklungsumgebung wie Jupyter Notebook."
   ]
  }
 ],
 "metadata": {
  "kernelspec": {
   "display_name": "Python 3 (ipykernel)",
   "language": "python",
   "name": "python3"
  },
  "language_info": {
   "codemirror_mode": {
    "name": "ipython",
    "version": 3
   },
   "file_extension": ".py",
   "mimetype": "text/x-python",
   "name": "python",
   "nbconvert_exporter": "python",
   "pygments_lexer": "ipython3",
   "version": "3.12.4"
  }
 },
 "nbformat": 4,
 "nbformat_minor": 5
}
