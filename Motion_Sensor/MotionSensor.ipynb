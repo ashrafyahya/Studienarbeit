{
 "cells": [
  {
   "cell_type": "markdown",
   "id": "4b18bfde",
   "metadata": {},
   "source": [
    "# Infrarot Motion Sensor mithilfe von Freenove Projects Kit for Raspberry Pi"
   ]
  },
  {
   "cell_type": "markdown",
   "id": "27784681",
   "metadata": {},
   "source": [
    "## 1. Einführung"
   ]
  },
  {
   "cell_type": "markdown",
   "id": "a7d3f8ae",
   "metadata": {},
   "source": [
    "### Projektziel\n",
    "Das Ziel dieses Projekts ist es, mit dem [PIR-Sensor HC-SR501](https://wolles-elektronikkiste.de/hc-sr501-pir-bewegungsmelder) aus dem [Freenove Projects Kit für Raspberry Pi](https://freenove.com/fnk0054) einen [Bewegungssensor](https://www.rayzeek.com/de/blog/pir-motion-sensor) zu erstellen. Dieser Bewegungssensor aktiviert eine [LED](https://www.conrad.at/de/ratgeber/industrie-40/led-leuchtdiode.html), wenn eine Bewegung in der Nähe erkannt wird. Das Projekt integriert sowohl Hardware (den PIR-Sensor und die LED) als auch Software ([Raspberry Pi](https://blog.berrybase.de/starter-guide-raspberry-pi-4/) und [Python-Programmierung](https://www.elab2go.de/demo-py1/) über [Jupyter Notebook](https://www.dataquest.io/blog/jupyter-notebook-tutorial/)) und bietet eine Einführung in die Programmierung und Steuerung von Sensoren mit dem Raspberry Pi."
   ]
  },
  {
   "cell_type": "markdown",
   "id": "c09b0c10-c795-4616-b4fd-6b9c45c32da6",
   "metadata": {},
   "source": [
    "### Hintergrund\n",
    "Der PIR-Sensor HC-SR501 (Passiver Infrarot-Sensor) im Freenove Projects Kit wird häufig zur Bewegungserkennung verwendet. Er erkennt die von Menschen ausgestrahlte Infrarotstrahlung, die als Wärmesignatur detektiert wird. Wenn der Sensor eine plötzliche Änderung der Wärmestrahlung bemerkt, sendet er ein elektrisches Signal, um die Bewegung anzuzeigen."
   ]
  },
  {
   "cell_type": "markdown",
   "id": "9886a86d",
   "metadata": {},
   "source": [
    "### Relevanz\n",
    "Solche PIR-Sensoren werden in Anwendungen wie [Sicherheitssystemen](https://de.wikipedia.org/wiki/Sicherheitssystem), automatischen Beleuchtungen und energiesparenden Einrichtungen eingesetzt. Dieses Projekt zeigt die grundlegende Funktionsweise eines Bewegungssensors und seine Integration in ein computergesteuertes System, was für viele Heimautomatisierungssysteme von Bedeutung ist."
   ]
  },
  {
   "cell_type": "markdown",
   "id": "c306ec5f-7c35-4d93-8332-7588bd0bc04e",
   "metadata": {},
   "source": [
    "## 2. Grundlagen und Theorie"
   ]
  },
  {
   "cell_type": "markdown",
   "id": "b81618fd-4d29-4cca-a653-c37245d7c92e",
   "metadata": {},
   "source": [
    "### PIR-Sensor HC-SR501: \n",
    "Ein passiver [Infrarotsensor](https://www.electricity-magnetism.org/de/infrarot-ir-sensoren/), der Bewegungen durch Erkennung von Änderungen in der Infrarotstrahlung wahrnimmt. Der [HC-SR501](https://wolles-elektronikkiste.de/hc-sr501-pir-bewegungsmelder) aus dem [Freenove Projects Kit für Raspberry Pi](https://freenove.com/fnk0054) aus dem Freenove Kit verfügt über ein breites Erfassungsfeld (120 Grad) und kann Bewegungen in einem Bereich von 3 bis 7 Metern erkennen. Er gibt ein digitales Signal an den [Raspberry Pi](https://blog.berrybase.de/starter-guide-raspberry-pi-4/) aus, wenn eine Bewegung erkannt wird."
   ]
  },
  {
   "cell_type": "markdown",
   "id": "42b6c1a6-34c7-4b76-8f12-53a23b243562",
   "metadata": {},
   "source": [
    "### Wie benutzt man diesen Sensor?\n",
    "Der HC-SR501 PIR-Sensor kann entweder im nicht wiederholbaren Modus (L) betrieben werden, bei dem nach einer Bewegungserkennung ein High-Signal ausgegeben wird und keine weiteren Bewegungen erkannt werden, bis das Signal auf Low wechselt, oder im wiederholbaren Modus (H), bei dem Bewegungen kontinuierlich erfasst werden, solange das Objekt im Erfassungsbereich bleibt. Mit den Widerständen R1 und R2 lassen sich die Haltezeit des High-Signals (1,2 bis 320 Sekunden) und die Erfassungsreichweite (3 bis 5 Meter) anpassen.\n",
    "- [Freenove-Tutorial](https://github.com/Freenove/Freenove_Projects_Kit_for_Raspberry_Pi/blob/main/Tutorial.pdf)"
   ]
  },
  {
   "cell_type": "markdown",
   "id": "242d7a3d-0350-465a-8cac-e19b8d48a9b8",
   "metadata": {},
   "source": [
    "### LED: \n",
    "Eine Leuchtdiode [(LED)](https://www.conrad.at/de/ratgeber/industrie-40/led-leuchtdiode.html) wird als visuelles Signal verwendet. Wenn der Sensor eine Bewegung registriert, leuchtet die LED als Indikator auf. Ein Widerstand wird verwendet, um den Stromfluss durch die LED zu begrenzen, um Schäden zu vermeiden."
   ]
  },
  {
   "cell_type": "markdown",
   "id": "bab2484f-8590-42a0-af12-5f42afb2f7c3",
   "metadata": {},
   "source": [
    "### Vorwiderstand: \n",
    "Der [Vorwiderstand](https://learnattack.de/schuelerlexikon/physik/vorwiderstand) für die LED begrenzt den Strom, um zu verhindern, dass die LED zu stark leuchtet oder beschädigt wird. Dieser wird auf Basis der [LED-Daten](https://components101.com/diodes/5mm-round-led) berechnet."
   ]
  },
  {
   "cell_type": "markdown",
   "id": "2c652e80-d005-41d3-8b07-4e03d7b6cbc5",
   "metadata": {},
   "source": [
    "### Freenove \"Projects Kit for Raspberry Pi\"\n",
    "Das Freenove FNK0054 \"Projects Kit for Raspberry Pi\" ist ein umfassendes Elektronik-Kit, das speziell entwickelt wurde, um Anwendern zu helfen, Projekte mit einem Raspberry Pi durchzuführen. Es ist besonders gut geeignet für Einsteiger, die die Grundlagen der Elektronik und Programmierung erlernen möchten. Das Kit enthält eine Vielzahl von Komponenten und Bauteilen, mit denen eine breite Palette von Projekten realisiert werden kann.\n",
    "\n",
    "- [Offizielle Webseite](https://freenove.com/tutorial)\n",
    "- [PDF-Tutorial](https://github.com/Freenove/Freenove_Projects_Kit_for_Raspberry_Pi/blob/main/Tutorial.pdf)\n",
    "- [Video-Tutorial](https://www.youtube.com/playlist?list=PLOkhax8xuWu0Yj-jJAzSNiDJfHfXVaY9_)"
   ]
  },
  {
   "cell_type": "markdown",
   "id": "3690b343",
   "metadata": {},
   "source": [
    "\n",
    "## 3. Materialien und Werkzeuge"
   ]
  },
  {
   "cell_type": "markdown",
   "id": "5159cbd5",
   "metadata": {},
   "source": [
    "### Software\n",
    "- [Raspbian OS](https://en.wikipedia.org/wiki/Raspberry_Pi_OS)\n",
    "- [Python 3](https://www.elab2go.de/demo-py1/)\n",
    "- [Jupyter Notebook](https://www.dataquest.io/blog/jupyter-notebook-tutorial/)"
   ]
  },
  {
   "cell_type": "markdown",
   "id": "a6f11288",
   "metadata": {},
   "source": [
    "### Hardware\n",
    "- Raspberry Pi\n",
    "- Freenove Projects Board für Raspberry Pi\n",
    "- PIR-Sensor HC-SR501\n",
    "- LED\n",
    "- Widerstand (330Ω)\n",
    "- [Breadboard](https://exp-tech.de/blogs/blog/tutorial-breadboard-steckplatine) und [Jumperkabel](https://www.hwlibre.com/de/%C3%9Cberbr%C3%BCckungskabel/)\n",
    "- [GPIO Ribbonkabel](https://www.cl.cam.ac.uk/projects/raspberrypi/tutorials/robot/components/ribbon_cable/)\n",
    "\n",
    "![Hardwarekomponenten](C:\\Users\\paghm\\OneDrive\\Desktop\\DiesesSemester\\Studienarbeit\\Bilder\\Projekt4/HWKomponenten.png)"
   ]
  },
  {
   "cell_type": "markdown",
   "id": "7c3a3f8e-54dc-4186-9226-082e9c581a8c",
   "metadata": {},
   "source": [
    "- [Freenove-Tutorial](https://github.com/Freenove/Freenove_Projects_Kit_for_Raspberry_Pi/blob/main/Tutorial.pdf)"
   ]
  },
  {
   "cell_type": "markdown",
   "id": "78260ca2-401b-4ae8-b957-713fc8c0371e",
   "metadata": {},
   "source": [
    "### Sensor/(Aktor)en, inkl. Datenblätter\n",
    "der HC-SR501 PIR Sensor wird als Sensor benutzt.\n",
    "\n",
    "**Betriebsspannung (Vcc):** 5V bis 20V.\n",
    "\n",
    "**Strom:** 65 mA\n",
    "  \n",
    "**Reichweite::** 3 bis 7 Meter.\n",
    "\n",
    "**Erfassungswinkel:** ca. 120°."
   ]
  },
  {
   "cell_type": "markdown",
   "id": "c291a75c-8f15-4c74-b313-e8eaaad28f81",
   "metadata": {},
   "source": [
    "[Datenblatt des Sensors](https://datasheet4u.com/datasheet-pdf/ETC/HC-SR501/pdf.php?id=775434)"
   ]
  },
  {
   "cell_type": "markdown",
   "id": "ce7c9262-c786-4691-bc44-c8143c26753f",
   "metadata": {},
   "source": [
    "### Berechnung des Vorwiderstands"
   ]
  },
  {
   "cell_type": "code",
   "execution_count": 18,
   "id": "0157c98a-613c-474b-8be7-9d94125167e2",
   "metadata": {},
   "outputs": [
    {
     "name": "stdout",
     "output_type": "stream",
     "text": [
      "Erforderlicher Vorwiderstand: 64.99999999999999 Ohm\n"
     ]
    }
   ],
   "source": [
    "# Beispielcode zur Berechnung des Vorwiderstands:\n",
    "# Werte: Versorgungsspannung 3.3V, LED-Spannung 2V, Strom 20mA\n",
    "V_supply = 3.3  # Versorgungsspannung in Volt\n",
    "V_f = 2.0  # Vorwärtsspannung der LED in Volt\n",
    "I_f = 0.02  # Vorwärtsstrom der LED in Ampere\n",
    "\n",
    "R = (V_supply - V_f) / I_f\n",
    "print(\"Erforderlicher Vorwiderstand: {} Ohm\".format(R))"
   ]
  },
  {
   "cell_type": "markdown",
   "id": "685cffd8-664c-4ad1-adf2-49e60e665a59",
   "metadata": {},
   "source": [
    "[Vorwiderstand berechnen](https://www.elektrikerwissen.de/vorwiderstand-berechnen/)"
   ]
  },
  {
   "cell_type": "markdown",
   "id": "7ba218c2-dd3b-4ea6-9d53-a1caa4ace5f8",
   "metadata": {},
   "source": [
    "### Pin Beschaltung\n",
    "Die Pin-Beschaltung in Freenove Projects Kit für Raspberry Pi ist wie flogt:\n",
    "\n",
    "- 5V Pin des Raspberry Pi mit VCC des Sensors.\n",
    "- GND Pin des Raspberry Pi mit GND des Sensors.\n",
    "- GPIO24 des Raspberry Pi mit OUT des Sensors.\n",
    "\n",
    "[Freenove-Tutorial](https://github.com/Freenove/Freenove_Projects_Kit_for_Raspberry_Pi/blob/main/Tutorial.pdf)\n",
    "\n",
    "[Raspberry Pi:GPIO](https://www.elektronik-kompendium.de/sites/raspberry-pi/2002191.htm)"
   ]
  },
  {
   "cell_type": "markdown",
   "id": "1f32c258",
   "metadata": {},
   "source": [
    "## 4. Schaltungsdesign"
   ]
  },
  {
   "cell_type": "markdown",
   "id": "2c10ccce-6262-4c66-bae7-fd560136e9fa",
   "metadata": {},
   "source": [
    "### Schmatischer Entwurf\n",
    "![schematischer Entwurf](C:\\Users\\paghm\\OneDrive\\Desktop\\DiesesSemester\\Studienarbeit\\Bilder\\Projekt4/SchematischerEntwurf.png)"
   ]
  },
  {
   "cell_type": "markdown",
   "id": "2e059620-6421-498d-8b46-9d714303f037",
   "metadata": {},
   "source": [
    "- [Freenove-Tutorial](https://github.com/Freenove/Freenove_Projects_Kit_for_Raspberry_Pi/blob/main/Tutorial.pdf)"
   ]
  },
  {
   "cell_type": "markdown",
   "id": "8829db6c-39a6-4bfc-bad4-149b5407e5b7",
   "metadata": {},
   "source": [
    "### Hardware-Verbindung\n",
    "![HWConnection](C:\\Users\\paghm\\OneDrive\\Desktop\\DiesesSemester\\Studienarbeit\\Bilder\\Projekt4/HWConnection.png)"
   ]
  },
  {
   "cell_type": "markdown",
   "id": "ae079da6-adc6-4d65-a7c0-8b825fbc076a",
   "metadata": {},
   "source": [
    "[Freenove-Tutorial](https://github.com/Freenove/Freenove_Projects_Kit_for_Raspberry_Pi/blob/main/Tutorial.pdf)"
   ]
  },
  {
   "cell_type": "markdown",
   "id": "7b2d4a86",
   "metadata": {},
   "source": [
    "## 5. Implementierung"
   ]
  },
  {
   "cell_type": "markdown",
   "id": "7f670a56",
   "metadata": {},
   "source": [
    "### Hardware-Aufbau\n",
    "Der Hardware soll wie obbiges Bild aufgabeut werden. \n",
    "- Raspberry einschalten und durch das Ribbon Kabel mit Freenove Projects Kit für Raspberry Pi verbinden.\n",
    "- Power-Taste von Freenove Projects Kit für Raspberry Pi einschalten.\n",
    "- HC SR501 Sensor mit dem Board von Freenove Projects Kit für Raspberry Pi verbinden.\n",
    "- Um den Sensor nutzen zu können, sollen wir den Schalter 5 des Boards einschalten."
   ]
  },
  {
   "cell_type": "markdown",
   "id": "029aec96-e3e5-4638-b49c-791b247dd6a7",
   "metadata": {},
   "source": [
    "[Freenove-Tutorial](https://github.com/Freenove/Freenove_Projects_Kit_for_Raspberry_Pi/blob/main/Tutorial.pdf)"
   ]
  },
  {
   "cell_type": "markdown",
   "id": "5eb3ee71",
   "metadata": {},
   "source": [
    "### Software-Setup\n",
    "1. [Raspbian OS](https://blog.berrybase.de/starter-guide-raspberry-pi-4/) installieren.\n",
    "2. Python und Jupyter Notebook installieren:\n",
    "    ```sh\n",
    "    sudo apt-get update\n",
    "    sudo apt-get install python3 jupyter  ``\n",
    "\n",
    "    \n",
    "3. Installation der Bibliotheken wie gpiozero.\n"
   ]
  },
  {
   "cell_type": "markdown",
   "id": "a972fd89",
   "metadata": {},
   "source": [
    "## 6. Experimente und Ergebnisse"
   ]
  },
  {
   "cell_type": "markdown",
   "id": "18f99b8f-186e-4726-a217-8936cf510565",
   "metadata": {},
   "source": [
    "##  Beispiel 1\n",
    "Dieser Code schaltet die LED ein, wenn der PIR-Sensor eine Bewegung erkennt, und gibt eine Meldung aus."
   ]
  },
  {
   "cell_type": "markdown",
   "id": "b7c670db-75d2-4f32-8180-e17a7add1503",
   "metadata": {},
   "source": [
    "### Installation der Bibliotheken"
   ]
  },
  {
   "cell_type": "code",
   "execution_count": null,
   "id": "7f0f3a28-52a2-40f8-a20d-510aadec5b18",
   "metadata": {},
   "outputs": [],
   "source": [
    "# Installieren Sie gpiozero\n",
    "!pip install gpiozero"
   ]
  },
  {
   "cell_type": "code",
   "execution_count": null,
   "id": "7ecfaa92-7fe3-4adb-af92-435f9aa70dd3",
   "metadata": {},
   "outputs": [],
   "source": [
    "# Importieren Sie die Bibliotheken\n",
    "from gpiozero import LED, Button\n",
    "import time"
   ]
  },
  {
   "cell_type": "code",
   "execution_count": null,
   "id": "727c3369-0a8c-4075-879b-b4d0e45d8682",
   "metadata": {},
   "outputs": [],
   "source": [
    "# Initialieren Sie LED und Button\n",
    "led = LED(17)\n",
    "button = Button(24)"
   ]
  },
  {
   "cell_type": "code",
   "execution_count": null,
   "id": "3c474b46-3379-4bf9-a5ed-11297a5c1f22",
   "metadata": {},
   "outputs": [],
   "source": [
    "# Definieren Sie Ereignis-Handler für das Drücken des Buttons\n",
    "def on_button_pressed():\n",
    "    led.on()\n",
    "    print(\"Taste gedrückt, LED eingeschaltet\")\n",
    "\n",
    "# Definieren Sie Ereignis-Handler für das Loslassen des Buttons\n",
    "def on_button_released():\n",
    "    led.off()\n",
    "    print(\"Taste losgelassen, LED ausgeschaltet\")\n",
    "\n",
    "# Weisen Sie die Ereignis-Handler zu\n",
    "button.when_pressed = on_button_pressed\n",
    "button.when_released = on_button_released\n",
    "\n",
    "# Nicht-blockierende Schleife, um die Button-Interaktion zu ermöglichen\n",
    "print('Programm startet... Drücke den Button')\n",
    "\n",
    "try:\n",
    "    while True:\n",
    "        time.sleep(0.1)  # Kurze Pause, um die CPU-Belastung gering zu halten\n",
    "except:\n",
    "    print(\"Programm gestoppt\")"
   ]
  },
  {
   "cell_type": "markdown",
   "id": "f04e7116-436f-48b4-b509-bd74e95a6ba8",
   "metadata": {},
   "source": [
    "### Aufgabe: \n",
    "Erstellen Sie ein Alarmsystem mit PIR-Bewegungssensor und Buzzer."
   ]
  },
  {
   "cell_type": "markdown",
   "id": "e804ec9e-991a-46e9-9720-6965218b349c",
   "metadata": {},
   "source": [
    "### Aufgabe:"
   ]
  },
  {
   "cell_type": "markdown",
   "id": "5f41848c",
   "metadata": {},
   "source": [
    "## 7. Diskussion und Fazit"
   ]
  },
  {
   "cell_type": "markdown",
   "id": "a59692e8",
   "metadata": {},
   "source": [
    "### Diskussion\n",
    "Der HC-SR501 PIR-Sensor hat eine zuverlässige Erkennungsreichweite und ist für viele Heimautomatisierungsanwendungen geeignet. Ein Punkt, der diskutiert werden könnte, ist die Möglichkeit, die Empfindlichkeit des Sensors zu ändern, um bestimmte Bewegungen besser oder schlechter zu erkennen."
   ]
  },
  {
   "cell_type": "markdown",
   "id": "bc8a10a3-494e-45f9-963d-15b8d46f2db1",
   "metadata": {},
   "source": [
    "### Verbesserungsmöglichkeiten\n",
    "- Integration eines Alarms oder einer Kamera für eine umfassendere Überwachung.\n",
    "- Nutzung zusätzlicher PIR-Sensoren für eine breitere Bewegungserkennung."
   ]
  },
  {
   "cell_type": "markdown",
   "id": "29bf717c",
   "metadata": {},
   "source": [
    "### Fazit\n",
    "Das Projekt zeigt, wie PIR-Sensoren erfolgreich in einem einfachen Bewegungserkennungssystem integriert werden können. Der Raspberry Pi ermöglicht eine flexible Steuerung und Auswertung der Daten in einer komfortablen Entwicklungsumgebung wie Jupyter Notebook."
   ]
  }
 ],
 "metadata": {
  "kernelspec": {
   "display_name": "Python 3 (ipykernel)",
   "language": "python",
   "name": "python3"
  },
  "language_info": {
   "codemirror_mode": {
    "name": "ipython",
    "version": 3
   },
   "file_extension": ".py",
   "mimetype": "text/x-python",
   "name": "python",
   "nbconvert_exporter": "python",
   "pygments_lexer": "ipython3",
   "version": "3.12.4"
  }
 },
 "nbformat": 4,
 "nbformat_minor": 5
}
