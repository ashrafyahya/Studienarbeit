{
 "cells": [
  {
   "cell_type": "code",
   "execution_count": null,
   "id": "284f5d9b-a83a-4cec-bb9b-e53e282c0a0b",
   "metadata": {},
   "outputs": [],
   "source": [
    "# LED ein- und ausschalten"
   ]
  },
  {
   "cell_type": "code",
   "execution_count": 31,
   "id": "bcbff803-451b-4e15-bf98-e2952f1585f5",
   "metadata": {},
   "outputs": [],
   "source": [
    "# Konzept,Idee,Intro:\n",
    "# Die Idee dieses Projekts ist es, eine LED mithilfe eines Raspberry Pi zu steuern. Dabei wird der GPIO-Pin des Raspberry Pi verwendet, um die LED ein- und auszuschalten. \n",
    "# Dieses einfache Projekt hilft, ein grundlegendes Verständnis für die Verwendung von GPIO-Pins und die Programmierung in Python zu entwickeln."
   ]
  },
  {
   "cell_type": "code",
   "execution_count": 39,
   "id": "89ef5440-e02f-45d0-b310-7ac6cc867d38",
   "metadata": {},
   "outputs": [],
   "source": [
    "# Sensor/(Aktor)en, inkl. Datenblätter\n",
    "# Daten für Rote-LED\n",
    "# Spannung 1.8 V und Strom 20 mA\n",
    "# In diesem Versuch wird GPIO des Pis und der LED als Aktor benutzt ."
   ]
  },
  {
   "cell_type": "code",
   "execution_count": 45,
   "id": "8e5c33ec-71b6-44f4-b212-77507d80676b",
   "metadata": {},
   "outputs": [],
   "source": [
    "# HW Teile:\n",
    "# Raspberry Pi 4\n",
    "# Breadboard\n",
    "# 220 ohm Widerstand\n",
    "# LED"
   ]
  },
  {
   "cell_type": "code",
   "execution_count": 57,
   "id": "75eceaf8-94fd-4172-b35a-bc3cd182a14c",
   "metadata": {},
   "outputs": [
    {
     "name": "stdout",
     "output_type": "stream",
     "text": [
      "%ld 74.99999999999999\n"
     ]
    }
   ],
   "source": [
    "# Berechnungen via Python\n",
    "Vcc = 3.3  # Spannung des GPIO-Pins\n",
    "Vf = 1.8   # Vorwärtsspannung der LED\n",
    "If = 0.02  # Vorwärtsstrom der LED\n",
    "\n",
    "R = (Vcc - Vf) / If\n",
    "print(\"%ld\",R)"
   ]
  },
  {
   "cell_type": "code",
   "execution_count": 59,
   "id": "5b72c75f-9d3a-484a-990c-cdde9513c461",
   "metadata": {},
   "outputs": [],
   "source": [
    "# SW:\n",
    "# Jupyter Notebook"
   ]
  },
  {
   "cell_type": "code",
   "execution_count": 61,
   "id": "d4bf5b1b-6a8b-4389-bd02-b4acca28fec0",
   "metadata": {},
   "outputs": [],
   "source": [
    "# Pin Beschaltung\n",
    "# für dieses Projekt nutzen wir GPIO17.\n",
    "# Kathode der LED wird mit GND von Pi verbunden.\n",
    "# Anode der LED wird mit der Widerstand verbunden."
   ]
  },
  {
   "cell_type": "code",
   "execution_count": 63,
   "id": "b28cff2c-9180-40a4-b0a7-033eabd10bdc",
   "metadata": {
    "scrolled": true
   },
   "outputs": [
    {
     "data": {
      "text/html": [
       "<img src=\"LED_Blinken.png\" width=\"1171\" height=\"532\"/>"
      ],
      "text/plain": [
       "<IPython.core.display.Image object>"
      ]
     },
     "execution_count": 63,
     "metadata": {},
     "output_type": "execute_result"
    }
   ],
   "source": [
    "# Skizze Breakout Board\n",
    "from IPython.display import Image \n",
    "Image(url=\"LED_Blinken.png\", width=1171, height=532) "
   ]
  },
  {
   "cell_type": "code",
   "execution_count": 65,
   "id": "dea0a77f-5b36-44e4-9057-d6b581189a59",
   "metadata": {},
   "outputs": [],
   "source": [
    "# Pi-Config\n",
    "# damit wir unser LED ein und auschalten können, sollen wir zuerst sicherstellen, dass Raspberry Pi konfiguriert ist."
   ]
  },
  {
   "cell_type": "code",
   "execution_count": 73,
   "id": "76ad3328-b466-4cdd-b33b-b39141ca2b31",
   "metadata": {},
   "outputs": [
    {
     "ename": "NameError",
     "evalue": "name 'GPIO' is not defined",
     "output_type": "error",
     "traceback": [
      "\u001b[1;31m---------------------------------------------------------------------------\u001b[0m",
      "\u001b[1;31mNameError\u001b[0m                                 Traceback (most recent call last)",
      "Cell \u001b[1;32mIn[73], line 6\u001b[0m\n\u001b[0;32m      1\u001b[0m \u001b[38;5;66;03m# es wird nicht funktioneren, weil wir Raspberry Pi noch nicht konfiguriert haben.\u001b[39;00m\n\u001b[0;32m      2\u001b[0m \u001b[38;5;66;03m#import RPi.GPIO as GPIO\u001b[39;00m\n\u001b[0;32m      3\u001b[0m \u001b[38;5;66;03m#import time\u001b[39;00m\n\u001b[0;32m      4\u001b[0m \n\u001b[0;32m      5\u001b[0m \u001b[38;5;66;03m# Pin-Nummerierungsmodus einstellen\u001b[39;00m\n\u001b[1;32m----> 6\u001b[0m GPIO\u001b[38;5;241m.\u001b[39msetmode(GPIO\u001b[38;5;241m.\u001b[39mBCM)\n\u001b[0;32m      7\u001b[0m \u001b[38;5;66;03m# GPIO 17 als Ausgang festlegen\u001b[39;00m\n\u001b[0;32m      8\u001b[0m GPIO\u001b[38;5;241m.\u001b[39msetup(\u001b[38;5;241m17\u001b[39m, GPIO\u001b[38;5;241m.\u001b[39mOUT)\n",
      "\u001b[1;31mNameError\u001b[0m: name 'GPIO' is not defined"
     ]
    }
   ],
   "source": [
    "# es wird nicht funktioneren, weil wir Raspberry Pi noch nicht konfiguriert haben.\n",
    "import RPi.GPIO as GPIO\n",
    "import time\n",
    "\n",
    "# Pin-Nummerierungsmodus einstellen\n",
    "GPIO.setmode(GPIO.BCM)\n",
    "# GPIO 17 als Ausgang festlegen\n",
    "GPIO.setup(17, GPIO.OUT)\n",
    "\n",
    "# LED einschalten\n",
    "GPIO.output(17, GPIO.HIGH)\n",
    "time.sleep(1)  # 1 Sekunde warten\n",
    "\n",
    "# LED ausschalten\n",
    "GPIO.output(17, GPIO.LOW)\n",
    "\n",
    "# GPIOs zurücksetzen\n",
    "GPIO.cleanup()"
   ]
  },
  {
   "cell_type": "code",
   "execution_count": 75,
   "id": "ae035e26-95c3-4d7a-976e-c4c3311953cf",
   "metadata": {},
   "outputs": [
    {
     "ename": "ModuleNotFoundError",
     "evalue": "No module named 'RPi'",
     "output_type": "error",
     "traceback": [
      "\u001b[1;31m---------------------------------------------------------------------------\u001b[0m",
      "\u001b[1;31mModuleNotFoundError\u001b[0m                       Traceback (most recent call last)",
      "Cell \u001b[1;32mIn[75], line 1\u001b[0m\n\u001b[1;32m----> 1\u001b[0m \u001b[38;5;28;01mimport\u001b[39;00m \u001b[38;5;21;01mRPi\u001b[39;00m\u001b[38;5;21;01m.\u001b[39;00m\u001b[38;5;21;01mGPIO\u001b[39;00m \u001b[38;5;28;01mas\u001b[39;00m \u001b[38;5;21;01mGPIO\u001b[39;00m\n\u001b[0;32m      2\u001b[0m \u001b[38;5;28;01mimport\u001b[39;00m \u001b[38;5;21;01mtime\u001b[39;00m\n\u001b[0;32m      4\u001b[0m GPIO\u001b[38;5;241m.\u001b[39msetmode(GPIO\u001b[38;5;241m.\u001b[39mBCM)\n",
      "\u001b[1;31mModuleNotFoundError\u001b[0m: No module named 'RPi'"
     ]
    }
   ],
   "source": [
    "# Code für Anwendung / Loop\n",
    "import RPi.GPIO as GPIO\n",
    "import time\n",
    "\n",
    "GPIO.setmode(GPIO.BCM)\n",
    "GPIO.setup(17, GPIO.OUT)\n",
    "\n",
    "try:\n",
    "    while True:\n",
    "        GPIO.output(17, GPIO.HIGH)\n",
    "        time.sleep(1)\n",
    "        GPIO.output(17, GPIO.LOW)\n",
    "        time.sleep(1)\n",
    "except KeyboardInterrupt:\n",
    "    pass\n",
    "\n",
    "GPIO.cleanup()"
   ]
  },
  {
   "cell_type": "code",
   "execution_count": 79,
   "id": "738d906e-16c7-48c9-9835-36149538b633",
   "metadata": {},
   "outputs": [],
   "source": [
    "# Aufgaben-Vorschläge\n",
    "# Aufgabe1: verscuhen Sie die LED so programmieren, dass es für 100 ms ein und für 900 ms aus ist.\n",
    "# Aufgabe2: versuchen Sie die LED so programmieren, dass es zuerst mit einem Schlaterdruck eingeschaltet und mit einem weiteren ausgeschaltet wird."
   ]
  },
  {
   "cell_type": "code",
   "execution_count": 81,
   "id": "867cef16-cff1-4c5e-8d82-f4d6352e5317",
   "metadata": {},
   "outputs": [],
   "source": [
    "# Fazit\n",
    "# Dieses einfache Projekt zeigt, wie man eine LED mit einem Raspberry Pi steuern kann. \n",
    "# Es bietet eine gute Grundlage, um die GPIO-Pins des Raspberry Pi kennenzulernen und einfache Python-Programme zu schreiben."
   ]
  },
  {
   "cell_type": "code",
   "execution_count": null,
   "id": "15cff4fa-060a-42ec-bf59-de1a4bd2a532",
   "metadata": {},
   "outputs": [],
   "source": [
    "# Ausbau-Ideen\n",
    "# Erweiterung des Projekts um mehrere LEDs."
   ]
  }
 ],
 "metadata": {
  "kernelspec": {
   "display_name": "Python 3 (ipykernel)",
   "language": "python",
   "name": "python3"
  },
  "language_info": {
   "codemirror_mode": {
    "name": "ipython",
    "version": 3
   },
   "file_extension": ".py",
   "mimetype": "text/x-python",
   "name": "python",
   "nbconvert_exporter": "python",
   "pygments_lexer": "ipython3",
   "version": "3.12.4"
  }
 },
 "nbformat": 4,
 "nbformat_minor": 5
}
