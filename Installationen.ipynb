{
 "cells": [
  {
   "cell_type": "markdown",
   "metadata": {},
   "source": [
    "# Installationen\n",
    "<a id='installationen'></a>\n",
    "\n",
    "Dieses Notebook führt Sie durch die Installation von Python, Jupyter Notebook und wichtigen Bibliotheken.\n"
   ]
  },
  {
   "cell_type": "markdown",
   "metadata": {},
   "source": [
    "## Schritt 1: Installation von Python \n",
    "\n",
    "1. Besuchen Sie die [offizielle Python-Website](https://www.python.org/downloads/windows/).\n",
    "2. Laden Sie die neueste Python-Version herunter und führen Sie das Installationsprogramm aus.\n",
    "3. Stellen Sie sicher, dass die Option \"Add Python to PATH\" während der Installation ausgewählt ist.\n",
    "\n",
    "Nach der Installation können Sie die Python-Version in der Eingabeaufforderung überprüfen:"
   ]
  },
  {
   "cell_type": "code",
   "execution_count": null,
   "metadata": {
    "vscode": {
     "languageId": "plaintext"
    }
   },
   "outputs": [],
   "source": [
    "!python --version "
   ]
  },
  {
   "cell_type": "markdown",
   "metadata": {},
   "source": [
    "## Schritt 2: Installation von Pip \n",
    "\n",
    "Pip ist ein Paketverwaltungsprogramm, das verwendet wird, um Python-Pakete und -Bibliotheken zu installieren, zu verwalten und zu deinstallieren. Es ist der Standardpaketmanager für Python und macht es einfach, externe Bibliotheken und Tools zu integrieren, die nicht in der Standardbibliothek von Python enthalten sind."
   ]
  },
  {
   "cell_type": "markdown",
   "metadata": {},
   "source": [
    "Pip wird normalerweise mit Python installiert. Überprüfe die Pip-Version:"
   ]
  },
  {
   "cell_type": "code",
   "execution_count": null,
   "metadata": {
    "vscode": {
     "languageId": "plaintext"
    }
   },
   "outputs": [],
   "source": [
    "!pip3 --version"
   ]
  },
  {
   "cell_type": "markdown",
   "metadata": {},
   "source": [
    "Falls Pip nicht installiert ist, können Sie mit dem folgenden Skript installieren:"
   ]
  },
  {
   "cell_type": "code",
   "execution_count": null,
   "metadata": {
    "vscode": {
     "languageId": "plaintext"
    }
   },
   "outputs": [],
   "source": [
    "!python -m ensurepip --upgrade"
   ]
  },
  {
   "cell_type": "markdown",
   "metadata": {},
   "source": [
    "## Schritt 3: Installation von Jupyter Notebook"
   ]
  },
  {
   "cell_type": "markdown",
   "metadata": {},
   "source": [
    "Installieren Sie Jupyter Notebook mit Pip:"
   ]
  },
  {
   "cell_type": "code",
   "execution_count": null,
   "metadata": {
    "vscode": {
     "languageId": "plaintext"
    }
   },
   "outputs": [],
   "source": [
    "!pip3 install jupyter"
   ]
  },
  {
   "cell_type": "markdown",
   "metadata": {},
   "source": [
    "\n",
    "## Step 4: Installtion von zusätzlichen Bibliotheken"
   ]
  },
  {
   "cell_type": "markdown",
   "metadata": {},
   "source": [
    "### Darstellung in Matplotlib  \n",
    "Matplotlib ist eine weit verbreitete Bibliothek in Python, die für die Erstellung von statischen, animierten und interaktiven Grafiken verwendet wird. Sie bietet eine Vielzahl von Funktionen zum Plotten von Diagrammen, wie Linien-, Balken-, Kreis-, Streu- und Histogrammdiagrammen. Matplotlib ist besonders beliebt, weil sie flexibel und anpassbar ist, was sie zu einem mächtigen Werkzeug für die Visualisierung von Daten in Wissenschaft, Technik und Datenanalyse macht.\n",
    "\n",
    "Installation von Matplotlib:"
   ]
  },
  {
   "cell_type": "code",
   "execution_count": null,
   "metadata": {
    "vscode": {
     "languageId": "plaintext"
    }
   },
   "outputs": [],
   "source": [
    "!pip3 install -U matplotlib"
   ]
  },
  {
   "cell_type": "markdown",
   "metadata": {},
   "source": [
    "### RPi.GPIO  \n",
    "\n",
    "RPi.GPIO\n",
    "\n",
    "Die RPi.GPIO-Bibliothek ermöglicht die direkte Steuerung der GPIO-Pins (General Purpose Input/Output) des Raspberry Pi aus Python heraus. Sie bietet Funktionen, um Pins als Ein- oder Ausgänge zu konfigurieren und digitale Signale zu lesen oder zu senden.\n",
    "\n",
    "Die `RPi.GPIO`-Bibliothek wird normalerweise auf einem Raspberry Pi verwendet und ist unter Windows nicht direkt verfügbar, da sie speziell für die Raspberry Pi-Hardware entwickelt wurde. Wenn Sie GPIO-Funktionen auf einem Raspberry Pi simulieren möchten, können Sie andere Bibliotheken wie `gpiozero` verwenden.  \n",
    "\n",
    "Hier ist, wie Sie sie installieren können: "
   ]
  },
  {
   "cell_type": "code",
   "execution_count": null,
   "metadata": {
    "vscode": {
     "languageId": "plaintext"
    }
   },
   "outputs": [],
   "source": [
    "!pip3 install RPi.GPIO"
   ]
  },
  {
   "cell_type": "markdown",
   "metadata": {},
   "source": [
    "### GPIOZero\n",
    "\n",
    "GPIOZero ist eine einfachere und benutzerfreundlichere Bibliothek zur Steuerung der GPIO-Pins des Raspberry Pi. Sie baut auf RPi.GPIO auf und bietet eine höhere Abstraktionsebene, was die Programmierung von Hardwarekomponenten für Anfänger erleichtert.  \n",
    "Hier ist, wie Sie sie installieren können:"
   ]
  },
  {
   "cell_type": "code",
   "execution_count": null,
   "metadata": {
    "vscode": {
     "languageId": "plaintext"
    }
   },
   "outputs": [],
   "source": [
    "!pip3 install gpiozero"
   ]
  },
  {
   "cell_type": "markdown",
   "metadata": {},
   "source": [
    "## Schritt 5: Verifizierung\n",
    "\n",
    "Um sicherzustellen, dass alles korrekt installiert ist, können Sie die folgenden Befehle in einer neuen Jupyter-Zelle ausführen:"
   ]
  },
  {
   "cell_type": "code",
   "execution_count": null,
   "metadata": {
    "vscode": {
     "languageId": "plaintext"
    }
   },
   "outputs": [],
   "source": [
    "import gpiozero\n",
    "import time\n",
    "\n",
    "print(\"GPIOZero version:\", gpiozero.__version__)\n",
    "print(\"Time module is available.\")\n"
   ]
  },
  {
   "cell_type": "markdown",
   "metadata": {},
   "source": [
    "## Zusammenfassung\n",
    "\n",
    "Damit ist die grundlegende Installation auf deinem Windows-System abgeschlossen. Sie können nun Jupyter Notebook verwenden, um Python-Skripte zu entwickeln.\n"
   ]
  }
 ],
 "metadata": {
  "language_info": {
   "name": "python"
  }
 },
 "nbformat": 4,
 "nbformat_minor": 2
}
