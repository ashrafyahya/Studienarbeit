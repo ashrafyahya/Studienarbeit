{
 "cells": [
  {
   "cell_type": "code",
   "execution_count": 4,
   "id": "6d294615-baae-46c3-b992-135fefaef84d",
   "metadata": {},
   "outputs": [
    {
     "name": "stdout",
     "output_type": "stream",
     "text": [
      "Paketlisten werden gelesen… Fertig\n",
      "Abhängigkeitsbaum wird aufgebaut… Fertig\n",
      "Statusinformationen werden eingelesen… Fertig\n",
      "pigpio ist schon die neueste Version (1.79-1+rpt1).\n",
      "python3-pigpio ist schon die neueste Version (1.79-1+rpt1).\n",
      "0 aktualisiert, 0 neu installiert, 0 zu entfernen und 12 nicht aktualisiert.\n"
     ]
    }
   ],
   "source": [
    "!sudo apt-get install pigpio python3-pigpio\n",
    "!sudo pigpiod"
   ]
  },
  {
   "cell_type": "code",
   "execution_count": null,
   "id": "426d0d9c-d108-4fe0-881b-01389eb3313e",
   "metadata": {},
   "outputs": [
    {
     "name": "stderr",
     "output_type": "stream",
     "text": [
      "/home/ashraf/venv/lib/python3.11/site-packages/gpiozero/output_devices.py:1509: PWMSoftwareFallback: To reduce servo jitter, use the pigpio pin factory.See https://gpiozero.readthedocs.io/en/stable/api_output.html#servo for more info\n",
      "  warnings.warn(PWMSoftwareFallback(\n"
     ]
    }
   ],
   "source": [
    "from gpiozero import Servo\n",
    "from time import sleep\n",
    "\n",
    "servo = Servo(16)\n",
    "\n",
    "try:\n",
    "    while True:\n",
    "        servo.mid()   # Mittelposition\n",
    "        sleep(2)\n",
    "        servo.min()   # Minimum Position\n",
    "        sleep(2)\n",
    "        servo.max()   # Maximum Position\n",
    "        sleep(2)\n",
    "except KeyboardInterrupt:\n",
    "    pass"
   ]
  }
 ],
 "metadata": {
  "kernelspec": {
   "display_name": "Python 3 (ipykernel)",
   "language": "python",
   "name": "python3"
  },
  "language_info": {
   "codemirror_mode": {
    "name": "ipython",
    "version": 3
   },
   "file_extension": ".py",
   "mimetype": "text/x-python",
   "name": "python",
   "nbconvert_exporter": "python",
   "pygments_lexer": "ipython3",
   "version": "3.11.2"
  }
 },
 "nbformat": 4,
 "nbformat_minor": 5
}
