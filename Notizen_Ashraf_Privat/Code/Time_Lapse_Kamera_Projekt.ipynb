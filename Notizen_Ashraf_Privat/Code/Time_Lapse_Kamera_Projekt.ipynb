{
 "cells": [
  {
   "cell_type": "markdown",
   "metadata": {},
   "source": [
    "# Time-Lapse-Kamera mit Raspberry Pi und Jupyter Notebook\n",
    "\n",
    "## 1. Einführung\n",
    "Dieses Jupyter Notebook zeigt, wie man eine Time-Lapse-Kamera mit einem Raspberry Pi erstellt. \n",
    "Das Projekt kombiniert Elektronik und Python-Programmierung, um eine Kamera zu steuern, die in regelmäßigen Abständen Fotos aufnimmt. \n",
    "Diese Fotos können anschließend zu einem Zeitraffer-Video zusammengefügt werden. Dieses Projekt ist ideal für \n",
    "Naturaufnahmen, Langzeitbeobachtungen im Garten oder für kreative Filmprojekte.\n",
    "\n",
    "### Projektziel\n",
    "Das Ziel dieses Projekts ist es, eine Kamera so zu programmieren, dass sie in festgelegten Intervallen Fotos aufnimmt und speichert. \n",
    "\n",
    "### Relevanz\n",
    "Time-Lapse-Videos bieten eine faszinierende Möglichkeit, Prozesse sichtbar zu machen, die normalerweise zu langsam für das menschliche Auge sind. \n",
    "Dieses Projekt kombiniert die Grundlagen der Programmierung und Fotografie und zeigt, wie man aus einfachen Mitteln beeindruckende Resultate erzielen kann.\n"
   ]
  },
  {
   "cell_type": "markdown",
   "metadata": {},
   "source": [
    "## 2. Grundlagen und Theorie\n",
    "\n",
    "### Time-Lapse-Fotografie\n",
    "- **Definition:** Time-Lapse-Fotografie ist eine Technik, bei der die Frequenz, mit der Filmframes aufgenommen werden, viel niedriger ist als bei der Wiedergabe. \n",
    "  Wenn das Bildmaterial mit normaler Geschwindigkeit wiedergegeben wird, scheint die Zeit schneller zu vergehen.\n",
    "- **Anwendungen:** Time-Lapse wird häufig in der Naturfotografie verwendet, um langsame Prozesse wie das Wachstum von Pflanzen oder das Vorbeiziehen von Wolken sichtbar zu machen.\n",
    "\n",
    "### Raspberry Pi Kamera-Modul\n",
    "- **Funktion:** Das Raspberry Pi Kamera-Modul kann Fotos und Videos aufnehmen. Es ist kompakt und leicht zu integrieren, was es ideal für Projekte wie dieses macht.\n",
    "- **Anschluss:** Das Modul wird über ein Flachbandkabel an den CSI-Anschluss des Raspberry Pi angeschlossen.\n",
    "\n",
    "### Intervallfotografie\n",
    "- **Definition:** Intervallfotografie bezieht sich auf das Aufnehmen von Fotos in festgelegten Zeitabständen. \n",
    "- **Zeitraffer-Video:** Die aufgenommenen Fotos können später zu einem Video zusammengefügt werden, das einen beschleunigten Zeitverlauf darstellt.\n"
   ]
  },
  {
   "cell_type": "markdown",
   "metadata": {},
   "source": [
    "## 3. Materialien und Werkzeuge\n",
    "\n",
    "### Software\n",
    "- Raspbian OS\n",
    "- Python 3\n",
    "- Jupyter Notebook\n",
    "\n",
    "### Hardware\n",
    "- Raspberry Pi 5\n",
    "- Raspberry Pi Kamera-Modul (v2 oder HQ)\n",
    "- Flachbandkabel zum Anschluss der Kamera\n",
    "- Speicherkarte (für die Speicherung der Bilder)\n",
    "\n",
    "### Kamera-Spezifikationen\n",
    "**Raspberry Pi Kamera-Modul v2:**  \n",
    "- Auflösung: 8 Megapixel\n",
    "- Videoauflösung: 1080p30\n",
    "- Schnittstelle: CSI-2 (MIPI)\n",
    "\n",
    "**Link zum Datenblatt:**  \n",
    "- [Kamera-Datenblatt](https://www.raspberrypi.org/documentation/accessories/camera.html)  \n",
    "- https://cdn-reichelt.de/documents/datenblatt/A300/RASP_CAM_2.pdf \n",
    "  \n",
    "https://raspberrytips.com/install-camera-raspberry-pi/  \n",
    "https://www.tomshardware.com/raspberry-pi/how-to-use-dual-cameras-on-the-raspberry-pi-5  \n",
    "\n",
    "### Setup\n",
    "- Verbinden Sie das Raspberry Pi Kamera-Modul mit dem CSI-Anschluss des Raspberry Pi.\n",
    "- Stellen Sie sicher, dass das Kamera-Modul im Raspberry Pi OS aktiviert ist (raspi-config).\n"
   ]
  },
  {
   "cell_type": "markdown",
   "metadata": {},
   "source": [
    "## 4. Kamera-Setup und Konfiguration\n",
    "\n",
    "### Kamera-Setup\n",
    "1. Verbinden Sie das Raspberry Pi Kamera-Modul mit dem CSI-Anschluss des Raspberry Pi.\n",
    "2. Stellen Sie sicher, dass das Kamera-Modul im Raspberry Pi OS aktiviert ist. Verwenden Sie dazu das Konfigurationswerkzeug:\n",
    "    ```sh\n",
    "    sudo raspi-config\n",
    "    ```\n",
    "   Navigieren Sie zu `Interface Options` > `Camera` und aktivieren Sie die Kamera.\n",
    "\n",
    "### Testen der Kamera\n",
    "Um sicherzustellen, dass die Kamera richtig funktioniert, können Sie ein Testfoto aufnehmen:\n",
    "```sh\n",
    "raspistill -o test.jpg\n"
   ]
  },
  {
   "cell_type": "markdown",
   "metadata": {},
   "source": [
    "\n",
    "### 5. Implementierung\n",
    "```markdown\n",
    "## 5. Implementierung\n",
    "\n",
    "### Software-Setup\n",
    "1. Raspbian OS installieren.\n",
    "2. Python und Jupyter Notebook installieren:\n",
    "    ```sh\n",
    "    sudo apt-get update\n",
    "    sudo apt-get install python3 jupyter\n",
    "    ```\n",
    "\n",
    "### Installation der picamera Bibliothek:\n",
    "   ```sh\n",
    "   sudo apt-get install python3-picamera\n"
   ]
  },
  {
   "cell_type": "markdown",
   "metadata": {},
   "source": [
    "\n",
    "### Code für Time-Lapse-Aufnahmen\n",
    "```python\n",
    "import time\n",
    "from picamera import PiCamera\n",
    "\n",
    "# Initialisierung der Kamera\n",
    "camera = PiCamera()\n",
    "camera.resolution = (1920, 1080)  # Full HD Auflösung\n",
    "\n",
    "# Intervall und Dauer einstellen\n",
    "interval = 10  # Sekunden zwischen den Aufnahmen\n",
    "duration = 60  # Dauer in Sekunden\n",
    "frames = duration // interval\n",
    "\n",
    "# Aufnahme der Bilder\n",
    "try:\n",
    "    for i in range(frames):\n",
    "        camera.capture(f'image_{i:03d}.jpg')\n",
    "        time.sleep(interval)\n",
    "finally:\n",
    "    camera.close()\n",
    "\n",
    "print(f'{frames} Bilder wurden aufgenommen.')\n"
   ]
  },
  {
   "cell_type": "markdown",
   "metadata": {},
   "source": [
    "### Erstellung eines Zeitraffer-Videos\n",
    "\n",
    "Die aufgenommenen Bilder können mit `ffmpeg` zu einem Zeitraffer-Video zusammengefügt werden. Installieren Sie `ffmpeg`, falls es noch nicht installiert ist:\n",
    "\n",
    "```sh\n",
    "sudo apt-get install ffmpeg\n"
   ]
  },
  {
   "cell_type": "markdown",
   "metadata": {},
   "source": [
    "Erstellen Sie das Video mit dem folgenden Befehl:  \n",
    "ffmpeg -r 30 -i image_%03d.jpg -vcodec libx264 -crf 25 -pix_fmt yuv420p timelapse.mp4  \n",
    "Dieser Befehl erstellt ein Video mit 30 Bildern pro Sekunde aus den aufgenommenen Bildern.\n"
   ]
  },
  {
   "cell_type": "markdown",
   "metadata": {},
   "source": [
    "\n",
    "### Übung: Anpassung der Intervalle\n",
    "```markdown\n",
    "### Übung:\n",
    "Passen Sie das Intervall und die Dauer der Aufnahmen an, um verschiedene Effekte zu erzielen. \n",
    "Zum Beispiel, wie würde sich ein kürzeres Intervall auf das resultierende Video auswirken? Testen Sie verschiedene Einstellungen und beobachten Sie die Unterschiede.\n"
   ]
  },
  {
   "cell_type": "markdown",
   "metadata": {},
   "source": [
    "## 6. Experimente und Ergebnisse\n",
    "\n",
    "### Versuchsaufbau\n",
    "- Der oben beschriebene Hardware- und Software-Aufbau wurde verwendet.\n",
    "- Der Code wurde in einem Jupyter Notebook ausgeführt.\n",
    "- Die Kamera nahm in den festgelegten Intervallen Fotos auf, die anschließend zu einem Video zusammengefügt wurden.\n"
   ]
  },
  {
   "cell_type": "markdown",
   "metadata": {},
   "source": [
    "## 7. Diskussion und Fazit\n",
    "\n",
    "### Diskussion\n",
    "Das Projekt hat gezeigt, wie man eine Time-Lapse-Kamera mit einem Raspberry Pi und Python realisieren kann. \n",
    "Die Verwendung von Jupyter Notebooks ermöglichte es, den Prozess der Aufnahme und Bearbeitung von Time-Lapse-Fotos zu dokumentieren und zu testen.\n",
    "\n",
    "### Verbesserungsmöglichkeiten\n",
    "- Hinzufügen eines Sensors zur automatischen Anpassung der Aufnahmeintervalle basierend auf Umgebungsbedingungen.\n",
    "- Automatische Erstellung und Speicherung des Videos nach Abschluss der Fotoaufnahmen.\n",
    "\n",
    "### Fazit\n",
    "Das Projekt war erfolgreich in der Demonstration der Grundlagen der Time-Lapse-Fotografie mit einem Raspberry Pi. \n",
    "Es bietet eine solide Grundlage für weiterführende Projekte in der Fotografie und Videobearbeitung.\n"
   ]
  }
 ],
 "metadata": {
  "kernelspec": {
   "display_name": "Python 3 (ipykernel)",
   "language": "python",
   "name": "python3"
  }
 },
 "nbformat": 4,
 "nbformat_minor": 2
}
