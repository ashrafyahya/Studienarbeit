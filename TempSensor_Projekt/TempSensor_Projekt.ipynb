{
 "cells": [
  {
   "cell_type": "markdown",
   "id": "4b18bfde",
   "metadata": {},
   "source": [
    "# Temperatursensor-Projekt\n",
    "<a id='temSens'></a>"
   ]
  },
  {
   "cell_type": "markdown",
   "id": "27784681",
   "metadata": {},
   "source": [
    "## 1. Einführung"
   ]
  },
  {
   "cell_type": "markdown",
   "id": "a7d3f8ae",
   "metadata": {},
   "source": [
    "### Projektziel\n",
    "Das Ziel dieses Projekts ist es, die Temperatur mithilfe eines BME680-Sensors und eines Raspberry Pi zu messen und die Daten in Jupyter Notebook darzustellen. Dieses Projekt umfasst die Hardware-Schaltung, die Konfiguration des Raspberry Pi, die Programmierung in Python und die Visualisierung der Temperaturdaten. Es soll ein grundlegendes Verständnis für die Verwendung von Temperatursensoren, GPIO-Pins und die Datenverarbeitung in Python vermitteln."
   ]
  },
  {
   "cell_type": "markdown",
   "id": "88e708b7",
   "metadata": {},
   "source": [
    "### Hintergrund\n",
    "Der BME680 ist ein Sensor, der Temperatur, Luftfeuchtigkeit, Luftdruck und Luftqualität misst. Er ist besonders nützlich für Umweltüberwachungsprojekte. Der Raspberry Pi ist ein kostengünstiger Einplatinencomputer, der häufig in Bildungs- und Hobbyprojekten verwendet wird. Durch die Kombination dieser beiden Komponenten können wir ein einfaches und effektives System zur Temperaturmessung und -überwachung erstellen."
   ]
  },
  {
   "cell_type": "markdown",
   "id": "9886a86d",
   "metadata": {},
   "source": [
    "### Relevanz\n",
    "Mit der zunehmenden Bedeutung der Umweltüberwachung sind kostengünstige und effektive Lösungen zur Datenerfassung und -analyse erforderlich. Das hier vorgestellte Projekt kann in verschiedenen Bereichen wie Smart Home, Wetterstationen und wissenschaftlichen Untersuchungen eingesetzt werden."
   ]
  },
  {
   "cell_type": "markdown",
   "id": "552e8407-b5df-42bc-94e0-da30eae5226d",
   "metadata": {},
   "source": [
    "## 2. Grunlagen und Theorie\n",
    "Der BME680-Sensor verwendet die MEMS-Technologie (Micro-Electro-Mechanical Systems), um genaue Messungen von Temperatur, Luftfeuchtigkeit, Luftdruck und Luftqualität durchzuführen. Er kommuniziert über I2C oder SPI mit dem Raspberry Pi, wobei I2C in diesem Projekt verwendet wird."
   ]
  },
  {
   "cell_type": "markdown",
   "id": "3690b343",
   "metadata": {},
   "source": [
    "## 3. Materialien und Werkzeuge"
   ]
  },
  {
   "cell_type": "markdown",
   "id": "37d7cde4",
   "metadata": {},
   "source": [
    "### Jupyter Notebook\n",
    "Jupyter Notebook ist eine Open-Source-Webanwendung, die es ermöglicht, Dokumente mit Live-Code, Gleichungen, Visualisierungen und erläuterndem Text zu erstellen und zu teilen."
   ]
  },
  {
   "cell_type": "markdown",
   "id": "5159cbd5",
   "metadata": {},
   "source": [
    "### Zusätzliche Software\n",
    "- Raspbian OS\n",
    "- Python 3\n",
    "- Bibliotheken: smbus, adafruit und matplotlib."
   ]
  },
  {
   "cell_type": "markdown",
   "id": "e4fa7ad2",
   "metadata": {},
   "source": [
    "### Raspberry Pi Modell\n",
    "- **Modell:** Raspberry Pi 5\n",
    "- **Spezifikationen:** 4GB RAM, Quad-Core 64-bit ARM Cortex-A72"
   ]
  },
  {
   "cell_type": "markdown",
   "id": "a6f11288",
   "metadata": {},
   "source": [
    "### Zusätzliche Hardware\n",
    "- Raspberry Pi 5\n",
    "- BME680 Sensor\n",
    "- Breadboard\n",
    "- Jumper-Kabel\n",
    "- Stromversorgung für den Raspberry Pi"
   ]
  },
  {
   "cell_type": "markdown",
   "id": "d3812d7b-f706-42d9-85e4-a9433c3c6ca8",
   "metadata": {},
   "source": [
    "### Sensoren/Aktoren, inkl. Datenblätter\n",
    "- Versorgungsspannung: 1.7V bis 3.6V\n",
    "- Stromverbrauch: 3.1 µA im Forced-Modus (Temperatur und Druckmessung)\n",
    "- Messbereich: -40°C bis +85°C\n",
    "- Genauigkeit: ±1.0°C\n",
    "- Auflösung: 0.01°C"
   ]
  },
  {
   "cell_type": "markdown",
   "id": "d1f154f9-c0d8-48de-b464-0f16cd5f17bf",
   "metadata": {},
   "source": [
    "### Bus\n",
    "Der BME680-Sensor von Bosch Sensortec unterstützt zwei Kommunikationsschnittstellen:\n",
    "- I2C (bis zu 3.4 MHz)\n",
    "- SPI (bis zu 10 MHz).\n",
    "\n",
    "Für die meisten einfachen Projekte und speziell bei der Nutzung von mehreren Sensoren gleichzeitig wird häufig die I2C-Schnittstelle bevorzugt, da sie weniger GPIO-Pins benötigt und einfach zu konfigurieren ist."
   ]
  },
  {
   "cell_type": "markdown",
   "id": "07b474de-ffec-4af1-9253-27a21475cc87",
   "metadata": {},
   "source": [
    "### Pin Beschaltung\n",
    "- VCC des BME680  an 3.3V des Raspberry Pi\n",
    "- GND des BME680 an GND des Raspberry Pi\n",
    "- SCL des BME680 an SCL des Raspberry Pi (GPIO 5)\n",
    "- SDA des BME680 an SDA des Raspberry Pi GPIO 3)"
   ]
  },
  {
   "cell_type": "markdown",
   "id": "6c6d65d0-0d7e-42e8-8a4a-f536544ade11",
   "metadata": {},
   "source": [
    "### Berechnung des Vorwiderstands\n",
    "Ein Vorwiderstand ist nicht erforderlich, da der Sensor direkt an den Raspberry Pi angeschlossen wird."
   ]
  },
  {
   "cell_type": "markdown",
   "id": "1eef2bbf",
   "metadata": {},
   "source": [
    "### Komponentenauswahl\n",
    "- **BME680 Sensor:** Die Auswahl des BME680 basiert auf seiner Fähigkeit, mehrere Umweltparameter mit hoher Genauigkeit zu messen."
   ]
  },
  {
   "cell_type": "markdown",
   "id": "1f32c258",
   "metadata": {},
   "source": [
    "## 4. Schaltungsdesign"
   ]
  },
  {
   "cell_type": "markdown",
   "id": "fee5d730",
   "metadata": {},
   "source": [
    "### Schaltplan\n"
   ]
  },
  {
   "cell_type": "markdown",
   "id": "7b2d4a86",
   "metadata": {},
   "source": [
    "## 5. Implementierung"
   ]
  },
  {
   "cell_type": "markdown",
   "id": "7f670a56",
   "metadata": {},
   "source": [
    "### Hardware-Aufbau\n",
    "- Verbinden Sie den BME680-Sensor gemäß der oben genannten Pin-Beschaltung mit dem Raspberry Pi.\n",
    "- Stellen Sie sicher, dass der Raspberry Pi ordnungsgemäß mit Strom versorgt wird."
   ]
  },
  {
   "cell_type": "markdown",
   "id": "29cffb1b",
   "metadata": {
    "jp-MarkdownHeadingCollapsed": true
   },
   "source": [
    "### Versuchsaufbau\n",
    "- Positionieren Sie den Raspberry Pi und den Sensor in einem stabilen Bereich.\n",
    "- Stellen Sie sicher, dass keine externen Einflüsse die Messungen verfälschen."
   ]
  },
  {
   "cell_type": "markdown",
   "id": "5eb3ee71",
   "metadata": {},
   "source": [
    "### Software-Setup\n",
    "1. Raspbian OS installieren.\n",
    "2. Python, Jupyter Notebook und Bibliotheken installieren:\n",
    "    ```sh\n",
    "    sudo apt-get update\n",
    "    sudo apt-get install python3 jupyter\n",
    "    !sudo apt-get install -y python3-pip python3-smbus i2c-tools\n",
    "    !pip3 install adafruit-circuitpython-bme680\n",
    "    ```"
   ]
  },
  {
   "cell_type": "markdown",
   "id": "7dd02998-531f-43b6-b640-57a235cd96ce",
   "metadata": {},
   "source": [
    "### Code "
   ]
  },
  {
   "cell_type": "markdown",
   "id": "6bf3b3d7-dee1-4922-995b-f700cf7ec191",
   "metadata": {},
   "source": [
    "### Bibliotheken Installieren"
   ]
  },
  {
   "cell_type": "markdown",
   "id": "bd77fecf-85a4-4efa-8357-592c0d12bd9e",
   "metadata": {},
   "source": [
    "##### Installation von smbus\n",
    "\n",
    "```!sudo apt-get install -y python3-pip python3-smbus i2c-tools```"
   ]
  },
  {
   "cell_type": "markdown",
   "id": "ca7649a4-a665-45e9-b47b-483d80839a4c",
   "metadata": {},
   "source": [
    "##### Installtion von adafruit:\n",
    "\n",
    "```!pip3 install adafruit-circuitpython-bme680```"
   ]
  },
  {
   "cell_type": "code",
   "execution_count": null,
   "id": "f7515de2-5dbe-4a29-85fa-9d9bfbea1ee6",
   "metadata": {},
   "outputs": [],
   "source": [
    "### Bibliotheken importieren\n",
    "import time\n",
    "from board import *\n",
    "import busio\n",
    "import adafruit_bme680\n",
    "\n",
    "# I2C initialisieren\n",
    "print(SCL, SDA)\n",
    "i2c = busio.I2C(SCL,SDA)\n",
    "\n",
    "# BME680 Sensor initialisieren\n",
    "bme680 = adafruit_bme680.Adafruit_BME680_I2C(i2c)\n",
    "\n",
    "# Optional: Offset für die Umgebungstemperatur anpassen\n",
    "bme680.sea_level_pressure = 1013.25\n",
    "\n",
    "while True:\n",
    "    print(f\"Temperatur: {bme680.temperature:.2f} °C\")\n",
    "    time.sleep(2)"
   ]
  },
  {
   "cell_type": "markdown",
   "id": "a972fd89",
   "metadata": {},
   "source": [
    "## 6. Experimente und Ergebnisse"
   ]
  },
  {
   "cell_type": "markdown",
   "id": "c7dcd231",
   "metadata": {},
   "source": [
    "### Datenerfassung\n",
    "Nutzung von Jupyter Notebook zur Datenerfassung und Analyse.\n"
   ]
  },
  {
   "cell_type": "markdown",
   "id": "8468d375-1340-4e2d-81b0-48376630e719",
   "metadata": {},
   "source": [
    "### Ergebnisse"
   ]
  },
  {
   "cell_type": "code",
   "execution_count": 59,
   "id": "27ea0da9-18d9-4de0-915e-1569d3c48536",
   "metadata": {},
   "outputs": [
    {
     "data": {
      "image/png": "[encoded data removed]",
      "text/plain": [
       "<Figure size 1000x500 with 1 Axes>"
      ]
     },
     "metadata": {},
     "output_type": "display_data"
    }
   ],
   "source": [
    "# Schritt 1: Importiere die benötigten Bibliotheken\n",
    "import pandas as pd\n",
    "import matplotlib.pyplot as plt\n",
    "\n",
    "# Schritt 2: Erstelle eine Liste der Temperaturen\n",
    "temperaturen = [\n",
    "    27.62, 27.63, 27.65, 27.67, 27.69, 27.70, 27.71, 27.71, 27.72, 27.74, \n",
    "    27.75, 27.76, 27.75, 27.75, 27.73, 27.71, 27.70, 27.68, 27.67, 27.66, \n",
    "    27.66, 27.65, 27.64, 27.64, 27.64, 27.64, 27.64, 27.65, 27.65, 27.65, \n",
    "    27.65, 27.65, 27.64, 27.64, 27.65, 27.69, 27.79, 27.96, 28.18, 28.42, \n",
    "    28.65, 28.89, 29.12, 29.34, 29.55, 29.76, 29.97, 30.17, 30.35, 30.32, \n",
    "    30.22, 30.06, 29.89, 29.72, 29.58, 29.43, 29.31, 29.20, 29.10, 29.02, \n",
    "    28.95, 28.89, 28.84, 28.80, 28.77, 28.73, 28.70, 28.68, 28.65, 28.63, \n",
    "    28.61, 28.59, 28.57, 28.55, 28.54, 28.52, 28.50, 28.49, 28.48, 28.47, \n",
    "    28.46, 28.45, 28.44, 28.44, 28.42, 28.40, 28.38, 28.35, 28.33\n",
    "]\n",
    "\n",
    "# Schritt 3: Erstelle ein Pandas DataFrame aus der Liste\n",
    "df = pd.DataFrame(temperaturen, columns=['Temperatur'])\n",
    "\n",
    "# Schritt 4: Visualisiere die Daten mit Matplotlib\n",
    "plt.figure(figsize=(10, 5))\n",
    "plt.plot(df['Temperatur'], marker='o')\n",
    "plt.title('Temperaturverlauf')\n",
    "plt.xlabel('Messpunkt')\n",
    "plt.ylabel('Temperatur (°C)')\n",
    "plt.grid(True)\n",
    "plt.show()\n"
   ]
  },
  {
   "cell_type": "markdown",
   "id": "5f41848c",
   "metadata": {},
   "source": [
    "## 7. Diskussion und Fazit"
   ]
  },
  {
   "cell_type": "markdown",
   "id": "a59692e8",
   "metadata": {},
   "source": [
    "### Diskussion\n",
    "Die Temperaturmessung mit dem BME680-Sensor und dem Raspberry Pi ist relativ einfach und liefert genaue Ergebnisse. Der Einsatz von Jupyter Notebook ermöglicht eine interaktive und benutzerfreundliche Darstellung der Daten. Eine mögliche Herausforderung könnte die Kalibrierung und Validierung der Messdaten sein, insbesondere in Umgebungen mit extremen Temperaturen."
   ]
  },
  {
   "cell_type": "markdown",
   "id": "f555ab7f",
   "metadata": {},
   "source": [
    "### Verbesserungsmöglichkeiten\n",
    "- Erweiterung des Projekts um mehrere Temperatursensoren.\n",
    "- Integration von weiteren Umweltsensoren wie Feuchtigkeitssensoren.\n",
    "- Speicherung der Temperaturdaten in einer Datenbank für langfristige Analysen.\n"
   ]
  },
  {
   "cell_type": "markdown",
   "id": "29bf717c",
   "metadata": {},
   "source": [
    "### Fazit\n",
    "Dieses Projekt zeigt, wie man einen Temperatursensor mit einem Raspberry Pi verwendet. Es bietet eine gute Grundlage, um die GPIO-Pins des Raspberry Pi und die Datenverarbeitung in Python kennenzulernen. Die Ergebnisse sind vielversprechend und das Projekt kann leicht erweitert werden, um komplexere Systeme zur Umweltdatenmessung zu entwickeln."
   ]
  },
  {
   "cell_type": "markdown",
   "id": "27dc1492",
   "metadata": {},
   "source": [
    "## 8. Anhänge"
   ]
  },
  {
   "cell_type": "markdown",
   "id": "d351e39a",
   "metadata": {},
   "source": [
    "### Datenblätter\n",
    "- https://www.bosch-sensortec.com/media/boschsensortec/downloads/datasheets/bst-bme680-ds001.pdf\n"
   ]
  },
  {
   "cell_type": "markdown",
   "id": "933cf6b3",
   "metadata": {},
   "source": [
    "### Zusätzliche Ressourcen\n",
    "Links zu Tutorials, Dokumentationen, etc."
   ]
  },
  {
   "cell_type": "markdown",
   "id": "3af86650",
   "metadata": {},
   "source": [
    "## 9. Literaturverzeichnis\n",
    "- https://www.howtoraspberry.com/2022/02/running-the-bme680-humidity-temperature-barometer-voc-co2-sensor-with-circuitpython/\n",
    "- https://botland.de/blog/projekte-mit-dem-raspberry-pi-anschluss-des-sensors-bme680-2/"
   ]
  }
 ],
 "metadata": {
  "kernelspec": {
   "display_name": "Python 3 (ipykernel)",
   "language": "python",
   "name": "python3"
  },
  "language_info": {
   "codemirror_mode": {
    "name": "ipython",
    "version": 3
   },
   "file_extension": ".py",
   "mimetype": "text/x-python",
   "name": "python",
   "nbconvert_exporter": "python",
   "pygments_lexer": "ipython3",
   "version": "3.12.4"
  }
 },
 "nbformat": 4,
 "nbformat_minor": 5
}
