{
 "cells": [
  {
   "cell_type": "markdown",
   "id": "6b9889f6-188f-42d2-a26f-a25cae540561",
   "metadata": {},
   "source": [
    "<img src=\"C:\\Users\\paghm\\OneDrive\\Desktop\\DiesesSemester\\Studienarbeit\\Bilder\\Projekt2/schaltplan.png\" style=\"width:84px;\">  "
   ]
  }
 ],
 "metadata": {
  "kernelspec": {
   "display_name": "Python 3 (ipykernel)",
   "language": "python",
   "name": "python3"
  },
  "language_info": {
   "codemirror_mode": {
    "name": "ipython",
    "version": 3
   },
   "file_extension": ".py",
   "mimetype": "text/x-python",
   "name": "python",
   "nbconvert_exporter": "python",
   "pygments_lexer": "ipython3",
   "version": "3.12.4"
  }
 },
 "nbformat": 4,
 "nbformat_minor": 5
}
