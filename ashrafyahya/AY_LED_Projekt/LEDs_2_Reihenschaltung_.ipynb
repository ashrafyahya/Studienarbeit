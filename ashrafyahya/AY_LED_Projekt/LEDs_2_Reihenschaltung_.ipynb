{
 "cells": [
  {
   "cell_type": "code",
   "execution_count": 17,
   "id": "06ea7b6c-f4ad-4e09-9c2e-975196446466",
   "metadata": {},
   "outputs": [
    {
     "name": "stdout",
     "output_type": "stream",
     "text": [
      "OK:1 http://deb.debian.org/debian bookworm InRelease\n",
      "OK:2 http://deb.debian.org/debian-security bookworm-security InRelease         \n",
      "Holen:3 http://deb.debian.org/debian bookworm-updates InRelease [55,4 kB]      \n",
      "Holen:4 http://archive.raspberrypi.com/debian bookworm InRelease [39,0 kB]\n",
      "Holen:5 http://archive.raspberrypi.com/debian bookworm/main armhf Packages [427 kB]\n",
      "Holen:6 http://archive.raspberrypi.com/debian bookworm/main arm64 Packages [427 kB]\n",
      "Es wurden 893 kB in 1 s geholt (1.156 kB/s).\n",
      "Paketlisten werden gelesen… Fertig\n"
     ]
    }
   ],
   "source": [
    "!sudo apt-get update --fix-missing"
   ]
  },
  {
   "cell_type": "code",
   "execution_count": 18,
   "id": "d910f94d-9577-417e-80eb-4d71949ca706",
   "metadata": {},
   "outputs": [
    {
     "name": "stdout",
     "output_type": "stream",
     "text": [
      "Looking in indexes: https://pypi.org/simple, https://www.piwheels.org/simple\n",
      "Collecting RPi.GPIO\n",
      "  Downloading RPi.GPIO-0.7.1.tar.gz (29 kB)\n",
      "  Preparing metadata (setup.py) ... \u001b[?25ldone\n",
      "\u001b[?25hBuilding wheels for collected packages: RPi.GPIO\n",
      "  Building wheel for RPi.GPIO (setup.py) ... \u001b[?25ldone\n",
      "\u001b[?25h  Created wheel for RPi.GPIO: filename=RPi.GPIO-0.7.1-cp311-cp311-linux_aarch64.whl size=69903 sha256=2579639497a312e349376bb6b78959431f7d00fe18768e32e62a3427a1b6b217\n",
      "  Stored in directory: /home/ashraf/.cache/pip/wheels/58/9a/da/bc92ced3a63320f51bfb2eb461f0408a206acdcedfa57fbfbe\n",
      "Successfully built RPi.GPIO\n",
      "Installing collected packages: RPi.GPIO\n",
      "Successfully installed RPi.GPIO-0.7.1\n"
     ]
    }
   ],
   "source": [
    "!pip3 install RPi.GPIO"
   ]
  },
  {
   "cell_type": "code",
   "execution_count": 19,
   "id": "f093d222-02eb-48a6-9f86-98bd8c4c19cf",
   "metadata": {},
   "outputs": [],
   "source": [
    "import RPi.GPIO as GPIO"
   ]
  },
  {
   "cell_type": "code",
   "execution_count": 2,
   "id": "76c32c43-a177-47ad-98c1-a2d61e59d6d3",
   "metadata": {},
   "outputs": [],
   "source": [
    "from gpiozero import LED\n",
    "from time import sleep"
   ]
  },
  {
   "cell_type": "code",
   "execution_count": null,
   "id": "3019937d-18dc-4db5-9fec-3aa17f18ba4e",
   "metadata": {},
   "outputs": [],
   "source": [
    "led1 = LED(17)\n",
    "led2 = LED(27)\n",
    "\n",
    "try:\n",
    "    while True:\n",
    "        led1.on()\n",
    "        led2.off()\n",
    "        sleep(1)\n",
    "        led1.off()\n",
    "        led2.on()\n",
    "        sleep(1)\n",
    "except KeyboardInterrupt:\n",
    "    led1.off()\n",
    "    led2.off()\n"
   ]
  }
 ],
 "metadata": {
  "kernelspec": {
   "display_name": "Python 3 (ipykernel)",
   "language": "python",
   "name": "python3"
  },
  "language_info": {
   "codemirror_mode": {
    "name": "ipython",
    "version": 3
   },
   "file_extension": ".py",
   "mimetype": "text/x-python",
   "name": "python",
   "nbconvert_exporter": "python",
   "pygments_lexer": "ipython3",
   "version": "3.11.2"
  }
 },
 "nbformat": 4,
 "nbformat_minor": 5
}
