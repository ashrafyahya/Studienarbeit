{
 "cells": [
  {
   "cell_type": "markdown",
   "id": "4b18bfde",
   "metadata": {},
   "source": [
    "# Raspberry Pi Projekt mit Jupyter Notebook"
   ]
  },
  {
   "cell_type": "markdown",
   "id": "27784681",
   "metadata": {},
   "source": [
    "## 1. Einführung"
   ]
  },
  {
   "cell_type": "markdown",
   "id": "a7d3f8ae",
   "metadata": {},
   "source": [
    "### Projektziel\n",
    "Das Ziel dieses Projekts ist es, den Raspberry Pi mithilfe von Jupyter Notebook zu steuern und dabei verschiedene Schaltungen unter Berücksichtigung von Widerständen zu erstellen und zu testen."
   ]
  },
  {
   "cell_type": "markdown",
   "id": "88e708b7",
   "metadata": {},
   "source": [
    "### Hintergrund\n",
    "Der Raspberry Pi ist ein vielseitiger Einplatinencomputer, der häufig in Elektronikprojekten verwendet wird. Jupyter Notebook ist ein interaktives Entwicklungswerkzeug, das es ermöglicht, Code in Echtzeit auszuführen und Ergebnisse direkt zu visualisieren.\n"
   ]
  },
  {
   "cell_type": "markdown",
   "id": "9886a86d",
   "metadata": {},
   "source": [
    "### Relevanz\n",
    "Dieses Projekt ist relevant, da es die Grundlagen der Elektronik und Programmierung kombiniert und praktische Anwendungen wie die Steuerung von Hardware und Datenerfassung ermöglicht."
   ]
  },
  {
   "cell_type": "markdown",
   "id": "3690b343",
   "metadata": {},
   "source": [
    "\n",
    "## 2. Materialien und Werkzeuge"
   ]
  },
  {
   "cell_type": "markdown",
   "id": "e4fa7ad2",
   "metadata": {},
   "source": [
    "### Raspberry Pi Modell\n",
    "- **Modell:** Raspberry Pi 5\n",
    "- **Spezifikationen:** 4GB RAM, Quad-Core 64-bit ARM Cortex-A72"
   ]
  },
  {
   "cell_type": "markdown",
   "id": "37d7cde4",
   "metadata": {},
   "source": [
    "### Jupyter Notebook\n",
    "Jupyter Notebook ist eine Open-Source-Webanwendung, die es ermöglicht, Dokumente mit Live-Code, Gleichungen, Visualisierungen und erläuterndem Text zu erstellen und zu teilen."
   ]
  },
  {
   "cell_type": "markdown",
   "id": "a6f11288",
   "metadata": {},
   "source": [
    "### Zusätzliche Hardware\n",
    "- Breadboard\n",
    "- Jumper-Kabel\n",
    "- LEDs\n",
    "- Widerstände (verschiedene Werte)\n",
    "- Taster  "
   ]
  },
  {
   "cell_type": "markdown",
   "id": "5159cbd5",
   "metadata": {},
   "source": [
    "### Software\n",
    "- Raspbian OS\n",
    "- Python 3\n",
    "- Jupyter Notebook"
   ]
  },
  {
   "cell_type": "markdown",
   "id": "e83763ef",
   "metadata": {},
   "source": [
    "## 3. Grundlagen und Theorie"
   ]
  },
  {
   "cell_type": "markdown",
   "id": "9d6a4ee9",
   "metadata": {},
   "source": [
    "### Elektrische Grundlagen\n",
    "- **Spannung (V):** Der elektrische Potentialunterschied.\n",
    "- **Strom (I):** Der Fluss von Elektronen durch einen Leiter.\n",
    "- **Widerstand (R):** Der Widerstand gegen den Stromfluss, gemessen in Ohm (Ω)."
   ]
  },
  {
   "cell_type": "markdown",
   "id": "3f8d2212",
   "metadata": {},
   "source": [
    "### Schaltkreise\n",
    "- **Serienschaltung:** Komponenten sind in einer Reihe geschaltet.\n",
    "- **Parallelschaltung:** Komponenten sind parallel zueinander geschaltet."
   ]
  },
  {
   "cell_type": "markdown",
   "id": "2b29e866",
   "metadata": {},
   "source": [
    "### Widerstände\n",
    "- **Funktion:** Begrenzen den Stromfluss und teilen Spannungen.\n",
    "- **Berechnung:** Ohm'sches Gesetz: \\( U = I * R \\)"
   ]
  },
  {
   "cell_type": "markdown",
   "id": "94462196",
   "metadata": {},
   "source": [
    "## 4. Datenblatt und Komponenten"
   ]
  },
  {
   "cell_type": "markdown",
   "id": "e0bd07e6",
   "metadata": {},
   "source": [
    "### Datenblattanalyse\n",
    "- **Widerstände:** Lesen der Toleranz und Nennwerte.\n",
    "- **LEDs:** Vorwärtsspannung und -strom."
   ]
  },
  {
   "cell_type": "markdown",
   "id": "94d18c1e",
   "metadata": {},
   "source": [
    "### Beispiele\n",
    "- Auszüge aus dem Datenblatt eines 220Ω Widerstands.\n",
    "- Spezifikationen einer Standard-LED."
   ]
  },
  {
   "cell_type": "markdown",
   "id": "1f32c258",
   "metadata": {},
   "source": [
    "## 5. Schaltungsdesign"
   ]
  },
  {
   "cell_type": "markdown",
   "id": "fee5d730",
   "metadata": {},
   "source": [
    "### Schaltplan\n",
    "![Schaltplan](C:\\Users\\paghm\\OneDrive\\Desktop\\DiesesSemester\\Studienarbeit/LED_Blinken.png)"
   ]
  },
  {
   "cell_type": "markdown",
   "id": "3fbc4e15-ce6f-40d2-91c9-db3a562242bb",
   "metadata": {},
   "source": [
    "### Schaltplan\n",
    "![Schaltplan2](C:\\Users\\paghm\\OneDrive\\Desktop\\DiesesSemester\\Studienarbeit/LED1.png)"
   ]
  },
  {
   "cell_type": "markdown",
   "id": "1eef2bbf",
   "metadata": {},
   "source": [
    "### Komponentenauswahl\n",
    "- **Widerstände:** 220Ω für LED-Schutz.\n",
    "- **LED:** Standard 5mm LED."
   ]
  },
  {
   "cell_type": "markdown",
   "id": "7b2d4a86",
   "metadata": {},
   "source": [
    "## 6. Implementierung"
   ]
  },
  {
   "cell_type": "markdown",
   "id": "7f670a56",
   "metadata": {},
   "source": [
    "### Hardware-Aufbau\n",
    "1. Raspberry Pi aufstellen und mit Strom versorgen.\n",
    "2. Komponenten auf dem Breadboard platzieren und verkabeln."
   ]
  },
  {
   "cell_type": "markdown",
   "id": "5eb3ee71",
   "metadata": {},
   "source": [
    "### Software-Setup\n",
    "1. Raspbian OS installieren.\n",
    "2. Python und Jupyter Notebook installieren:\n",
    "    ```sh\n",
    "    sudo apt-get update\n",
    "    sudo apt-get install python3 jupyter\n",
    "    ```"
   ]
  },
  {
   "cell_type": "markdown",
   "id": "f3abd648",
   "metadata": {},
   "source": [
    "### Code  \n",
    "#### TODO Code noch zum TESTEN"
   ]
  },
  {
   "cell_type": "markdown",
   "id": "70e6b908",
   "metadata": {},
   "source": [
    "### Installiere die RPi.GPIO Bibliothek:\n",
    "   ```sh\n",
    "   sudo apt-get install python3-rpi.gpio\n",
    "   pip3 install gpiozero\n",
    "   ``` "
   ]
  },
  {
   "cell_type": "markdown",
   "id": "1fff5d81",
   "metadata": {},
   "source": [
    "```python\n",
    "import RPi.GPIO as GPIO\n",
    "import time\n",
    "\n",
    "# Setup\n",
    "GPIO.setmode(GPIO.BCM)\n",
    "GPIO.setup(17, GPIO.OUT)\n",
    "\n",
    "# LED Blinken\n",
    "try:\n",
    "    while True:\n",
    "        GPIO.output(18, GPIO.HIGH)\n",
    "        time.sleep(1)\n",
    "        GPIO.output(18, GPIO.LOW)\n",
    "        time.sleep(1)\n",
    "except KeyboardInterrupt:\n",
    "    GPIO.cleanup()"
   ]
  },
  {
   "cell_type": "markdown",
   "id": "a972fd89",
   "metadata": {},
   "source": [
    "## 7. Experimente und Ergebnisse"
   ]
  },
  {
   "cell_type": "markdown",
   "id": "29cffb1b",
   "metadata": {},
   "source": [
    "### Versuchsaufbau\n",
    "- Der oben beschriebene Hardware-Aufbau wurde verwendet.\n",
    "- Der Code wurde in einem Jupyter Notebook ausgeführt.\n",
    "- Die LED leuchtete auf und erlosch nach 2 Sekunden, wie im Code vorgesehen."
   ]
  },
  {
   "cell_type": "markdown",
   "id": "fa5ad813-455f-49c4-9fce-64820b74ee05",
   "metadata": {},
   "source": [
    "## LED Beispiel 1"
   ]
  },
  {
   "cell_type": "markdown",
   "id": "0bca97c2-ac44-407a-8342-bea2d3ff791b",
   "metadata": {},
   "source": [
    "### Installieren Sie die folgende Bibliothek auf Ihrem Rechner: gpiozero"
   ]
  },
  {
   "cell_type": "markdown",
   "id": "4f579ef0-4047-4bf1-a4ca-ed1321126097",
   "metadata": {},
   "source": [
    "```pip3 install gpiozero```"
   ]
  },
  {
   "cell_type": "markdown",
   "id": "fbd95021-6270-4f86-a861-ff245c3e1897",
   "metadata": {},
   "source": [
    "### Wenn Ihr Notebook die Bibliothek immer noch nicht findet, dann führen Sie den folgenden Befehl einfach hier auf Jupyter.\n",
    "Es wird dann direkt auf Ihrem Rechner installiert und Sie können weiter arbeiten."
   ]
  },
  {
   "cell_type": "code",
   "execution_count": null,
   "id": "ecf6c71f-66e7-4f8f-b1eb-0b90261e7d0f",
   "metadata": {},
   "outputs": [],
   "source": [
    "!pip3 install gpiozero"
   ]
  },
  {
   "cell_type": "code",
   "execution_count": 3,
   "id": "3b29d206-74e2-44d4-9470-5c1159625ab7",
   "metadata": {},
   "outputs": [],
   "source": [
    "# importieren von gpiozero\n",
    "from gpiozero import LED"
   ]
  },
  {
   "cell_type": "code",
   "execution_count": 4,
   "id": "a4b4097f-cba9-4991-b7f6-50f71a3fba09",
   "metadata": {},
   "outputs": [],
   "source": [
    "# importieren von time\n",
    "from time import sleep"
   ]
  },
  {
   "cell_type": "code",
   "execution_count": null,
   "id": "ca73aea5-602b-4f6e-a672-36940cb7eee6",
   "metadata": {},
   "outputs": [],
   "source": [
    "# Code für ein- und ausschalten\n",
    "roteled= LED(17)\n",
    "while True:\n",
    "    roteled.on()\n",
    "    sleep(1)\n",
    "    roteled.off()\n",
    "    sleep(1)"
   ]
  },
  {
   "cell_type": "markdown",
   "id": "4f8ecf61-c44e-4298-9b63-a16c5c8baf0b",
   "metadata": {},
   "source": [
    "#### Ihre an Port 17 angeschloßene LED soll jetzt ein- und ausblinken"
   ]
  },
  {
   "cell_type": "markdown",
   "id": "18f99b8f-186e-4726-a217-8936cf510565",
   "metadata": {},
   "source": [
    "## LED Beispiel 2"
   ]
  },
  {
   "cell_type": "markdown",
   "id": "0b34b1d6-bea2-41c9-a557-983b8b60b3d7",
   "metadata": {},
   "source": [
    "### TODO\n",
    "DIESES BEISPIEL IST NOCH ZUM TESTEN"
   ]
  },
  {
   "cell_type": "markdown",
   "id": "25e87d15-1e4f-4b7e-b124-b7a702c7da77",
   "metadata": {},
   "source": [
    "### RPi.GPIO\n",
    "Für dieses Beispiel brauchen wir die Bibliotheken:  \n",
    "- RPi.GPIO  \n",
    "- gpiozero"
   ]
  },
  {
   "cell_type": "markdown",
   "id": "3f111a01-4005-483c-be53-eabca134c9e7",
   "metadata": {},
   "source": [
    "### Installation von den erwähnten Bibliotheken\n",
    "``` sudo apt install python3-rpi.gpio ```  \n",
    "```pip3 install gpiozero```"
   ]
  },
  {
   "cell_type": "code",
   "execution_count": null,
   "id": "28ceb89b-d6e3-4ed7-a959-bc4ebfa4d6fa",
   "metadata": {},
   "outputs": [],
   "source": [
    "#importieren von RP.GPIO\n",
    "import RPi.GPIO as GPIO\n",
    "import time"
   ]
  },
  {
   "cell_type": "code",
   "execution_count": null,
   "id": "ddb9222a-701e-410c-add3-d8602925e51d",
   "metadata": {},
   "outputs": [],
   "source": [
    "# das GPIO-Modus setzen\n",
    "GPIO.setmode(GPIO.BCM)"
   ]
  },
  {
   "cell_type": "code",
   "execution_count": null,
   "id": "f9983229-8fd4-4174-84b8-efee3e0eb3d5",
   "metadata": {},
   "outputs": [],
   "source": [
    "# den GPIO-Pin 17 als Ausgang setzen\n",
    "GPIO.setup(17, GPIO.OUT)"
   ]
  },
  {
   "cell_type": "code",
   "execution_count": null,
   "id": "07fabb7f-e2af-4e2c-b28c-98dfc51e924d",
   "metadata": {},
   "outputs": [],
   "source": [
    "# LED anschalten\n",
    "GPIO.output(17, GPIO.HIGH)\n",
    "time.sleep(1) # Eine Sekunde Warten"
   ]
  },
  {
   "cell_type": "code",
   "execution_count": null,
   "id": "5c7dbb27-ea7b-4a18-9826-91b60e542949",
   "metadata": {},
   "outputs": [],
   "source": [
    "# LED ausschalten\n",
    "GPIO.output(17, GPIO.LOW)\n",
    "time.sleep(1) # Eine Sekunde warten"
   ]
  },
  {
   "cell_type": "code",
   "execution_count": null,
   "id": "f3268437-17ea-4d59-91d3-a7bb503b73e6",
   "metadata": {},
   "outputs": [],
   "source": [
    "# Die GPIO-Einstellungen cleanen\n",
    "GPIO.cleanup()"
   ]
  },
  {
   "cell_type": "markdown",
   "id": "dcc60a6a-86d6-48b9-ac0c-679690709162",
   "metadata": {},
   "source": [
    "### LED Beispiel 3"
   ]
  },
  {
   "cell_type": "markdown",
   "id": "5fc6dcff-2e61-4b5d-87b8-7cde3068ace8",
   "metadata": {},
   "source": [
    "In diesem Beispiel geht es darum, mehrere LEDs blinken zu lasse. "
   ]
  },
  {
   "cell_type": "markdown",
   "id": "8b5b8455-8941-4fa4-a002-22bbf6ddc14a",
   "metadata": {},
   "source": [
    "### Installation von gpiozero\n",
    "Falls Sie gpiozero noch nicht installiert haben, können es mit folgendem Befehl installieren.\n"
   ]
  },
  {
   "cell_type": "markdown",
   "id": "691e45a2-f093-4943-b64b-8dc3de794cd7",
   "metadata": {},
   "source": [
    "```pip3 install gpiozero```"
   ]
  },
  {
   "cell_type": "code",
   "execution_count": 3,
   "id": "60aeb1a7-1a3e-4e58-8bfa-ecab1b7b8e0d",
   "metadata": {},
   "outputs": [],
   "source": [
    "# importieren von gpiozero\n",
    "from gpiozero import LED"
   ]
  },
  {
   "cell_type": "code",
   "execution_count": 4,
   "id": "e4154f31-aa8a-4e71-b042-6e7e9ecf0bd7",
   "metadata": {},
   "outputs": [],
   "source": [
    "# importieren von time\n",
    "from time import sleep"
   ]
  },
  {
   "cell_type": "code",
   "execution_count": null,
   "id": "e0fd9873-059f-4764-a53b-2c2ad1817ef5",
   "metadata": {},
   "outputs": [],
   "source": [
    "# Code für ein- und ausschalten\n",
    "led1 = LED(17)\n",
    "led2 = LED(27)\n",
    "\n",
    "try:\n",
    "    while True:\n",
    "        led1.on()\n",
    "        led2.off()\n",
    "        sleep(1)\n",
    "        led1.off()\n",
    "        led2.on()\n",
    "        sleep(1)\n",
    "except KeyboardInterrupt:\n",
    "    led1.off()\n",
    "    led2.off()"
   ]
  },
  {
   "cell_type": "markdown",
   "id": "c7dcd231",
   "metadata": {},
   "source": [
    "### Datenerfassung\n",
    "Nutzung von Jupyter Notebook zur Datenerfassung und Analyse.\n"
   ]
  },
  {
   "cell_type": "markdown",
   "id": "33552b77",
   "metadata": {},
   "source": [
    "### Ergebnisse\n",
    "Diagramme und Tabellen der erfassten Daten."
   ]
  },
  {
   "cell_type": "markdown",
   "id": "5f41848c",
   "metadata": {},
   "source": [
    "## 8. Diskussion und Fazit"
   ]
  },
  {
   "cell_type": "markdown",
   "id": "a59692e8",
   "metadata": {},
   "source": [
    "### Diskussion\n",
    "Das Projekt hat gezeigt, wie man grundlegende GPIO-Steuerung mit einem Raspberry Pi und Python umsetzt.\n",
    "Jupyter Notebooks werden benutzt, Hardware-Projekte zu entwickeln und zu testen."
   ]
  },
  {
   "cell_type": "markdown",
   "id": "f555ab7f",
   "metadata": {},
   "source": [
    "### Verbesserungsmöglichkeiten\n",
    "- Einsatz von komplexeren Sensoren und Aktoren.\n",
    "- Erweiterung des Projekts zur Steuerung mehrerer LEDs.\n",
    "- Automatisierte Datenerfassung und Analyse.\n"
   ]
  },
  {
   "cell_type": "markdown",
   "id": "29bf717c",
   "metadata": {},
   "source": [
    "### Fazit\n",
    "Das Projekt war erfolgreich in der Demonstration der Grundlagen der GPIO-Steuerung mit Raspberry Pi und der Nutzung von Jupyter Notebooks. Es bietet eine solide Grundlage für weiterführende Projekte in der Elektronik und Programmierung."
   ]
  },
  {
   "cell_type": "markdown",
   "id": "27dc1492",
   "metadata": {},
   "source": [
    "## 9. Anhänge"
   ]
  },
  {
   "cell_type": "markdown",
   "id": "8bcad6b8",
   "metadata": {},
   "source": [
    "### Quellcode\n",
    "Vollständiger Python-Code."
   ]
  },
  {
   "cell_type": "markdown",
   "id": "d351e39a",
   "metadata": {},
   "source": [
    "### Datenblätter\n",
    "LED Datenblatt.\n"
   ]
  },
  {
   "cell_type": "markdown",
   "id": "933cf6b3",
   "metadata": {},
   "source": [
    "### Zusätzliche Ressourcen\n",
    "- https://digitalewelt.at/raspberry-pi-led-ansteuern-gpio/"
   ]
  },
  {
   "cell_type": "markdown",
   "id": "3af86650",
   "metadata": {},
   "source": [
    "## 10. Literaturverzeichnis\n",
    "1. https://cdn-reichelt.de/documents/datenblatt/C200/DS_GER_RF19.pdf\n",
    "2. https://camuka.de/leds-mit-raspberry-pi-steuern/"
   ]
  },
  {
   "cell_type": "markdown",
   "id": "b0f3b6bb-8f11-4448-a8bd-8f2ee900e659",
   "metadata": {},
   "source": [
    "## TODO FÜR AHMAD:  \n",
    "- Schaltplan mit deiner Raspberry Pi erstellen, nicht virtuell außer wenn du online Rasp Pi findest  \n",
    "- Text prüfen und korrigieren  \n",
    "- Text sortieren vervollständigen  \n",
    "- Bilder einfügen wenn nötig  \n",
    "- Text in die richtige Reihenfolge bzw. den folgenden Code in der richtigen Position in diesem Notebook bringen  \n",
    "- Installation von Jupyter auf Raspberry Pi und die Einrichtung\n",
    "\n",
    "### Hinwei:\n",
    "- Den folgenden Code funktioniert richtig, ist schon von mir getest."
   ]
  }
 ],
 "metadata": {
  "kernelspec": {
   "display_name": "Python 3 (ipykernel)",
   "language": "python",
   "name": "python3"
  },
  "language_info": {
   "codemirror_mode": {
    "name": "ipython",
    "version": 3
   },
   "file_extension": ".py",
   "mimetype": "text/x-python",
   "name": "python",
   "nbconvert_exporter": "python",
   "pygments_lexer": "ipython3",
   "version": "3.12.4"
  }
 },
 "nbformat": 4,
 "nbformat_minor": 5
}
