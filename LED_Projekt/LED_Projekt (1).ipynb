{
 "cells": [
  {
   "cell_type": "markdown",
   "id": "4b18bfde",
   "metadata": {},
   "source": [
    "# Raspberry Pi Projekt mit Jupyter Notebook"
   ]
  },
  {
   "cell_type": "markdown",
   "id": "27784681",
   "metadata": {},
   "source": [
    "## 1. Einführung"
   ]
  },
  {
   "cell_type": "markdown",
   "id": "a7d3f8ae",
   "metadata": {},
   "source": [
    "### Projektziel\n",
    "Das Ziel dieses Projekts ist es, den Raspberry Pi mithilfe von Jupyter Notebook zu steuern und dabei verschiedene Schaltungen unter Berücksichtigung von Widerständen zu erstellen und zu testen."
   ]
  },
  {
   "cell_type": "markdown",
   "id": "88e708b7",
   "metadata": {},
   "source": [
    "### Hintergrund\n",
    "Der Raspberry Pi ist ein vielseitiger Einplatinencomputer, der häufig in Elektronikprojekten verwendet wird. Jupyter Notebook ist ein interaktives Entwicklungswerkzeug, das es ermöglicht, Code in Echtzeit auszuführen und Ergebnisse direkt zu visualisieren.\n"
   ]
  },
  {
   "cell_type": "markdown",
   "id": "9886a86d",
   "metadata": {},
   "source": [
    "### Relevanz\n",
    "Dieses Projekt ist relevant, da es die Grundlagen der Elektronik und Programmierung kombiniert und praktische Anwendungen wie die Steuerung von Hardware und Datenerfassung ermöglicht."
   ]
  },
  {
   "cell_type": "markdown",
   "id": "3690b343",
   "metadata": {},
   "source": [
    "\n",
    "## 2. Materialien und Werkzeuge"
   ]
  },
  {
   "cell_type": "markdown",
   "id": "e4fa7ad2",
   "metadata": {},
   "source": [
    "### Raspberry Pi Modell\n",
    "- **Modell:** Raspberry Pi 5\n",
    "- **Spezifikationen:** 4GB RAM, Quad-Core 64-bit ARM Cortex-A72"
   ]
  },
  {
   "cell_type": "markdown",
   "id": "37d7cde4",
   "metadata": {},
   "source": [
    "### Jupyter Notebook\n",
    "Jupyter Notebook ist eine Open-Source-Webanwendung, die es ermöglicht, Dokumente mit Live-Code, Gleichungen, Visualisierungen und erläuterndem Text zu erstellen und zu teilen."
   ]
  },
  {
   "cell_type": "markdown",
   "id": "a6f11288",
   "metadata": {},
   "source": [
    "### Zusätzliche Hardware\n",
    "- Breadboard\n",
    "- Jumper-Kabel\n",
    "- LEDs\n",
    "- Widerstände (verschiedene Werte)\n",
    "- Taster\n"
   ]
  },
  {
   "cell_type": "markdown",
   "id": "5159cbd5",
   "metadata": {},
   "source": [
    "### Software\n",
    "- Raspbian OS\n",
    "- Python 3\n",
    "- Jupyter Notebook"
   ]
  },
  {
   "cell_type": "markdown",
   "id": "e83763ef",
   "metadata": {},
   "source": [
    "## 3. Grundlagen und Theorie"
   ]
  },
  {
   "cell_type": "markdown",
   "id": "9d6a4ee9",
   "metadata": {},
   "source": [
    "### Elektrische Grundlagen\n",
    "- **Spannung (V):** Der elektrische Potentialunterschied.\n",
    "- **Strom (I):** Der Fluss von Elektronen durch einen Leiter.\n",
    "- **Widerstand (R):** Der Widerstand gegen den Stromfluss, gemessen in Ohm (Ω)."
   ]
  },
  {
   "cell_type": "markdown",
   "id": "3f8d2212",
   "metadata": {},
   "source": [
    "### Schaltkreise\n",
    "- **Serienschaltung:** Komponenten sind in einer Reihe geschaltet.\n",
    "- **Parallelschaltung:** Komponenten sind parallel zueinander geschaltet."
   ]
  },
  {
   "cell_type": "markdown",
   "id": "2b29e866",
   "metadata": {},
   "source": [
    "### Widerstände\n",
    "- **Funktion:** Begrenzen den Stromfluss und teilen Spannungen.\n",
    "- **Berechnung:** Ohm'sches Gesetz: \\( V = I \\cdot R \\)"
   ]
  },
  {
   "cell_type": "markdown",
   "id": "94462196",
   "metadata": {},
   "source": [
    "## 4. Datenblatt und Komponenten"
   ]
  },
  {
   "cell_type": "markdown",
   "id": "e0bd07e6",
   "metadata": {},
   "source": [
    "### Datenblattanalyse\n",
    "- **Widerstände:** Lesen der Toleranz und Nennwerte.\n",
    "- **LEDs:** Vorwärtsspannung und -strom."
   ]
  },
  {
   "cell_type": "markdown",
   "id": "94d18c1e",
   "metadata": {},
   "source": [
    "### Beispiele\n",
    "- Auszüge aus dem Datenblatt eines 220Ω Widerstands.\n",
    "- Spezifikationen einer Standard-LED."
   ]
  },
  {
   "cell_type": "markdown",
   "id": "1f32c258",
   "metadata": {},
   "source": [
    "## 5. Schaltungsdesign"
   ]
  },
  {
   "cell_type": "markdown",
   "id": "fee5d730",
   "metadata": {},
   "source": [
    "### Schaltplan\n",
    "![Schaltplan](path/to/schaltplan.png)"
   ]
  },
  {
   "cell_type": "markdown",
   "id": "1eef2bbf",
   "metadata": {},
   "source": [
    "### Komponentenauswahl\n",
    "- **Widerstände:** 220Ω für LED-Schutz.\n",
    "- **LED:** Standard 5mm LED."
   ]
  },
  {
   "cell_type": "markdown",
   "id": "7b2d4a86",
   "metadata": {},
   "source": [
    "## 6. Implementierung"
   ]
  },
  {
   "cell_type": "markdown",
   "id": "7f670a56",
   "metadata": {},
   "source": [
    "### Hardware-Aufbau\n",
    "1. Verbinde den Raspberry Pi mit dem Breadboard.\n",
    "2. Schließe die Anode der LED an einen GPIO-Pin des Raspberry Pi an (z.B. GPIO 17).\n",
    "3. Verbinde die Kathode der LED über einen 2200 Ohm Widerstand mit der Erdung (GND) des Raspberry Pi."
   ]
  },
  {
   "cell_type": "markdown",
   "id": "5eb3ee71",
   "metadata": {},
   "source": [
    "### Software-Setup\n",
    "1. Raspbian OS installieren.\n",
    "2. Python und Jupyter Notebook installieren:\n",
    "    ```sh\n",
    "    sudo apt-get update\n",
    "    sudo apt-get install python3 jupyter\n",
    "    ```\n",
    "3. Installiere die RPi.GPIO Bibliothek:\n",
    "   ```sh\n",
    "   sudo apt-get install python3-rpi.gpio\n",
    "   pip3 install gpiozero\n",
    "   ``` "
   ]
  },
  {
   "cell_type": "markdown",
   "id": "079bba91",
   "metadata": {},
   "source": [
    "## LED Beispiel 1"
   ]
  },
  {
   "cell_type": "markdown",
   "id": "f9eb429b-9b60-42ce-b61f-7deca61d40ad",
   "metadata": {},
   "source": [
    "### Installieren Sie die folgende Bibliothek auf Ihrem Rechner: gpiozero"
   ]
  },
  {
   "cell_type": "markdown",
   "id": "dce62611-fb2f-47c8-876b-99d5e6b39d80",
   "metadata": {},
   "source": [
    "```pip3 install gpiozero```"
   ]
  },
  {
   "cell_type": "markdown",
   "id": "6af6bbd5-429a-478d-8635-40460342db71",
   "metadata": {},
   "source": [
    "### Wenn Ihr Notebook die Bibliothek immer noch nicht findet, dann führen Sie den folgenden Befehl einfach hier auf Jupyter.\n",
    "Es wird dann direkt auf Ihrem Rechner installiert und Sie können weiter arbeiten."
   ]
  },
  {
   "cell_type": "code",
   "execution_count": null,
   "id": "60452dad-1bf1-45de-9ddf-f69185dca911",
   "metadata": {},
   "outputs": [],
   "source": [
    "!pip3 install gpiozero"
   ]
  },
  {
   "cell_type": "code",
   "execution_count": 3,
   "id": "1b0bcb07-c834-41df-be2f-5bcac380758b",
   "metadata": {},
   "outputs": [],
   "source": [
    "# importieren von gpiozero\n",
    "from gpiozero import LED"
   ]
  },
  {
   "cell_type": "code",
   "execution_count": 4,
   "id": "9cefcebf-b921-4b06-a158-9acf32b3bab6",
   "metadata": {},
   "outputs": [],
   "source": [
    "# importieren von time\n",
    "from time import sleep"
   ]
  },
  {
   "cell_type": "code",
   "execution_count": null,
   "id": "e889b3b0-3f72-47c2-ab20-b4636e8ebd0c",
   "metadata": {},
   "outputs": [],
   "source": [
    "# Code für ein- und ausschalten\n",
    "roteled= LED(17)\n",
    "while True:\n",
    "    roteled.on()\n",
    "    sleep(1)\n",
    "    roteled.off()\n",
    "    sleep(1)"
   ]
  },
  {
   "cell_type": "markdown",
   "id": "07a216fb-ead5-49c7-aff6-d6d9e48e3530",
   "metadata": {},
   "source": [
    "#### Ihre an Port 17 angeschloßene LED soll jetzt ein- und ausblinken"
   ]
  },
  {
   "cell_type": "markdown",
   "id": "cf25b5f1-ca99-4e18-83d8-9ef892da934f",
   "metadata": {},
   "source": [
    "## LED Beispiel 2"
   ]
  },
  {
   "cell_type": "markdown",
   "id": "bfa0cf7d-0ecd-4731-81be-8a9c503e1a11",
   "metadata": {},
   "source": [
    "### TODO\n",
    "DIESES BEISPIEL IST NOCH ZUM TESTEN"
   ]
  },
  {
   "cell_type": "markdown",
   "id": "b99c8f71-bd32-43bb-917e-b0896cfd12b3",
   "metadata": {},
   "source": [
    "### RPi.GPIO\n",
    "Für dieses Beispiel brauchen wir die Bibliotheken:  \n",
    "- RPi.GPIO  \n",
    "- gpiozero"
   ]
  },
  {
   "cell_type": "markdown",
   "id": "4f3d520b-91d7-4093-952a-0ba851a7acd7",
   "metadata": {},
   "source": [
    "### Installation von den erwähnten Bibliotheken\n",
    "``` sudo apt install python3-rpi.gpio ```  \n",
    "```pip3 install gpiozero```"
   ]
  },
  {
   "cell_type": "code",
   "execution_count": null,
   "id": "795a177d-1c42-4fd3-a7d4-ebde7eac4e31",
   "metadata": {},
   "outputs": [],
   "source": [
    "#importieren von RP.GPIO\n",
    "import RPi.GPIO as GPIO\n",
    "import time"
   ]
  },
  {
   "cell_type": "code",
   "execution_count": null,
   "id": "3dcea433-7101-48d8-8118-a70554eb901f",
   "metadata": {},
   "outputs": [],
   "source": [
    "# das GPIO-Modus setzen\n",
    "GPIO.setmode(GPIO.BCM)"
   ]
  },
  {
   "cell_type": "code",
   "execution_count": null,
   "id": "99619e65-777c-4094-8d75-b12135ed7b27",
   "metadata": {},
   "outputs": [],
   "source": [
    "# den GPIO-Pin 17 als Ausgang setzen\n",
    "GPIO.setup(17, GPIO.OUT)"
   ]
  },
  {
   "cell_type": "code",
   "execution_count": null,
   "id": "b194c148-230f-43db-b0c5-a76070f15b3d",
   "metadata": {},
   "outputs": [],
   "source": [
    "# LED anschalten\n",
    "GPIO.output(17, GPIO.HIGH)\n",
    "time.sleep(1) # Eine Sekunde Warten"
   ]
  },
  {
   "cell_type": "code",
   "execution_count": null,
   "id": "d393ed6d-f191-4b94-9aff-9473022d0334",
   "metadata": {},
   "outputs": [],
   "source": [
    "# LED ausschalten\n",
    "GPIO.output(17, GPIO.LOW)\n",
    "time.sleep(1) # Eine Sekunde warten"
   ]
  },
  {
   "cell_type": "code",
   "execution_count": null,
   "id": "89265121-bd32-4883-9dec-ea08282f6d0d",
   "metadata": {},
   "outputs": [],
   "source": [
    "# Die GPIO-Einstellungen löschen\n",
    "GPIO.cleanup()"
   ]
  },
  {
   "cell_type": "markdown",
   "id": "1fff5d81",
   "metadata": {},
   "source": [
    "### Code  \n",
    "#### Code noch zum TESTEN\n",
    "\n",
    "```python\n",
    "import RPi.GPIO as GPIO\n",
    "import time\n",
    "\n",
    "# Setup\n",
    "GPIO.setmode(GPIO.BCM)\n",
    "GPIO.setup(17, GPIO.OUT)\n",
    "\n",
    "# LED Blinken\n",
    "try:\n",
    "    while True:\n",
    "        GPIO.output(18, GPIO.HIGH)\n",
    "        time.sleep(1)\n",
    "        GPIO.output(18, GPIO.LOW)\n",
    "        time.sleep(1)\n",
    "except KeyboardInterrupt:\n",
    "    GPIO.cleanup()"
   ]
  },
  {
   "cell_type": "markdown",
   "id": "a972fd89",
   "metadata": {},
   "source": [
    "## 7. Experimente und Ergebnisse"
   ]
  },
  {
   "cell_type": "markdown",
   "id": "29cffb1b",
   "metadata": {},
   "source": [
    "### Versuchsaufbau\n",
    "- Der oben beschriebene Hardware-Aufbau wurde verwendet.\n",
    "- Der Code wurde in einem Jupyter Notebook ausgeführt.\n",
    "- Die LED leuchtete auf und erlosch nach 2 Sekunden, wie im Code vorgesehen."
   ]
  },
  {
   "cell_type": "markdown",
   "id": "c7dcd231",
   "metadata": {},
   "source": [
    "### Datenerfassung\n",
    "Nutzung von Jupyter Notebook zur Datenerfassung und Analyse.\n"
   ]
  },
  {
   "cell_type": "markdown",
   "id": "33552b77",
   "metadata": {},
   "source": [
    "### Ergebnisse\n",
    "Diagramme und Tabellen der erfassten Daten."
   ]
  },
  {
   "cell_type": "markdown",
   "id": "5f41848c",
   "metadata": {},
   "source": [
    "## 8. Diskussion und Fazit"
   ]
  },
  {
   "cell_type": "markdown",
   "id": "a59692e8",
   "metadata": {},
   "source": [
    "### Diskussion\n",
    "Das Projekt hat gezeigt, wie man grundlegende GPIO-Steuerung mit einem Raspberry Pi und Python umsetzt.\n",
    "Jupyter Notebooks werden benutzt, Hardware-Projekte zu entwickeln und zu testen."
   ]
  },
  {
   "cell_type": "markdown",
   "id": "f555ab7f",
   "metadata": {},
   "source": [
    "### Verbesserungsmöglichkeiten\n",
    "- Einsatz von komplexeren Sensoren und Aktoren.\n",
    "- Erweiterung des Projekts zur Steuerung mehrerer LEDs.\n",
    "- Automatisierte Datenerfassung und Analyse."
   ]
  },
  {
   "cell_type": "markdown",
   "id": "29bf717c",
   "metadata": {},
   "source": [
    "### Fazit\n",
    "Das Projekt war erfolgreich in der Demonstration der Grundlagen der GPIO-Steuerung mit Raspberry Pi und der Nutzung von Jupyter Notebooks. Es bietet eine solide Grundlage für weiterführende Projekte in der Elektronik und Programmierung."
   ]
  },
  {
   "cell_type": "markdown",
   "id": "27dc1492",
   "metadata": {},
   "source": [
    "## 9. Anhänge"
   ]
  },
  {
   "cell_type": "markdown",
   "id": "8bcad6b8",
   "metadata": {},
   "source": [
    "### Quellcode\n",
    "Vollständiger Python-Code."
   ]
  },
  {
   "cell_type": "markdown",
   "id": "d351e39a",
   "metadata": {},
   "source": [
    "### Datenblätter\n",
    "LED Datenblatt.\n"
   ]
  },
  {
   "cell_type": "markdown",
   "id": "933cf6b3",
   "metadata": {},
   "source": [
    "### Zusätzliche Ressourcen\n",
    "Links zu Tutorials, Dokumentationen, etc."
   ]
  },
  {
   "cell_type": "markdown",
   "id": "3af86650",
   "metadata": {},
   "source": [
    "## 10. Literaturverzeichnis\n",
    "1. https://cdn-reichelt.de/documents/datenblatt/C200/DS_GER_RF19.pdf"
   ]
  },
  {
   "cell_type": "markdown",
   "id": "2cbd30e8",
   "metadata": {},
   "source": [
    "## TODO FÜR AHMAD:  \n",
    "- Schaltplan mit deiner Raspberry Pi erstellen, nicht virtuell außer wenn du online Rasp Pi findest  \n",
    "- Text prüfen und korrigieren  \n",
    "- Text sortieren vervollständigen  \n",
    "- Bilder einfügen wenn nötig  \n",
    "- Text in die richtige Reihenfolge bzw. den folgenden Code in der richtigen Position in diesem Notebook bringen  \n",
    "- Installation von Jupyter auf Raspberry Pi und die Einrichtung\n",
    "\n",
    "### Hinwei:\n",
    "- Den folgenden Code funktioniert richtig, ist schon von mir getest."
   ]
  }
 ],
 "metadata": {
  "kernelspec": {
   "display_name": "Python 3 (ipykernel)",
   "language": "python",
   "name": "python3"
  },
  "language_info": {
   "codemirror_mode": {
    "name": "ipython",
    "version": 3
   },
   "file_extension": ".py",
   "mimetype": "text/x-python",
   "name": "python",
   "nbconvert_exporter": "python",
   "pygments_lexer": "ipython3",
   "version": "3.12.4"
  }
 },
 "nbformat": 4,
 "nbformat_minor": 5
}
