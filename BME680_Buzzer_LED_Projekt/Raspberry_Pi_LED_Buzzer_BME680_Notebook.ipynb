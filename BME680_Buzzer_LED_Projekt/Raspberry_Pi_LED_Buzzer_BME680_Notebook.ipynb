{
 "cells": [
  {
   "cell_type": "markdown",
   "id": "3d1f0069",
   "metadata": {},
   "source": [
    "# LED-Buzzer-TemperaturSensor Projekt  \n",
    "<a id='LBT'></a>"
   ]
  },
  {
   "cell_type": "markdown",
   "id": "ac1eeef0",
   "metadata": {},
   "source": [
    "## 1. Einführung"
   ]
  },
  {
   "cell_type": "markdown",
   "id": "5182a41d",
   "metadata": {},
   "source": [
    "Dieses Jupyter Notebook führt in die praktische Anwendung der Steuerung einer [LED](../LED_Projekt/LED_Projekt.ipynb#leds), eines [Buzzers](https://www.arduinoob.de/buzzer-verwenden/) und eines [BME680-Sensors](../TempSensor_Projekt/TempSensor_Projekt.ipynb#temSens) mit einem [Raspberry Pi](../RaspberryPi_Jupyter_Grundlagen.ipynb) ein. \n",
    "Es kombiniert Elektronik und [Python-Programmierung](https://www.python.org/about/gettingstarted/), um eine Überwachung der Temperatur zu erstellen und bei Überschreitung eines Schwellenwerts ein [SOS-Signal](https://morsedecoder.com/de/sos-morsezeichen/) zu senden. \n",
    "Das Projekt zeigt, wie man ein digitales Signal einsetzt, um die Funktionalität verschiedener Hardware-Komponenten zu steuern."
   ]
  },
  {
   "cell_type": "markdown",
   "id": "19082fde",
   "metadata": {},
   "source": [
    "### Projektziel\n",
    "Das Ziel dieses Projekts ist es, eine LED und einen Buzzer basierend auf der Temperaturüberwachung eines BME680-Sensors zu steuern und bei bestimmter Temperatur ein SOS-Signal zu senden."
   ]
  },
  {
   "cell_type": "markdown",
   "id": "f51921dc",
   "metadata": {},
   "source": [
    "### Relevanz\n",
    "Dieses Projekt ist relevant, da es die Grundlagen der Elektronik und Programmierung kombiniert und ein grundlegendes Verständnis \n",
    "für die Steuerung von Aktoren in Abhängigkeit von Sensordaten entwickelt."
   ]
  },
  {
   "cell_type": "markdown",
   "id": "d986ea7c",
   "metadata": {},
   "source": [
    "## 2. Grundlagen und Theorie"
   ]
  },
  {
   "cell_type": "markdown",
   "id": "74332e95",
   "metadata": {},
   "source": [
    "### BME680 Sensor\n",
    "- **Funktionsweise:** Der BME680 ist ein Umweltsensor, der Temperatur, Luftfeuchtigkeit, Druck und Luftqualität misst.\n",
    "- **Steuerung:** Die Kommunikation mit dem BME680 erfolgt über das I2C-Protokoll.\n",
    "- [Datasheet](https://cdn-shop.adafruit.com/product-files/3660/BME680.pdf) "
   ]
  },
  {
   "cell_type": "markdown",
   "id": "78ba0081",
   "metadata": {},
   "source": [
    "## Buzzer"
   ]
  },
  {
   "cell_type": "markdown",
   "id": "67929c37",
   "metadata": {},
   "source": [
    "- **Funktionsweise:** Ein Buzzer ist ein elektronisches Bauteil, das einen akustischen Ton erzeugt, wenn Strom durch ihn fließt. \n",
    "- **Steuerung:** In diesem Projekt verwenden wir einen passiven Buzzer, der über ein PWM-Signal (Pulsweitenmodulation) gesteuert wird, um verschiedene Töne zu erzeugen. Die Frequenz des PWM-Signals bestimmt den Ton des Buzzers."
   ]
  },
  {
   "cell_type": "markdown",
   "id": "f6e9cd66",
   "metadata": {},
   "source": [
    "### GPIO-Steuerung\n",
    "- **Definition:** GPIO steht für General Purpose Input/Output. Die Pins des Raspberry Pi können entweder als Eingabe- oder Ausgabe-Pins konfiguriert werden.\n",
    "- **PWM-Anwendung:** PWM steht für Pulsweitenmodulation und wird hier verwendet, um die Lautstärke des Buzzers zu steuern.  \n",
    "\n",
    "**[Pinout des Raspberry Pi](./Bilder/Raspberry_Pi_5_GPIO-Pinout.png)** folgt unter Schaltungsdesign. "
   ]
  },
  {
   "cell_type": "markdown",
   "id": "36ecd988",
   "metadata": {},
   "source": [
    "**PWM-Signale für Buzzer**\n",
    "\n",
    "- **Definition:** Wie bei [Servomotoren](../ServoMotor_Projekt/ServoMotor_Projekt.ipynb#servoMoto) wird auch beim Buzzer [PWM](https://randomnerdtutorials.com/raspberry-pi-pwm-python/) verwendet, um das Signal zu modulieren. Hier variiert jedoch die Frequenz  des PWM-Signals, um unterschiedliche Töne zu erzeugen.\n",
    "- **Anwendung:** Der Buzzer in diesem Projekt wird mit einer PWM-Frequenz von 1000 Hz angesteuert, um einen konstanten Ton zu erzeugen."
   ]
  },
  {
   "cell_type": "markdown",
   "id": "36c29cb6",
   "metadata": {},
   "source": [
    "**Links**  \n",
    "[Buzzer-Datenblatt](https://components101.com/sites/default/files/component_datasheet/Buzzer%20Datasheet.pdf)  \n",
    "[Buzzer verwenden](https://www.arduinoob.de/buzzer-verwenden/)  \n",
    "[How to Use Active and Passive Buzzers](https://www.circuitbasics.com/how-to-use-active-and-passive-buzzers-on-the-arduino/)"
   ]
  },
  {
   "cell_type": "markdown",
   "id": "203341e7",
   "metadata": {},
   "source": [
    "### SOS Signal\n",
    "- **Morsecode:** SOS ist ein internationaler Notruf im Morsecode, dargestellt durch drei kurze Signale (Punkte), gefolgt von drei langen Signalen (Striche) und wiederum drei kurzen Signalen (Punkte).  \n",
    "- Für weitere über Morsecode klicken Sie [hier](https://morsedecoder.com/de/).  "
   ]
  },
  {
   "cell_type": "markdown",
   "id": "ba01b027",
   "metadata": {},
   "source": [
    "## 3. Materialien und Werkzeuge"
   ]
  },
  {
   "cell_type": "markdown",
   "id": "b8b7f408",
   "metadata": {},
   "source": [
    "### Software\n",
    "- Raspbian OS \n",
    "- Python 3\n",
    "- Jupyter Notebook"
   ]
  },
  {
   "cell_type": "markdown",
   "id": "ab8a10da",
   "metadata": {},
   "source": [
    "### Hardware\n",
    "- Raspberry Pi 5 Model B Rev 1.0\n",
    "- Breadboard\n",
    "- Jumper-Kabel\n",
    "- BME680 Sensor\n",
    "- LED\n",
    "- Buzzer\n",
    "- Widerstand X ohm"
   ]
  },
  {
   "cell_type": "markdown",
   "id": "1b6aa0a8",
   "metadata": {},
   "source": [
    "#### Übung\n",
    "Berechnen Sie den Widerstandswert, der für die Schaltung mit Red-LED gedacht ist.  \n",
    "Tipp: gucken Sie sich dieses [Notebook](../LED_Projekt/LED_Projekt.ipynb)."
   ]
  },
  {
   "cell_type": "markdown",
   "id": "94dae138",
   "metadata": {},
   "source": [
    "### Verdrahtung\n",
    "- Die LED wird mit dem GPIO 17 des Raspberry Pi verbunden.\n",
    "- Der Buzzer wird mit dem GPIO 18 des Raspberry Pi verbunden.\n",
    "- Der BME680 Sensor wird über I2C mit dem Raspberry Pi verbunden."
   ]
  },
  {
   "cell_type": "markdown",
   "id": "20c3dc07",
   "metadata": {},
   "source": [
    "#### Übung\n",
    "Überlegen Sie sich, wie der Widerstand verdrahtet werden kann.  \n",
    "Tipp: Gucken Sie sich den Schaltplan unten."
   ]
  },
  {
   "cell_type": "markdown",
   "id": "a2c603f3",
   "metadata": {},
   "source": [
    "## 4. Schaltungsdesign"
   ]
  },
  {
   "cell_type": "markdown",
   "id": "3f8d1119",
   "metadata": {},
   "source": [
    "\n",
    "### Raspberry Pi 5 GPIO-Pinout\n",
    "<img src=\"Bilder/Raspberry_Pi_5_GPIO-Pinout.png\" alt=\"Rasp Pi Pinout\" style=\"width:400px;\">   \n",
    "\n",
    "[Weiteres zu diesem Bild](https://community.particle.io/t/following-getting-started-guide-for-raspberry-pi-how-do-i-use-analog-pins/27771/2)  \n"
   ]
  },
  {
   "cell_type": "markdown",
   "id": "5aef55a5",
   "metadata": {},
   "source": [
    "### Zu BME680 Sensor\n",
    "**BME680 Schaltung**  \n",
    "Aussehen des BME680 Temperatursensor\n",
    "\n",
    "<img src=\"Bilder/BME680.jpg\" alt=\"BME680\" style=\"width:400px;\">  \n",
    "\n",
    "[Weiteres zu diesem Bild](https://blog.adafruit.com/2017/11/09/new-product-adafruit-bme680-temperature-humidity-pressure-and-gas-sensor/)  "
   ]
  },
  {
   "cell_type": "markdown",
   "id": "7abb6db3",
   "metadata": {},
   "source": [
    "So sieht die Schaltung des BME680 Sensors mit Rasp Pi aus.  \n",
    "\n",
    "<img src=\"Bilder/Raspberry_Pi_5_BME680.png\" alt=\"BME680\" style=\"width:400px;\">  \n",
    "\n",
    "[Erstellt durch easyeda](https://easyeda.com/editor)  "
   ]
  },
  {
   "cell_type": "markdown",
   "id": "36119331",
   "metadata": {},
   "source": [
    "**Alternatives Bild**  \n",
    "Dieses Alternatives Bild zeigt eine klare Oberfläche der Schaltung.  \n",
    "\n",
    "<img src=\"Bilder/schaltplan.png\" style=\"width:400px;\">  \n",
    "\n",
    "[Erstellt durch circuito.io](https://www.circuito.io/app?components=9443,164792,200000)"
   ]
  },
  {
   "cell_type": "markdown",
   "id": "e1b77e2e",
   "metadata": {},
   "source": [
    "### Schaltplan\n",
    "**Kompletter Schaltplan**  \n",
    "Kompletter Schaltplan mit klarer Oberfläche, der durch [circuito.io](https://www.circuito.io/app?components=9443,164792,200000) erstellt wurde.  \n",
    "\n",
    "<img src=\"Bilder/GesamtSchaltPlan.png\" alt=\"Schaltplan1\" style=\"width:400px;\">  \n",
    "\n",
    "\n",
    "\n"
   ]
  },
  {
   "cell_type": "markdown",
   "id": "3e4502fa",
   "metadata": {},
   "source": [
    "**Alternativ**  \n",
    "Kompletter Schaltplan mit Pasp Pi Pins, der durch [easyeda](https://easyeda.com/editor) erstellt wurde.  \n",
    "\n",
    "<img src=\"Bilder/LED_Buzzer_Schaltung_Standard.png\" alt=\"Schaltplan2\" style=\"width:400px;\">  "
   ]
  },
  {
   "cell_type": "markdown",
   "id": "309fad2c",
   "metadata": {},
   "source": [
    "**Aussehen in Realität**  \n",
    "So könnte Ihre Schaltung in der Realität aussehen.  \n",
    "\n",
    "<img src=\"Bilder/LED_Buzzer_Schaltung.jpeg\" alt=\"Schaltplan\" style=\"width:400px;\">  \n",
    "  \n",
    "  "
   ]
  },
  {
   "cell_type": "markdown",
   "id": "d9519cd9",
   "metadata": {},
   "source": [
    "## 5. Implementierung"
   ]
  },
  {
   "cell_type": "markdown",
   "id": "a52e0eee",
   "metadata": {},
   "source": [
    "### Hardware-Aufbau\n",
    "1. Komponenten auf dem Breadboard platzieren und verkabeln.\n",
    "2. Raspberry Pi aufstellen und mit Strom durch an PC angeschlossenes USB versorgen."
   ]
  },
  {
   "cell_type": "markdown",
   "id": "08f8fda1",
   "metadata": {},
   "source": [
    "### Software-Setup\n",
    "1. [Raspbian OS](../Rasp_Pi_Einrichtung.ipynb#raspbianOS) installieren.\n",
    "2. [Python](../Installationen.ipynb#installationen) und [Jupyter Notebook](../Installationen.ipynb#installationen) installieren:"
   ]
  },
  {
   "cell_type": "markdown",
   "id": "dc8d66f6",
   "metadata": {},
   "source": [
    "### Installieren Sie die erforderlichen Bibliotheken:  "
   ]
  },
  {
   "cell_type": "markdown",
   "id": "2ffcd7f0",
   "metadata": {},
   "source": [
    "Führen Sie die folgenden zwei Zeile direkt auf Jupyter aus, um die notwendige Bibliotheken zu diesem Notebook zu installieren."
   ]
  },
  {
   "cell_type": "code",
   "execution_count": null,
   "id": "eee7615f",
   "metadata": {},
   "outputs": [],
   "source": [
    "!sudo pip3 install adafruit-circuitpython-bme680"
   ]
  },
  {
   "cell_type": "markdown",
   "id": "f7f9c797",
   "metadata": {},
   "source": [
    "Die `Adafruit_CircuitPython_BME680`-Bibliothek ist eine Python-Bibliothek für die Verwendung mit dem BME680-Sensor von Adafruit. Die Bibliothek ermöglicht eine einfache Integration des Sensors in Projekte, die auf der CircuitPython-Plattform basieren, und bietet Funktionen zur Abfrage der gemessenen Werte.  \n",
    "Klicken Sie [hier](https://github.com/adafruit/Adafruit_CircuitPython_BME680), um weiteres zu adafreuit-circuitpython zu erfahren."
   ]
  },
  {
   "cell_type": "code",
   "execution_count": null,
   "id": "67868042",
   "metadata": {},
   "outputs": [],
   "source": [
    "!sudo apt-get install python3-rpi.gpio"
   ]
  },
  {
   "cell_type": "markdown",
   "id": "d40b1923",
   "metadata": {},
   "source": [
    "RPi.GPIO wurde unter dem Schritt 4 hier in dem [Notebook](../Installationen.ipynb#installationen) erklärt."
   ]
  },
  {
   "cell_type": "code",
   "execution_count": null,
   "id": "c2b0bf98",
   "metadata": {},
   "outputs": [],
   "source": [
    "#importieren der notwendigen Bibliotheken\n",
    "import board"
   ]
  },
  {
   "cell_type": "markdown",
   "id": "412ff33c",
   "metadata": {},
   "source": [
    "board: Diese Bibliothek ermöglicht den Zugriff auf die Pins des Raspberry Pi, sodass sie in CircuitPython-Programmen verwendet werden können. Sie definiert eine Vielzahl von Board-spezifischen Konstanten, die in der Hardware-Programmierung genutzt werden können.  \n",
    "[Dokumentation](https://docs.circuitpython.org/en/latest/shared-bindings/board/)"
   ]
  },
  {
   "cell_type": "code",
   "execution_count": null,
   "id": "c5566d5e",
   "metadata": {},
   "outputs": [],
   "source": [
    "import busio"
   ]
  },
  {
   "cell_type": "markdown",
   "id": "eabcc8d4",
   "metadata": {},
   "source": [
    "busio: Diese Bibliothek stellt Klassen zur Verfügung, die serielle Kommunikationsschnittstellen wie I2C und SPI unterstützen. Sie wird häufig in Kombination mit Sensoren verwendet, um Daten zwischen dem Mikrocontroller und den angeschlossenen Geräten auszutauschen.  \n",
    "[Dokumentation](https://docs.circuitpython.org/en/latest/shared-bindings/busio/)"
   ]
  },
  {
   "cell_type": "code",
   "execution_count": null,
   "id": "49c218af",
   "metadata": {},
   "outputs": [],
   "source": [
    "import adafruit_bme680\n",
    "import RPi.GPIO as GPIO\n",
    "import time"
   ]
  },
  {
   "cell_type": "markdown",
   "id": "07a71ac1",
   "metadata": {},
   "source": [
    "adafruit_bme680: Diese Bibliothek ist speziell für die Verwendung mit dem BME680-Sensor von Adafruit entwickelt worden. Sie ermöglicht die einfache Integration und Abfrage von Temperatur-, Luftfeuchtigkeits-, Luftdruck- und Luftqualitätsdaten.  \n",
    "[Adafruit_bme680](https://docs.circuitpython.org/projects/bme680/en/latest/)  \n",
    "[Time-Bibliothek](https://docs.python.org/3/library/time.html)  "
   ]
  },
  {
   "cell_type": "code",
   "execution_count": null,
   "id": "9c056c36",
   "metadata": {},
   "outputs": [],
   "source": [
    "import sys"
   ]
  },
  {
   "cell_type": "markdown",
   "id": "1c11cdb5",
   "metadata": {},
   "source": [
    "sys: Diese Standard-Python-Bibliothek bietet Zugang zu System-spezifischen Parametern und Funktionen. Sie ermöglicht z.B. das Beenden des Programms oder den Zugriff auf Kommandozeilenargumente.  \n",
    "[Dokumentation](https://docs.python.org/3/library/sys.html)"
   ]
  },
  {
   "cell_type": "code",
   "execution_count": null,
   "id": "e1b6f241",
   "metadata": {},
   "outputs": [],
   "source": [
    "# GPIO Pins definieren\n",
    "LED_PIN = 17\n",
    "BUZZER_PIN = 18\n",
    "\n",
    "# GPIO-Modus (BCM) und Pins konfigurieren\n",
    "GPIO.setmode(GPIO.BCM)\n",
    "GPIO.setup(LED_PIN, GPIO.OUT)\n",
    "GPIO.setup(BUZZER_PIN, GPIO.OUT)\n",
    "\n",
    "# PWM für den Buzzer einrichten\n",
    "pwm = GPIO.PWM(BUZZER_PIN, 1000)  # 1000 Hz Frequenz\n",
    "pwm.start(0)  # Start PWM mit 0% Duty Cycle (Buzzer aus)\n",
    "\n",
    "# I2C initialisieren\n",
    "i2c = busio.I2C(board.SCL, board.SDA)"
   ]
  },
  {
   "cell_type": "markdown",
   "id": "e2ea5f99",
   "metadata": {},
   "source": [
    "#### Übung\n",
    "Für BWM, also Buzzer, wurde der PIN 18 genutzt. Überlegen Sie sich, ob Sie den Buzzer an einem anderen PIN anschließen können.  \n",
    "Ist es noch möglich? Wenn ja, an welchem PIN denn?  \n",
    "Tipp: Gucken Sie sich das [Pinout-Bild](./Bilder/Raspberry_Pi_5_GPIO-Pinout.png)."
   ]
  },
  {
   "cell_type": "code",
   "execution_count": null,
   "id": "c51fdc53",
   "metadata": {},
   "outputs": [],
   "source": [
    "# BME680 Sensor initialisieren\n",
    "try:\n",
    "    bme680 = adafruit_bme680.Adafruit_BME680_I2C(i2c)\n",
    "    bme680.sea_level_pressure = 1013.25\n",
    "    print(\"Sensor erfolgreich initialisiert!\")\n",
    "except Exception as e:\n",
    "    print(f\"Fehler beim Initialisieren des Sensors: {e}\")\n",
    "    GPIO.cleanup()\n",
    "    exit(1)"
   ]
  },
  {
   "cell_type": "markdown",
   "id": "d798264f",
   "metadata": {},
   "source": [
    "#### Übung\n",
    "Für die Kommunikation mit dem Temperatursensor wurde dir Kommunikationschnittstelle i2c benutzt. Überlegen Sie sich, ob sie eine andere Stelle verwenden können."
   ]
  },
  {
   "cell_type": "code",
   "execution_count": null,
   "id": "070e26cc",
   "metadata": {},
   "outputs": [],
   "source": [
    "def dot():\n",
    "    GPIO.output(LED_PIN, GPIO.HIGH)\n",
    "    pwm.ChangeDutyCycle(50)  # Buzzer an\n",
    "    time.sleep(1)  # LED 1 Sekunde an (Punkt)\n",
    "    GPIO.output(LED_PIN, GPIO.LOW)\n",
    "    pwm.ChangeDutyCycle(0)  # Buzzer aus\n",
    "    time.sleep(1)  # LED 1 Sekunde aus (Pause zwischen Zeichen)\n",
    "\n",
    "def dash():\n",
    "    GPIO.output(LED_PIN, GPIO.HIGH)\n",
    "    pwm.ChangeDutyCycle(50)  # Buzzer an\n",
    "    time.sleep(3)  # LED 3 Sekunden an (Strich)\n",
    "    GPIO.output(LED_PIN, GPIO.LOW)\n",
    "    pwm.ChangeDutyCycle(0)  # Buzzer aus\n",
    "    time.sleep(1)  # LED 1 Sekunde aus (Pause zwischen Zeichen)\n",
    "\n",
    "def letter_space():\n",
    "    time.sleep(3)  # Pause zwischen Buchstaben (3 Sekunden)\n",
    "\n",
    "def word_space():\n",
    "    time.sleep(7)  # Pause zwischen Wörtern (7 Sekunden)\n",
    "\n",
    "def send_sos():\n",
    "    dot(); dot(); dot()  # S\n",
    "    letter_space()\n",
    "    dash(); dash(); dash()  # O\n",
    "    letter_space()\n",
    "    dot(); dot(); dot()  # S\n",
    "    word_space()"
   ]
  },
  {
   "cell_type": "markdown",
   "id": "96e53058",
   "metadata": {},
   "source": [
    "Dieser Code-Abschnitt definiert bzw. implementiert die SOS-Funktion."
   ]
  },
  {
   "cell_type": "markdown",
   "id": "b7ed79cb",
   "metadata": {},
   "source": [
    "#### Übung\n",
    "Recherschieren Sie, wie das Wort \"Help\" durch Morsecode dargestellt werden kann."
   ]
  },
  {
   "cell_type": "code",
   "execution_count": null,
   "id": "f2b34205",
   "metadata": {},
   "outputs": [],
   "source": [
    "try:\n",
    "    while True:\n",
    "        # Temperatur lesen\n",
    "        temperature = bme680.temperature\n",
    "        if temperature is not None:\n",
    "            # Temperatur ausgeben und Konsole aktualisieren\n",
    "            sys.stdout.write(f\"\\rAktuelle Temperatur: {temperature:.2f} °C\")\n",
    "            sys.stdout.flush()\n",
    "            \n",
    "            # Temperaturüberprüfung\n",
    "            if temperature >= 30:\n",
    "                # Temperatur >= 30°C: LED und Buzzer einschalten\n",
    "                GPIO.output(LED_PIN, GPIO.HIGH)\n",
    "                pwm.ChangeDutyCycle(50)  # Buzzer an\n",
    "                send_sos()  # SOS-Morsecode senden\n",
    "            else:\n",
    "                # Temperatur < 30°C: LED und Buzzer ausschalten\n",
    "                GPIO.output(LED_PIN, GPIO.LOW)\n",
    "                pwm.ChangeDutyCycle(0)  # Buzzer aus\n",
    "        \n",
    "        else:\n",
    "            print(\"Fehler beim Lesen der Temperatur\")\n",
    "        \n",
    "        # Verzögerung vor der nächsten Messung\n",
    "        time.sleep(1)\n",
    "\n",
    "except KeyboardInterrupt:\n",
    "    print(\"\\nProgramm beendet\")\n",
    "\n",
    "finally:\n",
    "    pwm.stop()  # Stoppe PWM\n",
    "    GPIO.cleanup()  # GPIO-Pins zurücksetzen"
   ]
  },
  {
   "cell_type": "markdown",
   "id": "8168ef19",
   "metadata": {},
   "source": [
    "Dieser Code-Abschnitt ist sozusagen unsere main-Funktion. Hier wird der ganze Code und andere Funktionen aufgerufen und die PINs gesteuert."
   ]
  },
  {
   "cell_type": "markdown",
   "id": "f5ce9e2f",
   "metadata": {},
   "source": [
    "## 6. Experimente und Ergebnisse"
   ]
  },
  {
   "cell_type": "markdown",
   "id": "6ea552d5",
   "metadata": {},
   "source": [
    "### Versuchsaufbau\n",
    "- Der oben beschriebene Hardware-Aufbau wurde verwendet.\n",
    "- Der Code wurde in einem Jupyter Notebook ausgeführt.\n",
    "- Der Sensor überwachte die Temperatur, und die LED und der Buzzer reagierten entsprechend."
   ]
  },
  {
   "cell_type": "markdown",
   "id": "841c1763",
   "metadata": {},
   "source": [
    "## 7. Zusätzliche Ressourcen"
   ]
  },
  {
   "cell_type": "markdown",
   "id": "6c7b53ec",
   "metadata": {},
   "source": [
    "Für besseres Verstand und für die Klarheit gucken Sie sich die Notebooks bzw. folgenden Projekts:\n",
    "- [Grundlagen-Notebook](../RaspberryPi_Jupyter_Grundlagen.ipynb)\n",
    "- [BME680-Notebook](../TempSensor_Projekt/TempSensor_Projekt.ipynb#temSens)\n",
    "- [LED-Notebook](../LED_Projekt/LED_Projekt.ipynb#leds)"
   ]
  },
  {
   "cell_type": "markdown",
   "id": "23c94cb4",
   "metadata": {},
   "source": [
    "## Übung\n",
    "Überlegen Sie sich wie sie einen Motor mit einer Fan bzw. Ventilator verbinden können, so dass die Ventilator eingeschaltet wird, wenn die SOS-Hilfe aufgerufen wird, also wenn LED leuchtet und der Buzzer pipt.  \n",
    "\n",
    "Heraus zu finden: \n",
    "- Notwendige PINs\n",
    "- Transistor \n",
    "- Verdrahtung in der obigen Schaltung"
   ]
  }
 ],
 "metadata": {
  "language_info": {
   "name": "python"
  }
 },
 "nbformat": 4,
 "nbformat_minor": 5
}
