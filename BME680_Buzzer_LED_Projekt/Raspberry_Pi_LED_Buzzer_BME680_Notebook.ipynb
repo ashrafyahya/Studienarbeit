{
 "cells": [
  {
   "cell_type": "markdown",
   "id": "3d1f0069",
   "metadata": {},
   "source": [
    "# LED-Buzzer-TemperaturSensor Projekt"
   ]
  },
  {
   "cell_type": "markdown",
   "id": "ac1eeef0",
   "metadata": {},
   "source": [
    "## 1. Einführung\n",
    "Dieses Jupyter Notebook führt in die praktische Anwendung der Steuerung einer LED, eines Buzzers und eines BME680-Sensors mit einem Raspberry Pi ein. \n",
    "Es kombiniert Elektronik und Python-Programmierung, um eine Überwachung der Temperatur zu erstellen und bei Überschreitung eines Schwellenwerts ein SOS-Signal zu senden. \n",
    "Das Projekt zeigt, wie man ein digitales Signal einsetzt, um die Funktionalität verschiedener Hardware-Komponenten zu steuern."
   ]
  },
  {
   "cell_type": "markdown",
   "id": "19082fde",
   "metadata": {},
   "source": [
    "### Projektziel\n",
    "Das Ziel dieses Projekts ist es, eine LED und einen Buzzer basierend auf der Temperaturüberwachung eines BME680-Sensors zu steuern und bei bestimmter Temperatur ein SOS-Signal zu senden."
   ]
  },
  {
   "cell_type": "markdown",
   "id": "f51921dc",
   "metadata": {},
   "source": [
    "### Relevanz\n",
    "Dieses Projekt ist relevant, da es die Grundlagen der Elektronik und Programmierung kombiniert und ein grundlegendes Verständnis \n",
    "für die Steuerung von Aktoren in Abhängigkeit von Sensordaten entwickelt."
   ]
  },
  {
   "cell_type": "markdown",
   "id": "d986ea7c",
   "metadata": {},
   "source": [
    "## 2. Grundlagen und Theorie"
   ]
  },
  {
   "cell_type": "markdown",
   "id": "74332e95",
   "metadata": {},
   "source": [
    "### BME680 Sensor\n",
    "- **Funktionsweise:** Der BME680 ist ein Umweltsensor, der Temperatur, Luftfeuchtigkeit, Druck und Luftqualität misst.\n",
    "- **Steuerung:** Die Kommunikation mit dem BME680 erfolgt über das I2C-Protokoll.\n",
    "- [Datasheet](https://cdn-shop.adafruit.com/product-files/3660/BME680.pdf) "
   ]
  },
  {
   "cell_type": "markdown",
   "id": "78ba0081",
   "metadata": {},
   "source": [
    "## Buzzer\n",
    "\n",
    "- **Funktionsweise:** Ein Buzzer ist ein elektronisches Bauteil, das einen akustischen Ton erzeugt, wenn Strom durch ihn fließt. \n",
    "- **Steuerung:** In diesem Projekt verwenden wir einen passiven Buzzer, der über ein PWM-Signal (Pulsweitenmodulation) gesteuert wird, um verschiedene Töne zu erzeugen. Die Frequenz des PWM-Signals bestimmt den Ton des Buzzers.\n",
    "\n",
    "**PWM-Signale für Buzzer**\n",
    "\n",
    "- **Definition:** Wie bei Servomotoren wird auch beim Buzzer PWM verwendet, um das Signal zu modulieren. Hier variiert jedoch die Frequenz  des PWM-Signals, um unterschiedliche Töne zu erzeugen.\n",
    "- **Anwendung:** Der Buzzer in diesem Projekt wird mit einer PWM-Frequenz von 1000 Hz angesteuert, um einen konstanten Ton zu erzeugen.\n",
    "\n",
    "[Buzzer-Datenblatt](https://components101.com/sites/default/files/component_datasheet/Buzzer%20Datasheet.pdf)  "
   ]
  },
  {
   "cell_type": "markdown",
   "id": "f6e9cd66",
   "metadata": {},
   "source": [
    "### GPIO-Steuerung\n",
    "- **Definition:** GPIO steht für General Purpose Input/Output. Die Pins des Raspberry Pi können entweder als Eingabe- oder Ausgabe-Pins konfiguriert werden.\n",
    "- **PWM-Anwendung:** PWM steht für Pulsweitenmodulation und wird hier verwendet, um die Lautstärke des Buzzers zu steuern.  \n",
    "\n",
    "**Pinout des Raspberry Pi** folgt unter Schaltungsdesign. "
   ]
  },
  {
   "cell_type": "markdown",
   "id": "203341e7",
   "metadata": {},
   "source": [
    "### SOS Signal\n",
    "- **Morsecode:** SOS ist ein internationaler Notruf im Morsecode, dargestellt durch drei kurze Signale (Punkte), gefolgt von drei langen Signalen (Striche) und wiederum drei kurzen Signalen (Punkte).  \n",
    "- [Für weitere über Morsecode klicken Sie hier](https://morsedecoder.com/de/)  "
   ]
  },
  {
   "cell_type": "markdown",
   "id": "ba01b027",
   "metadata": {},
   "source": [
    "## 3. Materialien und Werkzeuge"
   ]
  },
  {
   "cell_type": "markdown",
   "id": "b8b7f408",
   "metadata": {},
   "source": [
    "### Software\n",
    "- Raspbian OS \n",
    "- Python 3\n",
    "- Jupyter Notebook"
   ]
  },
  {
   "cell_type": "markdown",
   "id": "ab8a10da",
   "metadata": {},
   "source": [
    "### Hardware\n",
    "- Raspberry Pi 5\n",
    "- Breadboard\n",
    "- Jumper-Kabel\n",
    "- BME680 Sensor\n",
    "- LED\n",
    "- Buzzer\n",
    "- Widerstand z.b 100 ohm"
   ]
  },
  {
   "cell_type": "markdown",
   "id": "94dae138",
   "metadata": {},
   "source": [
    "### Verdrahtung\n",
    "- Die LED wird mit dem GPIO 17 des Raspberry Pi verbunden.\n",
    "- Der Buzzer wird mit dem GPIO 18 des Raspberry Pi verbunden.\n",
    "- Der BME680 Sensor wird über I2C mit dem Raspberry Pi verbunden."
   ]
  },
  {
   "cell_type": "markdown",
   "id": "a2c603f3",
   "metadata": {},
   "source": [
    "## 4. Schaltungsdesign"
   ]
  },
  {
   "cell_type": "markdown",
   "id": "3f8d1119",
   "metadata": {},
   "source": [
    "\n",
    "### Raspberry Pi 5 GPIO-Pinout\n",
    "<img src=\"Bilder/Raspberry_Pi_5_GPIO-Pinout.png\" alt=\"Rasp Pi Pinout\" style=\"width:400px;\">   \n",
    "\n",
    "[Weiteres zu diesem Bild](https://community.particle.io/t/following-getting-started-guide-for-raspberry-pi-how-do-i-use-analog-pins/27771/2)  \n"
   ]
  },
  {
   "cell_type": "markdown",
   "id": "5aef55a5",
   "metadata": {},
   "source": [
    "### Zu BME680 Sensor\n",
    "**BME680 Schaltung** \n",
    "\n",
    "<img src=\"Bilder/BME680.jpg\" alt=\"BME680\" style=\"width:400px;\">  \n",
    "\n",
    "[Weiteres zu diesem Bild](https://blog.adafruit.com/2017/11/09/new-product-adafruit-bme680-temperature-humidity-pressure-and-gas-sensor/)  \n",
    "\n",
    "<img src=\"Bilder/Raspberry_Pi_5_BME680.png\" alt=\"BME680\" style=\"width:400px;\">  \n"
   ]
  },
  {
   "cell_type": "markdown",
   "id": "e1b77e2e",
   "metadata": {},
   "source": [
    "### Schaltplan\n",
    "**Kompletter Schaltplan**  \n",
    "\n",
    "<img src=\"Bilder/LED_Buzzer_Schaltung_Standard.png\" alt=\"BME680\" style=\"width:400px;\">  \n",
    "  "
   ]
  },
  {
   "cell_type": "markdown",
   "id": "309fad2c",
   "metadata": {},
   "source": [
    "**Aussehen in Realität**\n",
    "\n",
    "<img src=\"Bilder/LED_Buzzer_Schaltung.jpeg\" alt=\"BME680\" style=\"width:400px;\">  "
   ]
  },
  {
   "cell_type": "markdown",
   "id": "d9519cd9",
   "metadata": {},
   "source": [
    "## 5. Implementierung"
   ]
  },
  {
   "cell_type": "markdown",
   "id": "a52e0eee",
   "metadata": {},
   "source": [
    "### Hardware-Aufbau\n",
    "1. Komponenten auf dem Breadboard platzieren und verkabeln.\n",
    "2. Raspberry Pi aufstellen und mit Strom versorgen."
   ]
  },
  {
   "cell_type": "markdown",
   "id": "08f8fda1",
   "metadata": {},
   "source": [
    "### Software-Setup\n",
    "1. Raspbian OS installieren.\n",
    "2. Python und Jupyter Notebook installieren:\n",
    "    ```sh\n",
    "    sudo apt-get update\n",
    "    sudo apt-get install python3 jupyter\n",
    "    ```"
   ]
  },
  {
   "cell_type": "markdown",
   "id": "dc8d66f6",
   "metadata": {},
   "source": [
    "### Installiere die erforderlichen Bibliotheken:\n",
    "```sh\n",
    "sudo pip3 install adafruit-circuitpython-bme680\n",
    "sudo apt-get install python3-rpi.gpio\n",
    "```"
   ]
  },
  {
   "cell_type": "code",
   "execution_count": null,
   "id": "c2b0bf98",
   "metadata": {},
   "outputs": [],
   "source": [
    "import board\n",
    "import busio\n",
    "import adafruit_bme680\n",
    "import RPi.GPIO as GPIO\n",
    "import time\n",
    "import sys"
   ]
  },
  {
   "cell_type": "code",
   "execution_count": null,
   "id": "e1b6f241",
   "metadata": {},
   "outputs": [],
   "source": [
    "# GPIO Pins definieren\n",
    "LED_PIN = 17\n",
    "BUZZER_PIN = 18\n",
    "\n",
    "# GPIO-Modus (BCM) und Pins konfigurieren\n",
    "GPIO.setmode(GPIO.BCM)\n",
    "GPIO.setup(LED_PIN, GPIO.OUT)\n",
    "GPIO.setup(BUZZER_PIN, GPIO.OUT)\n",
    "\n",
    "# PWM für den Buzzer einrichten\n",
    "pwm = GPIO.PWM(BUZZER_PIN, 1000)  # 1000 Hz Frequenz\n",
    "pwm.start(0)  # Start PWM mit 0% Duty Cycle (Buzzer aus)\n",
    "\n",
    "# I2C initialisieren\n",
    "i2c = busio.I2C(board.SCL, board.SDA)"
   ]
  },
  {
   "cell_type": "code",
   "execution_count": null,
   "id": "c51fdc53",
   "metadata": {},
   "outputs": [],
   "source": [
    "# BME680 Sensor initialisieren\n",
    "try:\n",
    "    bme680 = adafruit_bme680.Adafruit_BME680_I2C(i2c)\n",
    "    bme680.sea_level_pressure = 1013.25\n",
    "    print(\"Sensor erfolgreich initialisiert!\")\n",
    "except Exception as e:\n",
    "    print(f\"Fehler beim Initialisieren des Sensors: {e}\")\n",
    "    GPIO.cleanup()\n",
    "    exit(1)"
   ]
  },
  {
   "cell_type": "code",
   "execution_count": null,
   "id": "070e26cc",
   "metadata": {},
   "outputs": [],
   "source": [
    "def dot():\n",
    "    GPIO.output(LED_PIN, GPIO.HIGH)\n",
    "    pwm.ChangeDutyCycle(50)  # Buzzer an\n",
    "    time.sleep(1)  # LED 1 Sekunde an (Punkt)\n",
    "    GPIO.output(LED_PIN, GPIO.LOW)\n",
    "    pwm.ChangeDutyCycle(0)  # Buzzer aus\n",
    "    time.sleep(1)  # LED 1 Sekunde aus (Pause zwischen Zeichen)\n",
    "\n",
    "def dash():\n",
    "    GPIO.output(LED_PIN, GPIO.HIGH)\n",
    "    pwm.ChangeDutyCycle(50)  # Buzzer an\n",
    "    time.sleep(3)  # LED 3 Sekunden an (Strich)\n",
    "    GPIO.output(LED_PIN, GPIO.LOW)\n",
    "    pwm.ChangeDutyCycle(0)  # Buzzer aus\n",
    "    time.sleep(1)  # LED 1 Sekunde aus (Pause zwischen Zeichen)\n",
    "\n",
    "def letter_space():\n",
    "    time.sleep(3)  # Pause zwischen Buchstaben (3 Sekunden)\n",
    "\n",
    "def word_space():\n",
    "    time.sleep(7)  # Pause zwischen Wörtern (7 Sekunden)\n",
    "\n",
    "def send_sos():\n",
    "    dot(); dot(); dot()  # S\n",
    "    letter_space()\n",
    "    dash(); dash(); dash()  # O\n",
    "    letter_space()\n",
    "    dot(); dot(); dot()  # S\n",
    "    word_space()"
   ]
  },
  {
   "cell_type": "code",
   "execution_count": null,
   "id": "f2b34205",
   "metadata": {},
   "outputs": [],
   "source": [
    "try:\n",
    "    while True:\n",
    "        # Temperatur lesen\n",
    "        temperature = bme680.temperature\n",
    "        if temperature is not None:\n",
    "            # Temperatur ausgeben und Konsole aktualisieren\n",
    "            sys.stdout.write(f\"\\rAktuelle Temperatur: {temperature:.2f} °C\")\n",
    "            sys.stdout.flush()\n",
    "            \n",
    "            # Temperaturüberprüfung\n",
    "            if temperature >= 30:\n",
    "                # Temperatur >= 30°C: LED und Buzzer einschalten\n",
    "                GPIO.output(LED_PIN, GPIO.HIGH)\n",
    "                pwm.ChangeDutyCycle(50)  # Buzzer an\n",
    "                send_sos()  # SOS-Morsecode senden\n",
    "            else:\n",
    "                # Temperatur < 30°C: LED und Buzzer ausschalten\n",
    "                GPIO.output(LED_PIN, GPIO.LOW)\n",
    "                pwm.ChangeDutyCycle(0)  # Buzzer aus\n",
    "        \n",
    "        else:\n",
    "            print(\"Fehler beim Lesen der Temperatur\")\n",
    "        \n",
    "        # Verzögerung vor der nächsten Messung\n",
    "        time.sleep(1)\n",
    "\n",
    "except KeyboardInterrupt:\n",
    "    print(\"\\nProgramm beendet\")\n",
    "\n",
    "finally:\n",
    "    pwm.stop()  # Stoppe PWM\n",
    "    GPIO.cleanup()  # GPIO-Pins zurücksetzen"
   ]
  },
  {
   "cell_type": "markdown",
   "id": "f5ce9e2f",
   "metadata": {},
   "source": [
    "## 6. Experimente und Ergebnisse"
   ]
  },
  {
   "cell_type": "markdown",
   "id": "6ea552d5",
   "metadata": {},
   "source": [
    "### Versuchsaufbau\n",
    "- Der oben beschriebene Hardware-Aufbau wurde verwendet.\n",
    "- Der Code wurde in einem Jupyter Notebook ausgeführt.\n",
    "- Der Sensor überwachte die Temperatur, und die LED und der Buzzer reagierten entsprechend."
   ]
  },
  {
   "cell_type": "markdown",
   "id": "841c1763",
   "metadata": {},
   "source": [
    "## 7. Diskussion und Fazit"
   ]
  },
  {
   "cell_type": "markdown",
   "id": "c4fc8221",
   "metadata": {},
   "source": [
    "### Diskussion\n",
    "Das Projekt hat gezeigt, wie man eine LED und einen Buzzer mit einem Raspberry Pi und Python basierend auf Sensordaten steuert. \n",
    "Jupyter Notebooks wurden verwendet, um die Hardware-Experimente zu entwickeln und zu testen."
   ]
  },
  {
   "cell_type": "markdown",
   "id": "d9da3386",
   "metadata": {},
   "source": [
    "### Fazit\n",
    "Das Projekt war erfolgreich in der Demonstration der Grundlagen der LED- und Buzzersteuerung sowie des Temperatursensors mit einem Raspberry Pi und der Nutzung von Jupyter Notebooks. \n",
    "Es bietet eine solide Grundlage für die Zusammenschltung mherer Komponenten."
   ]
  }
 ],
 "metadata": {
  "language_info": {
   "name": "python"
  }
 },
 "nbformat": 4,
 "nbformat_minor": 5
}
