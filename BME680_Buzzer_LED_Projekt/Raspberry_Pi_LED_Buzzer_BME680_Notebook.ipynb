{
 "cells": [
  {
   "cell_type": "markdown",
   "id": "3d1f0069",
   "metadata": {},
   "source": [
    "# LED-Buzzer-TemperaturSensor Projekt  \n",
    "<a id='LBT'></a>"
   ]
  },
  {
   "cell_type": "markdown",
   "id": "ac1eeef0",
   "metadata": {},
   "source": [
    "## 1. Einführung"
   ]
  },
  {
   "cell_type": "markdown",
   "id": "5182a41d",
   "metadata": {},
   "source": [
    "Dieses Jupyter Notebook führt in die praktische Anwendung der Steuerung einer [LED](../LED_Projekt/LED_Projekt.ipynb#leds), eines [Buzzers](https://www.arduinoob.de/buzzer-verwenden/) und eines [BME680-Sensors](../TempSensor_Projekt/TempSensor_Projekt.ipynb#temSens) mit einem [Raspberry Pi](../RaspberryPi_Jupyter_Grundlagen.ipynb) ein. \n",
    "Es kombiniert Elektronik und [Python-Programmierung](https://www.python.org/about/gettingstarted/), um eine Überwachung der Temperatur zu erstellen und bei Überschreitung eines Schwellenwerts ein [SOS-Signal](https://morsedecoder.com/de/sos-morsezeichen/) zu senden. \n",
    "Das Projekt zeigt, wie man ein digitales Signal einsetzt, um die Funktionalität verschiedener Hardware-Komponenten zu steuern."
   ]
  },
  {
   "cell_type": "markdown",
   "id": "e5cbdb4f",
   "metadata": {},
   "source": [
    "Projektskomponente im Blick:  "
   ]
  },
  {
   "cell_type": "markdown",
   "id": "2a7ca4ce",
   "metadata": {},
   "source": [
    "<img src=\"Bilder/raspberry_pi_5.webp\" alt=\"Pi_5\" style=\"width:500px; height:300px\">  \n",
    "<img src=\"Bilder/BME680.jpg\" alt=\"BME680\" style=\"width:300px; height:300px\">  \n",
    "<img src=\"Bilder/Buzzer-prayogindia.webp\" alt=\"Buzzer\" style=\"width:300px; height:300px\">  \n",
    "<img src=\"Bilder/red_led.jfif\" alt=\"LED\" style=\"width:300px; height:300px\">  \n"
   ]
  },
  {
   "cell_type": "markdown",
   "id": "74fa6426",
   "metadata": {},
   "source": [
    "Bilder-Quellen: [Raspberry Pi 5](https://www.pcworld.com/article/2219346/raspberry-pi-5-review.html), [BME680](https://blog.adafruit.com/2017/11/09/new-product-adafruit-bme680-temperature-humidity-pressure-and-gas-sensor/), [Buzzer](https://www.prayogindia.in/product/buzzer/), [LED](https://greenlaunches.com/other-stuff/red-leds-go-power-efficient-with-more-light-and-similar-power-consumption.php) \n",
    "\n",
    "Weiteres zu diesen Komponenten erfahren Sie gleich unten."
   ]
  },
  {
   "cell_type": "markdown",
   "id": "19082fde",
   "metadata": {},
   "source": [
    "### Projektziel\n",
    "Das Ziel dieses Projekts ist es, eine LED und einen Buzzer basierend auf der Temperaturüberwachung eines BME680-Sensors zu steuern und bei bestimmter Temperatur ein SOS-Signal zu senden."
   ]
  },
  {
   "cell_type": "markdown",
   "id": "f51921dc",
   "metadata": {},
   "source": [
    "### Relevanz\n",
    "Dieses Projekt ist relevant, da es die Grundlagen der Elektronik und Programmierung kombiniert und ein grundlegendes Verständnis \n",
    "für die Steuerung von Aktoren in Abhängigkeit von Sensordaten entwickelt."
   ]
  },
  {
   "cell_type": "markdown",
   "id": "d986ea7c",
   "metadata": {},
   "source": [
    "## 2. Grundlagen und Theorie"
   ]
  },
  {
   "cell_type": "markdown",
   "id": "78ba0081",
   "metadata": {},
   "source": [
    "| Komponente    | Funktionsweise                                                                                                                                               | Steuerung                                                                                                      | Link                                                                                              |\n",
    "|---------------|---------------------------------------------------------------------------------------------------------------------------------------------------------------|----------------------------------------------------------------------------------------------------------------|---------------------------------------------------------------------------------------------------|\n",
    "| **BME680 Sensor** | Der BME680 ist ein Umweltsensor, der Temperatur, Luftfeuchtigkeit, Druck und Luftqualität misst.                                                            | Die Kommunikation mit dem BME680 erfolgt über das I2C-Protokoll.                                                | [Datasheet](https://cdn-shop.adafruit.com/product-files/3660/BME680.pdf)                          |\n",
    "| **Buzzer**       | Ein [Buzzer](https://www.arduinoob.de/buzzer-verwenden/) ist ein elektronisches Bauteil, das einen akustischen Ton erzeugt, wenn Strom durch ihn fließt. | In diesem Projekt verwenden wir einen passiven Buzzer, der über ein PWM-Signal gesteuert wird, um Töne zu erzeugen. Die Frequenz des PWM-Signals bestimmt den Ton. | [Buzzer](https://www.arduinoob.de/buzzer-verwenden/)                                               |\n"
   ]
  },
  {
   "cell_type": "markdown",
   "id": "f6e9cd66",
   "metadata": {},
   "source": [
    "### GPIO-Steuerung\n",
    "- **Definition:** GPIO steht für General Purpose Input/Output. Die Pins des Raspberry Pi können entweder als Eingabe- oder Ausgabe-Pins konfiguriert werden.\n",
    "- **PWM-Anwendung:** PWM steht für Pulsweitenmodulation und wird hier verwendet, um die Lautstärke des Buzzers zu steuern.  \n",
    "\n",
    "**[Pinout des Raspberry Pi](./Bilder/Raspberry_Pi_5_GPIO-Pinout.png)** folgt unter Schaltungsdesign. "
   ]
  },
  {
   "cell_type": "markdown",
   "id": "36ecd988",
   "metadata": {},
   "source": [
    "**PWM-Signale für Buzzer**\n",
    "\n",
    "- **Definition:** Wie bei [Servomotoren](../ServoMotor_Projekt/ServoMotor_Projekt.ipynb#servoMoto) wird auch beim Buzzer [PWM](https://randomnerdtutorials.com/raspberry-pi-pwm-python/) verwendet, um das Signal zu modulieren. Hier variiert jedoch die Frequenz  des PWM-Signals, um unterschiedliche Töne zu erzeugen.\n",
    "- **Anwendung:** Der Buzzer in diesem Projekt wird mit einer PWM-Frequenz von 1000 Hz angesteuert, um einen konstanten Ton zu erzeugen."
   ]
  },
  {
   "cell_type": "markdown",
   "id": "8fecd277",
   "metadata": {},
   "source": [
    "#### [Arten von PWM](https://www.engineersgarage.com/articles-raspberry-pi-python-software-pwm-led-fading/):  "
   ]
  },
  {
   "cell_type": "markdown",
   "id": "0ba26eb7",
   "metadata": {},
   "source": [
    "| Komponente                | Funktionsweise                                                                                                                                                               | Steuerung                                                                                                   |\n",
    "|---------------------------|-------------------------------------------------------------------------------------------------------------------------------------------------------------------------------|-------------------------------------------------------------------------------------------------------------|\n",
    "| **Hardware-PWM (HW-PWM)**  | HW-PWM wird durch spezielle Hardware-Register des Mikrocontrollers (z. B. Raspberry Pi) gesteuert.                                                                           | Bietet eine präzise und stabile PWM-Signalausgabe, unabhängig von anderen Prozessen. Verwendet für zeitkritische Anwendungen wie Motorsteuerung.   |\n",
    "| **PINs HW-PWM**            | PWM0: GPIO 12 (Pin 32), GPIO 18 (Pin 12) <br> PWM1: GPIO 13 (Pin 33), GPIO 19 (Pin 35)                                                                                       |                                                                                                             |\n",
    "| **Software-PWM (SW-PWM)**  | SW-PWM wird in der Software implementiert, indem Pins durch Programmierung mit `sleep()` ein- und ausgeschaltet werden.                                                      | Geringere Präzision und Stabilität, kann durch andere laufende Prozesse beeinflusst werden. Nützlich für einfache Anwendungen oder wenn HW-PWM nicht verfügbar ist. |\n",
    "| **PINs SW-PWM**            | GPIO 18: Häufig genutzt, da viele Tutorials darauf verweisen. <br> GPIO 23: Beliebter Pin für SW-PWM. <br> GPIO 24: Geeignet für Projekte mit mehr PWM-Kanälen.              |                                                                                                             |\n"
   ]
  },
  {
   "cell_type": "markdown",
   "id": "36c29cb6",
   "metadata": {},
   "source": [
    "**Hilfreiche Links**  \n",
    "[Buzzer-Datenblatt](https://components101.com/sites/default/files/component_datasheet/Buzzer%20Datasheet.pdf)  \n",
    "[Buzzer verwenden](https://www.arduinoob.de/buzzer-verwenden/)  \n",
    "[PWM-Signals](https://randomnerdtutorials.com/raspberry-pi-pwm-python/)\n",
    "[How to Use Active and Passive Buzzers](https://www.circuitbasics.com/how-to-use-active-and-passive-buzzers-on-the-arduino/)  "
   ]
  },
  {
   "cell_type": "markdown",
   "id": "203341e7",
   "metadata": {},
   "source": [
    "### SOS Signal\n",
    "- **Morsecode:** SOS ist ein internationaler Notruf im Morsecode, dargestellt durch drei kurze Signale (Punkte), gefolgt von drei langen Signalen (Striche) und wiederum drei kurzen Signalen (Punkte).  \n",
    "- Für weitere über Morsecode klicken Sie [hier](https://morsedecoder.com/de/).  "
   ]
  },
  {
   "cell_type": "markdown",
   "id": "ba01b027",
   "metadata": {},
   "source": [
    "## 3. Materialien und Werkzeuge"
   ]
  },
  {
   "cell_type": "markdown",
   "id": "b8b7f408",
   "metadata": {},
   "source": [
    "| Kategorie    | Komponenten                                                                                                              |\n",
    "|--------------|--------------------------------------------------------------------------------------------------------------------------|\n",
    "| **Software** | [Raspbian OS](../Rasp_Pi_Einrichtung.ipynb#rasbioanOS) <br> [Python 3](https://www.python.org/about/gettingstarted/) <br> [Jupyter Notebook](../RaspberryPi_Jupyter_Grundlagen.ipynb) |\n",
    "| **Hardware** | Raspberry Pi 5 Model B Rev 1.0 <br> Breadboard <br> Jumper-Kabel <br> BME680 Sensor <br> LED <br> Buzzer <br> Widerstand X Ohm |\n"
   ]
  },
  {
   "cell_type": "markdown",
   "id": "1b6aa0a8",
   "metadata": {},
   "source": [
    "#### Übung\n",
    "Berechnen Sie den Widerstandswert, der für die Schaltung mit Red-LED gedacht ist.  \n",
    "\n",
    "<details>\n",
    "<summary>Lösung</summary>\n",
    "    R = {3,3V - 2V}/{0,02A} = 65 ohm.  \n",
    "\n",
    "    Ein Widerstand von 65 Ohm oder dem nächsthöheren verfügbaren Wert (z. B. 68 Ohm) wäre geeignet.  \n",
    "\n",
    "Tipp: gucken Sie sich dieses [Notebook](../LED_Projekt/LED_Projekt.ipynb).  \n",
    "</details>"
   ]
  },
  {
   "cell_type": "markdown",
   "id": "94dae138",
   "metadata": {},
   "source": [
    "| Komponente          | Verbindung                                                                                     |\n",
    "|---------------------|------------------------------------------------------------------------------------------------|\n",
    "| **LED**             | GPIO 17 des Raspberry Pi                                                                        |\n",
    "| **Buzzer**          | GPIO 18 des Raspberry Pi                                                                        |\n",
    "| **BME680 Sensor**   | Über I2C mit dem Raspberry Pi verbunden                                                         |\n"
   ]
  },
  {
   "cell_type": "markdown",
   "id": "20c3dc07",
   "metadata": {},
   "source": [
    "#### Übung\n",
    "Überlegen Sie sich, wie der Widerstand verdrahtet werden kann.  \n",
    "<details>\n",
    "<summary>Tipp!</summary>  \n",
    "\n",
    "    Gucken Sie sich den Schaltplan unten.\n",
    "</details>\n"
   ]
  },
  {
   "cell_type": "markdown",
   "id": "a2c603f3",
   "metadata": {},
   "source": [
    "## 4. Schaltungsdesign"
   ]
  },
  {
   "cell_type": "markdown",
   "id": "3f8d1119",
   "metadata": {},
   "source": [
    "\n",
    "### Raspberry Pi 5 GPIO-Pinout  \n",
    "Das folgende Bild zeigt die PINs und Protokollen eines Rasüpberry Pi und die wichtigsten [Funktionen](https://docs.nanoframework.net/content/getting-started-guides/beginner-explained.html), die mit PINs verbunden sind.  \n",
    "\n",
    "<img src=\"Bilder/Raspberry_Pi_5_GPIO-Pinout.png\" alt=\"Rasp Pi Pinout\" style=\"width:400px;\">   \n",
    "\n",
    "[Weiteres zu diesem Bild](https://community.particle.io/t/following-getting-started-guide-for-raspberry-pi-how-do-i-use-analog-pins/27771/2)  \n"
   ]
  },
  {
   "cell_type": "markdown",
   "id": "5aef55a5",
   "metadata": {},
   "source": [
    "### Zu BME680 Sensor\n",
    "**BME680 Schaltung**  \n",
    "Aussehen des BME680 Temperatursensors\n",
    "\n",
    "<img src=\"Bilder/BME680.jpg\" alt=\"BME680\" style=\"width:400px;\">  \n",
    "\n",
    "[Weiteres zu diesem Bild](https://blog.adafruit.com/2017/11/09/new-product-adafruit-bme680-temperature-humidity-pressure-and-gas-sensor/)  "
   ]
  },
  {
   "cell_type": "markdown",
   "id": "7abb6db3",
   "metadata": {},
   "source": [
    "So sieht die Schaltung des BME680 Sensors mit Rasp Pi PINs aus.  \n",
    "\n",
    "<img src=\"Bilder/Raspberry_Pi_5_BME680.png\" alt=\"BME680\" style=\"width:400px;\">  \n",
    "\n",
    "[Erstellt durch easyeda](https://easyeda.com/editor)  "
   ]
  },
  {
   "cell_type": "markdown",
   "id": "36119331",
   "metadata": {},
   "source": [
    "**Alternatives Bild**  \n",
    "Dieses Alternatives Bild zeigt eine klare Oberfläche der Komponentenschaltung.  \n",
    "\n",
    "<img src=\"Bilder/schaltplan.png\" style=\"width:400px;\">  \n",
    "\n",
    "[Erstellt durch circuito.io](https://www.circuito.io/app?components=9443,164792,200000)"
   ]
  },
  {
   "cell_type": "markdown",
   "id": "e1b77e2e",
   "metadata": {},
   "source": [
    "### Schaltplan\n",
    "**Kompletter Schaltplan**  \n",
    "Kompletter Schaltplan mit klarer Oberfläche, der durch [circuito.io](https://www.circuito.io/app?components=9443,9590,164792,200000,956215) erstellt wurde.  \n",
    "\n",
    "<img src=\"Bilder/GesamtSchaltPlan.png\" alt=\"Schaltplan1\" style=\"width:400px;\">  \n",
    "\n",
    "\n",
    "\n"
   ]
  },
  {
   "cell_type": "markdown",
   "id": "3e4502fa",
   "metadata": {},
   "source": [
    "**Alternativ**  \n",
    "Kompletter Schaltplan mit Pasp Pi Pins, der durch [easyeda](https://easyeda.com/editor) erstellt wurde.  \n",
    "\n",
    "<img src=\"Bilder/LED_Buzzer_Schaltung_Standard.png\" alt=\"Schaltplan2\" style=\"width:400px;\">  "
   ]
  },
  {
   "cell_type": "markdown",
   "id": "309fad2c",
   "metadata": {},
   "source": [
    "**Aussehen in Realität**  \n",
    "So könnte Ihre Schaltung in der Realität aussehen.  \n",
    "\n",
    "<img src=\"Bilder/LED_Buzzer_Schaltung.jpeg\" alt=\"Schaltplan\" style=\"width:400px;\">  \n",
    "  \n",
    "  "
   ]
  },
  {
   "cell_type": "markdown",
   "id": "d9519cd9",
   "metadata": {},
   "source": [
    "## 5. Implementierung"
   ]
  },
  {
   "cell_type": "markdown",
   "id": "a52e0eee",
   "metadata": {},
   "source": [
    "### Hardware-Aufbau\n",
    "1. Komponenten auf dem Breadboard platzieren und verkabeln.\n",
    "2. Raspberry Pi aufstellen und mit Strom durch an PC angeschlossenes USB versorgen."
   ]
  },
  {
   "cell_type": "markdown",
   "id": "08f8fda1",
   "metadata": {},
   "source": [
    "### Software-Setup\n",
    "1. [Raspbian OS](../Rasp_Pi_Einrichtung.ipynb#raspbianOS) installieren.\n",
    "2. [Python](../Installationen.ipynb#installationen) und [Jupyter Notebook](../Installationen.ipynb#installationen) installieren"
   ]
  },
  {
   "cell_type": "markdown",
   "id": "dc8d66f6",
   "metadata": {},
   "source": [
    "### Installieren Sie die erforderlichen Bibliotheken:  "
   ]
  },
  {
   "cell_type": "markdown",
   "id": "2ffcd7f0",
   "metadata": {},
   "source": [
    "Führen Sie die folgenden zwei Zeile direkt auf Jupyter aus, um die weitre notwendige Bibliotheken zu diesem Notebook zu installieren."
   ]
  },
  {
   "cell_type": "markdown",
   "id": "e0b43e5d",
   "metadata": {},
   "source": [
    "Installation von `adafruit-circuitpython-bme680`"
   ]
  },
  {
   "cell_type": "code",
   "execution_count": null,
   "id": "eee7615f",
   "metadata": {},
   "outputs": [],
   "source": [
    "!sudo pip3 install adafruit-circuitpython-bme680"
   ]
  },
  {
   "cell_type": "markdown",
   "id": "f7f9c797",
   "metadata": {},
   "source": [
    "Die [`Adafruit_CircuitPython_BME680`](https://learn.adafruit.com/adafruit-neotrellis/circuitpython-code)-Bibliothek ist eine Python-Bibliothek für die Verwendung mit dem BME680-Sensor von Adafruit. Die Bibliothek ermöglicht eine einfache Integration des Sensors in Projekte, die auf der CircuitPython-Plattform basieren, und bietet Funktionen zur Abfrage der gemessenen Werte. Klicken Sie [hier](https://github.com/adafruit/Adafruit_CircuitPython_BME680), um weiteres zu adafreuit-circuitpython zu erfahren."
   ]
  },
  {
   "cell_type": "code",
   "execution_count": null,
   "id": "67868042",
   "metadata": {},
   "outputs": [],
   "source": [
    "!sudo apt-get install python3-rpi.gpio"
   ]
  },
  {
   "cell_type": "markdown",
   "id": "d40b1923",
   "metadata": {},
   "source": [
    "`RPi.GPIO` wurde unter dem Schritt 4 hier in dem [Notebook](../Installationen.ipynb#installationen) erklärt."
   ]
  },
  {
   "cell_type": "code",
   "execution_count": null,
   "id": "c2b0bf98",
   "metadata": {},
   "outputs": [],
   "source": [
    "#importieren der notwendigen Bibliotheken\n",
    "import board"
   ]
  },
  {
   "cell_type": "markdown",
   "id": "412ff33c",
   "metadata": {},
   "source": [
    "`board`: Diese Bibliothek ermöglicht den Zugriff auf die Pins des Raspberry Pi, sodass sie in CircuitPython-Programmen verwendet werden können. Sie definiert eine Vielzahl von Board-spezifischen Konstanten, die in der Hardware-Programmierung genutzt werden können.  \n",
    "[Board-Dokumentation](https://docs.circuitpython.org/en/latest/shared-bindings/board/)"
   ]
  },
  {
   "cell_type": "code",
   "execution_count": null,
   "id": "c5566d5e",
   "metadata": {},
   "outputs": [],
   "source": [
    "import busio"
   ]
  },
  {
   "cell_type": "markdown",
   "id": "eabcc8d4",
   "metadata": {},
   "source": [
    "`busio`: Diese Bibliothek stellt Klassen zur Verfügung, die serielle Kommunikationsschnittstellen wie I2C und SPI unterstützen. Sie wird häufig in Kombination mit Sensoren verwendet, um Daten zwischen dem Mikrocontroller und den angeschlossenen Geräten auszutauschen.  \n",
    "[Busio-Dokumentation](https://docs.circuitpython.org/en/latest/shared-bindings/busio/)"
   ]
  },
  {
   "cell_type": "code",
   "execution_count": null,
   "id": "49c218af",
   "metadata": {},
   "outputs": [],
   "source": [
    "import adafruit_bme680\n",
    "import RPi.GPIO as GPIO\n",
    "import time"
   ]
  },
  {
   "cell_type": "markdown",
   "id": "07a71ac1",
   "metadata": {},
   "source": [
    "`adafruit_bme680`: Diese Bibliothek ist speziell für die Verwendung mit dem BME680-Sensor von Adafruit entwickelt worden. Sie ermöglicht die einfache Integration und Abfrage von Temperatur-, Luftfeuchtigkeits-, Luftdruck- und Luftqualitätsdaten.  \n",
    "[Intro zu Adafruit_bme680](https://docs.circuitpython.org/projects/bme680/en/latest/)  \n",
    "[Weiteres zu Time-Bibliothek](https://docs.python.org/3/library/time.html)  "
   ]
  },
  {
   "cell_type": "code",
   "execution_count": null,
   "id": "9c056c36",
   "metadata": {},
   "outputs": [],
   "source": [
    "import sys"
   ]
  },
  {
   "cell_type": "markdown",
   "id": "1c11cdb5",
   "metadata": {},
   "source": [
    "`sys`: Diese Standard-Python-Bibliothek bietet Zugang zu System-spezifischen Parametern und Funktionen. Sie ermöglicht z.B. das Beenden des Programms oder den Zugriff auf Kommandozeilenargumente.  \n",
    "[Sys-Dokumentation](https://docs.python.org/3/library/sys.html)"
   ]
  },
  {
   "cell_type": "code",
   "execution_count": null,
   "id": "e1b6f241",
   "metadata": {},
   "outputs": [],
   "source": [
    "# GPIO Pins definieren\n",
    "LED_PIN = 17\n",
    "BUZZER_PIN = 18\n",
    "\n",
    "# GPIO-Modus (BCM) und Pins konfigurieren\n",
    "GPIO.setmode(GPIO.BCM)\n",
    "GPIO.setup(LED_PIN, GPIO.OUT)\n",
    "GPIO.setup(BUZZER_PIN, GPIO.OUT)\n",
    "\n",
    "# PWM für den Buzzer einrichten\n",
    "pwm = GPIO.PWM(BUZZER_PIN, 1000)  # 1000 Hz Frequenz\n",
    "pwm.start(0)  # Start PWM mit 0% Duty Cycle (Buzzer aus)\n",
    "\n",
    "# I2C initialisieren\n",
    "i2c = busio.I2C(board.SCL, board.SDA)"
   ]
  },
  {
   "cell_type": "markdown",
   "id": "e2ea5f99",
   "metadata": {},
   "source": [
    "#### Übung\n",
    "Für BWM, also Buzzer, wurde der PIN 18 genutzt. Überlegen Sie sich, ob Sie den Buzzer an einem anderen PIN anschließen können.  \n",
    "Ist es noch möglich? Wenn ja, an welchem PIN denn?  \n",
    "\n",
    "<details>\n",
    "<summary>Lösung!</summary>\n",
    "Ja, es ist möglich, den Buzzer an einen anderen Pin anzuschließen, solange dieser Pin PWM unterstützt. Andere PWM-fähige Pins auf dem Raspberry Pi sind:  \n",
    "- GPIO 12 (Pin 32)  \n",
    "- GPIO 13 (Pin 33)  \n",
    "- GPIO 19 (Pin 35)  \n",
    "\n",
    "Zum Beispiel könnten Sie GPIO 12 (Pin 32) verwenden.  \n",
    "Gucken Sie sich das [Pinout-Bild](./Bilder/Raspberry_Pi_5_GPIO-Pinout.png).\n",
    "</details>\n"
   ]
  },
  {
   "cell_type": "code",
   "execution_count": null,
   "id": "c51fdc53",
   "metadata": {},
   "outputs": [],
   "source": [
    "# BME680 Sensor initialisieren\n",
    "try:\n",
    "    bme680 = adafruit_bme680.Adafruit_BME680_I2C(i2c)\n",
    "    bme680.sea_level_pressure = 1013.25\n",
    "    print(\"Sensor erfolgreich initialisiert!\")\n",
    "except Exception as e:\n",
    "    print(f\"Fehler beim Initialisieren des Sensors: {e}\")\n",
    "    GPIO.cleanup()\n",
    "    exit(1)"
   ]
  },
  {
   "cell_type": "markdown",
   "id": "d798264f",
   "metadata": {},
   "source": [
    "#### Übung\n",
    "Für die Kommunikation mit dem Temperatursensor wurde dir Kommunikationschnittstelle i2c benutzt. \n",
    "Überlegen Sie sich, ob sie eine andere Stelle verwenden können.  \n",
    "<details>\n",
    "<summary>Lösung!</summary>  \n",
    "\n",
    "Ja, der BME680 unterstützt auch die SPI-Schnittstelle als Alternative zu I2C. Bei SPI sind die benötigten Pins:  \n",
    "- MOSI (Master Out, Slave In)\n",
    "- MISO (Master In, Slave Out)\n",
    "- SCK (Serial Clock)\n",
    "- CS (Chip Select)\n",
    "\n",
    "Wenn Sie den Sensor über SPI anschließen möchten, müssen Sie die Verkabelung und den Code entsprechend anpassen, um die SPI-Schnittstelle zu verwenden.\n",
    "</details>"
   ]
  },
  {
   "cell_type": "code",
   "execution_count": null,
   "id": "070e26cc",
   "metadata": {},
   "outputs": [],
   "source": [
    "def dot():\n",
    "    GPIO.output(LED_PIN, GPIO.HIGH)\n",
    "    pwm.ChangeDutyCycle(50)  # Buzzer an\n",
    "    time.sleep(1)  # LED 1 Sekunde an (Punkt)\n",
    "    GPIO.output(LED_PIN, GPIO.LOW)\n",
    "    pwm.ChangeDutyCycle(0)  # Buzzer aus\n",
    "    time.sleep(1)  # LED 1 Sekunde aus (Pause zwischen Zeichen)\n",
    "\n",
    "def dash():\n",
    "    GPIO.output(LED_PIN, GPIO.HIGH)\n",
    "    pwm.ChangeDutyCycle(50)  # Buzzer an\n",
    "    time.sleep(3)  # LED 3 Sekunden an (Strich)\n",
    "    GPIO.output(LED_PIN, GPIO.LOW)\n",
    "    pwm.ChangeDutyCycle(0)  # Buzzer aus\n",
    "    time.sleep(1)  # LED 1 Sekunde aus (Pause zwischen Zeichen)\n",
    "\n",
    "def letter_space():\n",
    "    time.sleep(3)  # Pause zwischen Buchstaben (3 Sekunden)\n",
    "\n",
    "def word_space():\n",
    "    time.sleep(7)  # Pause zwischen Wörtern (7 Sekunden)\n",
    "\n",
    "def send_sos():\n",
    "    dot(); dot(); dot()  # S\n",
    "    letter_space()\n",
    "    dash(); dash(); dash()  # O\n",
    "    letter_space()\n",
    "    dot(); dot(); dot()  # S\n",
    "    word_space()"
   ]
  },
  {
   "cell_type": "markdown",
   "id": "96e53058",
   "metadata": {},
   "source": [
    "Dieser Code-Abschnitt definiert bzw. implementiert die SOS-Funktion."
   ]
  },
  {
   "cell_type": "markdown",
   "id": "b7ed79cb",
   "metadata": {},
   "source": [
    "#### Übung\n",
    "Recherschieren Sie, wie das Wort \"Help\" durch Morsecode dargestellt werden kann.  \n",
    "  \n",
    "<details>\n",
    "<summary>Lösung!</summary>  \n",
    "\n",
    "Das Wort \"HELP\" wird im Morsecode folgendermaßen dargestellt:  \n",
    " - H: .... (vier kurze Signale)  \n",
    " - E: . (ein kurzes Signal)  \n",
    " - L: .-.. (ein kurzes, ein langes, zwei kurze Signale)  \n",
    " - P: .--. (ein kurzes, zwei lange, ein kurzes Signal)  \n",
    "</details>"
   ]
  },
  {
   "cell_type": "code",
   "execution_count": null,
   "id": "f2b34205",
   "metadata": {},
   "outputs": [],
   "source": [
    "try:\n",
    "    while True:\n",
    "        # Temperatur lesen\n",
    "        temperature = bme680.temperature\n",
    "        if temperature is not None:\n",
    "            # Temperatur ausgeben und Konsole aktualisieren\n",
    "            sys.stdout.write(f\"\\rAktuelle Temperatur: {temperature:.2f} °C\")\n",
    "            sys.stdout.flush()\n",
    "            \n",
    "            # Temperaturüberprüfung\n",
    "            if temperature >= 30:\n",
    "                # Temperatur >= 30°C: LED und Buzzer einschalten\n",
    "                GPIO.output(LED_PIN, GPIO.HIGH)\n",
    "                pwm.ChangeDutyCycle(50)  # Buzzer an\n",
    "                send_sos()  # SOS-Morsecode senden\n",
    "            else:\n",
    "                # Temperatur < 30°C: LED und Buzzer ausschalten\n",
    "                GPIO.output(LED_PIN, GPIO.LOW)\n",
    "                pwm.ChangeDutyCycle(0)  # Buzzer aus\n",
    "        \n",
    "        else:\n",
    "            print(\"Fehler beim Lesen der Temperatur\")\n",
    "        \n",
    "        # Verzögerung vor der nächsten Messung\n",
    "        time.sleep(1)\n",
    "\n",
    "except KeyboardInterrupt:\n",
    "    print(\"\\nProgramm beendet\")\n",
    "\n",
    "finally:\n",
    "    pwm.stop()  # Stoppe PWM\n",
    "    GPIO.cleanup()  # GPIO-Pins zurücksetzen"
   ]
  },
  {
   "cell_type": "markdown",
   "id": "8168ef19",
   "metadata": {},
   "source": [
    "Dieser Code-Abschnitt ist sozusagen unsere main-Funktion. Hier wird der ganze Code und andere Funktionen aufgerufen und die PINs gesteuert."
   ]
  },
  {
   "cell_type": "markdown",
   "id": "f5ce9e2f",
   "metadata": {},
   "source": [
    "## 6. Experimente und Ergebnisse"
   ]
  },
  {
   "cell_type": "markdown",
   "id": "6ea552d5",
   "metadata": {},
   "source": [
    "### Versuchsaufbau\n",
    "- Der oben beschriebene Hardware-Aufbau wurde verwendet.\n",
    "- Der Code wurde in einem Jupyter Notebook ausgeführt.\n",
    "- Der Sensor überwachte die Temperatur, und die LED und der Buzzer reagierten entsprechend."
   ]
  },
  {
   "cell_type": "markdown",
   "id": "841c1763",
   "metadata": {},
   "source": [
    "## 7. Zusätzliche Ressourcen"
   ]
  },
  {
   "cell_type": "markdown",
   "id": "6c7b53ec",
   "metadata": {},
   "source": [
    "Für besseres Verstand und für die Klarheit gucken Sie sich die Notebooks bzw. folgenden Projekts:\n",
    "- [Grundlagen-Notebook](../RaspberryPi_Jupyter_Grundlagen.ipynb)\n",
    "- [BME680-Notebook](../TempSensor_Projekt/TempSensor_Projekt.ipynb#temSens)\n",
    "- [LED-Notebook](../LED_Projekt/LED_Projekt.ipynb#leds) \n",
    "\n",
    "- [CircuitPython & Python](https://learn.adafruit.com/adafruit-neotrellis/circuitpython-code)  \n",
    "- [Adafruit Library Reference](https://learn.adafruit.com/adafruit-motor-shield-v2-for-arduino/library-reference)\n",
    "- [Leg los mit CircuitPython](https://polluxlabs.net/circuitpython/leg-los-mit-circuitpython/)\n",
    "- [CircuitPython](https://docs.circuitpython.org/en/latest/README.html)"
   ]
  },
  {
   "cell_type": "markdown",
   "id": "23c94cb4",
   "metadata": {},
   "source": [
    "## Übung\n",
    "Überlegen Sie sich wie sie einen Motor mit einer Fan bzw. Ventilator verbinden können, so dass die Ventilator eingeschaltet wird, wenn die SOS-Hilfe aufgerufen wird, also wenn LED leuchtet und der Buzzer pipt.  \n",
    "\n",
    "Heraus zu finden: \n",
    "- Notwendige PINs\n",
    "- Transistorenart\n",
    "- Verdrahtung in der obigen Schaltung  \n",
    "<details>\n",
    "<summary>Lösung!</summary>  \n",
    "\n",
    "Um den Motor in die Schaltung zu integrieren, könnte ein NPN-Transistor verwendet werden, um den Motor an den Raspberry Pi anzuschließen. Der Transistor wird benötigt, weil der Raspberry Pi nicht genug Strom liefert, um den Motor direkt anzutreiben.\n",
    "\n",
    "- **Notwendige PINs:** Ein GPIO-Pin (z. B. GPIO 23) für das Steuersignal zum Transistor.\n",
    "- **Transistor:** Ein NPN-Transistor wie der 2N2222 könnte verwendet werden.\n",
    "- **Verdrahtung:** \n",
    "  - Der Kollektor des Transistors wird mit dem Minuspol des Motors verbunden.\n",
    "  - Der Emitter wird mit der Masse verbunden.\n",
    "  - Der GPIO-Pin wird über einen Widerstand an die Basis des Transistors angeschlossen.\n",
    "  - Der Pluspol des Motors wird an eine externe Spannungsquelle (z. B. 5V oder 12V) angeschlossen.\n",
    "  \n",
    "Wenn die LED leuchtet und der Buzzer piept, wird der GPIO-Pin aktiviert, wodurch der Transistor durchschaltet und den Motor aktiviert.\n",
    "</details>"
   ]
  }
 ],
 "metadata": {
  "language_info": {
   "name": "python"
  }
 },
 "nbformat": 4,
 "nbformat_minor": 5
}
