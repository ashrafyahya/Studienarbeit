{
 "cells": [
  {
   "cell_type": "markdown",
   "id": "4b18bfde",
   "metadata": {},
   "source": [
    "# Einführung in Jupyter Notebook und Raspberry Pi"
   ]
  },
  {
   "cell_type": "markdown",
   "id": "158e0a76",
   "metadata": {},
   "source": [
    "## Jupyter Notebook"
   ]
  },
  {
   "cell_type": "markdown",
   "id": "d014ac7a",
   "metadata": {},
   "source": [
    "Jupyter Notebook ist eine Open-Source-Webanwendung, die es ermöglicht, Dokumente zu erstellen und zu teilen, die Live-Code, Gleichungen, Visualisierungen und erläuternde Texte enthalten. Es wird häufig in wissenschaftlichen und datenwissenschaftlichen Bereichen verwendet, da es eine interaktive Umgebung bietet, in der Benutzer Code schreiben und sofortige Rückmeldungen erhalten können."
   ]
  },
  {
   "cell_type": "markdown",
   "id": "ad165455",
   "metadata": {},
   "source": [
    "### Funktionen von Jupyter Notebook"
   ]
  },
  {
   "cell_type": "markdown",
   "id": "02d7b2f8",
   "metadata": {},
   "source": [
    "- Interaktive Entwicklung: Ermöglicht das Schreiben und Ausführen von Codezellen, wodurch sofortige Ergebnisse sichtbar werden.\n",
    "- Integration von Text, Code und Visualisierungen: Ermöglicht das Einbetten von Diagrammen, Grafiken und formatiertem Text, um Ergebnisse klar zu präsentieren.\n",
    "- Unterstützung mehrerer Programmiersprachen: Obwohl es hauptsächlich für Python verwendet wird, unterstützt Jupyter Notebook auch andere Sprachen wie R, Julia und mehr durch die Verwendung von Kernels."
   ]
  },
  {
   "cell_type": "markdown",
   "id": "1edb3d03",
   "metadata": {},
   "source": [
    "### Vorteile von Jupyter Notebook"
   ]
  },
  {
   "cell_type": "markdown",
   "id": "ecca0e50",
   "metadata": {},
   "source": [
    "- Leicht zu bedienen: Die Benutzeroberfläche ist intuitiv und erleichtert das Erlernen und Verwenden.\n",
    "- Kollaborativ: Dokumente können geteilt und gemeinsam bearbeitet werden, was die Zusammenarbeit fördert.\n",
    "- Erweiterbar: Eine Vielzahl von Erweiterungen und Plugins kann installiert werden, um die Funktionalität zu erweitern."
   ]
  },
  {
   "cell_type": "markdown",
   "id": "43b9c8d4",
   "metadata": {},
   "source": [
    "### Nützliche Links für Jupyter Notebook"
   ]
  },
  {
   "cell_type": "markdown",
   "id": "bc68834c",
   "metadata": {},
   "source": [
    "Offizielle Jupyter Webseite: https://jupyter.org/  \n",
    "Einführung zu Jupyter Notebooks auf GitHub: https://github.com/jupyter/notebook  \n",
    "Jupyter Notebook-Dokumentation: https://jupyter-notebook.readthedocs.io/en/stable/  "
   ]
  },
  {
   "cell_type": "markdown",
   "id": "44a3332c",
   "metadata": {},
   "source": [
    "## Raspberry Pi"
   ]
  },
  {
   "cell_type": "markdown",
   "id": "cdbb67c6",
   "metadata": {},
   "source": [
    "### Was ist ein Raspberry Pi?"
   ]
  },
  {
   "cell_type": "markdown",
   "id": "40ad1561",
   "metadata": {},
   "source": [
    "Der Raspberry Pi ist ein kostengünstiger, kreditkartengroßer Einplatinencomputer, der für Bildungszwecke entwickelt wurde, sich aber auch als leistungsfähiges Werkzeug für zahlreiche Elektronikprojekte etabliert hat. Er wird häufig verwendet, um Grundlagen der Programmierung, Elektronik und Robotik zu lehren und zu lernen."
   ]
  },
  {
   "cell_type": "markdown",
   "id": "b475be10",
   "metadata": {},
   "source": [
    "### Spezifikationen des Raspberry Pi 5"
   ]
  },
  {
   "cell_type": "markdown",
   "id": "78418e3c",
   "metadata": {},
   "source": [
    "- Prozessor: Quad-Core 64-bit ARM Cortex-A72\n",
    "- Arbeitsspeicher: 4GB RAM\n",
    "- Anschlüsse: GPIO-Pins, USB-Anschlüsse, HDMI, Audio, Ethernet, Kamera und Display Schnittstellen\n",
    "- Betriebssystem: Raspbian OS (ein Debian-basiertes Linux-Betriebssystem)"
   ]
  },
  {
   "cell_type": "markdown",
   "id": "263cc91e",
   "metadata": {},
   "source": [
    "### Vorteile des Raspberry Pi"
   ]
  },
  {
   "cell_type": "markdown",
   "id": "012af03a",
   "metadata": {},
   "source": [
    "- Erschwinglich: Kostengünstig und daher ideal für Bildungszwecke und Hobbyprojekte.\n",
    "- Vielseitig: Kann in einer Vielzahl von Projekten verwendet werden, von einfachen Elektronikschaltungen bis hin zu komplexen IoT-Anwendungen.\n",
    "- Große Community: Eine aktive Gemeinschaft bietet Unterstützung, Tutorials und Projekte, die es einfach machen, Hilfe zu finden und zu lernen."
   ]
  },
  {
   "cell_type": "markdown",
   "id": "117b34e9",
   "metadata": {},
   "source": [
    "### Einsatzmöglichkeiten des Raspberry Pi"
   ]
  },
  {
   "cell_type": "markdown",
   "id": "bb759fad",
   "metadata": {},
   "source": [
    "- Bildung: Programmier- und Elektronikunterricht.\n",
    "- Hausautomation: Steuerung von Haushaltsgeräten und Überwachungssystemen.\n",
    "- Mediacenter: Einsatz als Mediaplayer mit Software wie Kodi.\n",
    "- Prototyping: Schnelles und kostengünstiges Entwickeln und Testen von Prototypen für verschiedene Anwendungen."
   ]
  },
  {
   "cell_type": "markdown",
   "id": "636d6ba4",
   "metadata": {},
   "source": [
    "### Nützliche Links für Raspberry Pi"
   ]
  },
  {
   "cell_type": "markdown",
   "id": "58cabae9",
   "metadata": {},
   "source": [
    "Offizielle Raspberry Pi Webseite: https://www.raspberrypi.org/  \n",
    "Raspberry Pi Projekte auf GitHub: https://github.com/raspberrypi  \n",
    "Raspberry Pi Dokumentation: https://www.raspberrypi.com/documentation/  \n"
   ]
  },
  {
   "cell_type": "markdown",
   "id": "c883b2d0",
   "metadata": {},
   "source": [
    "## Fazit"
   ]
  },
  {
   "cell_type": "markdown",
   "id": "68553fdd",
   "metadata": {},
   "source": [
    "Das Zusammenspiel von Jupyter Notebook und Raspberry Pi bietet eine leistungsstarke Kombination für die Entwicklung und Durchführung von Elektronik- und Programmierprojekten. Während Jupyter Notebook eine interaktive Plattform für die Entwicklung und Visualisierung von Code bietet, stellt der Raspberry Pi die Hardwarebasis bereit, um reale physikalische Schaltungen zu steuern und zu testen. Durch die Kombination dieser beiden Werkzeuge können Lernende und Entwickler ein tieferes Verständnis für die Programmierung und Elektronik erlangen und innovative Projekte umsetzen."
   ]
  }
 ],
 "metadata": {
  "kernelspec": {
   "display_name": "Python 3 (ipykernel)",
   "language": "python",
   "name": "python3"
  },
  "language_info": {
   "codemirror_mode": {
    "name": "ipython",
    "version": 3
   },
   "file_extension": ".py",
   "mimetype": "text/x-python",
   "name": "python",
   "nbconvert_exporter": "python",
   "pygments_lexer": "ipython3",
   "version": "3.12.4"
  }
 },
 "nbformat": 4,
 "nbformat_minor": 5
}
