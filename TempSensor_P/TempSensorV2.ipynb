{
 "cells": [
  {
   "cell_type": "markdown",
   "id": "4b18bfde",
   "metadata": {},
   "source": [
    "# Temperatursensor-Projekt"
   ]
  },
  {
   "cell_type": "markdown",
   "id": "27784681",
   "metadata": {},
   "source": [
    "## 1. Einführung"
   ]
  },
  {
   "cell_type": "markdown",
   "id": "a7d3f8ae",
   "metadata": {},
   "source": [
    "### Projektziel\n",
    "Das Ziel dieses Projekts ist es, die Temperatur mithilfe eines DS18B20-Temperatursensors und eines Raspberry Pi zu messen und die Daten in Jupyter Notebook darzustellen. Dieses Projekt umfasst die Hardware-Schaltung, die Konfiguration des Raspberry Pi, die Programmierung in Python und die Visualisierung der Temperaturdaten. Es soll ein grundlegendes Verständnis für die Verwendung von Temperatursensoren, GPIO-Pins und die Datenverarbeitung in Python vermitteln."
   ]
  },
  {
   "cell_type": "markdown",
   "id": "88e708b7",
   "metadata": {},
   "source": [
    "### Hintergrund\n",
    "Der DS18B20 ist ein weit verbreiteter digitaler Temperatursensor, der das 1-Wire-Protokoll verwendet. Er ist bekannt für seine hohe Genauigkeit und Einfachheit bei der Integration in Mikrocontroller- und Mikroprozessorprojekte. Der Raspberry Pi ist ein kostengünstiger Einplatinencomputer, der häufig in Bildungs- und Hobbyprojekten verwendet wird. Durch die Kombination dieser beiden Komponenten können wir ein einfaches und effektives System zur Temperaturmessung und -überwachung erstellen."
   ]
  },
  {
   "cell_type": "markdown",
   "id": "9886a86d",
   "metadata": {},
   "source": [
    "### Relevanz\n",
    "Die Fähigkeit, Umweltdaten wie die Temperatur zu messen und zu überwachen, ist in vielen Bereichen von großer Bedeutung. Anwendungen reichen von der einfachen Raumüberwachung bis hin zu komplexen Systemen in der Industrieautomatisierung, der Landwirtschaft und dem Gesundheitswesen. Dieses Projekt bietet einen praktischen Einstieg in die Welt der Sensortechnik und der Datenverarbeitung und kann als Grundlage für weiterführende Projekte dienen, bei denen mehrere Sensoren oder andere Arten von Umweltdaten erfasst und analysiert werden."
   ]
  },
  {
   "cell_type": "markdown",
   "id": "3690b343",
   "metadata": {},
   "source": [
    "\n",
    "## 2. Materialien und Werkzeuge"
   ]
  },
  {
   "cell_type": "markdown",
   "id": "e4fa7ad2",
   "metadata": {},
   "source": [
    "### Raspberry Pi Modell\n",
    "- **Modell:** Raspberry Pi 5\n",
    "- **Spezifikationen:** 4GB RAM, Quad-Core 64-bit ARM Cortex-A72"
   ]
  },
  {
   "cell_type": "markdown",
   "id": "37d7cde4",
   "metadata": {},
   "source": [
    "### Jupyter Notebook\n",
    "Jupyter Notebook ist eine Open-Source-Webanwendung, die es ermöglicht, Dokumente mit Live-Code, Gleichungen, Visualisierungen und erläuterndem Text zu erstellen und zu teilen."
   ]
  },
  {
   "cell_type": "markdown",
   "id": "a6f11288",
   "metadata": {},
   "source": [
    "### Zusätzliche Hardware\n",
    "- Raspberry Pi (Modelle 3, 4, Zero oder ähnliche)\n",
    "- DS18B20 Temperatursensor\n",
    "- 4.7kΩ Pull-Up-Widerstand\n",
    "- Breadboard\n",
    "- Jumper-Kabel\n",
    "- Stromversorgung für den Raspberry Pi"
   ]
  },
  {
   "cell_type": "markdown",
   "id": "5159cbd5",
   "metadata": {},
   "source": [
    "### Software\n",
    "- Raspbian OS\n",
    "- Python 3\n",
    "- Jupyter Notebook"
   ]
  },
  {
   "cell_type": "markdown",
   "id": "e83763ef",
   "metadata": {},
   "source": [
    "## 3. Grundlagen und Theorie"
   ]
  },
  {
   "cell_type": "markdown",
   "id": "9d6a4ee9",
   "metadata": {},
   "source": [
    "### Elektrische Grundlagen\n",
    "- **Spannung (V):** Der elektrische Potentialunterschied.\n",
    "- **Strom (I):** Der Fluss von Elektronen durch einen Leiter.\n",
    "- **Widerstand (R):** Der Widerstand gegen den Stromfluss, gemessen in Ohm (Ω)."
   ]
  },
  {
   "cell_type": "markdown",
   "id": "3f8d2212",
   "metadata": {},
   "source": [
    "### Schaltkreise\n",
    "- **Serienschaltung:** Komponenten sind in einer Reihe geschaltet.\n",
    "- **Parallelschaltung:** Komponenten sind parallel zueinander geschaltet."
   ]
  },
  {
   "cell_type": "markdown",
   "id": "2b29e866",
   "metadata": {},
   "source": [
    "### Widerstände\n",
    "- **Funktion:** Begrenzen den Stromfluss und teilen Spannungen.\n",
    "- **Berechnung:** Ohm'sches Gesetz: \\( V = I \\cdot R \\)"
   ]
  },
  {
   "cell_type": "markdown",
   "id": "94462196",
   "metadata": {},
   "source": [
    "## 4. Datenblatt und Komponenten"
   ]
  },
  {
   "cell_type": "markdown",
   "id": "e0bd07e6",
   "metadata": {},
   "source": [
    "### Datenblattanalyse\n",
    "In diesem Projekt verwenden wir den DS18B20 Temperatursensor. Die technischen Daten dieses Sensors sind:\n",
    "- **Versorgungsspannung:** 3.0V bis 5.5V\n",
    "- **Messbereich:** -55°C bis +125°C\n",
    "- **Genauigkeit:** ±0.5°C im Bereich von -10°C bis +85°C"
   ]
  },
  {
   "cell_type": "markdown",
   "id": "1f32c258",
   "metadata": {},
   "source": [
    "## 5. Schaltungsdesign"
   ]
  },
  {
   "cell_type": "markdown",
   "id": "fee5d730",
   "metadata": {},
   "source": [
    "### Schaltplan\n"
   ]
  },
  {
   "cell_type": "markdown",
   "id": "1eef2bbf",
   "metadata": {},
   "source": [
    "### Komponentenauswahl\n",
    "- **DS18B20 Temperatursensor:** Ein digitaler Temperatursensor mit hoher Genauigkeit, der das 1-Wire-Protokoll verwendet.\n",
    "- **4.7kΩ Pull-Up-Widerstand:** Ein Widerstand, der die Datenleitung des DS18B20 in den hohen Zustand zieht, wenn sie nicht aktiv gezogen wird."
   ]
  },
  {
   "cell_type": "markdown",
   "id": "7b2d4a86",
   "metadata": {},
   "source": [
    "## 6. Implementierung"
   ]
  },
  {
   "cell_type": "markdown",
   "id": "7f670a56",
   "metadata": {},
   "source": [
    "### Hardware-Aufbau\n",
    "- VCC des DS18B20 wird mit dem 3.3V Pin des Raspberry Pi verbunden.\n",
    "- GND des DS18B20 wird mit dem GND Pin des Raspberry Pi verbunden.\n",
    "- DATA des DS18B20 wird mit GPIO 4 des Raspberry Pi verbunden.\n",
    "- Ein 4.7kΩ Widerstand wird zwischen DATA und 3.3V geschaltet."
   ]
  },
  {
   "cell_type": "markdown",
   "id": "5eb3ee71",
   "metadata": {},
   "source": [
    "### Software-Setup\n",
    "1. Raspbian OS installieren.\n",
    "2. Python und Jupyter Notebook installieren:\n",
    "    ```sh\n",
    "    sudo apt-get update\n",
    "    sudo apt-get install python3 jupyter\n",
    "    ```\n",
    "3. 1-Wire-Protokoll aktivieren.\n",
    "    ```sh\n",
    "    Geben Sie sudo raspi-config ein.\n",
    "    Wählen Sie \"Interfacing Options\".\n",
    "    Wählen Sie \"1-Wire\" und aktivieren Sie es.\n",
    "    Starten Sie den Raspberry Pi neu.\n",
    "    ```"
   ]
  },
  {
   "cell_type": "markdown",
   "id": "7dd02998-531f-43b6-b640-57a235cd96ce",
   "metadata": {},
   "source": [
    "### Code \n",
    "Hier kann das Code geschrieben werden."
   ]
  },
  {
   "cell_type": "markdown",
   "id": "a972fd89",
   "metadata": {},
   "source": [
    "## 7. Experimente und Ergebnisse"
   ]
  },
  {
   "cell_type": "markdown",
   "id": "29cffb1b",
   "metadata": {},
   "source": [
    "### Versuchsaufbau\n",
    "Um die Temperaturmessung zu testen, können wir den folgenden Code verwenden, um die gemessenen Temperaturen in regelmäßigen Abständen auszugeben:"
   ]
  },
  {
   "cell_type": "markdown",
   "id": "c7dcd231",
   "metadata": {},
   "source": [
    "### Datenerfassung\n",
    "Nutzung von Jupyter Notebook zur Datenerfassung und Analyse.\n"
   ]
  },
  {
   "cell_type": "markdown",
   "id": "33552b77",
   "metadata": {},
   "source": [
    "### Ergebnisse\n",
    "Diagramme und Tabellen der erfassten Daten."
   ]
  },
  {
   "cell_type": "markdown",
   "id": "5f41848c",
   "metadata": {},
   "source": [
    "## 8. Diskussion und Fazit"
   ]
  },
  {
   "cell_type": "markdown",
   "id": "a59692e8",
   "metadata": {},
   "source": [
    "### Diskussion\n",
    "Die Temperaturmessung mit dem DS18B20-Sensor und dem Raspberry Pi ist relativ einfach und liefert genaue Ergebnisse. Der Einsatz von Jupyter Notebook ermöglicht eine interaktive und benutzerfreundliche Darstellung der Daten. Eine mögliche Herausforderung könnte die Kalibrierung und Validierung der Messdaten sein, insbesondere in Umgebungen mit extremen Temperaturen."
   ]
  },
  {
   "cell_type": "markdown",
   "id": "f555ab7f",
   "metadata": {},
   "source": [
    "### Verbesserungsmöglichkeiten\n",
    "- Erweiterung des Projekts um mehrere Temperatursensoren.\n",
    "- Integration von weiteren Umweltsensoren wie Feuchtigkeitssensoren.\n",
    "- Speicherung der Temperaturdaten in einer Datenbank für langfristige Analysen.\n"
   ]
  },
  {
   "cell_type": "markdown",
   "id": "29bf717c",
   "metadata": {},
   "source": [
    "### Fazit\n",
    "Dieses Projekt zeigt, wie man einen Temperatursensor mit einem Raspberry Pi verwendet. Es bietet eine gute Grundlage, um die GPIO-Pins des Raspberry Pi und die Datenverarbeitung in Python kennenzulernen. Die Ergebnisse sind vielversprechend und das Projekt kann leicht erweitert werden, um komplexere Systeme zur Umweltdatenmessung zu entwickeln."
   ]
  },
  {
   "cell_type": "markdown",
   "id": "27dc1492",
   "metadata": {},
   "source": [
    "## 9. Anhänge"
   ]
  },
  {
   "cell_type": "markdown",
   "id": "8bcad6b8",
   "metadata": {},
   "source": [
    "### Quellcode\n",
    "Vollständiger Python-Code."
   ]
  },
  {
   "cell_type": "markdown",
   "id": "d351e39a",
   "metadata": {},
   "source": [
    "### Datenblätter\n",
    "- DS18B20 Datenblatt.\n"
   ]
  },
  {
   "cell_type": "markdown",
   "id": "933cf6b3",
   "metadata": {},
   "source": [
    "### Zusätzliche Ressourcen\n",
    "Links zu Tutorials, Dokumentationen, etc."
   ]
  },
  {
   "cell_type": "markdown",
   "id": "3af86650",
   "metadata": {},
   "source": [
    "## 10. Literaturverzeichnis\n",
    "- https://pdf1.alldatasheet.com/datasheet-pdf/view/58557/DALLAS/DS18B20.html"
   ]
  }
 ],
 "metadata": {
  "kernelspec": {
   "display_name": "Python 3 (ipykernel)",
   "language": "python",
   "name": "python3"
  },
  "language_info": {
   "codemirror_mode": {
    "name": "ipython",
    "version": 3
   },
   "file_extension": ".py",
   "mimetype": "text/x-python",
   "name": "python",
   "nbconvert_exporter": "python",
   "pygments_lexer": "ipython3",
   "version": "3.12.4"
  }
 },
 "nbformat": 4,
 "nbformat_minor": 5
}
