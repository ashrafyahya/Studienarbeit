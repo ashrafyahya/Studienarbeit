{
 "cells": [
  {
   "cell_type": "markdown",
   "id": "4b18bfde",
   "metadata": {},
   "source": [
    "# Temperatursensor"
   ]
  },
  {
   "cell_type": "markdown",
   "id": "a7d3f8ae",
   "metadata": {},
   "source": [
    "### Konzept, Idee, Intro\n",
    "Die Idee dieses Projekts ist es, die Temperatur mithilfe eines DS18B20-Temperatursensors und eines Raspberry Pi zu messen und die Daten in Jupyter Notebook anzuzeigen. Dieses Projekt hilft, ein grundlegendes Verständnis für die Verwendung von Temperatursensoren, GPIO-Pins und die Datenverarbeitung in Python zu entwickeln."
   ]
  },
  {
   "cell_type": "markdown",
   "id": "5159cbd5",
   "metadata": {},
   "source": [
    "### Softwarekomponenten\n",
    "1. Raspbian OS\n",
    "2. Python 3\n",
    "3. Jupyter Notebook"
   ]
  },
  {
   "cell_type": "markdown",
   "id": "e4fa7ad2",
   "metadata": {},
   "source": [
    "### Hardwarekomponenten\n",
    "1. Raspberry Pi (Modell 3, 4, 5, Zero oder ähnlich)\n",
    "2. DS18B20 Temperatursensor\n",
    "3. 4.7kΩ Pull-Up-Widerstand\n",
    "4. Breadboard und Jumper-Kabel\n",
    "5. Stromversorgung für den Raspberry Pi"
   ]
  },
  {
   "cell_type": "markdown",
   "id": "9630ebc4-6ddc-4da7-9891-09dcdb71f1ba",
   "metadata": {},
   "source": [
    "### Sensor/(Aktor)en, inkl. Datenblätter\n",
    "In diesem Projekt verwenden wir den DS18B20 Temperatursensor. Die technischen Daten dieses Sensors sind:\n",
    "\n",
    "1. Versorgungsspannung: 3.0V bis 5.5V\n",
    "2. Messbereich: -55°C bis +125°C\n",
    "3. Genauigkeit: ±0.5°C im Bereich von -10°C bis +85°C"
   ]
  },
  {
   "cell_type": "markdown",
   "id": "c16f5cd9-2817-43b9-a4a9-441bf5a8ebfd",
   "metadata": {},
   "source": [
    "### Bus\n",
    "Der DS18B20 verwendet das 1-Wire-Protokoll, das die Kommunikation über einen einzigen Datenpin ermöglicht."
   ]
  },
  {
   "cell_type": "markdown",
   "id": "9d6a4ee9",
   "metadata": {},
   "source": [
    "### HW-Schaltung\n",
    "Für die Schaltung benötigen wir einen 4.7kΩ Pull-Up-Widerstand, der zwischen die Datenleitung und die Versorgungsspannung (3.3V) geschaltet wird."
   ]
  },
  {
   "cell_type": "markdown",
   "id": "2b29e866",
   "metadata": {},
   "source": [
    "### Pin-Beschaltung\n",
    "1. VCC des DS18B20 an 3.3V des Raspberry Pi\n",
    "2. GND des DS18B20 an GND des Raspberry Pi\n",
    "3. DATA des DS18B20 an GPIO 4 des Raspberry Pi\n",
    "4. 4.7kΩ Widerstand zwischen DATA und 3.3V"
   ]
  },
  {
   "cell_type": "markdown",
   "id": "94d18c1e",
   "metadata": {},
   "source": [
    "### Pi-Config\n",
    "Bevor wir den Raspberry Pi verwenden, müssen wir sicherstellen, dass das 1-Wire-Protokoll aktiviert ist. Dies kann über das raspi-config-Tool gemacht werden:\n",
    "1. Öffnen Sie das Terminal und geben Sie sudo raspi-config ein.\n",
    "2. Wählen Sie \"Interfacing Options\".\n",
    "3. Wählen Sie \"1-Wire\" und aktivieren Sie es.\n",
    "4. Starten Sie den Raspberry Pi neu."
   ]
  },
  {
   "cell_type": "markdown",
   "id": "1f32c258",
   "metadata": {},
   "source": [
    "### Schaltungsdesign\n",
    "Hier soll Schaltungdesign addiert werden."
   ]
  },
  {
   "cell_type": "markdown",
   "id": "196d950b-6770-4826-929f-b47b075fa2a7",
   "metadata": {},
   "source": [
    "### Code zur Berechnung des Widerstands"
   ]
  },
  {
   "cell_type": "code",
   "execution_count": 53,
   "id": "885160e1-6cb2-4726-a4ef-df679ad76b04",
   "metadata": {},
   "outputs": [
    {
     "name": "stdout",
     "output_type": "stream",
     "text": [
      "Der berechnete Pull-Up-Widerstand beträgt: 75.00 Ohm\n",
      "Der standardmäßig verwendete Pull-Up-Widerstand beträgt: 4700 Ohm\n"
     ]
    }
   ],
   "source": [
    "# Python Code zur Berechnung des Pull-Up-Widerstands\n",
    "# Gegebene Werte\n",
    "Vcc = 3.3\n",
    "V_high = 3.0\n",
    "I_sink_max = 0.004\n",
    "\n",
    "# Berechnung des Pull-Up-Widerstands\n",
    "R_pull_up = (Vcc - V_high) / I_sink_max\n",
    "print(f\"Der berechnete Pull-Up-Widerstand beträgt: {R_pull_up:.2f} Ohm\")\n",
    "\n",
    "# Typischerweise wird ein 4.7kΩ Widerstand verwendet:\n",
    "R_standard = 4700\n",
    "print(f\"Der standardmäßig verwendete Pull-Up-Widerstand beträgt: {R_standard} Ohm\")\n"
   ]
  },
  {
   "cell_type": "markdown",
   "id": "9656ea3f-a0c1-4766-a3ce-3b03b1a969df",
   "metadata": {},
   "source": [
    "### Code"
   ]
  },
  {
   "cell_type": "code",
   "execution_count": null,
   "id": "e5952d8b-d107-4fd6-8af8-5691d0bab3f4",
   "metadata": {},
   "outputs": [],
   "source": [
    "import os\r\n",
    "import glob\r\n",
    "import time\r\n",
    "\r\n",
    "# 1-Wire-Dateisystem mounten\r\n",
    "os.system('modprobe w1-gpio')\r\n",
    "os.system('modprobe w1-therm')\r\n",
    "\r\n",
    "# Pfad zum Sensor finden\r\n",
    "base_dir = '/sys/bus/w1/devices/'\r\n",
    "device_folder = glob.glob(base_dir + '28*')[0]\r\n",
    "device_file = device_folder + '/w1_slave'\r\n",
    "\r\n",
    "def read_temp_raw():\r\n",
    "    with open(device_file, 'r') as f:\r\n",
    "        lines = f.readlines()\r\n",
    "    return lines\r\n",
    "\r\n",
    "def read_temp():\r\n",
    "    lines = read_temp_raw()\r\n",
    "    while lines[0].strip()[-3:] != 'YES':\r\n",
    "        time.sleep(0.2)\r\n",
    "        lines = read_temp_raw()\r\n",
    "    equals_pos = lines[1].find('t=')\r\n",
    "    if equals_pos != -1:\r\n",
    "        temp_string = lines[1][equals_pos + 2:]\r\n",
    "        temp_c = float(temp_string) / 1000.0\r\n",
    "        returemp_c\r\n",
    "\r\n",
    "print(read_temp())\r\n",
    "\n"
   ]
  },
  {
   "cell_type": "markdown",
   "id": "1ea3ae1c-12aa-4c8e-8a41-001bec0bb509",
   "metadata": {},
   "source": [
    "### Code Variation"
   ]
  },
  {
   "cell_type": "code",
   "execution_count": null,
   "id": "c77ffa05-b09b-4952-8dae-90eb9a398e7c",
   "metadata": {},
   "outputs": [],
   "source": [
    "def read_temp_f():\r\n",
    "    temp_c = read_temp()\r\n",
    "    temp_f = temp_c * 9.0 / 5.0 + 32.0\r\n",
    "    return temp_f\r\n",
    "\r\n",
    "# Beispiel für das Speichern der Daten in einer Datei\r\n",
    "with open('temperature_log.txt', 'w') as f:\r\n",
    "    try:\r\n",
    "        while True:\r\n",
    "            temp_c = read_temp()\r\n",
    "            temp_f = read_temp_f()\r\n",
    "            log_entry = f\"Temp (C): {temp_c:.2f}, Temp (F): {temp_f:.2f}\\n\"\r\n",
    "            f.write(log_entry)\r\n",
    "            time.sleep(1)\r\n",
    "    except KeyboardInterrupt:\r\n",
    "        print(\"Messung gestoppt\")\r\n"
   ]
  },
  {
   "cell_type": "markdown",
   "id": "7b2d4a86",
   "metadata": {},
   "source": [
    "### Aufgaben-Vorschläge\n",
    "1. Füge eine Umrechnung der Temperatur in Fahrenheit hinzu.\n",
    "2. Implementiere eine Funktion, die die Temperaturdaten in regelmäßigen Abständen in eine Datei schreibt.\n",
    "3. Zeige die Temperaturen in LCD."
   ]
  },
  {
   "cell_type": "markdown",
   "id": "29bf717c",
   "metadata": {},
   "source": [
    "### Fazit\n",
    "Dieses Projekt zeigt, wie man einen Temperatursensor mit einem Raspberry Pi verwendet. Es bietet eine gute Grundlage, um die GPIO-Pins des Raspberry Pi und die Datenverarbeitung in Python kennenzulernen."
   ]
  },
  {
   "cell_type": "markdown",
   "id": "3af86650",
   "metadata": {},
   "source": [
    "## 10. Literaturverzeichnis\n",
    "1. https://pdf1.alldatasheet.com/datasheet-pdf/view/58557/DALLAS/DS18B20.html"
   ]
  }
 ],
 "metadata": {
  "kernelspec": {
   "display_name": "Python 3 (ipykernel)",
   "language": "python",
   "name": "python3"
  },
  "language_info": {
   "codemirror_mode": {
    "name": "ipython",
    "version": 3
   },
   "file_extension": ".py",
   "mimetype": "text/x-python",
   "name": "python",
   "nbconvert_exporter": "python",
   "pygments_lexer": "ipython3",
   "version": "3.12.4"
  }
 },
 "nbformat": 4,
 "nbformat_minor": 5
}
