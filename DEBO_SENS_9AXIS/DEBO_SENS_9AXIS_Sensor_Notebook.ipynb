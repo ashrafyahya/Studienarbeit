{
 "cells": [
  {
   "cell_type": "markdown",
   "id": "ec71001b",
   "metadata": {},
   "source": [
    "# DEBO SENS 9AXIS Sensor Steuerung mit Raspberry Pi und Jupyter Notebook  \n",
    "<a id='DEBOSENS9AXIS'></a>"
   ]
  },
  {
   "cell_type": "markdown",
   "id": "a067ec54",
   "metadata": {},
   "source": [
    "## 1. Einführung\n",
    "Was ist der DEBO SENS 9AXIS Sensor?  \n",
    "\n",
    "<img src=\"Bilder/DEBO_SENS_9AXIS.png\" alt=\"DEBO SENS 9AXIS\" style=\"width:300px;\">\n",
    "\n",
    "Der DEBO SENS 9AXIS Sensor ist ein hochpräziser Sensor, der zur Messung der Beschleunigung und der Winkelgeschwindigkeit in drei Dimensionen konzipiert ist. Er kombiniert einen 3-Achsen-Beschleunigungssensor und einen 3-Achsen-Gyroskopsensor in einem einzigen Modul. Diese Sensoren sind in der Robotik, in der Fahrzeugnavigation und in der Bewegungserfassung sehr nützlich. Der Sensor kann Bewegungen und Neigungen in Echtzeit verfolgen, was ihn ideal für Anwendungen in der Spieleentwicklung, Augmented Reality (AR) und der Überwachung von Bewegungen macht."
   ]
  },
  {
   "cell_type": "markdown",
   "id": "db01128b",
   "metadata": {},
   "source": [
    "Führen Sie die folgenden zwei Zellen, um Videos zu 9AXIS Sensor in einem neuen Browser-Tab zu öffnen.  \n",
    "Hinweis: Beide Videos sind auf Englisch"
   ]
  },
  {
   "cell_type": "code",
   "execution_count": 16,
   "id": "64687841",
   "metadata": {},
   "outputs": [
    {
     "data": {
      "text/plain": [
       "True"
      ]
     },
     "execution_count": 16,
     "metadata": {},
     "output_type": "execute_result"
    }
   ],
   "source": [
    "import webbrowser\n",
    "url = \"https://youtu.be/a37xWuNJsQI?feature=shared\"\n",
    "webbrowser.open_new_tab(url)"
   ]
  },
  {
   "cell_type": "code",
   "execution_count": 15,
   "id": "683e382d",
   "metadata": {},
   "outputs": [],
   "source": [
    "url = \"https://youtu.be/ciX3L3nnNHg?feature=shared\"\n",
    "webbrowser.open_new_tab(url)"
   ]
  },
  {
   "cell_type": "markdown",
   "id": "8b3718ee",
   "metadata": {},
   "source": [
    "### Projektziel\n",
    "In dieser Einführung erfahren Sie, wie Sie den [DEBO SENS 9AXIS Sensor](https://cdn-reichelt.de/documents/datenblatt/A300/DEBO_SENS_3AXISH_AL-DE.pdf) mit einem [Raspberry Pi](../RaspberryPi_Jupyter_Grundlagen.ipynb) steuern und die gesammelten Daten in einem  [Jupyter Notebook](../RaspberryPi_Jupyter_Grundlagen.ipynb) analysieren können. Wir werden die grundlegenden Schritte durchgehen, um den Sensor korrekt anzuschließen, die erforderlichen Bibliotheken zu installieren und ein einfaches Programm zu schreiben, um die Sensordaten zu erfassen und darzustellen.\n"
   ]
  },
  {
   "cell_type": "markdown",
   "id": "3d7a48ef",
   "metadata": {},
   "source": [
    "### Relevanz\n",
    "Dieses Projekt kombiniert Grundlagen der Elektronik und Programmierung mit Hardware-Steuerung und gibt einen praxisorientierten Einstieg in das Auslesen von Sensordaten."
   ]
  },
  {
   "cell_type": "markdown",
   "id": "82abe98c",
   "metadata": {},
   "source": [
    "### Ressourcen\n",
    "Quellen für den Sensor:  \n",
    "- [DEBO SENS 9AXIS Sensor](https://cdn-reichelt.de/documents/datenblatt/A300/DEBO_SENS_3AXISH_AL-DE.pdf)  \n",
    "- [Raspberry Pi](https://www.raspberrypi.org/)"
   ]
  },
  {
   "cell_type": "markdown",
   "id": "c9024d88",
   "metadata": {},
   "source": [
    "## 2. Grundlagen und Theorie"
   ]
  },
  {
   "cell_type": "markdown",
   "id": "ec62904f",
   "metadata": {},
   "source": [
    "### DEBO SENS 9AXIS Sensor\n",
    "Der [DEBO SENS 9AXIS Sensor](https://cdn-reichelt.de/documents/datenblatt/A300/DEBO_SENS_3AXISH_AL-DE.pdf) kombiniert Beschleunigungsmesser, Gyroskop und Magnetometer in einem Chip. Dieser Sensor wird für Bewegungserkennung, Lagebestimmung und Schrittmessung eingesetzt."
   ]
  },
  {
   "cell_type": "markdown",
   "id": "4dc7abec",
   "metadata": {},
   "source": [
    "- **Beschleunigungsmesser:** Misst die Beschleunigung in x, y und z Richtung.\n",
    "- **Gyroskop:** Misst die Winkelgeschwindigkeit in drei Achsen.\n",
    "- **Magnetometer:** Misst das Magnetfeld in drei Dimensionen."
   ]
  },
  {
   "cell_type": "markdown",
   "id": "184cc5c5",
   "metadata": {},
   "source": [
    "### I2C Protokoll\n",
    "Der DEBO SENS 9AXIS verwendet das I2C-Kommunikationsprotokoll zur Datenübertragung.  \n",
    "Für weiteres gucken Sie sich dieses [Notebook](../TempSensor_Projekt/TemperaturSensor_Projekt.ipynb)  \n",
    "\n",
    "#### Nutzliche Link zu SPI und I2C\n",
    "- [SPI vs. I2C: So wählen Sie das beste Protokoll für Ihre Speicherchips](https://resources.altium.com/de/p/spi-versus-i2c-how-choose-best-protocol-your-memory-chips)\n",
    "- [SPI vs I2C Communication Protocols](https://www.fs-pcba.com/de/spi-vs-i2c/)\n",
    "    "
   ]
  },
  {
   "cell_type": "markdown",
   "id": "83985843",
   "metadata": {},
   "source": [
    "## 3. Materialien und Werkzeuge"
   ]
  },
  {
   "cell_type": "markdown",
   "id": "fffa5eb1",
   "metadata": {},
   "source": [
    "### Software & Hardware\n",
    "\n",
    "| Software          | Hardware                                                  |\n",
    "|-------------------|-------------------------------------------------------|\n",
    "| [Raspbian OS](../Rasp_Pi_Einrichtung.ipynb#rasbioanOS)      | Raspberry Pi 5 Model B |\n",
    "| [Python 3](https://www.python.org/about/gettingstarted/)         | DEBO SENS 9AXIS Sensor  |\n",
    "| [Jupyter Notebook](../RaspberryPi_Jupyter_Grundlagen.ipynb)   | Jumper-Kabel   |\n",
    "\n"
   ]
  },
  {
   "cell_type": "markdown",
   "id": "db271d22",
   "metadata": {},
   "source": [
    "### Datenblätter\n",
    "- [DEBO SENS 9AXIS Sensor](https://cdn-reichelt.de/documents/datenblatt/A300/DEBO_SENS_3AXISH_AL-DE.pdf)\n",
    "    "
   ]
  },
  {
   "cell_type": "markdown",
   "id": "8cbcbe56",
   "metadata": {},
   "source": [
    "## 4. Schaltungsdesign\n"
   ]
  },
  {
   "cell_type": "markdown",
   "id": "16064951",
   "metadata": {},
   "source": [
    "### Verdrahtung\n",
    "\n",
    "| Sensor-Pin | Raspberry Pi GPIO Pin | Funktion       |\n",
    "|------------|-----------------------|----------------|\n",
    "| SDA        | GPIO2 (SDA)          | Datenleitung   |\n",
    "| SCL        | GPIO3 (SCL)          | Taktsignal     |\n",
    "| VCC        | 3.3V                  | Stromversorgung |\n",
    "| GND        | Ground                | Masse          |\n",
    "\n",
    "\n",
    "Zur Verdeutlichung gucken Sie sich das [Pinout-Bild](./Bilder/Raspberry_Pi_5_GPIO-Pinout.png)\n"
   ]
  },
  {
   "cell_type": "markdown",
   "id": "454959be",
   "metadata": {},
   "source": [
    "### Aussehen des Sensors"
   ]
  },
  {
   "cell_type": "markdown",
   "id": "57e2611f",
   "metadata": {},
   "source": [
    "Das folgende [Bild](https://www.reichelt.de/entwicklerboards-beschl-lage-kompass-9-achsen-mpu-9250--debo-sens-9axis-p253988.html?CCOUNTRY=445&LANGUAGE=de) stellt dar, wie der Sensor aussieht.  \n",
    "\n",
    "<img src=\"Bilder/DEBO_SENS_9AXIS.png\" alt=\"DEBO SENS 9AXIS\" style=\"width:300px;\">  \n"
   ]
  },
  {
   "cell_type": "markdown",
   "id": "373b0b91",
   "metadata": {},
   "source": [
    "### Aussehen der Schaltung"
   ]
  },
  {
   "cell_type": "markdown",
   "id": "5542b09f",
   "metadata": {},
   "source": [
    "Der folgende [Schaltungsplan](https://cdn-reichelt.de/documents/datenblatt/A300/DEBO_SENS_3AXISH_AL-DE.pdf) zeigt, wie man den Sensor mit RaspPi verbindet.  \n",
    "\n",
    "<img src=\"Bilder/Schaltung.png\" alt=\"Schaltung\" style=\"width:300px;\">  \n"
   ]
  },
  {
   "cell_type": "markdown",
   "id": "11fa212d",
   "metadata": {},
   "source": [
    "## 5. Implementierung\n"
   ]
  },
  {
   "cell_type": "markdown",
   "id": "049691d9",
   "metadata": {},
   "source": [
    "\n",
    "### Python Bibliotheken\n",
    "Um den DEBO SENS 9AXIS Sensor anzusprechen, werden folgende Bibliotheken benötigt:\n",
    "- `smbus`  \n",
    "- `matplotlib`  \n",
    "Falls noch nicht geschehen, installieren Sie die Bibliothek `smbus` mit:"
   ]
  },
  {
   "cell_type": "code",
   "execution_count": 11,
   "id": "4e601dad",
   "metadata": {},
   "outputs": [
    {
     "name": "stdout",
     "output_type": "stream",
     "text": [
      "Requirement already satisfied: smbus2 in c:\\python312\\lib\\site-packages (0.4.3)\n"
     ]
    },
    {
     "name": "stderr",
     "output_type": "stream",
     "text": [
      "\n",
      "[notice] A new release of pip is available: 23.2.1 -> 24.2\n",
      "[notice] To update, run: python.exe -m pip install --upgrade pip\n"
     ]
    }
   ],
   "source": [
    "!pip3 install smbus2"
   ]
  },
  {
   "cell_type": "markdown",
   "id": "f58843a9",
   "metadata": {},
   "source": [
    "Für die Installation von ```Matplotlib``` gucken Sie sich dieses [Notebook](../Einführung%20in%20Matplotlib.ipynb)."
   ]
  },
  {
   "cell_type": "markdown",
   "id": "fb51bb43",
   "metadata": {},
   "source": [
    "#### Was ist smbus\n",
    "SMBus ist ein einfaches Kommunikationsprotokoll, das auf I2C (Inter-Integrated Circuit) basiert und ursprünglich für die Systemverwaltung in Computern entwickelt wurde. Es ermöglicht die Kommunikation zwischen einem Host und verschiedenen Peripheriegeräten (z.B. Sensoren).  \n",
    "\n",
    "- [Was ist ein SM-Bus-Controller?](https://praxistipps.chip.de/was-ist-ein-sm-bus-controller_10140)\n",
    "- [System Management Bus](https://de.wikipedia.org/wiki/System_Management_Bus)"
   ]
  },
  {
   "cell_type": "code",
   "execution_count": null,
   "id": "b203267a",
   "metadata": {},
   "outputs": [],
   "source": [
    "import time  # Importiert die Zeitbibliothek, um Zeitfunktionen zu nutzen\n",
    "from smbus2 import SMBus  # Importiert die SMBus-Klasse für die I2C-Kommunikation\n",
    "import matplotlib.pyplot as plt  # Importiert matplotlib für das Zeichnen von Plots"
   ]
  },
  {
   "cell_type": "code",
   "execution_count": 7,
   "id": "28853b0c",
   "metadata": {},
   "outputs": [],
   "source": [
    "# Definiert die Adresse des Geräts und die Register für die Beschleunigungsdaten\n",
    "DEVICE_ADDRESS = 0x68  # Beispieladresse des Beschleunigungssensors (kann variieren)\n",
    "ACCEL_X_REG = 0x3B  # Registeradresse für die X-Beschleunigungsdaten\n",
    "ACCEL_Y_REG = 0x3D  # Registeradresse für die Y-Beschleunigungsdaten\n",
    "ACCEL_Z_REG = 0x3F  # Registeradresse für die Z-Beschleunigungsdaten"
   ]
  },
  {
   "cell_type": "code",
   "execution_count": null,
   "id": "ef3d25dd",
   "metadata": {},
   "outputs": [],
   "source": [
    "# Öffnet den I2C-Bus (Standardbus für Raspberry Pi)\n",
    "bus = SMBus(1)  # Bus 1 wird für die meisten Raspberry Pi-Modelle verwendet"
   ]
  },
  {
   "cell_type": "code",
   "execution_count": null,
   "id": "b078b02a",
   "metadata": {},
   "outputs": [],
   "source": [
    "# Funktion zur Kalibrierung des Sensors\n",
    "def calibrate_sensor(samples=100):\n",
    "    # Initialisiert die Offset-Werte für jede Achse\n",
    "    x_offset = 0\n",
    "    y_offset = 0\n",
    "    z_offset = 0\n",
    "    # Führt eine Schleife aus, um mehrere Messungen zur Kalibrierung zu sammeln\n",
    "    for _ in range(samples):\n",
    "        # Liest die Beschleunigungsdaten von den jeweiligen Registern\n",
    "        x_accel = bus.read_byte_data(DEVICE_ADDRESS, ACCEL_X_REG)\n",
    "        y_accel = bus.read_byte_data(DEVICE_ADDRESS, ACCEL_Y_REG)\n",
    "        z_accel = bus.read_byte_data(DEVICE_ADDRESS, ACCEL_Z_REG)\n",
    "\n",
    "        # Addiert die Werte zur Offset-Berechnung\n",
    "        x_offset += x_accel\n",
    "        y_offset += y_accel\n",
    "        z_offset += z_accel\n",
    "        time.sleep(0.1)  # Wartet 0,1 Sekunden zwischen den Messungen\n",
    "\n",
    "    # Berechnet den Durchschnittswert für jede Achse als Offset\n",
    "    x_offset /= samples\n",
    "    y_offset /= samples\n",
    "    z_offset /= samples\n",
    "    \n",
    "    return x_offset, y_offset, z_offset  # Gibt die Offset-Werte zurück"
   ]
  },
  {
   "cell_type": "code",
   "execution_count": null,
   "id": "c8653d4d",
   "metadata": {},
   "outputs": [],
   "source": [
    "# Kalibrierung durchführen und die Offset-Werte speichern\n",
    "offsets = calibrate_sensor()\n",
    "print(f\"Offsets - X: {offsets[0]:.2f}, Y: {offsets[1]:.2f}, Z: {offsets[2]:.2f}\")"
   ]
  },
  {
   "cell_type": "code",
   "execution_count": null,
   "id": "59ad470d",
   "metadata": {},
   "outputs": [],
   "source": [
    "# Listen zur Speicherung der Zeit und der Beschleunigungsdaten erstellen\n",
    "times = []  # Liste zur Speicherung der Zeitstempel\n",
    "accel_x = []  # Liste zur Speicherung der X-Beschleunigungsdaten\n",
    "accel_y = []  # Liste zur Speicherung der Y-Beschleunigungsdaten\n",
    "accel_z = []  # Liste zur Speicherung der Z-Beschleunigungsdaten"
   ]
  },
  {
   "cell_type": "code",
   "execution_count": null,
   "id": "60795338",
   "metadata": {},
   "outputs": [],
   "source": [
    "# Werte ablesen und die Offsets abziehen\n",
    "try:\n",
    "    start_time = time.time()  # Startzeit erfassen, um Zeitdifferenzen zu berechnen\n",
    "    while True:  # Unendliche Schleife, um kontinuierlich Daten zu lesen\n",
    "        # Liest die Beschleunigungsdaten und subtrahiert die Offsets für genaue Werte\n",
    "        x_accel = bus.read_byte_data(DEVICE_ADDRESS, ACCEL_X_REG) - offsets[0]\n",
    "        y_accel = bus.read_byte_data(DEVICE_ADDRESS, ACCEL_Y_REG) - offsets[1]\n",
    "        z_accel = bus.read_byte_data(DEVICE_ADDRESS, ACCEL_Z_REG) - offsets[2]\n",
    "\n",
    "        # Aktuelle Zeit erfassen, relativ zur Startzeit\n",
    "        current_time = time.time() - start_time\n",
    "        # Speichert die Zeit und die Beschleunigungswerte in den Listen\n",
    "        times.append(current_time)\n",
    "        accel_x.append(x_accel)\n",
    "        accel_y.append(y_accel)\n",
    "        accel_z.append(z_accel)\n",
    "\n",
    "        # Gibt die aktuellen Beschleunigungswerte in der Konsole aus\n",
    "        print(f\"Beschleunigung - X: {x_accel:.2f} g, Y: {y_accel:.2f} g, Z: {z_accel:.2f} g\")\n",
    "        time.sleep(1)  # Wartet 1 Sekunde vor der nächsten Messung\n",
    "        \n",
    "# Beendet die Schleife und fängt die KeyboardInterrupt-Ausnahme (Strg+C) ab\n",
    "except KeyboardInterrupt:\n",
    "    print(\"Messung beendet.\")"
   ]
  },
  {
   "cell_type": "markdown",
   "id": "2e38ea61",
   "metadata": {},
   "source": [
    "### Darstellung in Matplotlib\n",
    "Nutzen Sie [Matplotlib](https://matplotlib.org/) zur Visualisierung der Sensordaten.\n"
   ]
  },
  {
   "cell_type": "code",
   "execution_count": null,
   "id": "ddbfb6e2",
   "metadata": {},
   "outputs": [],
   "source": [
    "# Plotten der Daten nach dem Beenden der Messung\n",
    "plt.figure(figsize=(10, 6))  # Erstellt eine neue Figure mit einer bestimmten Größe\n",
    "# Plottet die X-Beschleunigungsdaten\n",
    "plt.plot(times, accel_x, label='Acceleration X (g)', color='blue')\n",
    "# Plottet die Y-Beschleunigungsdaten\n",
    "plt.plot(times, accel_y, label='Acceleration Y (g)', color='green')\n",
    "# Plottet die Z-Beschleunigungsdaten\n",
    "plt.plot(times, accel_z, label='Acceleration Z (g)', color='red')\n",
    "plt.xlabel('Time (s)')  # Beschriftung der x-Achse\n",
    "plt.ylabel('Acceleration (g)')  # Beschriftung der y-Achse\n",
    "plt.title('Accelerometer Data over Time')  # Titel des Plots\n",
    "plt.grid(True)  # Aktiviert das Gitter im Plot\n",
    "plt.legend()  # Zeigt die Legende an\n",
    "plt.show()  # Zeigt den Plot an"
   ]
  },
  {
   "cell_type": "markdown",
   "id": "acd2a3e4",
   "metadata": {},
   "source": [
    "\n",
    "### Übung\n",
    "- Änderen Sie die GPIO-Pins, um mit anderen I2C-Schnittstellen zu arbeiten.\n",
    "  \n",
    "- <details>\n",
    "  <summary>Lösung einblinden!</summary>\n",
    "  <img src=\"Bilder/i2c.png\" alt=\"DEBO SENS 9AXIS\" style=\"width:300px;\">   \n",
    "\n",
    "  [Bild-Quelle](https://www.raspberrypi.com/documentation/computers/compute-module.html#i2c-mapping-of-gpio-pins)\n",
    "</details>\n",
    "    "
   ]
  },
  {
   "cell_type": "markdown",
   "id": "bd59b70f",
   "metadata": {},
   "source": [
    "\n",
    "## 6. Ergebnisse und Ausblick\n",
    "Der DEBO SENS 9AXIS Sensor lieferte genaue Messwerte zu Beschleunigung, Gyroskop und Magnetometer in Echtzeit. Diese Daten können zur Lageerkennung und Bewegungsverfolgung verwendet werden.\n",
    "    \n",
    "Weitere Ressourcen:\n",
    "- [DEBO SENS 9AXIS Sensor](https://cdn-reichelt.de/documents/datenblatt/A300/DEBO_SENS_3AXISH_AL-DE.pdf)\n",
    "- [Jupyter Notebook Grundlagen](../RaspberryPi_Jupyter_Grundlagen.ipynb)\n",
    "    "
   ]
  }
 ],
 "metadata": {
  "kernelspec": {
   "display_name": "Python 3",
   "language": "python",
   "name": "python3"
  },
  "language_info": {
   "codemirror_mode": {
    "name": "ipython",
    "version": 3
   },
   "file_extension": ".py",
   "mimetype": "text/x-python",
   "name": "python",
   "nbconvert_exporter": "python",
   "pygments_lexer": "ipython3",
   "version": "3.12.1"
  }
 },
 "nbformat": 4,
 "nbformat_minor": 5
}
