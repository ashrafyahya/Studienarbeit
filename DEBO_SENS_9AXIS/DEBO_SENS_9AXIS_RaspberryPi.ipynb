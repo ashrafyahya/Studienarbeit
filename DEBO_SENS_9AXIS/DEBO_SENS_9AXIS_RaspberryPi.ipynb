{
 "cells": [
  {
   "cell_type": "markdown",
   "id": "cf4f55b0",
   "metadata": {},
   "source": [
    "# DEBO SENS 9AXIS Sensor mit Raspberry Pi"
   ]
  },
  {
   "cell_type": "markdown",
   "id": "625d09d5",
   "metadata": {},
   "source": [
    "\n",
    "    In diesem Notebook werden wir den DEBO SENS 9AXIS Sensor mit einem Raspberry Pi verbinden und die Daten \n",
    "    auslesen. Der Sensor bietet Daten zu Beschleunigung, Gyroskop und Magnetfeld, basierend auf dem MPU-9250 oder ähnlichen IC.\n",
    "    "
   ]
  },
  {
   "cell_type": "code",
   "execution_count": null,
   "id": "ad012848",
   "metadata": {},
   "outputs": [],
   "source": [
    "\n",
    "# Bibliotheken importieren\n",
    "from mpu9250_jmdev.registers import *\n",
    "from mpu9250_jmdev.mpu_9250 import MPU9250\n",
    "import time\n",
    "    "
   ]
  },
  {
   "cell_type": "markdown",
   "id": "1c7c8007",
   "metadata": {},
   "source": [
    "## Initialisierung des Sensors"
   ]
  },
  {
   "cell_type": "code",
   "execution_count": null,
   "id": "e99f442c",
   "metadata": {},
   "outputs": [],
   "source": [
    "\n",
    "# Initialisiere den Sensor\n",
    "mpu = MPU9250(\n",
    "    address_ak=AK8963_ADDRESS,  # Magnetometer\n",
    "    address_mpu_master=MPU9250_ADDRESS_68,  # Gyroskop und Accelerometer\n",
    "    bus=1,  # i2c Bus\n",
    "    gfs=GFS_250,  # Gyro-Vollbereich ±250dps\n",
    "    afs=AFS_2G,  # Accelerometer-Vollbereich ±2G\n",
    "    mfs=AK8963_BIT_16,  # Magnetometerauflösung 16bit\n",
    "    mode=AK8963_MODE_C100HZ)  # Magnetometermodus: kontinuierlich 100Hz\n",
    "    "
   ]
  },
  {
   "cell_type": "markdown",
   "id": "9749967e",
   "metadata": {},
   "source": [
    "## Kalibrierung und Konfiguration"
   ]
  },
  {
   "cell_type": "code",
   "execution_count": null,
   "id": "db2d2550",
   "metadata": {},
   "outputs": [],
   "source": [
    "\n",
    "# Initialisiere die Kalibrierung\n",
    "mpu.calibrate()  # Kalibriere Beschleunigungsmesser und Gyroskop\n",
    "mpu.configure()  # Konfiguriere das MPU9250-Gerät\n",
    "    "
   ]
  },
  {
   "cell_type": "markdown",
   "id": "086b323c",
   "metadata": {},
   "source": [
    "## Daten auslesen"
   ]
  },
  {
   "cell_type": "code",
   "execution_count": null,
   "id": "9d269e50",
   "metadata": {},
   "outputs": [],
   "source": [
    "\n",
    "# Unendliche Schleife, um Sensordaten kontinuierlich auszulesen\n",
    "try:\n",
    "    while True:\n",
    "        # Lese die Daten vom Sensor\n",
    "        accel_data = mpu.readAccelerometerMaster()\n",
    "        gyro_data = mpu.readGyroscopeMaster()\n",
    "        mag_data = mpu.readMagnetometerMaster()\n",
    "\n",
    "        # Beschleunigungsdaten\n",
    "        print(f\"Beschleunigung X: {accel_data[0]:.2f}g, Y: {accel_data[1]:.2f}g, Z: {accel_data[2]:.2f}g\")\n",
    "\n",
    "        # Gyroskopdaten\n",
    "        print(f\"Gyroskop X: {gyro_data[0]:.2f}dps, Y: {gyro_data[1]:.2f}dps, Z: {gyro_data[2]:.2f}dps\")\n",
    "\n",
    "        # Magnetometerdaten\n",
    "        print(f\"Magnetometer X: {mag_data[0]:.2f}µT, Y: {mag_data[1]:.2f}µT, Z: {mag_data[2]:.2f}µT\")\n",
    "\n",
    "        # Wartezeit von einer Sekunde\n",
    "        time.sleep(1)\n",
    "\n",
    "except KeyboardInterrupt:\n",
    "    print(\"Messung beendet.\")\n",
    "    "
   ]
  },
  {
   "cell_type": "markdown",
   "id": "81fd156f",
   "metadata": {},
   "source": [
    "### Verkabelung"
   ]
  },
  {
   "cell_type": "markdown",
   "id": "ba76bae9",
   "metadata": {},
   "source": [
    "\n",
    "    - **SDA** des Sensors an GPIO2 (SDA) des Raspberry Pi.\n",
    "    - **SCL** des Sensors an GPIO3 (SCL) des Raspberry Pi.\n",
    "    - **VCC** an 3.3V und **GND** an Ground des Raspberry Pi.\n",
    "    "
   ]
  },
  {
   "cell_type": "markdown",
   "id": "234ac3d1",
   "metadata": {},
   "source": [
    "### I2C aktivieren"
   ]
  },
  {
   "cell_type": "markdown",
   "id": "84ce0775",
   "metadata": {},
   "source": [
    "\n",
    "    Stelle sicher, dass der I2C-Bus aktiviert ist. Öffne das Konfigurationstool:\n",
    "    ```bash\n",
    "    sudo raspi-config\n",
    "    ```\n",
    "    Gehe zu **Interfacing Options** und aktiviere **I2C**.\n",
    "    "
   ]
  }
 ],
 "metadata": {},
 "nbformat": 4,
 "nbformat_minor": 5
}
