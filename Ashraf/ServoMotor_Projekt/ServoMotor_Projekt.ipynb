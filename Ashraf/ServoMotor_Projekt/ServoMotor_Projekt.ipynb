{
 "cells": [
  {
   "cell_type": "markdown",
   "id": "d8ff6655",
   "metadata": {},
   "source": [
    "\n",
    "# Servo Motor Control mit Raspberry Pi und Jupyter Notebook\n",
    "\n",
    "## 1. Einführung\n",
    "Dieses Jupyter Notebook führt in die praktische Anwendung der Steuerung von Servomotoren mit einem Raspberry Pi ein. \n",
    "Es kombiniert Elektronik und Python-Programmierung, um grundlegende Steuerungen für Servomotoren zu erstellen und zu testen. \n",
    "Das Projekt zeigt, wie man einen analogen Servomotor mit verschiedenen Bibliotheken steuert, die Grundlagen des PWM-Signals erklärt \n",
    "und den Aufbau der Schaltung beschreibt. Mit einer schrittweisen Anleitung und praxisnahen Experimenten bietet dieses Notebook eine \n",
    "solide Grundlage für Einsteiger in die Welt der Elektronik und die Nutzung des Raspberry Pi für Hardware-Projekte.\n",
    "\n",
    "### Projektziel\n",
    "Das Ziel dieses Projekts ist es, einen Servomotor mit einem Raspberry Pi zu steuern und dabei die Prinzipien der Pulsweitenmodulation (PWM) anzuwenden.\n",
    "\n",
    "### Relevanz\n",
    "Dieses Projekt ist relevant, da es die Grundlagen der Elektronik und Programmierung kombiniert und ein grundlegendes Verständnis \n",
    "für die Steuerung von Motoren, insbesondere Servomotoren, entwickelt.\n"
   ]
  },
  {
   "cell_type": "markdown",
   "id": "aa6b62ca",
   "metadata": {},
   "source": [
    "\n",
    "## 2. Grundlagen und Theorie\n",
    "\n",
    "### Servomotoren\n",
    "- **Funktionsweise:** Servomotoren sind Aktoren, die eine präzise Steuerung der Winkelposition ermöglichen. \n",
    "  Sie bestehen aus einem Motor, einem Potentiometer und einer Steuerungselektronik.\n",
    "- **Steuerung:** Servomotoren werden typischerweise mit einem PWM-Signal gesteuert, wobei die Pulsbreite die Position des Servos bestimmt.\n",
    "\n",
    "### PWM-Signale\n",
    "- **Definition:** PWM steht für Pulsweitenmodulation, eine Technik zur Steuerung der Leistung in elektronischen Schaltungen, \n",
    "  indem das Ein/Aus-Verhältnis eines Signals variiert wird.\n",
    "- **Anwendung bei Servos:** Die Position des Servos wird durch die Breite des PWM-Signals gesteuert, wobei typische Servos Pulse zwischen \n",
    "  1 ms (Min-Position) und 2 ms (Max-Position) erwarten.\n",
    "\n",
    "### Berechnung der PWM-Parameter\n",
    "- **Frequenz:** Typische PWM-Frequenzen für Servos liegen bei 50 Hz.\n",
    "- **Pulse:** Ein Puls von 1,5 ms bewegt den Servo in die Mittelposition.\n"
   ]
  },
  {
   "cell_type": "markdown",
   "id": "372d0d32",
   "metadata": {},
   "source": [
    "\n",
    "## 3. Materialien und Werkzeuge\n",
    "\n",
    "### Software\n",
    "- Raspbian OS\n",
    "- Python 3\n",
    "- Jupyter Notebook\n",
    "\n",
    "### Hardware\n",
    "- Raspberry Pi 5\n",
    "- Breadboard\n",
    "- Jumper-Kabel\n",
    "- GRV Servo Motor\n",
    "- 5V Stromversorgung für den Servo\n",
    "\n",
    "### Datenblätter\n",
    "**Servo-Datenblatt:**  \n",
    "- Drehmoment: 21.0/25.2oz.in\n",
    "- Geschwindigkeit: 0.12/10.1 s/60°\n",
    "- Spannung: 4.8-6V\n",
    "\n",
    "**Link zum Datenblatt:**  \n",
    "- [Servo Datenblatt](https://cdn-reichelt.de/documents/datenblatt/A300/316010005_01.pdf)\n",
    "- [Gravo Servo](https://wiki.seeedstudio.com/Grove-Servo/)\n",
    "\n",
    "\n",
    "### Verdrahtung\n",
    "- Der Steuerungs-Pin des Servos wird mit GPIO 18 des Raspberry Pi verbunden.\n",
    "- Die Stromversorgung erfolgt über eine externe 5V-Quelle, wobei die Masse (GND) mit dem GND des Raspberry Pi verbunden wird.\n"
   ]
  },
  {
   "cell_type": "markdown",
   "id": "dbe24bd1",
   "metadata": {},
   "source": [
    "\n",
    "## 4. Schaltungsdesign\n",
    "\n",
    "### Raspberry P i5 GPIO-Pinout\n",
    "<img src=\"Bilder/Raspberry_Pi_5_GPIO-Pinout.webp\" alt=\"Rasp Pi Pinout\" style=\"width:400px;\">  \n",
    "\n",
    "[Quelle](https://cdn.shopify.com/s/files/1/0195/1344/2404/files/Raspberry_Pi_5_GPIO-Pinout_1024x1024.png?v=1697124794)  \n",
    "\n",
    "### Zu Servo Motor \n",
    "<img src=\"Bilder/GRV_Motor.png\" alt=\"Servo Schaltung\" style=\"width:400px;\">  \n",
    "\n",
    "[Quelle](https://cdn-reichelt.de/documents/datenblatt/A300/316010005_01.pdf)\n",
    "\n",
    "### Schaltplan\n",
    "<img src=\"Bilder/Servo_Schaltung.jpeg\" alt=\"Servo Schaltung\" style=\"width:400px;\">\n",
    "\n",
    "### Komponentenauswahl\n",
    "- **Servomotor:** GRV Servo 21.0/25.2oz.in 0.12/10.1 s/60°\n",
    "- **Jumper-Kabel:** Für die Verbindung der GPIO-Pins mit dem Servo\n",
    "- **Breadboard:** Für die Schaltungsaufbauten"
   ]
  },
  {
   "cell_type": "markdown",
   "id": "9a58b582",
   "metadata": {},
   "source": [
    "#### [Für Weiteres klick hier.](https://voltaat-learn.webflow.io/tutorials/how-to-controll-a-servo-motor-with-raspberry-pi-5#Wiring-it-Up)"
   ]
  },
  {
   "cell_type": "markdown",
   "id": "d2eb723a",
   "metadata": {},
   "source": [
    "\n",
    "## 5. Implementierung\n",
    "\n",
    "### Hardware-Aufbau\n",
    "1. Komponenten auf dem Breadboard platzieren und verkabeln.\n",
    "2. Raspberry Pi aufstellen und mit Strom versorgen.\n",
    "\n",
    "### Software-Setup\n",
    "1. Raspbian OS installieren.\n",
    "2. Python und Jupyter Notebook installieren:\n",
    "    ```sh\n",
    "    sudo apt-get update\n",
    "    sudo apt-get install python3 jupyter\n",
    "    ```\n",
    "\n",
    "### Installiere die RPi.GPIO und gpiozero Bibliotheken:\n",
    "```sh\n",
    "    sudo apt-get install python3-rpi.gpio\n",
    "    pip3 install gpiozero\n",
    "```\n"
   ]
  },
  {
   "cell_type": "code",
   "execution_count": null,
   "id": "8065814d",
   "metadata": {},
   "outputs": [],
   "source": [
    "import RPi.GPIO as GPIO\n",
    "import time\n",
    "\n",
    "# Setup\n",
    "GPIO.setmode(GPIO.BCM)\n",
    "GPIO.setup(17, GPIO.OUT)\n",
    "\n",
    "# PWM mit 50Hz Frequenz\n",
    "pwm = GPIO.PWM(17, 50)\n",
    "pwm.start(7.5)  # Startposition in der Mitte\n",
    "\n",
    "try:\n",
    "    while True:\n",
    "        pwm.ChangeDutyCycle(7.5)  # Servo auf Mittelposition\n",
    "        time.sleep(2)\n",
    "        pwm.ChangeDutyCycle(2.5)  # Servo auf Min-Position\n",
    "        time.sleep(2)\n",
    "        pwm.ChangeDutyCycle(12.5) # Servo auf Max-Position\n",
    "        time.sleep(2)\n",
    "except KeyboardInterrupt:\n",
    "    pwm.stop()\n",
    "    GPIO.cleanup()\n"
   ]
  },
  {
   "cell_type": "markdown",
   "id": "62cbe0c6",
   "metadata": {},
   "source": [
    "\n",
    "### Darstellung in Matplotlib\n",
    "Matplotlib kann verwendet werden, um die PWM-Signale oder die Bewegungsposition des Servos über die Zeit darzustellen.\n"
   ]
  },
  {
   "cell_type": "markdown",
   "id": "919ff959",
   "metadata": {},
   "source": [
    "\n",
    "### Übung:\n",
    "Im obigen Beispiel wurde der Servo zwischen drei Positionen bewegt.  \n",
    "Erweitern Sie das Beispiel, um eine langsamere Bewegung zwischen den Positionen zu simulieren.\n"
   ]
  },
  {
   "cell_type": "markdown",
   "id": "2d8fde83",
   "metadata": {},
   "source": [
    "\n",
    "## 6. Experimente und Ergebnisse\n",
    "\n",
    "### Versuchsaufbau\n",
    "- Der oben beschriebene Hardware-Aufbau wurde verwendet.\n",
    "- Der Code wurde in einem Jupyter Notebook ausgeführt.\n",
    "- Der Servo bewegte sich entsprechend den vorgegebenen Positionen.\n"
   ]
  },
  {
   "cell_type": "markdown",
   "id": "8ebab9b6",
   "metadata": {},
   "source": [
    "\n",
    "### Beispiel: Servo Bewegung mit gpiozero\n",
    "Die gpiozero-Bibliothek bietet eine einfache Schnittstelle zur Steuerung von Servos.\n"
   ]
  },
  {
   "cell_type": "code",
   "execution_count": null,
   "id": "a0ab4c7f",
   "metadata": {},
   "outputs": [],
   "source": [
    "!pip3 install RPi.GPIO"
   ]
  },
  {
   "cell_type": "code",
   "execution_count": 15,
   "id": "ebbe8041",
   "metadata": {},
   "outputs": [
    {
     "ename": "ModuleNotFoundError",
     "evalue": "No module named 'RPi'",
     "output_type": "error",
     "traceback": [
      "\u001b[1;31m---------------------------------------------------------------------------\u001b[0m",
      "\u001b[1;31mModuleNotFoundError\u001b[0m                       Traceback (most recent call last)",
      "Cell \u001b[1;32mIn[15], line 1\u001b[0m\n\u001b[1;32m----> 1\u001b[0m \u001b[38;5;28;01mimport\u001b[39;00m \u001b[38;5;21;01mRPi\u001b[39;00m\u001b[38;5;21;01m.\u001b[39;00m\u001b[38;5;21;01mGPIO\u001b[39;00m \u001b[38;5;28;01mas\u001b[39;00m \u001b[38;5;21;01mGPIO\u001b[39;00m\n\u001b[0;32m      2\u001b[0m \u001b[38;5;28;01mimport\u001b[39;00m \u001b[38;5;21;01mtime\u001b[39;00m\n\u001b[0;32m      4\u001b[0m \u001b[38;5;66;03m# GPIO-Initialisierung\u001b[39;00m\n",
      "\u001b[1;31mModuleNotFoundError\u001b[0m: No module named 'RPi'"
     ]
    }
   ],
   "source": [
    "import RPi.GPIO as GPIO\n",
    "import time\n",
    "\n",
    "# GPIO-Initialisierung\n",
    "GPIO.setmode(GPIO.BCM)\n",
    "GPIO.setup(18, GPIO.OUT)\n",
    "\n",
    "# PWM auf GPIO 18 mit einer Frequenz von 50Hz\n",
    "pwm = GPIO.PWM(18, 50)\n",
    "pwm.start(0)\n",
    "\n",
    "def set_angle(angle):\n",
    "    duty = angle / 18 + 2\n",
    "    GPIO.output(18, True)\n",
    "    pwm.ChangeDutyCycle(duty)\n",
    "    time.sleep(0.05)\n",
    "    GPIO.output(18, False)\n",
    "    pwm.ChangeDutyCycle(0)\n",
    "if __name__ == '__main__':\n",
    "    degree = 180\n",
    "    direction = 0\n",
    "    try:\n",
    "        while True:\n",
    "            set_angle(degree)\n",
    "            print(degree)\n",
    "            if degree == 180:\n",
    "                direction = 1\n",
    "            elif degree == 0:\n",
    "                direction = 0\n",
    "                \n",
    "            if direction == 0:\n",
    "                degree += 10\n",
    "            else:\n",
    "                degree -= 10\n",
    "    except KeyboardInterrupt:\n",
    "        pwm.stop()\n",
    "        GPIO.cleanup()\n"
   ]
  },
  {
   "cell_type": "markdown",
   "id": "f44bc131",
   "metadata": {},
   "source": [
    "\n",
    "### Übung:\n",
    "Überlegen Sie sich, wie Sie den Servo kontinuierlich zwischen den Positionen gleiten lassen können.\n"
   ]
  },
  {
   "cell_type": "markdown",
   "id": "f88a572c",
   "metadata": {},
   "source": [
    "\n",
    "## 7. Diskussion und Fazit\n",
    "\n",
    "### Diskussion\n",
    "Das Projekt hat gezeigt, wie man einen Servomotor mit einem Raspberry Pi und Python steuert. \n",
    "Jupyter Notebooks wurden verwendet, um die Hardware-Experimente zu entwickeln und zu testen.\n",
    "\n",
    "### Verbesserungsmöglichkeiten\n",
    "- Erweiterung auf komplexere Bewegungsmuster und Servosteuerungen.\n",
    "- Implementierung eines Rückkopplungssystems zur Positionsbestimmung.\n",
    "\n",
    "### Fazit\n",
    "Das Projekt war erfolgreich in der Demonstration der Grundlagen der Servomotorsteuerung mit einem Raspberry Pi und der Nutzung von Jupyter Notebooks. \n",
    "Es bietet eine solide Grundlage für weiterführende Projekte in der Robotik und Automatisierung.\n"
   ]
  }
 ],
 "metadata": {
  "kernelspec": {
   "display_name": "Python 3 (ipykernel)",
   "language": "python",
   "name": "python3"
  },
  "language_info": {
   "codemirror_mode": {
    "name": "ipython",
    "version": 3
   },
   "file_extension": ".py",
   "mimetype": "text/x-python",
   "name": "python",
   "nbconvert_exporter": "python",
   "pygments_lexer": "ipython3",
   "version": "3.12.1"
  }
 },
 "nbformat": 4,
 "nbformat_minor": 5
}
