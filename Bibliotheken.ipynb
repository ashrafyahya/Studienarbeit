{
 "cells": [
  {
   "cell_type": "markdown",
   "id": "9fd29a99-73b2-4168-9ebe-b2cd79dd28de",
   "metadata": {},
   "source": [
    "# Installation der Bibliotheken"
   ]
  },
  {
   "cell_type": "markdown",
   "id": "08f930da-0fba-4828-a4f3-d675a3791704",
   "metadata": {},
   "source": [
    "Bevor Sie die Bibliotheken installieren, sollen Sie Ihr System mit folgenden Befehlen aktualisieren:"
   ]
  },
  {
   "cell_type": "code",
   "execution_count": null,
   "id": "96007969",
   "metadata": {},
   "outputs": [],
   "source": [
    "!sudo apt-get update\n",
    "!sudo apt-get upgrade"
   ]
  },
  {
   "cell_type": "markdown",
   "id": "765f0a9e-36a4-47e2-b831-9d5d31a182da",
   "metadata": {},
   "source": [
    "### Installation von Python auf Raspberry Pi\n",
    "Moderne Raspberry Pi-Modelle (z. B. Pi 3 und Pi 4) haben Python 3 bereits vorinstalliert. Prüfen Sie die Version:"
   ]
  },
  {
   "cell_type": "code",
   "execution_count": null,
   "id": "7169081a",
   "metadata": {},
   "outputs": [],
   "source": [
    "!python3 --version"
   ]
  },
  {
   "cell_type": "markdown",
   "id": "ca1f1fc0",
   "metadata": {},
   "source": [
    "Wenn Python 3 installiert ist, sollte die Ausgabe etwa so aussehen:  \n",
    "````Python 3.x.x````"
   ]
  },
  {
   "cell_type": "markdown",
   "id": "f621cf19",
   "metadata": {},
   "source": [
    "Falls Python 3 nicht installiert ist oder Sie eine neuere Version benötigen, installieren Sie Python3 mit folgenden Befehl:"
   ]
  },
  {
   "cell_type": "code",
   "execution_count": null,
   "id": "f01f45a5",
   "metadata": {},
   "outputs": [],
   "source": [
    "!sudo apt-get install python3 python3-pip"
   ]
  },
  {
   "cell_type": "markdown",
   "id": "28ecb0f2-8939-4432-a0d2-3d494f23bbbd",
   "metadata": {},
   "source": [
    "### Installation von Jupyter Notebook\n",
    "Installieren Sie Jupyter Notebook mit folgendem Befehl:"
   ]
  },
  {
   "cell_type": "code",
   "execution_count": null,
   "id": "7c0882d5",
   "metadata": {},
   "outputs": [],
   "source": [
    "!pip3 install notebook"
   ]
  },
  {
   "cell_type": "markdown",
   "id": "48da0568-0edc-4f40-ae4e-1ee26f7c8f56",
   "metadata": {},
   "source": [
    "### Starten von Jupyter Notebook\n",
    "Sie können Jupyter Notebook mit folgendem Befehl installieren:"
   ]
  },
  {
   "cell_type": "code",
   "execution_count": null,
   "id": "ea18945f",
   "metadata": {},
   "outputs": [],
   "source": [
    "!jupyter notebook"
   ]
  },
  {
   "cell_type": "markdown",
   "id": "03286b5e",
   "metadata": {},
   "source": [
    "Dadurch wird der Jupyter Notebook-Server gestartet.  \n",
    "Öffnen Sie die angegebene URL ```(z. B. http://localhost:8888)``` in einem Webbrowser auf dem Raspberry Pi."
   ]
  },
  {
   "cell_type": "markdown",
   "id": "7e4c75e4-7bf6-423b-ba07-18b427623269",
   "metadata": {},
   "source": [
    "### Installation der LED-Projektbibliotheken\n",
    "Für die Ausführung von LED-Projekt sollte man die Bibliotheken wie ```gpiozero``` und ```RPi.GPIO``` installieren."
   ]
  },
  {
   "cell_type": "markdown",
   "id": "977f6ad3-1e72-49aa-b9d3-a9bd9cc18543",
   "metadata": {},
   "source": [
    "| Bibliothek       |     auf Raspberry Pi             |  auf Jupyter Notebook            |\n",
    "|------------------|----------------------------------|----------------------------------|\n",
    "| **RPi.GPIO**     | ```pip install RPi.GPIO```       |````!pip install RPi.GPIO````     |\n",
    "| **gpiozero**     | ```pip install gpiozero```       |````!pip install gpiozero````     | "
   ]
  },
  {
   "cell_type": "markdown",
   "id": "25c6c4ef-de10-4330-80ba-81bc5e33acbf",
   "metadata": {},
   "source": [
    "### Installation der Temperatursensor-Projektbibliotheken"
   ]
  },
  {
   "cell_type": "markdown",
   "id": "63bd43dd-64e2-47a3-83b0-9567f228b5cb",
   "metadata": {},
   "source": [
    "|Bibliothek        | auf Raspberry Pi                            |auf Jupyter Notebook                      |\n",
    "|------------------|---------------------------------------------|------------------------------------------|\n",
    "| **bme680**       | ````pip install bme680 ````                 |````!pip install bme680````               |\n",
    "|**Adafruit-BME680**| ```pip install adafruit-circuitpython-bme680```|```!pip install adafruit-circuitpython-bme680```| \n",
    "| **smbus**        | ```sudo apt-get install python3-smbus```    |```sudo apt-get install python3-smbus```  |"
   ]
  },
  {
   "cell_type": "markdown",
   "id": "7a19b264-e755-44a7-8599-66689071960b",
   "metadata": {},
   "source": [
    "falls Sie mit ```bme280``` arbeiten wollen, ändern Sie ````bme680```` mit ````bme280```` ."
   ]
  },
  {
   "cell_type": "markdown",
   "id": "4390dc4e-0d4b-4d97-a0af-2d7dc0e5cd98",
   "metadata": {},
   "source": [
    "### Installation der Bibliotheken von LED-Buzzer-Temperatursenosrprojekt"
   ]
  },
  {
   "cell_type": "markdown",
   "id": "785670ee-96a3-48b0-8499-fc28b0553c3a",
   "metadata": {},
   "source": [
    "Um dieses Projekt aus fühern zu können, sollen die Bibliotheken von Temperatursensor- und LED Projekt insalliert werden."
   ]
  },
  {
   "cell_type": "markdown",
   "id": "b32d3913-f1ce-47b3-8d34-abc121b54fca",
   "metadata": {},
   "source": [
    "|Bibliothek        | auf Raspberry Pi                            |auf Jupyter Notebook                      |\n",
    "|------------------|---------------------------------------------|------------------------------------------|\n",
    "| **bme680**       | ````pip install bme680 ````                 |````!pip install bme680````               |\n",
    "|**Adafruit-BME680**| ```pip install adafruit-circuitpython-bme680```|```!pip install adafruit-circuitpython-bme680```| \n",
    "| **smbus**        | ```sudo apt-get install python3-smbus```    |```sudo apt-get install python3-smbus```  |\n",
    "| **RPi.GPIO**     | ```pip install RPi.GPIO```                  |````!pip install RPi.GPIO````             |\n",
    "| **gpiozero**     | ```pip install gpiozero```                  |````!pip install gpiozero````             | "
   ]
  },
  {
   "cell_type": "markdown",
   "id": "960d43c5-0945-4b13-bcd0-89644c5c5ff2",
   "metadata": {},
   "source": [
    "### Installation der Bibliotheken von DEBO_SENS_9AXIS_Sensorprojekt"
   ]
  },
  {
   "cell_type": "markdown",
   "id": "21a69e02-ab37-4973-868d-e48ab2b532bb",
   "metadata": {},
   "source": [
    "|Bibliothek        | auf Raspberry Pi                            |auf Jupyter Notebook                      |\n",
    "|------------------|---------------------------------------------|------------------------------------------|\n",
    "| **smbus**        | ```sudo apt-get install python3-smbus```    |```sudo apt-get install python3-smbus```  |\n",
    "| **Matplotlib**   | ```pip install matplotlib```                |```!pip install matplotlib```             |"
   ]
  },
  {
   "cell_type": "markdown",
   "id": "e5ab3c2a-7315-47a0-91cd-58218fdf9be5",
   "metadata": {},
   "source": [
    "### Installation der Bibliotheken von LED-Matrixprojekt\n",
    "Um dieses Projekt ausführen zu können, sollen die Bibliotheken wie ```gpiozero``` und ```RPi.GPIO``` wie oben beschrieben installiert werden."
   ]
  },
  {
   "cell_type": "markdown",
   "id": "e766b6dd-89dc-4b35-894c-b006ba265326",
   "metadata": {},
   "source": [
    "| Bibliothek         |     auf Raspberry Pi             |  auf Jupyter Notebook            |\n",
    "|--------------------|----------------------------------|----------------------------------|\n",
    "| **luma.led_matrix**| ````pip install luma.led_matrix````      |````!pip install luma.led_matrix````      |\n",
    "| **pillow**         | ````pip install pillow ````              |````!pip install pillow````            |  |"
   ]
  },
  {
   "cell_type": "markdown",
   "id": "0a2cb653-c21c-49b2-aa54-7d4966e5a6d0",
   "metadata": {},
   "source": [
    "### Installation der Bibliotheken von PIR-Motionsensorprojekt"
   ]
  },
  {
   "cell_type": "markdown",
   "id": "57f449ae-d7ef-47ea-be9c-071b7efa720e",
   "metadata": {},
   "source": [
    "| Bibliothek       |     auf Raspberry Pi             |  auf Jupyter Notebook            |\n",
    "|------------------|----------------------------------|----------------------------------|\n",
    "| **RPi.GPIO**     | ```pip install RPi.GPIO```       |````!pip install RPi.GPIO````     |\n",
    "| **gpiozero**     | ```pip install gpiozero```       |````!pip install gpiozero````     | "
   ]
  },
  {
   "cell_type": "markdown",
   "id": "a8d8b2fd-95f9-4fd5-8337-adfa7f6fa3ea",
   "metadata": {},
   "source": [
    "### Installation der Bibliotheken von Servomotorprojekt"
   ]
  },
  {
   "cell_type": "markdown",
   "id": "d17e3076-363c-49bb-b4ab-8719a81c64ab",
   "metadata": {},
   "source": [
    "| Bibliothek       |     auf Raspberry Pi             |  auf Jupyter Notebook            |\n",
    "|------------------|----------------------------------|----------------------------------|\n",
    "| **RPi.GPIO**     | ```pip install RPi.GPIO```       |````!pip install RPi.GPIO````     |\n",
    "| **gpiozero**     | ```pip install gpiozero```       |````!pip install gpiozero````     | "
   ]
  },
  {
   "cell_type": "code",
   "execution_count": null,
   "id": "862f4a6f-f24e-4252-8b1a-0e1c096c38d3",
   "metadata": {},
   "outputs": [],
   "source": []
  }
 ],
 "metadata": {
  "kernelspec": {
   "display_name": "Python 3 (ipykernel)",
   "language": "python",
   "name": "python3"
  },
  "language_info": {
   "codemirror_mode": {
    "name": "ipython",
    "version": 3
   },
   "file_extension": ".py",
   "mimetype": "text/x-python",
   "name": "python",
   "nbconvert_exporter": "python",
   "pygments_lexer": "ipython3",
   "version": "3.12.4"
  }
 },
 "nbformat": 4,
 "nbformat_minor": 5
}
