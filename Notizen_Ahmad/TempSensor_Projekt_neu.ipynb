{
 "cells": [
  {
   "cell_type": "markdown",
   "id": "4b18bfde",
   "metadata": {},
   "source": [
    "# Temperatursensor-Projekt  \n",
    "<a id='temSens'></a>"
   ]
  },
  {
   "cell_type": "markdown",
   "id": "27784681",
   "metadata": {},
   "source": [
    "## 1. Einführung"
   ]
  },
  {
   "cell_type": "markdown",
   "id": "a7d3f8ae",
   "metadata": {},
   "source": [
    "### Projektziel\n",
    "Das Ziel dieses Projekts ist es, die Temperatur mithilfe eines [BME680-Sensors](https://www.bosch-sensortec.com/products/environmental-sensors/gas-sensors/bme680/) und eines [Raspberry Pi](../RaspberryPi_Jupyter_Grundlagen.ipynb#grundlagen) zu messen und die Daten in [Jupyter Notebook](../RaspberryPi_Jupyter_Grundlagen.ipynb#grundlagen) darzustellen. Dieses Projekt umfasst die Hardware-Schaltung, die Konfiguration des Raspberry Pi, die Programmierung in [Python]((https://www.python.org/about/gettingstarted/)) und die Visualisierung der Temperaturdaten. Es soll ein grundlegendes Verständnis für die Verwendung von Temperatursensoren, [GPIO-Pins](./Bilder/Raspberry_Pi_5_GPIO-Pinout.png) und die Datenverarbeitung in Python vermitteln."
   ]
  },
  {
   "cell_type": "markdown",
   "id": "88e708b7",
   "metadata": {},
   "source": [
    "### Hintergrund\n",
    "Der [BME680](./Bilder/BME680.jpg) ist ein Sensor, der Temperatur, Luftfeuchtigkeit, Luftdruck und Luftqualität misst. Er ist besonders nützlich für Umweltüberwachungsprojekte.  \n",
    "Der [Raspberry Pi](https://www.raspberrypi.com/documentation/) ist ein kostengünstiger Einplatinencomputer, der häufig in Bildungs- und Hobbyprojekten verwendet wird. Durch die Kombination dieser beiden Komponenten können wir ein einfaches und effektives System zur Temperaturmessung und -überwachung erstellen."
   ]
  },
  {
   "cell_type": "markdown",
   "id": "9886a86d",
   "metadata": {},
   "source": [
    "### Relevanz\n",
    "Mit der zunehmenden Bedeutung der Umweltüberwachung sind kostengünstige und effektive Lösungen zur Datenerfassung und -analyse erforderlich. Das hier vorgestellte Projekt kann in verschiedenen Bereichen wie Smart Home, Wetterstationen und wissenschaftlichen Untersuchungen eingesetzt werden."
   ]
  },
  {
   "cell_type": "markdown",
   "id": "552e8407-b5df-42bc-94e0-da30eae5226d",
   "metadata": {},
   "source": [
    "## 2. Grunlagen und Theorie\n",
    "Der BME680-Sensor verwendet die [MEMS-Technologie (Micro-Electro-Mechanical Systems)](https://de.wikipedia.org/wiki/Mikrosystem_(Technik)), um genaue Messungen von Temperatur, Luftfeuchtigkeit, Luftdruck und Luftqualität durchzuführen. Er kommuniziert über [I2C](https://www.fs-pcba.com/de/spi-vs-i2c/) oder [SPI](https://www.fs-pcba.com/de/spi-vs-i2c/) mit dem Raspberry Pi, wobei I2C in diesem Projekt verwendet wird. Hier geht es hauptsächlich um den BME680 Sensor, wird aber mit [BME280](https://www.bosch-sensortec.com/products/environmental-sensors/humidity-sensors-bme280/) verglichen."
   ]
  },
  {
   "cell_type": "markdown",
   "id": "720b8375-11dd-426d-9902-fb0affc009c4",
   "metadata": {},
   "source": [
    "### Was ist MEMS-Technologie ?\n",
    "MEMS-Technologie in Temperatursensoren kombiniert Mikroelektromechanische Systeme (MEMS) mit traditionellen Temperaturmessmethoden. Diese Technologie ermöglicht es, Temperatursensoren in sehr kleinen, energieeffizienten und kostengünstigen Formaten herzustellen. MEMS-basierte Temperatursensoren nutzen mikrostrukturierte mechanische und elektrische Komponenten, um Temperaturänderungen präzise zu erfassen und in elektrische Signale umzuwandeln."
   ]
  },
  {
   "cell_type": "markdown",
   "id": "1a171f63-05ae-4015-bf7d-b5dd38fa6044",
   "metadata": {},
   "source": [
    "### Nutzliche Links zu MEMS-Technologie\n",
    "- [Mikro-Elektronisch-Mechanische-Systeme einfach erklärt ](https://www.conrad.de/de/ratgeber/industrie-40/mems.html?msockid=3c74d2b8db826328021dc6ccda0962f6)  \n",
    "- [MEMS-Sensoren – Technologie für eine intelligente Welt](https://www.bosch.com/de/forschung/forschungsschwerpunkte/automatisierung/forschung-zu-intelligenten-sensoren-und-hmi-technologien/mems-sensoren-technologie-fuer-eine-intelligente-welt/)"
   ]
  },
  {
   "cell_type": "markdown",
   "id": "a9ec03fc-2b60-4f1b-9daf-570b205f2621",
   "metadata": {},
   "source": [
    "### Was ist SPI und I2C Schnittstellen ?\n",
    "Kommunikationsprotokolle, die verwendet werden, um Daten zwischen Mikrocontrollern und verschiedenen Peripheriegeräten wie Sensoren, Displays, Speicherchips und anderen elektronischen Bauteilen auszutauschen. Beide Schnittstellen sind in der Embedded-Entwicklung weit verbreitet, aber sie haben unterschiedliche Eigenschaften und Einsatzgebiete.\n",
    "\n",
    "- SPI ist ein vollduplexes, synchrone Kommunikationsprotokoll, das häufig verwendet wird, wenn schnelle Datenübertragung und eine direkte Steuerung der Kommunikation zwischen Geräten erforderlich ist.\n",
    "\n",
    "- I²C ist ein Halbduplex-Kommunikationsprotokoll, das hauptsächlich für die Verbindung von Geräten auf einem Board verwendet wird und besonders gut für die Kommunikation zwischen mehreren Slaves geeignet ist."
   ]
  },
  {
   "cell_type": "markdown",
   "id": "91598f65-d910-4afb-86dd-d3370a984353",
   "metadata": {},
   "source": [
    "### Nutzliche Link zu SPI und I²C\n",
    "- [SPI vs I2C: So wählen Sie das beste Protokoll für Ihre Speicherchips](https://resources.altium.com/de/p/spi-versus-i2c-how-choose-best-protocol-your-memory-chips)\n",
    "- [SPI vs I2C Communication Protocols](https://www.fs-pcba.com/de/spi-vs-i2c/)"
   ]
  },
  {
   "cell_type": "markdown",
   "id": "3690b343",
   "metadata": {},
   "source": [
    "\n",
    "## 3. Materialien und Werkzeuge"
   ]
  },
  {
   "cell_type": "markdown",
   "id": "5159cbd5",
   "metadata": {},
   "source": [
    "### Zusätzliche Software\n",
    "- [Raspbian OS](../Rasp_Pi_Einrichtung.ipynb#rasbioanOS)\n",
    "- [Python 3](https://www.python.org/about/gettingstarted/)\n",
    "- [Jupyter Notebook](../RaspberryPi_Jupyter_Grundlagen.ipynb)\n",
    "- [Bibliotheken](../Installationen.ipynb)"
   ]
  },
  {
   "cell_type": "markdown",
   "id": "a6f11288",
   "metadata": {},
   "source": [
    "### Zusätzliche Hardware\n",
    "- Raspberry Pi 5 Model B Rev 1.0\n",
    "- BME680 und BME280\n",
    "- Breadboard\n",
    "- Jumper-Kabel\n",
    "- Stromversorgung für den Raspberry Pi"
   ]
  },
  {
   "cell_type": "markdown",
   "id": "153a64fa-cf5c-4a16-804b-04c3bd6c50b4",
   "metadata": {},
   "source": [
    "### Einführung in Jupyter Notebook und Raspberry Pi\n",
    "- Klicken Sie [hier](../RaspberryPi_Jupyter_Grundlagen.ipynb), um ins Einführung-Notebbok zu springen."
   ]
  },
  {
   "cell_type": "markdown",
   "id": "d3812d7b-f706-42d9-85e4-a9433c3c6ca8",
   "metadata": {},
   "source": [
    "### Sensoren/Aktoren, inkl. Datenblätter\n",
    "- Versorgungsspannung: 1.7V bis 3.6V\n",
    "- Stromverbrauch: 3.1 µA im Forced-Modus (Temperatur und Druckmessung)\n",
    "- Messbereich: -40°C bis +85°C\n",
    "- Genauigkeit: ±1.0°C\n",
    "- Auflösung: 0.01°C"
   ]
  },
  {
   "cell_type": "markdown",
   "id": "00a5df30-ef27-45b2-a631-3679b5e199f4",
   "metadata": {},
   "source": [
    "### Datenblatt\n",
    "- [BME680](https://www.bosch-sensortec.com/media/boschsensortec/downloads/datasheets/bst-bme680-ds001.pdf)"
   ]
  },
  {
   "cell_type": "markdown",
   "id": "d1f154f9-c0d8-48de-b464-0f16cd5f17bf",
   "metadata": {},
   "source": [
    "### Bus\n",
    "Der BME680-Sensor von Bosch Sensortec unterstützt zwei Kommunikationsschnittstellen:\n",
    "- [I2C](https://www.fs-pcba.com/de/spi-vs-i2c/) (bis zu 3.4 MHz)\n",
    "- [SPI](https://www.fs-pcba.com/de/spi-vs-i2c/) (bis zu 10 MHz).\n",
    "\n",
    "Für die meisten einfachen Projekte und speziell bei der Nutzung von mehreren Sensoren gleichzeitig wird häufig die I2C-Schnittstelle bevorzugt, da sie weniger [GPIO-Pins](./Bilder/Raspberry_Pi_5_GPIO-Pinout.png) benötigt und einfach zu konfigurieren ist."
   ]
  },
  {
   "cell_type": "markdown",
   "id": "2e901283",
   "metadata": {},
   "source": [
    "#### Übung\n",
    "Welche PINs bieten die Schnittstellen I2C und SPI?  \n",
    "Tipp: Gucken Sie sich das [Pinot](./Bilder/Raspberry_Pi_5_GPIO-Pinout.png) von Raspberry Pi an."
   ]
  },
  {
   "cell_type": "markdown",
   "id": "07b474de-ffec-4af1-9253-27a21475cc87",
   "metadata": {},
   "source": [
    "### Pin Beschaltung\n",
    "- VCC des BME680  an 3.3V des Raspberry Pi\n",
    "- GND des BME680 an GND des Raspberry Pi\n",
    "- SCL des BME680 an SCL des Raspberry Pi (GPIO 5)\n",
    "- SDA des BME680 an SDA des Raspberry Pi (GPIO 3)"
   ]
  },
  {
   "cell_type": "markdown",
   "id": "5d59a8c9-fb55-432e-bdce-6b115cee6cd1",
   "metadata": {},
   "source": [
    "- [Anschluss des Sensors BME680](https://botland.de/blog/projekte-mit-dem-raspberry-pi-anschluss-des-sensors-bme680-2/)"
   ]
  },
  {
   "cell_type": "markdown",
   "id": "971bcdf1-4916-4b7d-9793-065f4708c614",
   "metadata": {},
   "source": [
    "### Was ist SDA und SCL ?\n",
    "- SCL (Serial Clock Line) ist die Taktleitung, die vom Master (meistens der Mikrocontroller) bereitgestellt wird. Der Master steuert die Taktfrequenz und synchronisiert so die Übertragung der Daten zwischen den Geräten.\n",
    "\n",
    "- SDA (Serial Data Line) ist die Datenleitung, auf der sowohl der Master als auch der Slave (in diesem Fall der Temperatursensor) Daten senden und empfangen können. Über diese Leitung werden die Daten seriell bitweise übertragen."
   ]
  },
  {
   "cell_type": "markdown",
   "id": "a4097a95-6a1f-4a83-a278-83a096a55cf3",
   "metadata": {},
   "source": [
    "- [SDA und SCL](https://botland.de/blog/i2c-bus-was-ist-das-und-wofuer-wird-er-verwendet/#:~:text=Die%20mit%20SCL%20bezeichnete%20Leitung%20dient%20der%20%C3%9Cbertragung,entsprechenden%20Informationen%20zwischen%20den%20kooperierenden%20Schaltkreisen%20zust%C3%A4ndig%20ist)."
   ]
  },
  {
   "cell_type": "markdown",
   "id": "6c6d65d0-0d7e-42e8-8a4a-f536544ade11",
   "metadata": {},
   "source": [
    "### Zusätzliche Berechnungen\n",
    "Ein Vorwiderstand ist nicht erforderlich, da der Sensor direkt an den Raspberry Pi angeschlossen wird."
   ]
  },
  {
   "cell_type": "markdown",
   "id": "1eef2bbf",
   "metadata": {},
   "source": [
    "### Komponentenauswahl\n",
    "- **BME680 Sensor:** Die Auswahl des [BME680](https://www.bosch-sensortec.com/media/boschsensortec/downloads/datasheets/bst-bme680-ds001.pdf) basiert auf seiner Fähigkeit, mehrere Umweltparameter mit hoher Genauigkeit zu messen."
   ]
  },
  {
   "cell_type": "markdown",
   "id": "1f32c258",
   "metadata": {},
   "source": [
    "## 4. Schaltungsdesign"
   ]
  },
  {
   "cell_type": "markdown",
   "id": "fee5d730",
   "metadata": {},
   "source": [
    "### Schaltplan  \n",
    "So sieht der einfachste Schaltplan des Sensors in Raspberry Pi aus.  \n",
    "\n",
    "<img src=\"Bilder/schaltplan.png\" style=\"width:400px;\">  "
   ]
  },
  {
   "cell_type": "markdown",
   "id": "6ad19692-6f2a-42cd-afbc-0b2bc13c17f5",
   "metadata": {},
   "source": [
    "Diese Schaltung wurde durch [circuito.io](https://www.circuito.io/app?components=9443,164792,200000) erstellt."
   ]
  },
  {
   "cell_type": "markdown",
   "id": "89c68d00",
   "metadata": {},
   "source": [
    "**Alternativ**  \n",
    "Eine Alternativität bietet sich durch das folgende Bild, das die Schaltung und PINs deutlich und klar zeigt.  \n",
    "\n",
    "<img src=\"Bilder/Raspberry_Pi_5_BME680.png\" alt=\"BME680\" style=\"width:400px;\">  \n",
    "  \n",
    "Diese Schaltung wurd durch [easyeda](https://easyeda.com/editor) erstellt."
   ]
  },
  {
   "cell_type": "markdown",
   "id": "7b2d4a86",
   "metadata": {},
   "source": [
    "## 5. Implementierung"
   ]
  },
  {
   "cell_type": "markdown",
   "id": "7f670a56",
   "metadata": {},
   "source": [
    "### Hardware-Aufbau\n",
    "- Verbinden Sie den BME680-Sensor gemäß der oben genannten Pin-Beschaltung mit dem Raspberry Pi.\n",
    "- Stellen Sie sicher, dass der Raspberry Pi durch an Ihren Rechner angeschlossenes USB mit Strom versorgt wird."
   ]
  },
  {
   "cell_type": "markdown",
   "id": "5eb3ee71",
   "metadata": {},
   "source": [
    "### Software-Setup\n",
    "1. Raspbian OS [installieren](../Rasp_Pi_Einrichtung.ipynb#rasbioanOS).\n",
    "2. Python und Jupyter Notebook [installieren](../Installationen.ipynb#installationen)."
   ]
  },
  {
   "cell_type": "markdown",
   "id": "02154db3",
   "metadata": {},
   "source": [
    "Zusätzliche für dieses Notebook benötigte Installationen:  \n",
    "[smbus](https://www.abelectronics.co.uk/kb/article/1094/i2c-part-4-programming-i2c-with-python), [adafruit](https://learn.adafruit.com/adafruit-motor-shield-v2-for-arduino/library-reference) und [matplotlib](../Installationen.ipynb)."
   ]
  },
  {
   "cell_type": "code",
   "execution_count": null,
   "id": "47180688-1fce-4873-9e7f-00581d920932",
   "metadata": {},
   "outputs": [],
   "source": [
    "!pip3 install adafruit-circuitpython-bme680"
   ]
  },
  {
   "cell_type": "markdown",
   "id": "7dd02998-531f-43b6-b640-57a235cd96ce",
   "metadata": {},
   "source": [
    "### Code"
   ]
  },
  {
   "cell_type": "markdown",
   "id": "04fb5299-34ea-4eb5-a543-6723def69e09",
   "metadata": {},
   "source": [
    "### Bibliotheken Installieren\n",
    "In diesem Beispiel wird die [`adafruit-circuitpython`](https://learn.adafruit.com/adafruit-neotrellis/circuitpython-code) und \"smbus\" benutzt."
   ]
  },
  {
   "cell_type": "markdown",
   "id": "6d2175ed-4d8c-4db6-ab36-328f4f25ac00",
   "metadata": {},
   "source": [
    "### Was ist adafruit-circuitpython ?\n",
    "CircuitPython ist eine einfach zu verwendende Programmiersprache, die auf Python basiert und speziell für Mikrocontroller entwickelt wurde. Adafruit hat diese Version von Python entwickelt, um die Programmierung von Mikrocontrollern (z.B. Raspberry Pi, Arduino, ESP32) zu vereinfachen."
   ]
  },
  {
   "cell_type": "markdown",
   "id": "048bac72-e769-4324-9e58-3389ea68f91a",
   "metadata": {},
   "source": [
    "- [CircuitPython & Python](https://learn.adafruit.com/adafruit-neotrellis/circuitpython-code)  \n",
    "- [Adafruit Library Reference](https://learn.adafruit.com/adafruit-motor-shield-v2-for-arduino/library-reference)\n",
    "- [Leg los mit CircuitPython](https://polluxlabs.net/circuitpython/leg-los-mit-circuitpython/)\n",
    "- [CircuitPython](https://docs.circuitpython.org/en/latest/README.html)"
   ]
  },
  {
   "cell_type": "markdown",
   "id": "a2d17858-5eb6-4d97-9162-ac3393126631",
   "metadata": {},
   "source": [
    "#### Was ist smbus\n",
    "SMBus ist ein einfaches Kommunikationsprotokoll, das auf I²C (Inter-Integrated Circuit) basiert und ursprünglich für die Systemverwaltung in Computern entwickelt wurde. Es ermöglicht die Kommunikation zwischen einem Host und verschiedenen Peripheriegeräten (z.B. Sensoren)."
   ]
  },
  {
   "cell_type": "markdown",
   "id": "fe36bffb-cbd2-4b0c-831e-ad6ee5bd40b9",
   "metadata": {},
   "source": [
    "- [Was ist ein SM-Bus-Controller?](https://praxistipps.chip.de/was-ist-ein-sm-bus-controller_10140)\n",
    "- [System Management Bus](https://de.wikipedia.org/wiki/System_Management_Bus)"
   ]
  },
  {
   "cell_type": "markdown",
   "id": "bd77fecf-85a4-4efa-8357-592c0d12bd9e",
   "metadata": {},
   "source": [
    "##### Installation von smbus  \n",
    "Führen  Sie den folgenden Befehel hier direkt auf Jupyter, um smbus zu installieren."
   ]
  },
  {
   "cell_type": "code",
   "execution_count": null,
   "id": "ee0e3f66-6fec-46c0-8536-5a207eae8db9",
   "metadata": {},
   "outputs": [],
   "source": [
    "!sudo apt-get install -y python3-pip python3-smbus i2c-tools"
   ]
  },
  {
   "cell_type": "markdown",
   "id": "ca7649a4-a665-45e9-b47b-483d80839a4c",
   "metadata": {},
   "source": [
    "##### Installtion von adafruit:  \n",
    "Führen  Sie den folgenden Befehel hier direkt auf Jupyter, um adafruit zu installieren."
   ]
  },
  {
   "cell_type": "code",
   "execution_count": null,
   "id": "c7d639c0",
   "metadata": {},
   "outputs": [],
   "source": [
    "!pip3 install adafruit-circuitpython-bme680"
   ]
  },
  {
   "cell_type": "markdown",
   "id": "72649898",
   "metadata": {},
   "source": [
    "Installation von [board](https://docs.circuitpython.org/en/latest/shared-bindings/board/):  \n",
    "\n",
    "Führen  Sie den folgenden Befehel hier direkt auf Jupyter, um board zu installieren.\n"
   ]
  },
  {
   "cell_type": "code",
   "execution_count": null,
   "id": "b99c5b59",
   "metadata": {},
   "outputs": [],
   "source": [
    "!pip3 install adafruit-blinka"
   ]
  },
  {
   "cell_type": "code",
   "execution_count": null,
   "id": "03824647-09c7-479b-baf3-05008ea51ff4",
   "metadata": {},
   "outputs": [],
   "source": [
    "### Bibliotheken importieren\n",
    "import time\n",
    "from board import *\n",
    "import busio\n",
    "import adafruit_bme680\n",
    "\n",
    "# I2C initialisieren\n",
    "i2c = busio.I2C(SCL, SDA)\n",
    "\n",
    "# BME680 Sensor initialisieren\n",
    "bme680 = adafruit_bme680.Adafruit_BME680_I2C(i2c)\n",
    "\n",
    "# Optional: Offset für die Umgebungstemperatur anpassen\n",
    "bme680.sea_level_pressure = 1013.25\n",
    "\n",
    "# Liste zum Speichern der Temperaturwerte\n",
    "temperaturen = []\n",
    "\n",
    "# Dauer für die Datensammlung in Sekunden\n",
    "duration = 60\n",
    "start_time = time.time()\n",
    "\n",
    "while time.time() - start_time < duration:\n",
    "    # Messe die Temperatur\n",
    "    bme680.get_sensor_data()\n",
    "    temperature = bme680.temperature\n",
    "    \n",
    "    # Füge die Temperatur zur Liste hinzu\n",
    "    temperaturen.append(temperature)\n",
    "    \n",
    "    # Zeige die Temperatur an\n",
    "    print(f\"Temperatur: {temperature:.2f} °C\")\n",
    "    \n",
    "    # Warte 2 Sekunden vor der nächsten Messung\n",
    "    time.sleep(2)"
   ]
  },
  {
   "cell_type": "markdown",
   "id": "a6dca3e6-8a2c-4576-899d-9d763d2da431",
   "metadata": {},
   "source": [
    "### Sea Level Pressure (SLP)\n",
    "Der Begriff Meeresspiegeldruck oder Sea Level Pressure (SLP) bezieht sich auf den Luftdruck, der auf Meereshöhe gemessen oder berechnet wird.\n",
    "\n",
    "- [SLP_Erkärung]([https://www.helpster.de/luftdruck-auf-meereshoehe-informatives_205984)"
   ]
  },
  {
   "cell_type": "markdown",
   "id": "352f5665-444f-4633-a539-7586f0fb91fe",
   "metadata": {},
   "source": [
    "### Append\n",
    "In Python ist append eine Methode, die auf Listen angewendet wird. Sie fügt ein neues Element am Ende einer Liste hinzu.\n",
    "- [Append_Tutorial](https://realpython.com/python-append/)\n",
    "- [Append_Übung](https://www.w3schools.com/python/ref_list_append.asp)"
   ]
  },
  {
   "cell_type": "markdown",
   "id": "a972fd89",
   "metadata": {},
   "source": [
    "## 6. Experimente und Ergebnisse"
   ]
  },
  {
   "cell_type": "markdown",
   "id": "8468d375-1340-4e2d-81b0-48376630e719",
   "metadata": {},
   "source": [
    "### Ergebnisse"
   ]
  },
  {
   "cell_type": "markdown",
   "id": "e52ac564-62cc-4977-af2f-4a712d0c00f1",
   "metadata": {},
   "source": [
    "#### Darstellung in Matplotlib und Berechnung des Mittelwerts und Ungenauigkeit der BME680 Daten\n",
    "Um die Ergebnisse in Matplotlib darstellen zu können, werden die Bibliotheken **matplotlib** , **pandas** und **statistics** benutzt.\n",
    "Matplotlib und Pandas sind zwei weit verbreitete Python-Bibliotheken, die häufig für Datenanalyse und -visualisierung verwendet werden.\n",
    "\n",
    "Die Bibliothek statistics bietet eine Sammlung von Funktionen zur Berechnung statistischer Eigenschaften von Daten. Sie ermöglicht es, grundlegende statistische Operationen durchzuführen."
   ]
  },
  {
   "cell_type": "markdown",
   "id": "234ea9e4-68c0-493b-9919-a7fe2731169f",
   "metadata": {},
   "source": [
    "### Nutzliche Links zu Matplotlib\n",
    "- [Pyplot tutorial](https://matplotlib.org/stable/tutorials/pyplot.html)\n",
    "- [Quick start guide](https://matplotlib.org/stable/users/explain/quick_start.html)"
   ]
  },
  {
   "cell_type": "markdown",
   "id": "9d218ddf-1285-4c97-a1b4-8fb69d11b40c",
   "metadata": {},
   "source": [
    "### Nutzliche Links zu Pandas\n",
    "- [Python pandas tutorial](https://www.datacamp.com/tutorial/pandas)\n",
    "- [User Guide](https://pandas.pydata.org/docs/user_guide/index.html)"
   ]
  },
  {
   "cell_type": "markdown",
   "id": "72f82e1e-49bf-4c89-a331-2acd041c4572",
   "metadata": {},
   "source": [
    "### Nutzliche Links zu Statistics\n",
    "- [Statistics tutorial](https://realpython.com/python-statistics/)\n",
    "- [Statistics](https://docs.python.org/3/library/statistics.html)"
   ]
  },
  {
   "cell_type": "code",
   "execution_count": null,
   "id": "f7515de2-5dbe-4a29-85fa-9d9bfbea1ee6",
   "metadata": {},
   "outputs": [],
   "source": [
    "# Bibliotheken importieren\n",
    "import pandas as pd\n",
    "import matplotlib.pyplot as plt\n",
    "import statistics\n",
    "    \n",
    "# Mittelwert und Standardabweichung berechnen\n",
    "mean_temperature = statistics.mean(temperaturen)\n",
    "std_deviation = statistics.stdev(temperaturen)\n",
    "\n",
    "# Ergebnisse anzeigen\n",
    "print(f\"\\nMittelwert der Temperatur: {mean_temperature:.2f} °C\")\n",
    "print(f\"Standardabweichung (Ungenauigkeit): {std_deviation:.2f} °C\")\n",
    "\n",
    "# Schritt 3: Erstelle ein Pandas DataFrame aus der Liste\n",
    "def zeichne_temperaturverlauf(temperaturen, title='Temperaturverlauf', xlabel='Messungen', ylabel='Temperatur (°C)'):\n",
    "    # Erstelle eine x-Achse basierend auf der Anzahl der Temperaturen\n",
    "    x_werte = list(range(len(temperaturen)))\n",
    "    \n",
    "    # Diagramm erstellen\n",
    "    plt.figure(figsize=(10, 5))\n",
    "    plt.plot(x_werte, temperaturen, marker='o', linestyle='-', color='b')\n",
    "    plt.title(title)\n",
    "    plt.xlabel(xlabel)\n",
    "    plt.ylabel(ylabel)\n",
    "    plt.grid(True)\n",
    "    plt.show()\n",
    "    \n",
    "zeichne_temperaturverlauf(temperaturen)"
   ]
  },
  {
   "cell_type": "markdown",
   "id": "00fdd070-e3a1-41cd-8b64-68b49682b7fb",
   "metadata": {},
   "source": [
    "**statistics.mean():** Diese Funktion berechnet den arithmetischen Mittelwert (Durchschnitt) einer Gruppe von Zahlen.\n",
    "\n",
    "**statistics.stdev():** Diese Funktion berechnet die Standardabweichung einer Gruppe von Zahlen. Die Standardabweichung ist ein Maß dafür, wie stark die Werte in einer Datenmenge um den Mittelwert streuen.\n",
    "\n",
    "[Standard_Deviation und Mean](https://www.askpython.com/python/examples/mean-and-standard-deviation-python)"
   ]
  },
  {
   "cell_type": "markdown",
   "id": "105bc765",
   "metadata": {},
   "source": [
    "#### Übung\n",
    "Finden Sie heraus, wie der Mittelwert und die Standardabweichung mathematisch berechnet werden können."
   ]
  },
  {
   "cell_type": "markdown",
   "id": "96a326d7-f610-4525-a12b-aa9b482808e9",
   "metadata": {},
   "source": [
    "### Expriment:\n",
    "Vergleich zwischen den gemessenen Daten der BME680 und BME280 Sensoren"
   ]
  },
  {
   "cell_type": "markdown",
   "id": "d7c69557-0109-4715-a5d1-526b712da214",
   "metadata": {},
   "source": [
    "### Installation der Bibliotheken\n",
    "in diesem Versuch wird auch die gleichen Bibliotheken benutzt aber **adafruit-circuitpython-bme280** soll statt **adafruit-circuitpython-bme680** installiert werden."
   ]
  },
  {
   "cell_type": "markdown",
   "id": "7b1527ca-27f6-46fa-ba38-570adb146adf",
   "metadata": {},
   "source": [
    "### Installation von adafruit auf Jupyter Notebook\n"
   ]
  },
  {
   "cell_type": "code",
   "execution_count": null,
   "id": "49aa4cd6-3edf-49d4-ba43-d22751f6fec4",
   "metadata": {},
   "outputs": [],
   "source": [
    "!pip3 install adafruit-circuitpython-bme280"
   ]
  },
  {
   "cell_type": "markdown",
   "id": "0588102f-4550-4710-af42-bff5171c1ca6",
   "metadata": {},
   "source": [
    "### Code zum Testen"
   ]
  },
  {
   "cell_type": "code",
   "execution_count": 5,
   "id": "a28c63ce-91af-4a4c-9ae4-0cfe2c08dcd7",
   "metadata": {},
   "outputs": [
    {
     "data": {
      "text/markdown": [
       "**Temperature:** 22.98 °C"
      ],
      "text/plain": [
       "<IPython.core.display.Markdown object>"
      ]
     },
     "metadata": {},
     "output_type": "display_data"
    },
    {
     "data": {
      "text/markdown": [
       "**Temperature:** 22.71 °C"
      ],
      "text/plain": [
       "<IPython.core.display.Markdown object>"
      ]
     },
     "metadata": {},
     "output_type": "display_data"
    },
    {
     "data": {
      "text/markdown": [
       "**Temperature:** 22.69 °C"
      ],
      "text/plain": [
       "<IPython.core.display.Markdown object>"
      ]
     },
     "metadata": {},
     "output_type": "display_data"
    },
    {
     "data": {
      "text/markdown": [
       "**Temperature:** 22.66 °C"
      ],
      "text/plain": [
       "<IPython.core.display.Markdown object>"
      ]
     },
     "metadata": {},
     "output_type": "display_data"
    },
    {
     "data": {
      "text/markdown": [
       "**Temperature:** 22.74 °C"
      ],
      "text/plain": [
       "<IPython.core.display.Markdown object>"
      ]
     },
     "metadata": {},
     "output_type": "display_data"
    },
    {
     "data": {
      "text/markdown": [
       "**Temperature:** 22.57 °C"
      ],
      "text/plain": [
       "<IPython.core.display.Markdown object>"
      ]
     },
     "metadata": {},
     "output_type": "display_data"
    },
    {
     "data": {
      "text/markdown": [
       "**Temperature:** 22.76 °C"
      ],
      "text/plain": [
       "<IPython.core.display.Markdown object>"
      ]
     },
     "metadata": {},
     "output_type": "display_data"
    },
    {
     "data": {
      "text/markdown": [
       "**Temperature:** 22.83 °C"
      ],
      "text/plain": [
       "<IPython.core.display.Markdown object>"
      ]
     },
     "metadata": {},
     "output_type": "display_data"
    },
    {
     "data": {
      "text/markdown": [
       "**Temperature:** 22.83 °C"
      ],
      "text/plain": [
       "<IPython.core.display.Markdown object>"
      ]
     },
     "metadata": {},
     "output_type": "display_data"
    },
    {
     "data": {
      "text/markdown": [
       "**Temperature:** 22.66 °C"
      ],
      "text/plain": [
       "<IPython.core.display.Markdown object>"
      ]
     },
     "metadata": {},
     "output_type": "display_data"
    },
    {
     "data": {
      "text/markdown": [
       "**Temperature:** 22.64 °C"
      ],
      "text/plain": [
       "<IPython.core.display.Markdown object>"
      ]
     },
     "metadata": {},
     "output_type": "display_data"
    },
    {
     "data": {
      "text/markdown": [
       "**Temperature:** 22.62 °C"
      ],
      "text/plain": [
       "<IPython.core.display.Markdown object>"
      ]
     },
     "metadata": {},
     "output_type": "display_data"
    },
    {
     "data": {
      "text/markdown": [
       "**Temperature:** 22.56 °C"
      ],
      "text/plain": [
       "<IPython.core.display.Markdown object>"
      ]
     },
     "metadata": {},
     "output_type": "display_data"
    },
    {
     "data": {
      "text/markdown": [
       "**Temperature:** 22.74 °C"
      ],
      "text/plain": [
       "<IPython.core.display.Markdown object>"
      ]
     },
     "metadata": {},
     "output_type": "display_data"
    },
    {
     "data": {
      "text/markdown": [
       "**Temperature:** 22.94 °C"
      ],
      "text/plain": [
       "<IPython.core.display.Markdown object>"
      ]
     },
     "metadata": {},
     "output_type": "display_data"
    }
   ],
   "source": [
    "import time\n",
    "from board import *\n",
    "import busio\n",
    "import adafruit_bme280\n",
    "\n",
    "# I2C initialisieren\n",
    "i2c = busio.I2C(board.SCL, board.SDA)\n",
    "\n",
    "# BME280 Sensor initialisieren\n",
    "bme280 = adafruit_bme280.Adafruit_BME280_I2C(i2c)\n",
    "\n",
    "# Liste zum Speichern der Temperaturwerte\n",
    "temperature_data = []\n",
    "\n",
    "# Dauer für die Datensammlung in Sekunden\n",
    "duration = 30\n",
    "start_time = time.time()\n",
    "\n",
    "while time.time() - start_time < duration:\n",
    "    # Messe die Temperatur\n",
    "    temperature = bme280.temperature\n",
    "    \n",
    "    # Füge die Temperatur zur Liste hinzu\n",
    "    temperature_data.append(temperature)\n",
    "    \n",
    "    # Zeige die Temperatur an\n",
    "    print(f\"Temperatur: {temperature:.2f} °C\")\n",
    "    \n",
    "    # Warte 2 Sekunden vor der nächsten Messung\n",
    "    time.sleep(2)"
   ]
  },
  {
   "cell_type": "markdown",
   "id": "938068fb-7a2f-47ce-b16e-351cb7e6fa1a",
   "metadata": {},
   "source": [
    "### Darstellung in  Matplotlib"
   ]
  },
  {
   "cell_type": "code",
   "execution_count": 31,
   "id": "fb0f4f6a-3d7c-4c37-a6bc-58ea99a9d66b",
   "metadata": {},
   "outputs": [
    {
     "data": {
      "image/png": "[encoded data removed]",
      "text/plain": [
       "<Figure size 1000x500 with 1 Axes>"
      ]
     },
     "metadata": {},
     "output_type": "display_data"
    }
   ],
   "source": [
    "import matplotlib.pyplot as plt\n",
    "import statistics\n",
    "\n",
    "# Erstelle eine x-Achse basierend auf der Anzahl der Temperaturen\n",
    "zeichne_temperaturverlauf(temperature_data)"
   ]
  },
  {
   "cell_type": "markdown",
   "id": "79a17c26-a290-4a2f-9616-a01fefdc4bc7",
   "metadata": {},
   "source": [
    "### Aufgabe\n",
    "Versuchen Sie den Mittelwert und die  Ungenauigkeit der BME280 Daten zu berechnen und das Ergebnis mit dem Ergebnis von BME680 zu vergleichen."
   ]
  },
  {
   "cell_type": "markdown",
   "id": "5f41848c",
   "metadata": {},
   "source": [
    "## 7. Diskussion und Fazit"
   ]
  },
  {
   "cell_type": "markdown",
   "id": "a59692e8",
   "metadata": {},
   "source": [
    "### Diskussion\n",
    "Die Temperaturmessung mit dem BME680-Sensor und dem Raspberry Pi ist relativ einfach und liefert genaue Ergebnisse. Der Einsatz von Jupyter Notebook ermöglicht eine interaktive und benutzerfreundliche Darstellung der Daten. Eine mögliche Herausforderung könnte die Kalibrierung und Validierung der Messdaten sein, insbesondere in Umgebungen mit extremen Temperaturen.\n",
    "Dieses Projekt zeigt, wie man einen Temperatursensor mit einem Raspberry Pi verwendet. Es bietet eine gute Grundlage, um die GPIO-Pins des Raspberry Pi und die Datenverarbeitung in Python kennenzulernen. Die Ergebnisse sind vielversprechend und das Projekt kann leicht erweitert werden, um komplexere Systeme zur Umweltdatenmessung zu entwickeln."
   ]
  }
 ],
 "metadata": {
  "kernelspec": {
   "display_name": "Python 3 (ipykernel)",
   "language": "python",
   "name": "python3"
  },
  "language_info": {
   "codemirror_mode": {
    "name": "ipython",
    "version": 3
   },
   "file_extension": ".py",
   "mimetype": "text/x-python",
   "name": "python",
   "nbconvert_exporter": "python",
   "pygments_lexer": "ipython3",
   "version": "3.12.4"
  }
 },
 "nbformat": 4,
 "nbformat_minor": 5
}
