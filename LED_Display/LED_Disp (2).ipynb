{
 "cells": [
  {
   "cell_type": "markdown",
   "id": "4b18bfde",
   "metadata": {},
   "source": [
    "# LED_Matrix mithilfe des Freenove FNK0054 \"Projects Kit for Raspberry Pi\""
   ]
  },
  {
   "cell_type": "markdown",
   "id": "27784681",
   "metadata": {},
   "source": [
    "## 1. Einführung"
   ]
  },
  {
   "cell_type": "markdown",
   "id": "89d9f2da-cfaf-4ef8-8386-36cf28aa18ce",
   "metadata": {},
   "source": [
    "<img src=\"Bilder/OIP.jpg\" style=\"width:400px;\">  \n",
    "<img src=\"Bilder/12.webp\" style=\"width:400px;\">  "
   ]
  },
  {
   "cell_type": "markdown",
   "id": "ac979664-b07e-4835-96ea-4a422be36423",
   "metadata": {},
   "source": [
    "[Quelle](https://cdn-shop.adafruit.com/1200x900/420-08.jpg)\n",
    "\n",
    "[Quelle](https://i0.wp.com/epro.pk/wp-content/uploads/2017/11/dot-matrix-module-display.jpg?w=1600&ssl=1)"
   ]
  },
  {
   "cell_type": "markdown",
   "id": "a7d3f8ae",
   "metadata": {},
   "source": [
    "### Projektziel\n",
    "Das Ziel dieses Projekts ist es, eine [LED-Matrix](https://botland.de/blog/led-matrix-was-ist-das-und-wofuer-wird-sie-verwendet/#:~:text=Kurz%20gesagt%2C%20ist%20eine%20LED-Matrix%20eine%20Anordnung%20von,Licht%20zu%20erzeugen%2C%20wenn%20Strom%20durch%20sie%20flie%C3%9Ft.) mithilfe eines [Raspberry Pi](https://www.elektronikpraxis.de/alle-infos-zum-raspberry-pi-a-20f3e5e51b8d5ad1c18ebdbfe972d9b7/) und des [Freenove](https://github.com/Freenove/Freenove_Projects_Kit_for_Raspberry_Pi) FNK0054 \"Projects Kit for Raspberry Pi\" zu steuern. Dabei wird zwei [74HC595-Schieberegister](https://www.conrad.de/de/ratgeber/industrie-40/elektronik-bauteile/74hc595.html?msockid=3c74d2b8db826328021dc6ccda0962f6) verwendet, um die Anzahl der benötigten [GPIO-Pins](https://www.heise.de/tipps-tricks/Raspberry-Pi-Das-koennen-die-GPIO-Pins-4583823.html) zu minimieren und verschiedene Muster, Zeichen und Symbole auf der LED-Matrix anzuzeigen."
   ]
  },
  {
   "cell_type": "markdown",
   "id": "c09b0c10-c795-4616-b4fd-6b9c45c32da6",
   "metadata": {},
   "source": [
    "### Hintergrund\n",
    "Das [Freenove](https://github.com/Freenove/Freenove_Projects_Kit_for_Raspberry_Pi) FNK0054 \"Projects Kit for Raspberry Pi\" ist ein umfangreiches Kit, das verschiedene Komponenten und Module enthält, darunter [LEDs](https://www.leifiphysik.de/elektronik/halbleiterdiode/grundwissen/leuchtdioden-led-einfuehrung), [Widerstände](https://studyflix.de/elektrotechnik/elektrischer-widerstand-3284), [Schieberegister](https://www.elektronik-kompendium.de/sites/dig/0210211.htm) und andere Bauelemente. Dieses Kit ermöglicht es, eine Vielzahl von Projekten durchzuführen, um die Fähigkeiten des Raspberry Pi in der Elektroniksteuerung zu demonstrieren. Eine LED-Matrix, gesteuert durch ein 74HC595-Schieberegister, zeigt, wie digitale Elektronik und Python-Programmierung kombiniert werden können, um visuelle Ausgaben zu erzeugen."
   ]
  },
  {
   "cell_type": "markdown",
   "id": "9886a86d",
   "metadata": {},
   "source": [
    "### Relevanz\n",
    "Das Projekt zeigt praxisnah, wie man eine LED-Matrix mit einem Raspberry Pi und Standardkomponenten aus einem Elektronik-Kit steuern kann. Es verdeutlicht, wie einfache Hardware-Schnittstellen programmiert werden können und ist ein exzellentes Beispiel für den Einsatz von Schieberegistern in der Elektronik."
   ]
  },
  {
   "cell_type": "markdown",
   "id": "c306ec5f-7c35-4d93-8332-7588bd0bc04e",
   "metadata": {},
   "source": [
    "## 2. Grundlagen und Theorie"
   ]
  },
  {
   "cell_type": "markdown",
   "id": "b81618fd-4d29-4cca-a653-c37245d7c92e",
   "metadata": {},
   "source": [
    "### LED-Matrix:\n",
    "Eine [LED-Matrix](https://botland.de/blog/led-matrix-was-ist-das-und-wofuer-wird-sie-verwendet/#:~:text=Kurz%20gesagt%2C%20ist%20eine%20LED-Matrix%20eine%20Anordnung%20von,Licht%20zu%20erzeugen%2C%20wenn%20Strom%20durch%20sie%20flie%C3%9Ft.) besteht aus einer Gruppe von LEDs, die in einem rechteckigen Gitter angeordnet sind. Jede LED kann individuell angesteuert werden, um komplexe Muster und Zeichen darzustellen.\n",
    "\n"
   ]
  },
  {
   "cell_type": "markdown",
   "id": "242d7a3d-0350-465a-8cac-e19b8d48a9b8",
   "metadata": {},
   "source": [
    "### 74HC595 Schieberegister:\n",
    "Der [74HC595 Schieberegister](https://www.conrad.de/de/ratgeber/industrie-40/elektronik-bauteile/74hc595.html?msockid=3c74d2b8db826328021dc6ccda0962f6) ist ein 8-Bit-Schieberegister mit seriellen Eingängen und parallelen Ausgängen. Es ermöglicht die Steuerung mehrerer LEDs mit einer geringen Anzahl von Steuerleitungen. Durch das Schieberegister wird die Anzahl der benötigten [GPIO-Pins](https://www.heise.de/tipps-tricks/Raspberry-Pi-Das-koennen-die-GPIO-Pins-4583823.html) am Raspberry Pi reduziert, da die Daten seriell in das Register geschrieben werden und dann parallel an die LEDs ausgegeben werden.\n",
    "\n",
    "- [Schieberegister: Eine Übersicht und Definition](https://www.studysmarter.de/schule/informatik/technische-informatik/schieberegister/)"
   ]
  },
  {
   "cell_type": "markdown",
   "id": "2c652e80-d005-41d3-8b07-4e03d7b6cbc5",
   "metadata": {},
   "source": [
    "### Freenove \"Projects Kit for Raspberry Pi\"\n",
    "Das Freenove FNK0054 \"Projects Kit for Raspberry Pi\" ist ein umfassendes Elektronik-Kit, das speziell entwickelt wurde, um Anwendern zu helfen, Projekte mit einem Raspberry Pi durchzuführen. Es ist besonders gut geeignet für Einsteiger, die die Grundlagen der Elektronik und Programmierung erlernen möchten. Das Kit enthält eine Vielzahl von Komponenten und Bauteilen, mit denen eine breite Palette von Projekten realisiert werden kann.\n",
    "\n",
    "- [Offizielle Webseite](https://freenove.com/tutorial)\n",
    "- [PDF-Tutorial](https://github.com/Freenove/Freenove_Projects_Kit_for_Raspberry_Pi/blob/main/Tutorial.pdf)\n",
    "- [Video-Tutorial](https://www.youtube.com/playlist?list=PLOkhax8xuWu0Yj-jJAzSNiDJfHfXVaY9_)"
   ]
  },
  {
   "cell_type": "markdown",
   "id": "3690b343",
   "metadata": {},
   "source": [
    "\n",
    "## 3. Materialien und Werkzeuge"
   ]
  },
  {
   "cell_type": "markdown",
   "id": "5159cbd5",
   "metadata": {},
   "source": [
    "### Software\n",
    "- [Raspbian OS](https://blog.berrybase.de/starter-guide-raspberry-pi-4/)\n",
    "- [Python 3](https://www.elab2go.de/demo-py1/)\n",
    "- [Jupyter Notebook](https://www.dataquest.io/blog/jupyter-notebook-tutorial/)\n",
    "- Python 3 Bibliotheken wie [**gpiozero**](https://gpiozero.readthedocs.io/en/latest/)"
   ]
  },
  {
   "cell_type": "markdown",
   "id": "a6f11288",
   "metadata": {},
   "source": [
    "### Hardware\n",
    "- Raspberry Pi\n",
    "- Freenove Projects Board für Raspberry Pi\n",
    "- LED-Matrix\n",
    "- [GPIO Ribbon Kabel](https://www.electricity-magnetism.org/de/flachbandkabel/#:~:text=Ein%20Flachbandkabel%2C%20auch%20bekannt%20als%20Ribbon-Kabel%2C%20ist%20eine,verleiht%20ihm%20seine%20charakteristische%20flache%20und%20breite%20Form.)  "
   ]
  },
  {
   "cell_type": "markdown",
   "id": "dbca532d-e5e8-44ca-b42d-fba4fd184e1f",
   "metadata": {},
   "source": [
    "<img src=\"Bilder/Hardware.png.png\" style=\"width:817px;\">\n",
    "<img src=\"Bilder/Hardware.png.png\" style=\"width:817px;\">"
   ]
  },
  {
   "cell_type": "markdown",
   "id": "7c3a3f8e-54dc-4186-9226-082e9c581a8c",
   "metadata": {},
   "source": [
    "- [Freenove-Tutorial](https://github.com/Freenove/Freenove_Projects_Kit_for_Raspberry_Pi/blob/main/Tutorial.pdf)"
   ]
  },
  {
   "cell_type": "markdown",
   "id": "78260ca2-401b-4ae8-b957-713fc8c0371e",
   "metadata": {},
   "source": [
    "### Sensor/(Aktor)en, inkl. Datenblätter\n",
    "der 74HC595 Schieberegister wird als Aktor benutzt und die Daten aus [Datenblatt](https://www.ti.com/lit/ds/symlink/sn74hc595.pdf) lautet:\n",
    "\n",
    "**Betriebsspannung (Vcc):** 2V bis 6V, typischerweise 5V.\n",
    "  \n",
    "**Maximaler Ausgangsstrom pro Pin:** 35 mA.\n",
    "\n",
    "**Maximaler Gesamtstrom (alle Ausgänge kombiniert):** 70 mA."
   ]
  },
  {
   "cell_type": "markdown",
   "id": "ce7c9262-c786-4691-bc44-c8143c26753f",
   "metadata": {},
   "source": [
    "### Berechnung des Vorwiderstands"
   ]
  },
  {
   "cell_type": "markdown",
   "id": "913e8b64-0a3c-463a-acc9-12dcb1ce5b54",
   "metadata": {},
   "source": [
    "der [Vorwiderstand der LED](https://www.elektronik-kompendium.de/sites/grd/1006011.htm) kann wie folgt berechnet werden:"
   ]
  },
  {
   "cell_type": "code",
   "execution_count": 14,
   "id": "0157c98a-613c-474b-8be7-9d94125167e2",
   "metadata": {},
   "outputs": [
    {
     "name": "stdout",
     "output_type": "stream",
     "text": [
      "Erforderlicher Vorwiderstand: 150.0 Ohm\n"
     ]
    }
   ],
   "source": [
    "# Beispielcode zur Berechnung des Vorwiderstands:\n",
    "V_supply = 5.0  # Versorgungsspannung in Volt\n",
    "V_f = 2.0  # Vorwärtsspannung der LED in Volt\n",
    "I_f = 0.02  # Vorwärtsstrom der LED in Ampere\n",
    "\n",
    "R = (V_supply - V_f) / I_f\n",
    "print(\"Erforderlicher Vorwiderstand: {} Ohm\".format(R))"
   ]
  },
  {
   "cell_type": "markdown",
   "id": "7ba218c2-dd3b-4ea6-9d53-a1caa4ace5f8",
   "metadata": {},
   "source": [
    "### Pin Beschaltung\n",
    "Die Pin-Beschaltung in Freenove Projects Kit für Raspberry Pi ist wie flogt:\n",
    "\n",
    "| 74HC595 Schieberegister    | GPIO Pin des Raspberry Pi |\n",
    "|----------------------------|----------|\n",
    "| DS(PIN 14)                 | GPIO 22  |\n",
    "| SR_CP(PIN 12)              | GPIO 27  |\n",
    "| SH_CP(PIN 11)              | GPIO 17  | \n",
    "\n",
    "[Freenove-Tutorial](https://github.com/Freenove/Freenove_Projects_Kit_for_Raspberry_Pi/blob/main/Tutorial.pdf)"
   ]
  },
  {
   "cell_type": "markdown",
   "id": "1f32c258",
   "metadata": {},
   "source": [
    "## 4. Schaltungsdesign"
   ]
  },
  {
   "cell_type": "markdown",
   "id": "2c10ccce-6262-4c66-bae7-fd560136e9fa",
   "metadata": {},
   "source": [
    "### Schmatischer Entwurf\n",
    "<img src=\"Bilder/schematischerAufbau.png\" style=\"width:1381px;\">  "
   ]
  },
  {
   "cell_type": "markdown",
   "id": "2e059620-6421-498d-8b46-9d714303f037",
   "metadata": {},
   "source": [
    "- [Schaltung-Aufbau](https://circuitdigest.com/microcontroller-projects/control-8x8-led-matrix-with-raspberry-pi)\n",
    "- [Freenove-Tutorial](https://github.com/Freenove/Freenove_Projects_Kit_for_Raspberry_Pi/blob/main/Tutorial.pdf)"
   ]
  },
  {
   "cell_type": "markdown",
   "id": "8829db6c-39a6-4bfc-bad4-149b5407e5b7",
   "metadata": {},
   "source": [
    "### Hardware-Verbindung\n",
    "<img src=\"Bilder/HWVerbindung.png\" style=\"width:778px;\">  "
   ]
  },
  {
   "cell_type": "markdown",
   "id": "ae079da6-adc6-4d65-a7c0-8b825fbc076a",
   "metadata": {},
   "source": [
    "[Freenove-Tutorial](https://github.com/Freenove/Freenove_Projects_Kit_for_Raspberry_Pi/blob/main/Tutorial.pdf)"
   ]
  },
  {
   "cell_type": "markdown",
   "id": "7b2d4a86",
   "metadata": {},
   "source": [
    "## 5. Implementierung"
   ]
  },
  {
   "cell_type": "markdown",
   "id": "7f670a56",
   "metadata": {},
   "source": [
    "### Hardware-Aufbau\n",
    "Der Hardware soll wie obbiges Bild aufgabeut werden. \n",
    "- Raspberry einschalten und durch das Ribbon Kabel mit Freenove Projects Kit für Raspberry Pi verbunden.\n",
    "- Power-Taste von Freenove Projects Kit für Raspberry Pi einschalten.\n",
    "- Um LED-Matrix 8*8 nutzen zu können, sollen wir den Schalter 7 des Boards einschalten."
   ]
  },
  {
   "cell_type": "markdown",
   "id": "5eb3ee71",
   "metadata": {},
   "source": [
    "### Software-Setup\n",
    "1. [Raspbian OS](https://blog.berrybase.de/starter-guide-raspberry-pi-4/) installieren.\n",
    "\n",
    "\n",
    "2. [Python](https://www.elab2go.de/demo-py1/) und [Jupyter Notebook](https://www.dataquest.io/blog/jupyter-notebook-tutorial/) installieren:\n",
    "    ```sh\n",
    "    sudo apt-get update\n",
    "    sudo apt-get install python3 jupyter\n",
    "    ```\n",
    "3. Installation der benötigten Bibliotheken:\n",
    "   ```sh\n",
    "   sudo apt-get install python-gpiozero\n",
    "\n",
    "  ```\n"
   ]
  },
  {
   "cell_type": "markdown",
   "id": "a972fd89",
   "metadata": {},
   "source": [
    "## 6. Experimente und Ergebnisse"
   ]
  },
  {
   "cell_type": "markdown",
   "id": "18f99b8f-186e-4726-a217-8936cf510565",
   "metadata": {},
   "source": [
    "##  Beispiel 1"
   ]
  },
  {
   "cell_type": "markdown",
   "id": "0bca97c2-ac44-407a-8342-bea2d3ff791b",
   "metadata": {},
   "source": [
    "### Installieren Sie gpiozero auf Ihrem Rechner"
   ]
  },
  {
   "cell_type": "markdown",
   "id": "ec00b818-9bd2-4fb7-8f58-b7be6c469e0f",
   "metadata": {},
   "source": [
    "```pip install RPi.GPIO```"
   ]
  },
  {
   "cell_type": "markdown",
   "id": "15a0a757-9c80-4c7a-9b45-e2e0bf8f7dc3",
   "metadata": {},
   "source": [
    "```pip install gpiozero```"
   ]
  },
  {
   "cell_type": "markdown",
   "id": "4f579ef0-4047-4bf1-a4ca-ed1321126097",
   "metadata": {},
   "source": [
    "```pip install luma.led_matirx```"
   ]
  },
  {
   "cell_type": "markdown",
   "id": "7bcd9535-ec16-446a-9082-332981d754fd",
   "metadata": {},
   "source": [
    "```pip install pillow```"
   ]
  },
  {
   "cell_type": "markdown",
   "id": "e287ef2f-5c49-4407-90b0-b51d76e42951",
   "metadata": {},
   "source": [
    "### in diesem Beispiel wird Herz-Symbol gezeigt"
   ]
  },
  {
   "cell_type": "code",
   "execution_count": 44,
   "id": "46d22042-5c1e-4a17-9fd8-957a2644e0c9",
   "metadata": {},
   "outputs": [],
   "source": [
    "# importieren von Bibliotheken\n",
    "from gpiozero import OutputDevice"
   ]
  },
  {
   "cell_type": "code",
   "execution_count": null,
   "id": "c9b597b6-9159-40e2-9b2e-e40418af8802",
   "metadata": {},
   "outputs": [],
   "source": [
    "# importieren von time\n",
    "import time"
   ]
  },
  {
   "cell_type": "code",
   "execution_count": 48,
   "id": "429c8bc2-2611-46ae-93d8-a79d1d238014",
   "metadata": {},
   "outputs": [],
   "source": [
    "# LSB und MSB\n",
    "LSBFIRST = 1\n",
    "MSBFIRST = 2"
   ]
  },
  {
   "cell_type": "code",
   "execution_count": null,
   "id": "c6e57803-8db8-4223-9394-ed021951c4a0",
   "metadata": {},
   "outputs": [],
   "source": [
    "# Pin-Definition\n",
    "dataPin = OutputDevice(22) \n",
    "latchPin = OutputDevice(27) \n",
    "clockPin = OutputDevice(17)"
   ]
  },
  {
   "cell_type": "code",
   "execution_count": null,
   "id": "c95a8aa4-8fa7-407d-a053-6d920f2fde87",
   "metadata": {},
   "outputs": [],
   "source": [
    "# Testmuster für Herz\n",
    "pic = [0x0C, 0x1E, 0x3F, 0x7F, 0x7F, 0x3E, 0x1C, 0x08]"
   ]
  },
  {
   "cell_type": "code",
   "execution_count": null,
   "id": "6b6c30a3-57de-4991-8cf8-7fbf94d57c42",
   "metadata": {},
   "outputs": [],
   "source": [
    "# Funktion, um 8 Bits in der angegebenen Reihenfolge an das Schieberegister zu senden\n",
    "def shiftOut(order, val):\n",
    "    for i in range(0, 8):\n",
    "        clockPin.off()\n",
    "        if order == LSBFIRST:\n",
    "            dataPin.on() if (0x01 & (val >> i) == 0x01) else dataPin.off()\n",
    "        elif order == MSBFIRST:\n",
    "            dataPin.on() if (0x80 & (val << i) == 0x80) else dataPin.off()\n",
    "        clockPin.on()"
   ]
  },
  {
   "cell_type": "code",
   "execution_count": null,
   "id": "befead7e-fc03-4b01-95d4-fe8e9f2d4451",
   "metadata": {},
   "outputs": [],
   "source": [
    "# Funktion, um das Herzmuster kontinuierlich auf der LED-Matrix anzuzeigen\n",
    "def loop():\n",
    "    while True:\n",
    "        for j in range(0, 500):  # Wiederholt das Muster zur Stabilisierung der Anzeige\n",
    "            x = 0x80\n",
    "            for i in range(0, 8):  # Durchläuft jede Spalte des Musters\n",
    "                latchPin.off()\n",
    "                shiftOut(MSBFIRST, pic[i])  # Überträgt die Zeilendaten\n",
    "                shiftOut(MSBFIRST, ~x)  # Überträgt die Spaltenauswahl\n",
    "                latchPin.on()\n",
    "                time.sleep(0.001)  # Verzögerung für eine flüssigere Anzeige\n",
    "                x >>= 1  # Verschiebt die Aktivierung zur nächsten Spalte"
   ]
  },
  {
   "cell_type": "code",
   "execution_count": null,
   "id": "d0d80695-09d4-4600-bb18-2bf43222ccc0",
   "metadata": {},
   "outputs": [],
   "source": [
    "# Funktion zum Löschen der LED-Matrix und Freigeben der Ressourcen\n",
    "def destroy():\n",
    "    latchPin.off()\n",
    "    shiftOut(MSBFIRST, 0x00)\n",
    "    shiftOut(MSBFIRST, 0x00)\n",
    "    latchPin.on()\n",
    "    dataPin.close()\n",
    "    latchPin.close()\n",
    "    clockPin.close()"
   ]
  },
  {
   "cell_type": "code",
   "execution_count": null,
   "id": "acfc9ac6-1f12-4862-a809-5c4cafb3dbba",
   "metadata": {},
   "outputs": [],
   "source": [
    "# Hauptprogramm-Ausführung\n",
    "if __name__ == '__main__':\n",
    "    print('Programm startet...')\n",
    "    try:\n",
    "        loop()  # Startet die Anzeigeschleife\n",
    "    except KeyboardInterrupt:\n",
    "        print(\"Programm wird beendet\")\n",
    "    finally:\n",
    "        destroy()  # Stellt sicher, dass die Ressourcen beim Beenden freigegeben werden"
   ]
  },
  {
   "cell_type": "markdown",
   "id": "530ae119-81eb-4e05-b10a-9c2824103669",
   "metadata": {},
   "source": [
    "[Quelle: Freenove-Tutorial](https://github.com/Freenove/Freenove_Projects_Kit_for_Raspberry_Pi/blob/main/Tutorial.pdf)"
   ]
  },
  {
   "cell_type": "markdown",
   "id": "37774e7e-1efd-4daf-b1d2-34bc70d963f3",
   "metadata": {},
   "source": [
    "### Darstellenung in Matplotlib"
   ]
  },
  {
   "cell_type": "code",
   "execution_count": 27,
   "id": "c51a9c36-486c-4448-85d5-cb7c42c45b81",
   "metadata": {},
   "outputs": [
    {
     "data": {
      "image/png": "[encoded data removed]",
      "text/plain": [
       "<Figure size 640x480 with 1 Axes>"
      ]
     },
     "metadata": {},
     "output_type": "display_data"
    }
   ],
   "source": [
    "import matplotlib.pyplot as plt\n",
    "import numpy as np\n",
    "\n",
    "# Muster zur Anzeige eines Herzsymbols (wie in deinem ursprünglichen Code)\n",
    "pic = [0x0C, 0x1E, 0x3F, 0x7F, 0x7F, 0x3E, 0x1C, 0x08]\n",
    "\n",
    "# Funktion, um das Herzmuster zu extrahieren und als 8x8-Array darzustellen\n",
    "def convert_to_matrix(pic):\n",
    "    # Wir erzeugen ein 8x8 NumPy Array, um das Muster zu speichern\n",
    "    matrix = np.zeros((8, 8), dtype=int)\n",
    "    for i in range(8):\n",
    "        # Wandelt das Hex-Wert-Muster in binäre Werte um und speichert sie in der Matrix\n",
    "        for j in range(8):\n",
    "            if (pic[i] & (1 << (7 - j))) != 0:\n",
    "                matrix[i, j] = 1\n",
    "    return matrix\n",
    "\n",
    "# Herzmuster in eine Matrix umwandeln\n",
    "matrix = convert_to_matrix(pic)\n",
    "\n",
    "# Visualisierung mit Matplotlib\n",
    "plt.imshow(matrix, cmap='gray', interpolation='nearest')\n",
    "plt.axis('off')  # Keine Achsen anzeigen\n",
    "plt.title(\"Herz-Muster auf einer 8x8 LED-Matrix\")\n",
    "plt.show()"
   ]
  },
  {
   "cell_type": "markdown",
   "id": "08056e90-f74c-44db-8936-d8af257efec3",
   "metadata": {},
   "source": [
    "Was sind LSB und MSB ?\n",
    "\n",
    "[MSB](https://praxistipps.chip.de/msb-und-lsb-das-bedeuten-die-abkuerzungen_96526#:~:text=LSB%20steht%20f%C3%BCr%20%22Least%20Significant%20Bit%22.%20Wenn%20eine,Bit%20mit%20dem%20Index%200%20den%20h%C3%B6chsten%20Stellenwert.) (Most Significant Bit): das Bit mit Index Null hat den geringsten Wert.\n",
    "\n",
    "[LSB](https://praxistipps.chip.de/msb-und-lsb-das-bedeuten-die-abkuerzungen_96526#:~:text=LSB%20steht%20f%C3%BCr%20%22Least%20Significant%20Bit%22.%20Wenn%20eine,Bit%20mit%20dem%20Index%200%20den%20h%C3%B6chsten%20Stellenwert.) (Least Significant Bit): das Bit mit Index Null hat den höchsten Wert."
   ]
  },
  {
   "cell_type": "markdown",
   "id": "f04e7116-436f-48b4-b509-bd74e95a6ba8",
   "metadata": {},
   "source": [
    "### Aufgabe1:\n",
    "Wie lautet das Schachbrettmuster ?"
   ]
  },
  {
   "cell_type": "markdown",
   "id": "5d413ab9-9cf6-47e0-8fbf-7e2cfb879e4d",
   "metadata": {},
   "source": [
    "<details>\n",
    "<summary>Lösung</summary>\n",
    "<p> das Testmuster für Schachbrettmuster: [0xAA, 0x55, 0xAA, 0x55, 0xAA, 0x55, 0xAA, 0x55].</p>\n",
    "</details>"
   ]
  },
  {
   "cell_type": "markdown",
   "id": "163a96fa-3b9b-433e-8fe2-d1655f16bd23",
   "metadata": {},
   "source": [
    "### Aufgabe2\n",
    "Versuchen Sie das obige Programm so anzupassen, dass Schachbrettmuster auf die LED-Matrix angezeigt wird."
   ]
  },
  {
   "cell_type": "markdown",
   "id": "8055bda1-0215-4a61-bf2e-4821f2ca8098",
   "metadata": {},
   "source": [
    "##  Beispiel 2"
   ]
  },
  {
   "cell_type": "markdown",
   "id": "88ffc248-41e1-4bd9-9929-f8c443f7bad3",
   "metadata": {},
   "source": [
    "### Installieren Sie gpiozero auf Ihrem Rechner"
   ]
  },
  {
   "cell_type": "markdown",
   "id": "5ad42f6b-6426-4606-a833-0e5bc296e795",
   "metadata": {},
   "source": [
    "```sudo apt-get install python-gpiozero```"
   ]
  },
  {
   "cell_type": "markdown",
   "id": "21ce5acc-b1b8-40c3-aa1a-983cd9983378",
   "metadata": {},
   "source": [
    "### in diesem Beispiel wird Hallo auf den LED-Matrix gezeigt"
   ]
  },
  {
   "cell_type": "code",
   "execution_count": 1,
   "id": "16495710-4ab5-4486-a617-d409e17f15d9",
   "metadata": {},
   "outputs": [],
   "source": [
    "# importieren von Bibliotheken\n",
    "from gpiozero import OutputDevice"
   ]
  },
  {
   "cell_type": "code",
   "execution_count": 3,
   "id": "4db432f2-76e1-4c69-82bf-97e413cb0b42",
   "metadata": {},
   "outputs": [],
   "source": [
    "# importieren von time\n",
    "import time"
   ]
  },
  {
   "cell_type": "code",
   "execution_count": 5,
   "id": "c1f787c1-cc76-4bac-a830-b2fd95ddf878",
   "metadata": {},
   "outputs": [],
   "source": [
    "# LSB und MSB\n",
    "LSBFIRST = 1\n",
    "MSBFIRST = 2"
   ]
  },
  {
   "cell_type": "code",
   "execution_count": 11,
   "id": "334076e8-791b-46dd-a0f3-24685bb67228",
   "metadata": {},
   "outputs": [],
   "source": [
    "# Pin-Definition\n",
    "dataPin = OutputDevice(22) \n",
    "latchPin = OutputDevice(27) \n",
    "clockPin = OutputDevice(17)"
   ]
  },
  {
   "cell_type": "code",
   "execution_count": 13,
   "id": "77a55daf-3579-48a0-83a2-0480e226fadc",
   "metadata": {},
   "outputs": [],
   "source": [
    "# Testmuster\n",
    "H = [0x7F, 0x49, 0x49, 0x49, 0x49, 0x49, 0x49, 0x00]\n",
    "A = [0x3E, 0x51, 0x49, 0x49, 0x49, 0x51, 0x3E, 0x00]\n",
    "L = [0x7F, 0x01, 0x01, 0x01, 0x01, 0x01, 0x01, 0x00]\n",
    "O = [0x3E, 0x41, 0x41, 0x41, 0x41, 0x41, 0x3E, 0x00]"
   ]
  },
  {
   "cell_type": "code",
   "execution_count": 15,
   "id": "2bf7af52-289f-4587-a241-1ee8430a9fe4",
   "metadata": {},
   "outputs": [],
   "source": [
    "data = H + [0x00] * 8 + A + [0x00] * 8 + L + [0x00] * 8 + L + [0x00] * 8 + O  # Kombiniert die Muster der Buchstaben mit Leerraum"
   ]
  },
  {
   "cell_type": "code",
   "execution_count": 17,
   "id": "37c5ef85-d9c9-4751-ad95-66ad98fe37b9",
   "metadata": {},
   "outputs": [],
   "source": [
    "# Funktion, um 8 Bits in der angegebenen Reihenfolge an das Schieberegister zu senden\n",
    "def shiftOut(order, val):\n",
    "    for i in range(8):  \n",
    "        clockPin.off()  \n",
    "        \n",
    "        if order == LSBFIRST:  \n",
    "            dataPin.on() if (0x01 & (val >> i)) else dataPin.off()\n",
    "        elif order == MSBFIRST:  \n",
    "            dataPin.on() if (0x80 & (val << i)) else dataPin.off()\n",
    "        clockPin.on()  "
   ]
  },
  {
   "cell_type": "code",
   "execution_count": 19,
   "id": "7c8ef0eb-9191-496a-909d-6630558df9b7",
   "metadata": {},
   "outputs": [],
   "source": [
    "# Funktion, um die Buchstaben von \"HALLO\" nacheinander auf der Matrix anzuzeigen\n",
    "def loop():\n",
    "    while True:  \n",
    "        for k in range(0, len(data) - 8):  \n",
    "            for j in range(0, 20): \n",
    "                x = 0x80 \n",
    "                for i in range(k, k + 8):  \n",
    "                    latchPin.off() \n",
    "                    shiftOut(MSBFIRST, data[i]) \n",
    "                    shiftOut(MSBFIRST, ~x)  \n",
    "                    latchPin.on()  \n",
    "                    time.sleep(0.001)  \n",
    "                    x >>= 1  "
   ]
  },
  {
   "cell_type": "code",
   "execution_count": 21,
   "id": "8068b405-37fe-49ba-861d-9cd314c690ec",
   "metadata": {},
   "outputs": [],
   "source": [
    "def destroy():\n",
    "    latchPin.off()  # Setzt den Latch-Pin auf niedrig, um das Schieberegister zu deaktivieren\n",
    "    shiftOut(MSBFIRST, 0x00)  # Überträgt 0x00, um alle Zeilen zu deaktivieren\n",
    "    shiftOut(MSBFIRST, 0x00)  # Überträgt 0x00, um alle Spalten zu deaktivieren\n",
    "    latchPin.on()  # Setzt den Latch-Pin auf hoch, um die Ausgänge zu aktualisieren\n",
    "    dataPin.close()  # Schließt den Daten-Pin, um die Ressourcen freizugeben\n",
    "    latchPin.close()  # Schließt den Latch-Pin\n",
    "    clockPin.close()  # Schließt den Takt-Pin"
   ]
  },
  {
   "cell_type": "code",
   "execution_count": 23,
   "id": "778a4789-4242-42e3-9a2c-706010fa959d",
   "metadata": {},
   "outputs": [
    {
     "name": "stdout",
     "output_type": "stream",
     "text": [
      "Displaying \"HALLO\"...\n",
      "Ending program\n"
     ]
    }
   ],
   "source": [
    "# Hauptprogramm-Ausführung\n",
    "if __name__ == '__main__': \n",
    "    print('Displaying \"HALLO\"...')  \n",
    "    try:\n",
    "        loop() \n",
    "    except KeyboardInterrupt:  \n",
    "        print(\"Ending program\")  \n",
    "    finally:\n",
    "        destroy() "
   ]
  },
  {
   "cell_type": "markdown",
   "id": "60f69c12-f4d7-4616-a93a-ff972e0e5ae2",
   "metadata": {},
   "source": [
    "[Quelle: Freenove-Tutorial](https://github.com/Freenove/Freenove_Projects_Kit_for_Raspberry_Pi/blob/main/Tutorial.pdf)"
   ]
  },
  {
   "cell_type": "markdown",
   "id": "e345abe4-7c94-4148-89b0-5224a2d5578a",
   "metadata": {},
   "source": [
    "### Darstallung in Matplotlib"
   ]
  },
  {
   "cell_type": "markdown",
   "id": "0e7b4ffe-30ef-4e29-a6de-c96bc9861437",
   "metadata": {},
   "source": [
    "<details>\n",
    "<summary>Aufgabe3</summary>\n",
    "<p> Versuchen Sie Hallo auf Matplotlib darzustellen.</p>\n",
    "</details>"
   ]
  },
  {
   "cell_type": "markdown",
   "id": "e804ec9e-991a-46e9-9720-6965218b349c",
   "metadata": {},
   "source": [
    "### Aufgabe4:\n",
    "Zeigen Sie Wellcome auf den LED-Matrix.\n",
    "\n",
    "Der Testmuster dafür lautet:\n",
    "\n",
    "[   \n",
    "\n",
    "    0x1E, 0x36, 0x36, 0x36, 0x36, 0x36, 0x00, 0x00,  # W\n",
    "    \n",
    "    0x7C, 0x08, 0x08, 0x7C, 0x00, 0x00, 0x00, 0x00,  # E\n",
    "    \n",
    "    0x7C, 0x08, 0x08, 0x7C, 0x00, 0x00, 0x00, 0x00,  # L\n",
    "    \n",
    "    0x7C, 0x08, 0x08, 0x7C, 0x00, 0x00, 0x00, 0x00,  # C\n",
    "    \n",
    "    0x7C, 0x08, 0x08, 0x7C, 0x00, 0x00, 0x00, 0x00,  # O\n",
    "    \n",
    "    0x7C, 0x08, 0x08, 0x7C, 0x00, 0x00, 0x00, 0x00,  # M\n",
    "    \n",
    "    0x7C, 0x08, 0x08, 0x7C, 0x00, 0x00, 0x00, 0x00,  # E\n",
    "]"
   ]
  },
  {
   "cell_type": "markdown",
   "id": "5f41848c",
   "metadata": {},
   "source": [
    "## 7. Diskussion und Fazit"
   ]
  },
  {
   "cell_type": "markdown",
   "id": "a59692e8",
   "metadata": {},
   "source": [
    "### Diskussion\n",
    "Das Projekt demonstriert die Steuerung einer LED-Matrix mit einem Raspberry Pi und einem Schieberegister, unter Verwendung des Freenove FNK0054 Kits. Die erfolgreiche Implementierung zeigt die Vielseitigkeit des Kits und des Raspberry Pi und die Möglichkeiten der digitalen Elektronik."
   ]
  },
  {
   "cell_type": "markdown",
   "id": "29bf717c",
   "metadata": {},
   "source": [
    "### Fazit\n",
    "Das Projekt war erfolgreich und hat das Verständnis für die Steuerung von LED-Matrizen mit dem Raspberry Pi verbessert. Die Implementierung ist einfach, aber effektiv und kann als Grundlage für weiterführende Projekte dienen."
   ]
  }
 ],
 "metadata": {
  "kernelspec": {
   "display_name": "Python 3 (ipykernel)",
   "language": "python",
   "name": "python3"
  },
  "language_info": {
   "codemirror_mode": {
    "name": "ipython",
    "version": 3
   },
   "file_extension": ".py",
   "mimetype": "text/x-python",
   "name": "python",
   "nbconvert_exporter": "python",
   "pygments_lexer": "ipython3",
   "version": "3.12.4"
  }
 },
 "nbformat": 4,
 "nbformat_minor": 5
}
