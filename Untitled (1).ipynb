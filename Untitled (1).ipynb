{
 "cells": [
  {
   "cell_type": "markdown",
   "id": "6e97de2d-f172-4020-9d9b-bf20bb5779dc",
   "metadata": {},
   "source": [
    "<img src=\"C:\\Users\\paghm\\OneDrive\\Pictures/Hardware.png\" style=\"width:817px;\">  "
   ]
  },
  {
   "cell_type": "code",
   "execution_count": null,
   "id": "bf362235-24df-4bff-aaf8-d6365229127c",
   "metadata": {},
   "outputs": [],
   "source": []
  }
 ],
 "metadata": {
  "kernelspec": {
   "display_name": "",
   "name": ""
  },
  "language_info": {
   "name": ""
  }
 },
 "nbformat": 4,
 "nbformat_minor": 5
}
